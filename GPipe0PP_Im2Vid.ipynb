{
  "nbformat": 4,
  "nbformat_minor": 0,
  "metadata": {
    "colab": {
      "name": "GPipe0PP-Im2Vid.ipynb",
      "provenance": [],
      "toc_visible": true,
      "mount_file_id": "1t1cBZ8p-LazGDFUBR8koT9zgpEhUjUlS",
      "authorship_tag": "ABX9TyMrJEc5AYhuE+vqagd7WGob",
      "include_colab_link": true
    },
    "kernelspec": {
      "name": "python3",
      "display_name": "Python 3"
    },
    "accelerator": "GPU"
  },
  "cells": [
    {
      "cell_type": "markdown",
      "metadata": {
        "id": "view-in-github",
        "colab_type": "text"
      },
      "source": [
        "<a href=\"https://colab.research.google.com/github/secutron/RunTime/blob/master/GPipe0PP_Im2Vid.ipynb\" target=\"_parent\"><img src=\"https://colab.research.google.com/assets/colab-badge.svg\" alt=\"Open In Colab\"/></a>"
      ]
    },
    {
      "cell_type": "markdown",
      "metadata": {
        "id": "IiGkj-fhEv-q",
        "colab_type": "text"
      },
      "source": [
        "### PostP - SloMO / Im2Vid\n"
      ]
    },
    {
      "cell_type": "code",
      "metadata": {
        "id": "owrxJ3Nc_Mb7",
        "colab_type": "code",
        "colab": {
          "base_uri": "https://localhost:8080/",
          "height": 34
        },
        "outputId": "a4a28808-c46c-4b93-89d0-92440dab85c0"
      },
      "source": [
        "%cd /content"
      ],
      "execution_count": 1,
      "outputs": [
        {
          "output_type": "stream",
          "text": [
            "/content\n"
          ],
          "name": "stdout"
        }
      ]
    },
    {
      "cell_type": "code",
      "metadata": {
        "id": "q2AjUvQidFtZ",
        "colab_type": "code",
        "colab": {}
      },
      "source": [
        "from IPython.display import clear_output\n",
        "\n",
        "clear_output()"
      ],
      "execution_count": 2,
      "outputs": []
    },
    {
      "cell_type": "code",
      "metadata": {
        "id": "icsivQjzfO-k",
        "colab_type": "code",
        "colab": {}
      },
      "source": [
        "import os\n",
        "import cv2\n",
        "\n",
        "im_path = '/content/im/'\n",
        "outfn = '/content/out.mp4'\n",
        "fps = 25\n",
        "\n",
        "!rm -rf '/content/out.mp4'"
      ],
      "execution_count": 3,
      "outputs": []
    },
    {
      "cell_type": "code",
      "metadata": {
        "id": "7PAmeTDY00W5",
        "colab_type": "code",
        "colab": {}
      },
      "source": [
        "staffs = []\n",
        "img = os.listdir(im_path)\n",
        "img.sort()\n",
        "clear_output()\n",
        "for i, fn in enumerate(img):\n",
        "    #print(fn)\n",
        "    staffs.append(im_path+fn)\n",
        "\n",
        "staff = cv2.imread(staffs[1])  # get size from the 1st frame\n",
        "\n",
        "writer = cv2.VideoWriter(\n",
        "    outfn,\n",
        "    cv2.VideoWriter_fourcc(*'MP4V'),   # codec (*'DIVX', *'MP4V', *'FMP4', *'MJPG', *'XVID', *'MP4S')\n",
        "    fps, \n",
        "    (staff.shape[1], staff.shape[0]),  # width, height\n",
        "    isColor=len(staff.shape) > 2)\n",
        "\n",
        "for staff in map(cv2.imread, staffs):\n",
        "    writer.write(staff)\n",
        "\n",
        "writer.release()\n",
        "\n",
        "\n",
        "#clear_output()\n"
      ],
      "execution_count": 4,
      "outputs": []
    },
    {
      "cell_type": "code",
      "metadata": {
        "id": "phRvOzVNLTPI",
        "colab_type": "code",
        "colab": {}
      },
      "source": [
        ""
      ],
      "execution_count": null,
      "outputs": []
    }
  ]
}
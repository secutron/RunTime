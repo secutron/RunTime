{
  "nbformat": 4,
  "nbformat_minor": 0,
  "metadata": {
    "colab": {
      "name": "GPipe0PP-Im2Vid.ipynb",
      "provenance": [],
      "toc_visible": true,
      "mount_file_id": "https://github.com/secutron/RunTime/blob/master/GPipe0PP_SloMo_2im.ipynb",
      "authorship_tag": "ABX9TyOFwh+PLm5f6qe/CeVMr5ln",
      "include_colab_link": true
    },
    "kernelspec": {
      "name": "python3",
      "display_name": "Python 3"
    },
    "accelerator": "GPU"
  },
  "cells": [
    {
      "cell_type": "markdown",
      "metadata": {
        "id": "view-in-github",
        "colab_type": "text"
      },
      "source": [
        "<a href=\"https://colab.research.google.com/github/secutron/RunTime/blob/master/GPipe0PP_Im2Vid.ipynb\" target=\"_parent\"><img src=\"https://colab.research.google.com/assets/colab-badge.svg\" alt=\"Open In Colab\"/></a>"
      ]
    },
    {
      "cell_type": "markdown",
      "metadata": {
        "id": "IiGkj-fhEv-q",
        "colab_type": "text"
      },
      "source": [
        "### PostP - SloMO / Interp. / 2 images\n",
        "\n",
        "from https://github.com/sniklaus/sepconv-slomo"
      ]
    },
    {
      "cell_type": "code",
      "metadata": {
        "id": "yG6cAzAx_AUn",
        "colab_type": "code",
        "colab": {
          "base_uri": "https://localhost:8080/",
          "height": 136
        },
        "outputId": "aba80a53-9501-4fd1-8afb-2a0026f787a1"
      },
      "source": [
        "#!git clone https://github.com/sniklaus/sepconv-slomo.git VFIASC"
      ],
      "execution_count": null,
      "outputs": [
        {
          "output_type": "stream",
          "text": [
            "Cloning into 'VFIASC'...\n",
            "remote: Enumerating objects: 16, done.\u001b[K\n",
            "remote: Counting objects:   6% (1/16)\u001b[K\rremote: Counting objects:  12% (2/16)\u001b[K\rremote: Counting objects:  18% (3/16)\u001b[K\rremote: Counting objects:  25% (4/16)\u001b[K\rremote: Counting objects:  31% (5/16)\u001b[K\rremote: Counting objects:  37% (6/16)\u001b[K\rremote: Counting objects:  43% (7/16)\u001b[K\rremote: Counting objects:  50% (8/16)\u001b[K\rremote: Counting objects:  56% (9/16)\u001b[K\rremote: Counting objects:  62% (10/16)\u001b[K\rremote: Counting objects:  68% (11/16)\u001b[K\rremote: Counting objects:  75% (12/16)\u001b[K\rremote: Counting objects:  81% (13/16)\u001b[K\rremote: Counting objects:  87% (14/16)\u001b[K\rremote: Counting objects:  93% (15/16)\u001b[K\rremote: Counting objects: 100% (16/16)\u001b[K\rremote: Counting objects: 100% (16/16), done.\u001b[K\n",
            "remote: Compressing objects: 100% (12/12), done.\u001b[K\n",
            "remote: Total 223 (delta 6), reused 11 (delta 4), pack-reused 207\u001b[K\n",
            "Receiving objects: 100% (223/223), 14.50 MiB | 7.38 MiB/s, done.\n",
            "Resolving deltas: 100% (87/87), done.\n"
          ],
          "name": "stdout"
        }
      ]
    },
    {
      "cell_type": "code",
      "metadata": {
        "id": "owrxJ3Nc_Mb7",
        "colab_type": "code",
        "colab": {
          "base_uri": "https://localhost:8080/",
          "height": 34
        },
        "outputId": "909704d5-66e3-414c-dd05-7213dfa2d8ef"
      },
      "source": [
        "%cd /content/drive/My Drive/GTask/VFIASC"
      ],
      "execution_count": null,
      "outputs": [
        {
          "output_type": "stream",
          "text": [
            "/content/drive/My Drive/GTask/VFIASC\n"
          ],
          "name": "stdout"
        }
      ]
    },
    {
      "cell_type": "code",
      "metadata": {
        "id": "q2AjUvQidFtZ",
        "colab_type": "code",
        "colab": {}
      },
      "source": [
        "from IPython.display import clear_output\n",
        "\n",
        "#!rm -rf network-l1.pytorch\n",
        "#!rm -rf network-lf.pytorch\n",
        "#try:\n",
        "#  !gdown https://drive.google.com/uc?id=1v77wNU8sYh0hBmljeGt5LzY9ehQU0elv\n",
        "#  !gdown https://drive.google.com/uc?id=1na11Ey0TB1KEDps4uEwyTBsDcmpo2kr6\n",
        "#except BaseException:\n",
        "#  !bash download.bash\n",
        "clear_output()"
      ],
      "execution_count": null,
      "outputs": []
    },
    {
      "cell_type": "code",
      "metadata": {
        "id": "IlOUkXvZVL3p",
        "colab_type": "code",
        "colab": {}
      },
      "source": [
        "!pip install cupy\n",
        "!pip install moviepy\n",
        "clear_output()"
      ],
      "execution_count": null,
      "outputs": []
    },
    {
      "cell_type": "code",
      "metadata": {
        "id": "7PAmeTDY00W5",
        "colab_type": "code",
        "colab": {
          "base_uri": "https://localhost:8080/",
          "height": 68
        },
        "outputId": "38bc8ee6-af4d-4b03-b641-ee48239a844a"
      },
      "source": [
        "import os\n",
        "import cv2\n",
        "\n",
        "fn1 = '/content/drive/My Drive/GTask/VFIASC/2frames/1-00191.png'\n",
        "fn2 = '/content/drive/My Drive/GTask/VFIASC/2frames/1-00195.png'\n",
        "outfn = '/content/drive/My Drive/GTask/VFIASC/2frames/out.mp4'\n",
        "out_x4fn = '/content/drive/My Drive/GTask/VFIASC/2frames/out_x4.mp4'\n",
        "fps = 25\n",
        "\n",
        "!rm -rf outfn\n",
        "!rm -rf out_x4fn\n",
        "\n",
        "staffs = []\n",
        "staffs.append(fn1)\n",
        "staffs.append(fn2)\n",
        "\n",
        "staff = cv2.imread(staffs[0])  # get size from the 1st frame\n",
        "print(staff.shape[1], staff.shape[0])\n",
        "\n",
        "writer = cv2.VideoWriter(\n",
        "    outfn,\n",
        "    cv2.VideoWriter_fourcc(*'MP4V'),  #*'MP4V'),   # codec (*'DIVX', *'MP4V', *'FMP4', *'MJPG', *'XVID', *'MP4S')\n",
        "    25, \n",
        "    (staff.shape[1], staff.shape[0]),  # width, height\n",
        "    isColor=len(staff.shape) > 2)\n",
        "\n",
        "for staff in map(cv2.imread, staffs):\n",
        "    print(writer.write(staff))\n",
        "\n",
        "writer.release()\n",
        "\n",
        "#clear_output()\n"
      ],
      "execution_count": null,
      "outputs": [
        {
          "output_type": "stream",
          "text": [
            "1920 1080\n",
            "None\n",
            "None\n"
          ],
          "name": "stdout"
        }
      ]
    },
    {
      "cell_type": "code",
      "metadata": {
        "id": "OPvefDawGRAh",
        "colab_type": "code",
        "colab": {
          "base_uri": "https://localhost:8080/",
          "height": 153
        },
        "outputId": "66a9d5e0-6555-4902-93ee-7f67e37f7256"
      },
      "source": [
        "%env CUDA_VISIBLE_DEVICES=0\n",
        "!python run.py --model lf --video '/content/drive/My Drive/GTask/VFIASC/2frames/out.mp4' --out '/content/drive/My Drive/GTask/VFIASC/2frames/out_x4.mp4'\n",
        "#clear_output()"
      ],
      "execution_count": null,
      "outputs": [
        {
          "output_type": "stream",
          "text": [
            "env: CUDA_VISIBLE_DEVICES=0\n",
            "/content/drive/My Drive/GTask/VFIASC/2frames/out_x4.mp4\n",
            "[MoviePy] >>>> Building video /content/drive/My Drive/GTask/VFIASC/2frames/out_x4.mp4\n",
            "[MoviePy] Writing video /content/drive/My Drive/GTask/VFIASC/2frames/out_x4.mp4\n",
            " 80% 4/5 [00:00<00:00, 13.45it/s]\n",
            "[MoviePy] Done.\n",
            "[MoviePy] >>>> Video ready: /content/drive/My Drive/GTask/VFIASC/2frames/out_x4.mp4 \n",
            "\n"
          ],
          "name": "stdout"
        }
      ]
    },
    {
      "cell_type": "code",
      "metadata": {
        "id": "xxCxtKxw0wWL",
        "colab_type": "code",
        "colab": {}
      },
      "source": [
        "vidcap = cv2.VideoCapture(out_x4fn)\n",
        "success,image = vidcap.read()\n",
        "count = 0\n",
        "success = True\n",
        "while success:\n",
        "  cv2.imwrite(\"/content/drive/My Drive/GTask/VFIASC/2frames/%06d.jpg\" % count, image)\n",
        "  success,image = vidcap.read()\n",
        "  count += 1"
      ],
      "execution_count": null,
      "outputs": []
    },
    {
      "cell_type": "code",
      "metadata": {
        "id": "W4ILiy2z-kCZ",
        "colab_type": "code",
        "colab": {}
      },
      "source": [
        ""
      ],
      "execution_count": null,
      "outputs": []
    }
  ]
}
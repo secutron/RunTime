{
  "nbformat": 4,
  "nbformat_minor": 0,
  "metadata": {
    "colab": {
      "name": "GPipe0View.ipynb",
      "provenance": [],
      "mount_file_id": "1rlUMj0OGJbMqvit16xfjSQtiZV-_P4Yl",
      "authorship_tag": "ABX9TyOQHCu0EXhefhNbG+BmskPM",
      "include_colab_link": true
    },
    "kernelspec": {
      "name": "python3",
      "display_name": "Python 3"
    },
    "accelerator": "GPU"
  },
  "cells": [
    {
      "cell_type": "markdown",
      "metadata": {
        "id": "view-in-github",
        "colab_type": "text"
      },
      "source": [
        "<a href=\"https://colab.research.google.com/github/secutron/RunTime/blob/master/GPipe0View.ipynb\" target=\"_parent\"><img src=\"https://colab.research.google.com/assets/colab-badge.svg\" alt=\"Open In Colab\"/></a>"
      ]
    },
    {
      "cell_type": "markdown",
      "metadata": {
        "id": "IiGkj-fhEv-q",
        "colab_type": "text"
      },
      "source": [
        "### View - obj (texture)"
      ]
    },
    {
      "cell_type": "code",
      "metadata": {
        "id": "q2AjUvQidFtZ",
        "colab_type": "code",
        "colab": {
          "base_uri": "https://localhost:8080/",
          "height": 106
        },
        "outputId": "2112514f-e1a1-46c6-8e03-6bcf0376cf4d"
      },
      "source": [
        "_ = !sudo apt update\n",
        "_ = !sudo wget https://github.com/mmatl/travis_debs/raw/master/xenial/mesa_18.3.3-0.deb\n",
        "_ = !sudo dpkg -i ./mesa_18.3.3-0.deb || true\n",
        "_ = !sudo apt install -f\n",
        "_ = !git clone https://github.com/mmatl/pyopengl.git\n",
        "_ = !pip install ./pyopengl\n",
        "_ = !pip install pyrender"
      ],
      "execution_count": 7,
      "outputs": [
        {
          "output_type": "display_data",
          "data": {
            "application/vnd.colab-display-data+json": {
              "pip_warning": {
                "packages": [
                  "OpenGL"
                ]
              }
            }
          },
          "metadata": {
            "tags": []
          }
        }
      ]
    },
    {
      "cell_type": "code",
      "metadata": {
        "id": "IlOUkXvZVL3p",
        "colab_type": "code",
        "colab": {}
      },
      "source": [
        "import os, sys, cv2\n",
        "from os.path import join\n",
        "os.environ[\"PYOPENGL_PLATFORM\"] = \"osmesa\"\n",
        "import numpy as np\n",
        "import pickle\n",
        "import trimesh\n",
        "import pyrender\n",
        "import matplotlib.pyplot as plt"
      ],
      "execution_count": 8,
      "outputs": []
    },
    {
      "cell_type": "code",
      "metadata": {
        "id": "OPvefDawGRAh",
        "colab_type": "code",
        "colab": {
          "base_uri": "https://localhost:8080/",
          "height": 341
        },
        "outputId": "bd58291b-f0ee-4bd2-b4d9-f11f3b95d522"
      },
      "source": [
        "#fuze_trimesh = trimesh.load('/content/drive/My Drive/GTask/VOCA/pyrender/examples/models/fuze.obj')\n",
        "#fuze_trimesh = trimesh.load('/content/drive/My Drive/GTask/VOCA/animation_output/meshes/00000.obj')\n",
        "fuze_trimesh = trimesh.load('/content/drive/My Drive/animation_texture/hkim정면crop.obj')\n",
        "#fuze_trimesh = trimesh.load('/content/drive/My Drive/FLAME-result/hkim정면crop.obj')\n",
        "\n",
        "mesh = pyrender.Mesh.from_trimesh(fuze_trimesh)\n",
        "scene = pyrender.Scene()\n",
        "scene.add(mesh)\n",
        "\n",
        "camera = pyrender.PerspectiveCamera(yfov=np.pi / 3.0, aspectRatio=1.0)\n",
        "s = np.sqrt(2)/2\n",
        "camera_pose = np.array([\n",
        "    [0.0, -s,   s,   0.3],\n",
        "    [1.0,  0.0, 0.0, 0.0],\n",
        "    [0.0,  s,   s,   0.35],\n",
        "    [0.0,  0.0, 0.0, 1.0],\n",
        "])\n",
        "scene.add(camera, pose=camera_pose)\n",
        "light = pyrender.SpotLight(color=np.ones(3), intensity=3.0,\n",
        "                            innerConeAngle=np.pi/16.0,\n",
        "                            outerConeAngle=np.pi/6.0)\n",
        "scene.add(light, pose=camera_pose)\n",
        "\n",
        "# Use OffscreenRenderer to get image perspectives.\n",
        "r = pyrender.OffscreenRenderer(400, 400)\n",
        "color, depth = r.render(scene)\n",
        "\n",
        "fig = plt.figure(figsize=(10, 5))\n",
        "\n",
        "plt.imshow(color)"
      ],
      "execution_count": 10,
      "outputs": [
        {
          "output_type": "execute_result",
          "data": {
            "text/plain": [
              "<matplotlib.image.AxesImage at 0x7f4c59539438>"
            ]
          },
          "metadata": {
            "tags": []
          },
          "execution_count": 10
        },
        {
          "output_type": "display_data",
          "data": {
            "image/png": "[encoded data removed]",
            "text/plain": [
              "<Figure size 720x360 with 1 Axes>"
            ]
          },
          "metadata": {
            "tags": [],
            "needs_background": "light"
          }
        }
      ]
    }
  ]
}
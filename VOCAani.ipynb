{
  "nbformat": 4,
  "nbformat_minor": 0,
  "metadata": {
    "colab": {
      "name": "VOCA.ipynb",
      "provenance": [],
      "authorship_tag": "ABX9TyOmLMEfNg3+qyiSynqhHQVY",
      "include_colab_link": true
    },
    "kernelspec": {
      "name": "python3",
      "display_name": "Python 3"
    },
    "accelerator": "GPU"
  },
  "cells": [
    {
      "cell_type": "markdown",
      "metadata": {
        "id": "view-in-github",
        "colab_type": "text"
      },
      "source": [
        "<a href=\"https://colab.research.google.com/github/secutron/RunTime/blob/master/VOCAani.ipynb\" target=\"_parent\"><img src=\"https://colab.research.google.com/assets/colab-badge.svg\" alt=\"Open In Colab\"/></a>"
      ]
    },
    {
      "cell_type": "code",
      "metadata": {
        "id": "ediyWfKvidlu",
        "colab_type": "code",
        "colab": {
          "base_uri": "https://localhost:8080/",
          "height": 700
        },
        "outputId": "21b20f57-9e2d-46f5-a342-b61e7c1178bc"
      },
      "source": [
        "#!pip install Python==3.6.8\n",
        "!pip install tensorflow==1.14.0\n"
      ],
      "execution_count": 1,
      "outputs": [
        {
          "output_type": "stream",
          "text": [
            "Collecting tensorflow==1.14.0\n",
            "\u001b[?25l  Downloading https://files.pythonhosted.org/packages/de/f0/96fb2e0412ae9692dbf400e5b04432885f677ad6241c088ccc5fe7724d69/tensorflow-1.14.0-cp36-cp36m-manylinux1_x86_64.whl (109.2MB)\n",
            "\u001b[K     |████████████████████████████████| 109.2MB 37kB/s \n",
            "\u001b[?25hCollecting tensorboard<1.15.0,>=1.14.0\n",
            "\u001b[?25l  Downloading https://files.pythonhosted.org/packages/91/2d/2ed263449a078cd9c8a9ba50ebd50123adf1f8cfbea1492f9084169b89d9/tensorboard-1.14.0-py3-none-any.whl (3.1MB)\n",
            "\u001b[K     |████████████████████████████████| 3.2MB 52.3MB/s \n",
            "\u001b[?25hCollecting tensorflow-estimator<1.15.0rc0,>=1.14.0rc0\n",
            "\u001b[?25l  Downloading https://files.pythonhosted.org/packages/3c/d5/21860a5b11caf0678fbc8319341b0ae21a07156911132e0e71bffed0510d/tensorflow_estimator-1.14.0-py2.py3-none-any.whl (488kB)\n",
            "\u001b[K     |████████████████████████████████| 491kB 52.5MB/s \n",
            "\u001b[?25hRequirement already satisfied: gast>=0.2.0 in /usr/local/lib/python3.6/dist-packages (from tensorflow==1.14.0) (0.3.3)\n",
            "Requirement already satisfied: astor>=0.6.0 in /usr/local/lib/python3.6/dist-packages (from tensorflow==1.14.0) (0.8.1)\n",
            "Requirement already satisfied: wheel>=0.26 in /usr/local/lib/python3.6/dist-packages (from tensorflow==1.14.0) (0.34.2)\n",
            "Requirement already satisfied: grpcio>=1.8.6 in /usr/local/lib/python3.6/dist-packages (from tensorflow==1.14.0) (1.30.0)\n",
            "Requirement already satisfied: keras-applications>=1.0.6 in /usr/local/lib/python3.6/dist-packages (from tensorflow==1.14.0) (1.0.8)\n",
            "Requirement already satisfied: google-pasta>=0.1.6 in /usr/local/lib/python3.6/dist-packages (from tensorflow==1.14.0) (0.2.0)\n",
            "Requirement already satisfied: numpy<2.0,>=1.14.5 in /usr/local/lib/python3.6/dist-packages (from tensorflow==1.14.0) (1.18.5)\n",
            "Requirement already satisfied: six>=1.10.0 in /usr/local/lib/python3.6/dist-packages (from tensorflow==1.14.0) (1.15.0)\n",
            "Requirement already satisfied: wrapt>=1.11.1 in /usr/local/lib/python3.6/dist-packages (from tensorflow==1.14.0) (1.12.1)\n",
            "Requirement already satisfied: protobuf>=3.6.1 in /usr/local/lib/python3.6/dist-packages (from tensorflow==1.14.0) (3.12.2)\n",
            "Requirement already satisfied: keras-preprocessing>=1.0.5 in /usr/local/lib/python3.6/dist-packages (from tensorflow==1.14.0) (1.1.2)\n",
            "Requirement already satisfied: termcolor>=1.1.0 in /usr/local/lib/python3.6/dist-packages (from tensorflow==1.14.0) (1.1.0)\n",
            "Requirement already satisfied: absl-py>=0.7.0 in /usr/local/lib/python3.6/dist-packages (from tensorflow==1.14.0) (0.9.0)\n",
            "Requirement already satisfied: werkzeug>=0.11.15 in /usr/local/lib/python3.6/dist-packages (from tensorboard<1.15.0,>=1.14.0->tensorflow==1.14.0) (1.0.1)\n",
            "Requirement already satisfied: setuptools>=41.0.0 in /usr/local/lib/python3.6/dist-packages (from tensorboard<1.15.0,>=1.14.0->tensorflow==1.14.0) (49.1.0)\n",
            "Requirement already satisfied: markdown>=2.6.8 in /usr/local/lib/python3.6/dist-packages (from tensorboard<1.15.0,>=1.14.0->tensorflow==1.14.0) (3.2.2)\n",
            "Requirement already satisfied: h5py in /usr/local/lib/python3.6/dist-packages (from keras-applications>=1.0.6->tensorflow==1.14.0) (2.10.0)\n",
            "Requirement already satisfied: importlib-metadata; python_version < \"3.8\" in /usr/local/lib/python3.6/dist-packages (from markdown>=2.6.8->tensorboard<1.15.0,>=1.14.0->tensorflow==1.14.0) (1.7.0)\n",
            "Requirement already satisfied: zipp>=0.5 in /usr/local/lib/python3.6/dist-packages (from importlib-metadata; python_version < \"3.8\"->markdown>=2.6.8->tensorboard<1.15.0,>=1.14.0->tensorflow==1.14.0) (3.1.0)\n",
            "Installing collected packages: tensorboard, tensorflow-estimator, tensorflow\n",
            "  Found existing installation: tensorboard 2.2.2\n",
            "    Uninstalling tensorboard-2.2.2:\n",
            "      Successfully uninstalled tensorboard-2.2.2\n",
            "  Found existing installation: tensorflow-estimator 2.2.0\n",
            "    Uninstalling tensorflow-estimator-2.2.0:\n",
            "      Successfully uninstalled tensorflow-estimator-2.2.0\n",
            "  Found existing installation: tensorflow 2.2.0\n",
            "    Uninstalling tensorflow-2.2.0:\n",
            "      Successfully uninstalled tensorflow-2.2.0\n",
            "Successfully installed tensorboard-1.14.0 tensorflow-1.14.0 tensorflow-estimator-1.14.0\n"
          ],
          "name": "stdout"
        }
      ]
    },
    {
      "cell_type": "code",
      "metadata": {
        "id": "O1dnnsMM2XLE",
        "colab_type": "code",
        "colab": {
          "base_uri": "https://localhost:8080/",
          "height": 581
        },
        "outputId": "a9f0c1de-1f64-40b3-d760-29c9e2874d47"
      },
      "source": [
        "!pip install pyrender"
      ],
      "execution_count": 2,
      "outputs": [
        {
          "output_type": "stream",
          "text": [
            "Collecting pyrender\n",
            "\u001b[?25l  Downloading https://files.pythonhosted.org/packages/5d/ad/c0ddb46516cc35f58f1d9a0b516eb8aeba962b054aa9b1ea8e5ed4127f8b/pyrender-0.1.43-py3-none-any.whl (1.2MB)\n",
            "\r\u001b[K     |▎                               | 10kB 26.2MB/s eta 0:00:01\r\u001b[K     |▌                               | 20kB 1.7MB/s eta 0:00:01\r\u001b[K     |▉                               | 30kB 2.2MB/s eta 0:00:01\r\u001b[K     |█                               | 40kB 2.5MB/s eta 0:00:01\r\u001b[K     |█▍                              | 51kB 2.0MB/s eta 0:00:01\r\u001b[K     |█▋                              | 61kB 2.3MB/s eta 0:00:01\r\u001b[K     |██                              | 71kB 2.5MB/s eta 0:00:01\r\u001b[K     |██▏                             | 81kB 2.7MB/s eta 0:00:01\r\u001b[K     |██▍                             | 92kB 2.9MB/s eta 0:00:01\r\u001b[K     |██▊                             | 102kB 2.7MB/s eta 0:00:01\r\u001b[K     |███                             | 112kB 2.7MB/s eta 0:00:01\r\u001b[K     |███▎                            | 122kB 2.7MB/s eta 0:00:01\r\u001b[K     |███▌                            | 133kB 2.7MB/s eta 0:00:01\r\u001b[K     |███▉                            | 143kB 2.7MB/s eta 0:00:01\r\u001b[K     |████                            | 153kB 2.7MB/s eta 0:00:01\r\u001b[K     |████▎                           | 163kB 2.7MB/s eta 0:00:01\r\u001b[K     |████▋                           | 174kB 2.7MB/s eta 0:00:01\r\u001b[K     |████▉                           | 184kB 2.7MB/s eta 0:00:01\r\u001b[K     |█████▏                          | 194kB 2.7MB/s eta 0:00:01\r\u001b[K     |█████▍                          | 204kB 2.7MB/s eta 0:00:01\r\u001b[K     |█████▊                          | 215kB 2.7MB/s eta 0:00:01\r\u001b[K     |██████                          | 225kB 2.7MB/s eta 0:00:01\r\u001b[K     |██████▏                         | 235kB 2.7MB/s eta 0:00:01\r\u001b[K     |██████▌                         | 245kB 2.7MB/s eta 0:00:01\r\u001b[K     |██████▊                         | 256kB 2.7MB/s eta 0:00:01\r\u001b[K     |███████                         | 266kB 2.7MB/s eta 0:00:01\r\u001b[K     |███████▎                        | 276kB 2.7MB/s eta 0:00:01\r\u001b[K     |███████▋                        | 286kB 2.7MB/s eta 0:00:01\r\u001b[K     |███████▉                        | 296kB 2.7MB/s eta 0:00:01\r\u001b[K     |████████                        | 307kB 2.7MB/s eta 0:00:01\r\u001b[K     |████████▍                       | 317kB 2.7MB/s eta 0:00:01\r\u001b[K     |████████▋                       | 327kB 2.7MB/s eta 0:00:01\r\u001b[K     |█████████                       | 337kB 2.7MB/s eta 0:00:01\r\u001b[K     |█████████▏                      | 348kB 2.7MB/s eta 0:00:01\r\u001b[K     |█████████▌                      | 358kB 2.7MB/s eta 0:00:01\r\u001b[K     |█████████▊                      | 368kB 2.7MB/s eta 0:00:01\r\u001b[K     |██████████                      | 378kB 2.7MB/s eta 0:00:01\r\u001b[K     |██████████▎                     | 389kB 2.7MB/s eta 0:00:01\r\u001b[K     |██████████▌                     | 399kB 2.7MB/s eta 0:00:01\r\u001b[K     |██████████▉                     | 409kB 2.7MB/s eta 0:00:01\r\u001b[K     |███████████                     | 419kB 2.7MB/s eta 0:00:01\r\u001b[K     |███████████▍                    | 430kB 2.7MB/s eta 0:00:01\r\u001b[K     |███████████▋                    | 440kB 2.7MB/s eta 0:00:01\r\u001b[K     |███████████▉                    | 450kB 2.7MB/s eta 0:00:01\r\u001b[K     |████████████▏                   | 460kB 2.7MB/s eta 0:00:01\r\u001b[K     |████████████▍                   | 471kB 2.7MB/s eta 0:00:01\r\u001b[K     |████████████▊                   | 481kB 2.7MB/s eta 0:00:01\r\u001b[K     |█████████████                   | 491kB 2.7MB/s eta 0:00:01\r\u001b[K     |█████████████▎                  | 501kB 2.7MB/s eta 0:00:01\r\u001b[K     |█████████████▌                  | 512kB 2.7MB/s eta 0:00:01\r\u001b[K     |█████████████▊                  | 522kB 2.7MB/s eta 0:00:01\r\u001b[K     |██████████████                  | 532kB 2.7MB/s eta 0:00:01\r\u001b[K     |██████████████▎                 | 542kB 2.7MB/s eta 0:00:01\r\u001b[K     |██████████████▋                 | 552kB 2.7MB/s eta 0:00:01\r\u001b[K     |██████████████▉                 | 563kB 2.7MB/s eta 0:00:01\r\u001b[K     |███████████████▏                | 573kB 2.7MB/s eta 0:00:01\r\u001b[K     |███████████████▍                | 583kB 2.7MB/s eta 0:00:01\r\u001b[K     |███████████████▋                | 593kB 2.7MB/s eta 0:00:01\r\u001b[K     |████████████████                | 604kB 2.7MB/s eta 0:00:01\r\u001b[K     |████████████████▏               | 614kB 2.7MB/s eta 0:00:01\r\u001b[K     |████████████████▌               | 624kB 2.7MB/s eta 0:00:01\r\u001b[K     |████████████████▊               | 634kB 2.7MB/s eta 0:00:01\r\u001b[K     |█████████████████               | 645kB 2.7MB/s eta 0:00:01\r\u001b[K     |█████████████████▎              | 655kB 2.7MB/s eta 0:00:01\r\u001b[K     |█████████████████▌              | 665kB 2.7MB/s eta 0:00:01\r\u001b[K     |█████████████████▉              | 675kB 2.7MB/s eta 0:00:01\r\u001b[K     |██████████████████              | 686kB 2.7MB/s eta 0:00:01\r\u001b[K     |██████████████████▍             | 696kB 2.7MB/s eta 0:00:01\r\u001b[K     |██████████████████▋             | 706kB 2.7MB/s eta 0:00:01\r\u001b[K     |███████████████████             | 716kB 2.7MB/s eta 0:00:01\r\u001b[K     |███████████████████▏            | 727kB 2.7MB/s eta 0:00:01\r\u001b[K     |███████████████████▍            | 737kB 2.7MB/s eta 0:00:01\r\u001b[K     |███████████████████▊            | 747kB 2.7MB/s eta 0:00:01\r\u001b[K     |████████████████████            | 757kB 2.7MB/s eta 0:00:01\r\u001b[K     |████████████████████▎           | 768kB 2.7MB/s eta 0:00:01\r\u001b[K     |████████████████████▌           | 778kB 2.7MB/s eta 0:00:01\r\u001b[K     |████████████████████▉           | 788kB 2.7MB/s eta 0:00:01\r\u001b[K     |█████████████████████           | 798kB 2.7MB/s eta 0:00:01\r\u001b[K     |█████████████████████▎          | 808kB 2.7MB/s eta 0:00:01\r\u001b[K     |█████████████████████▋          | 819kB 2.7MB/s eta 0:00:01\r\u001b[K     |█████████████████████▉          | 829kB 2.7MB/s eta 0:00:01\r\u001b[K     |██████████████████████▏         | 839kB 2.7MB/s eta 0:00:01\r\u001b[K     |██████████████████████▍         | 849kB 2.7MB/s eta 0:00:01\r\u001b[K     |██████████████████████▊         | 860kB 2.7MB/s eta 0:00:01\r\u001b[K     |███████████████████████         | 870kB 2.7MB/s eta 0:00:01\r\u001b[K     |███████████████████████▏        | 880kB 2.7MB/s eta 0:00:01\r\u001b[K     |███████████████████████▌        | 890kB 2.7MB/s eta 0:00:01\r\u001b[K     |███████████████████████▊        | 901kB 2.7MB/s eta 0:00:01\r\u001b[K     |████████████████████████        | 911kB 2.7MB/s eta 0:00:01\r\u001b[K     |████████████████████████▎       | 921kB 2.7MB/s eta 0:00:01\r\u001b[K     |████████████████████████▋       | 931kB 2.7MB/s eta 0:00:01\r\u001b[K     |████████████████████████▉       | 942kB 2.7MB/s eta 0:00:01\r\u001b[K     |█████████████████████████       | 952kB 2.7MB/s eta 0:00:01\r\u001b[K     |█████████████████████████▍      | 962kB 2.7MB/s eta 0:00:01\r\u001b[K     |█████████████████████████▋      | 972kB 2.7MB/s eta 0:00:01\r\u001b[K     |██████████████████████████      | 983kB 2.7MB/s eta 0:00:01\r\u001b[K     |██████████████████████████▏     | 993kB 2.7MB/s eta 0:00:01\r\u001b[K     |██████████████████████████▌     | 1.0MB 2.7MB/s eta 0:00:01\r\u001b[K     |██████████████████████████▊     | 1.0MB 2.7MB/s eta 0:00:01\r\u001b[K     |███████████████████████████     | 1.0MB 2.7MB/s eta 0:00:01\r\u001b[K     |███████████████████████████▎    | 1.0MB 2.7MB/s eta 0:00:01\r\u001b[K     |███████████████████████████▌    | 1.0MB 2.7MB/s eta 0:00:01\r\u001b[K     |███████████████████████████▉    | 1.1MB 2.7MB/s eta 0:00:01\r\u001b[K     |████████████████████████████    | 1.1MB 2.7MB/s eta 0:00:01\r\u001b[K     |████████████████████████████▍   | 1.1MB 2.7MB/s eta 0:00:01\r\u001b[K     |████████████████████████████▋   | 1.1MB 2.7MB/s eta 0:00:01\r\u001b[K     |████████████████████████████▉   | 1.1MB 2.7MB/s eta 0:00:01\r\u001b[K     |█████████████████████████████▏  | 1.1MB 2.7MB/s eta 0:00:01\r\u001b[K     |█████████████████████████████▍  | 1.1MB 2.7MB/s eta 0:00:01\r\u001b[K     |█████████████████████████████▊  | 1.1MB 2.7MB/s eta 0:00:01\r\u001b[K     |██████████████████████████████  | 1.1MB 2.7MB/s eta 0:00:01\r\u001b[K     |██████████████████████████████▎ | 1.1MB 2.7MB/s eta 0:00:01\r\u001b[K     |██████████████████████████████▌ | 1.2MB 2.7MB/s eta 0:00:01\r\u001b[K     |██████████████████████████████▊ | 1.2MB 2.7MB/s eta 0:00:01\r\u001b[K     |███████████████████████████████ | 1.2MB 2.7MB/s eta 0:00:01\r\u001b[K     |███████████████████████████████▎| 1.2MB 2.7MB/s eta 0:00:01\r\u001b[K     |███████████████████████████████▋| 1.2MB 2.7MB/s eta 0:00:01\r\u001b[K     |███████████████████████████████▉| 1.2MB 2.7MB/s eta 0:00:01\r\u001b[K     |████████████████████████████████| 1.2MB 2.7MB/s \n",
            "\u001b[?25hRequirement already satisfied: pyglet>=1.4.10 in /usr/local/lib/python3.6/dist-packages (from pyrender) (1.5.0)\n",
            "Requirement already satisfied: networkx in /usr/local/lib/python3.6/dist-packages (from pyrender) (2.4)\n",
            "Collecting trimesh\n",
            "\u001b[?25l  Downloading https://files.pythonhosted.org/packages/2f/27/f911a12e6c3f272fb7b40015a54c41223dd90d19cdbc6ae3ad45b8cee162/trimesh-3.7.14-py3-none-any.whl (619kB)\n",
            "\r\u001b[K     |▌                               | 10kB 24.1MB/s eta 0:00:01\r\u001b[K     |█                               | 20kB 15.9MB/s eta 0:00:01\r\u001b[K     |█▋                              | 30kB 21.3MB/s eta 0:00:01\r\u001b[K     |██▏                             | 40kB 18.1MB/s eta 0:00:01\r\u001b[K     |██▋                             | 51kB 11.8MB/s eta 0:00:01\r\u001b[K     |███▏                            | 61kB 13.7MB/s eta 0:00:01\r\u001b[K     |███▊                            | 71kB 11.9MB/s eta 0:00:01\r\u001b[K     |████▎                           | 81kB 13.3MB/s eta 0:00:01\r\u001b[K     |████▊                           | 92kB 13.1MB/s eta 0:00:01\r\u001b[K     |█████▎                          | 102kB 12.2MB/s eta 0:00:01\r\u001b[K     |█████▉                          | 112kB 12.2MB/s eta 0:00:01\r\u001b[K     |██████▍                         | 122kB 12.2MB/s eta 0:00:01\r\u001b[K     |██████▉                         | 133kB 12.2MB/s eta 0:00:01\r\u001b[K     |███████▍                        | 143kB 12.2MB/s eta 0:00:01\r\u001b[K     |████████                        | 153kB 12.2MB/s eta 0:00:01\r\u001b[K     |████████▌                       | 163kB 12.2MB/s eta 0:00:01\r\u001b[K     |█████████                       | 174kB 12.2MB/s eta 0:00:01\r\u001b[K     |█████████▌                      | 184kB 12.2MB/s eta 0:00:01\r\u001b[K     |██████████                      | 194kB 12.2MB/s eta 0:00:01\r\u001b[K     |██████████▋                     | 204kB 12.2MB/s eta 0:00:01\r\u001b[K     |███████████▏                    | 215kB 12.2MB/s eta 0:00:01\r\u001b[K     |███████████▋                    | 225kB 12.2MB/s eta 0:00:01\r\u001b[K     |████████████▏                   | 235kB 12.2MB/s eta 0:00:01\r\u001b[K     |████████████▊                   | 245kB 12.2MB/s eta 0:00:01\r\u001b[K     |█████████████▎                  | 256kB 12.2MB/s eta 0:00:01\r\u001b[K     |█████████████▊                  | 266kB 12.2MB/s eta 0:00:01\r\u001b[K     |██████████████▎                 | 276kB 12.2MB/s eta 0:00:01\r\u001b[K     |██████████████▉                 | 286kB 12.2MB/s eta 0:00:01\r\u001b[K     |███████████████▍                | 296kB 12.2MB/s eta 0:00:01\r\u001b[K     |███████████████▉                | 307kB 12.2MB/s eta 0:00:01\r\u001b[K     |████████████████▍               | 317kB 12.2MB/s eta 0:00:01\r\u001b[K     |█████████████████               | 327kB 12.2MB/s eta 0:00:01\r\u001b[K     |█████████████████▌              | 337kB 12.2MB/s eta 0:00:01\r\u001b[K     |██████████████████              | 348kB 12.2MB/s eta 0:00:01\r\u001b[K     |██████████████████▌             | 358kB 12.2MB/s eta 0:00:01\r\u001b[K     |███████████████████             | 368kB 12.2MB/s eta 0:00:01\r\u001b[K     |███████████████████▋            | 378kB 12.2MB/s eta 0:00:01\r\u001b[K     |████████████████████▏           | 389kB 12.2MB/s eta 0:00:01\r\u001b[K     |████████████████████▋           | 399kB 12.2MB/s eta 0:00:01\r\u001b[K     |█████████████████████▏          | 409kB 12.2MB/s eta 0:00:01\r\u001b[K     |█████████████████████▊          | 419kB 12.2MB/s eta 0:00:01\r\u001b[K     |██████████████████████▎         | 430kB 12.2MB/s eta 0:00:01\r\u001b[K     |██████████████████████▊         | 440kB 12.2MB/s eta 0:00:01\r\u001b[K     |███████████████████████▎        | 450kB 12.2MB/s eta 0:00:01\r\u001b[K     |███████████████████████▉        | 460kB 12.2MB/s eta 0:00:01\r\u001b[K     |████████████████████████▍       | 471kB 12.2MB/s eta 0:00:01\r\u001b[K     |████████████████████████▉       | 481kB 12.2MB/s eta 0:00:01\r\u001b[K     |█████████████████████████▍      | 491kB 12.2MB/s eta 0:00:01\r\u001b[K     |██████████████████████████      | 501kB 12.2MB/s eta 0:00:01\r\u001b[K     |██████████████████████████▌     | 512kB 12.2MB/s eta 0:00:01\r\u001b[K     |███████████████████████████     | 522kB 12.2MB/s eta 0:00:01\r\u001b[K     |███████████████████████████▌    | 532kB 12.2MB/s eta 0:00:01\r\u001b[K     |████████████████████████████    | 542kB 12.2MB/s eta 0:00:01\r\u001b[K     |████████████████████████████▋   | 552kB 12.2MB/s eta 0:00:01\r\u001b[K     |█████████████████████████████   | 563kB 12.2MB/s eta 0:00:01\r\u001b[K     |█████████████████████████████▋  | 573kB 12.2MB/s eta 0:00:01\r\u001b[K     |██████████████████████████████▏ | 583kB 12.2MB/s eta 0:00:01\r\u001b[K     |██████████████████████████████▊ | 593kB 12.2MB/s eta 0:00:01\r\u001b[K     |███████████████████████████████▎| 604kB 12.2MB/s eta 0:00:01\r\u001b[K     |███████████████████████████████▊| 614kB 12.2MB/s eta 0:00:01\r\u001b[K     |████████████████████████████████| 624kB 12.2MB/s \n",
            "\u001b[?25hRequirement already satisfied: six in /usr/local/lib/python3.6/dist-packages (from pyrender) (1.15.0)\n",
            "Collecting freetype-py\n",
            "\u001b[?25l  Downloading https://files.pythonhosted.org/packages/40/b5/56751e13f8b4a42f52c1b85ecce1446f83245190d820b42748eb8574ae43/freetype_py-2.2.0-py3-none-manylinux1_x86_64.whl (890kB)\n",
            "\u001b[K     |████████████████████████████████| 890kB 14.0MB/s \n",
            "\u001b[?25hRequirement already satisfied: Pillow in /usr/local/lib/python3.6/dist-packages (from pyrender) (7.0.0)\n",
            "Requirement already satisfied: scipy in /usr/local/lib/python3.6/dist-packages (from pyrender) (1.4.1)\n",
            "Requirement already satisfied: imageio in /usr/local/lib/python3.6/dist-packages (from pyrender) (2.4.1)\n",
            "Requirement already satisfied: numpy in /usr/local/lib/python3.6/dist-packages (from pyrender) (1.18.5)\n",
            "Collecting PyOpenGL==3.1.0\n",
            "\u001b[?25l  Downloading https://files.pythonhosted.org/packages/9c/1d/4544708aaa89f26c97cc09450bb333a23724a320923e74d73e028b3560f9/PyOpenGL-3.1.0.tar.gz (1.2MB)\n",
            "\u001b[K     |████████████████████████████████| 1.2MB 23.0MB/s \n",
            "\u001b[?25hRequirement already satisfied: future in /usr/local/lib/python3.6/dist-packages (from pyglet>=1.4.10->pyrender) (0.16.0)\n",
            "Requirement already satisfied: decorator>=4.3.0 in /usr/local/lib/python3.6/dist-packages (from networkx->pyrender) (4.4.2)\n",
            "Requirement already satisfied: setuptools in /usr/local/lib/python3.6/dist-packages (from trimesh->pyrender) (49.1.0)\n",
            "Building wheels for collected packages: PyOpenGL\n",
            "  Building wheel for PyOpenGL (setup.py) ... \u001b[?25l\u001b[?25hdone\n",
            "  Created wheel for PyOpenGL: filename=PyOpenGL-3.1.0-cp36-none-any.whl size=1745212 sha256=1e8e671bda68de8a7a6d072502efd7cf8a06d3c7f7387e58562052f6bca0d87d\n",
            "  Stored in directory: /root/.cache/pip/wheels/6c/00/7f/1dd736f380848720ad79a1a1de5272e0d3f79c15a42968fb58\n",
            "Successfully built PyOpenGL\n",
            "Installing collected packages: trimesh, freetype-py, PyOpenGL, pyrender\n",
            "  Found existing installation: PyOpenGL 3.1.5\n",
            "    Uninstalling PyOpenGL-3.1.5:\n",
            "      Successfully uninstalled PyOpenGL-3.1.5\n",
            "Successfully installed PyOpenGL-3.1.0 freetype-py-2.2.0 pyrender-0.1.43 trimesh-3.7.14\n"
          ],
          "name": "stdout"
        }
      ]
    },
    {
      "cell_type": "code",
      "metadata": {
        "id": "ZDWf2XJ6zDfG",
        "colab_type": "code",
        "colab": {
          "base_uri": "https://localhost:8080/",
          "height": 136
        },
        "outputId": "aa4566d0-5935-4714-ef7b-4f1f09978281"
      },
      "source": [
        "# Clone pyrender to get some sample models\n",
        "!git clone https://github.com/mmatl/pyrender.git"
      ],
      "execution_count": 3,
      "outputs": [
        {
          "output_type": "stream",
          "text": [
            "Cloning into 'pyrender'...\n",
            "remote: Enumerating objects: 28, done.\u001b[K\n",
            "remote: Counting objects:   3% (1/28)\u001b[K\rremote: Counting objects:   7% (2/28)\u001b[K\rremote: Counting objects:  10% (3/28)\u001b[K\rremote: Counting objects:  14% (4/28)\u001b[K\rremote: Counting objects:  17% (5/28)\u001b[K\rremote: Counting objects:  21% (6/28)\u001b[K\rremote: Counting objects:  25% (7/28)\u001b[K\rremote: Counting objects:  28% (8/28)\u001b[K\rremote: Counting objects:  32% (9/28)\u001b[K\rremote: Counting objects:  35% (10/28)\u001b[K\rremote: Counting objects:  39% (11/28)\u001b[K\rremote: Counting objects:  42% (12/28)\u001b[K\rremote: Counting objects:  46% (13/28)\u001b[K\rremote: Counting objects:  50% (14/28)\u001b[K\rremote: Counting objects:  53% (15/28)\u001b[K\rremote: Counting objects:  57% (16/28)\u001b[K\rremote: Counting objects:  60% (17/28)\u001b[K\rremote: Counting objects:  64% (18/28)\u001b[K\rremote: Counting objects:  67% (19/28)\u001b[K\rremote: Counting objects:  71% (20/28)\u001b[K\rremote: Counting objects:  75% (21/28)\u001b[K\rremote: Counting objects:  78% (22/28)\u001b[K\rremote: Counting objects:  82% (23/28)\u001b[K\rremote: Counting objects:  85% (24/28)\u001b[K\rremote: Counting objects:  89% (25/28)\u001b[K\rremote: Counting objects:  92% (26/28)\u001b[K\rremote: Counting objects:  96% (27/28)\u001b[K\rremote: Counting objects: 100% (28/28)\u001b[K\rremote: Counting objects: 100% (28/28), done.\u001b[K\n",
            "remote: Compressing objects: 100% (16/16), done.\u001b[K\n",
            "remote: Total 1122 (delta 10), reused 21 (delta 9), pack-reused 1094\u001b[K\n",
            "Receiving objects: 100% (1122/1122), 28.38 MiB | 41.69 MiB/s, done.\n",
            "Resolving deltas: 100% (661/661), done.\n"
          ],
          "name": "stdout"
        }
      ]
    },
    {
      "cell_type": "code",
      "metadata": {
        "id": "XOlFBIgy4xRP",
        "colab_type": "code",
        "colab": {
          "base_uri": "https://localhost:8080/",
          "height": 34
        },
        "outputId": "cb5682f1-4898-4180-f8e7-2ea93b2887b0"
      },
      "source": [
        "!pwd"
      ],
      "execution_count": 4,
      "outputs": [
        {
          "output_type": "stream",
          "text": [
            "/content\n"
          ],
          "name": "stdout"
        }
      ]
    },
    {
      "cell_type": "code",
      "metadata": {
        "id": "HyV9wSw8zCjo",
        "colab_type": "code",
        "colab": {}
      },
      "source": [
        "# Render offscreen -- make sure to set the PyOpenGL platform\n",
        "import os\n",
        "os.environ[\"PYOPENGL_PLATFORM\"] = \"egl\" #osmesa\" #egl\"\n",
        "import numpy as np\n",
        "import trimesh\n",
        "import pyrender"
      ],
      "execution_count": 6,
      "outputs": []
    },
    {
      "cell_type": "code",
      "metadata": {
        "id": "kEjXENrWzbqy",
        "colab_type": "code",
        "colab": {
          "base_uri": "https://localhost:8080/",
          "height": 145
        },
        "outputId": "c4dd887b-0e31-4e73-b486-6a0282528926"
      },
      "source": [
        "# Load the FUZE bottle trimesh and put it in a scene\n",
        "fuze_trimesh = trimesh.load('pyrender/examples/models/fuze.obj')\n",
        "mesh = pyrender.Mesh.from_trimesh(fuze_trimesh)\n",
        "scene = pyrender.Scene()\n",
        "scene.add(mesh)\n",
        "\n",
        "# Set up the camera -- z-axis away from the scene, x-axis right, y-axis up\n",
        "camera = pyrender.PerspectiveCamera(yfov=np.pi / 3.0)\n",
        "s = np.sqrt(2)/2\n",
        "camera_pose = np.array([\n",
        "       [0.0, -s,   s,   0.3],\n",
        "       [1.0,  0.0, 0.0, 0.0],\n",
        "       [0.0,  s,   s,   0.35],\n",
        "       [0.0,  0.0, 0.0, 1.0],\n",
        "    ])\n",
        "scene.add(camera, pose=camera_pose)\n",
        "\n",
        "# Set up the light -- a single spot light in the same spot as the camera\n",
        "light = pyrender.SpotLight(color=np.ones(3), intensity=3.0,\n",
        "                               innerConeAngle=np.pi/16.0)\n",
        "scene.add(light, pose=camera_pose)\n",
        "\n",
        "# Render the scene\n",
        "r = pyrender.OffscreenRenderer(640, 480)\n",
        "color, depth = r.render(scene)\n",
        "\n",
        "# Show the images\n",
        "import matplotlib.pyplot as plt\n",
        "plt.figure()\n",
        "plt.subplot(1,2,1)\n",
        "plt.axis('off')\n",
        "plt.imshow(color)\n",
        "plt.subplot(1,2,2)\n",
        "plt.axis('off')\n",
        "plt.imshow(depth, cmap=plt.cm.gray_r)\n",
        "plt.show()"
      ],
      "execution_count": 7,
      "outputs": [
        {
          "output_type": "display_data",
          "data": {
            "image/png": "[encoded data removed]",
            "text/plain": [
              "<Figure size 432x288 with 2 Axes>"
            ]
          },
          "metadata": {
            "tags": [],
            "needs_background": "light"
          }
        }
      ]
    },
    {
      "cell_type": "code",
      "metadata": {
        "id": "8H5bX-7-7Xz2",
        "colab_type": "code",
        "colab": {
          "base_uri": "https://localhost:8080/",
          "height": 119
        },
        "outputId": "a825810a-844e-4358-9660-39a2f6c45d0e"
      },
      "source": [
        "!git clone https://github.com/tegusi/animation-generation VOCAani"
      ],
      "execution_count": 8,
      "outputs": [
        {
          "output_type": "stream",
          "text": [
            "Cloning into 'VOCAani'...\n",
            "remote: Enumerating objects: 6, done.\u001b[K\n",
            "remote: Counting objects:  16% (1/6)\u001b[K\rremote: Counting objects:  33% (2/6)\u001b[K\rremote: Counting objects:  50% (3/6)\u001b[K\rremote: Counting objects:  66% (4/6)\u001b[K\rremote: Counting objects:  83% (5/6)\u001b[K\rremote: Counting objects: 100% (6/6)\u001b[K\rremote: Counting objects: 100% (6/6), done.\u001b[K\n",
            "remote: Compressing objects: 100% (5/5), done.\u001b[K\n",
            "remote: Total 87 (delta 1), reused 6 (delta 1), pack-reused 81\u001b[K\n",
            "Unpacking objects: 100% (87/87), done.\n"
          ],
          "name": "stdout"
        }
      ]
    },
    {
      "cell_type": "code",
      "metadata": {
        "id": "9zP2CaWD8e2h",
        "colab_type": "code",
        "colab": {}
      },
      "source": [
        "from IPython.display import clear_output, Image, display, HTML\n",
        "import pickle\n",
        "import random\n",
        "import numpy as np\n",
        "import matplotlib.pyplot as plt\n",
        "from utils.audio_handler import AudioHandler\n",
        "from psbody.mesh import Mesh\n",
        "from utils.rendering import render_mesh_helper"
      ],
      "execution_count": null,
      "outputs": []
    },
    {
      "cell_type": "code",
      "metadata": {
        "id": "nHwQHUrt8ei7",
        "colab_type": "code",
        "colab": {}
      },
      "source": [
        ""
      ],
      "execution_count": null,
      "outputs": []
    },
    {
      "cell_type": "code",
      "metadata": {
        "id": "Tg6tT2yRZNLm",
        "colab_type": "code",
        "colab": {
          "base_uri": "https://localhost:8080/",
          "height": 34
        },
        "outputId": "67dc1da4-5a42-4795-cee9-1806562ff8f6"
      },
      "source": [
        "%cd /content/VOCAani"
      ],
      "execution_count": 7,
      "outputs": [
        {
          "output_type": "stream",
          "text": [
            "/content/VOCAani\n"
          ],
          "name": "stdout"
        }
      ]
    },
    {
      "cell_type": "code",
      "metadata": {
        "id": "wxJbHlvFZaIF",
        "colab_type": "code",
        "colab": {
          "base_uri": "https://localhost:8080/",
          "height": 1000
        },
        "outputId": "f214148f-e027-4410-9746-78645e459765"
      },
      "source": [
        "!pip install -r requirements.txt"
      ],
      "execution_count": 8,
      "outputs": [
        {
          "output_type": "stream",
          "text": [
            "Requirement already satisfied: numpy in /usr/local/lib/python3.6/dist-packages (from -r requirements.txt (line 1)) (1.18.5)\n",
            "Requirement already satisfied: scipy in /usr/local/lib/python3.6/dist-packages (from -r requirements.txt (line 2)) (1.4.1)\n",
            "Collecting chumpy\n",
            "\u001b[?25l  Downloading https://files.pythonhosted.org/packages/87/81/d7a94ad0ff556b9dd1bf27b84c0b255d9ba22ad5952f20088dafacd9292e/chumpy-0.69.tar.gz (50kB)\n",
            "\u001b[K     |████████████████████████████████| 51kB 1.5MB/s \n",
            "\u001b[?25hRequirement already satisfied: opencv-python in /usr/local/lib/python3.6/dist-packages (from -r requirements.txt (line 4)) (4.1.2.30)\n",
            "Requirement already satisfied: resampy in /usr/local/lib/python3.6/dist-packages (from -r requirements.txt (line 5)) (0.2.2)\n",
            "Collecting python-speech-features\n",
            "  Downloading https://files.pythonhosted.org/packages/ff/d1/94c59e20a2631985fbd2124c45177abaa9e0a4eee8ba8a305aa26fc02a8e/python_speech_features-0.6.tar.gz\n",
            "Collecting tensorflow-gpu==1.14.0\n",
            "\u001b[?25l  Downloading https://files.pythonhosted.org/packages/76/04/43153bfdfcf6c9a4c38ecdb971ca9a75b9a791bb69a764d652c359aca504/tensorflow_gpu-1.14.0-cp36-cp36m-manylinux1_x86_64.whl (377.0MB)\n",
            "\u001b[K     |████████████████████████████████| 377.0MB 44kB/s \n",
            "\u001b[?25hRequirement already satisfied: scikit-learn in /usr/local/lib/python3.6/dist-packages (from -r requirements.txt (line 8)) (0.22.2.post1)\n",
            "Requirement already satisfied: image in /usr/local/lib/python3.6/dist-packages (from -r requirements.txt (line 9)) (1.5.32)\n",
            "Requirement already satisfied: ipython in /usr/local/lib/python3.6/dist-packages (from -r requirements.txt (line 10)) (5.5.0)\n",
            "Requirement already satisfied: matplotlib in /usr/local/lib/python3.6/dist-packages (from -r requirements.txt (line 11)) (3.2.2)\n",
            "Requirement already satisfied: trimesh in /usr/local/lib/python3.6/dist-packages (from -r requirements.txt (line 12)) (3.7.14)\n",
            "Requirement already satisfied: pyrender in /usr/local/lib/python3.6/dist-packages (from -r requirements.txt (line 13)) (0.1.43)\n",
            "Requirement already satisfied: six>=1.11.0 in /usr/local/lib/python3.6/dist-packages (from chumpy->-r requirements.txt (line 3)) (1.15.0)\n",
            "Requirement already satisfied: numba>=0.32 in /usr/local/lib/python3.6/dist-packages (from resampy->-r requirements.txt (line 5)) (0.48.0)\n",
            "Requirement already satisfied: astor>=0.6.0 in /usr/local/lib/python3.6/dist-packages (from tensorflow-gpu==1.14.0->-r requirements.txt (line 7)) (0.8.1)\n",
            "Requirement already satisfied: protobuf>=3.6.1 in /usr/local/lib/python3.6/dist-packages (from tensorflow-gpu==1.14.0->-r requirements.txt (line 7)) (3.12.2)\n",
            "Requirement already satisfied: grpcio>=1.8.6 in /usr/local/lib/python3.6/dist-packages (from tensorflow-gpu==1.14.0->-r requirements.txt (line 7)) (1.30.0)\n",
            "Requirement already satisfied: gast>=0.2.0 in /usr/local/lib/python3.6/dist-packages (from tensorflow-gpu==1.14.0->-r requirements.txt (line 7)) (0.3.3)\n",
            "Requirement already satisfied: google-pasta>=0.1.6 in /usr/local/lib/python3.6/dist-packages (from tensorflow-gpu==1.14.0->-r requirements.txt (line 7)) (0.2.0)\n",
            "Requirement already satisfied: termcolor>=1.1.0 in /usr/local/lib/python3.6/dist-packages (from tensorflow-gpu==1.14.0->-r requirements.txt (line 7)) (1.1.0)\n",
            "Requirement already satisfied: tensorboard<1.15.0,>=1.14.0 in /usr/local/lib/python3.6/dist-packages (from tensorflow-gpu==1.14.0->-r requirements.txt (line 7)) (1.14.0)\n",
            "Requirement already satisfied: wheel>=0.26 in /usr/local/lib/python3.6/dist-packages (from tensorflow-gpu==1.14.0->-r requirements.txt (line 7)) (0.34.2)\n",
            "Requirement already satisfied: keras-preprocessing>=1.0.5 in /usr/local/lib/python3.6/dist-packages (from tensorflow-gpu==1.14.0->-r requirements.txt (line 7)) (1.1.2)\n",
            "Requirement already satisfied: absl-py>=0.7.0 in /usr/local/lib/python3.6/dist-packages (from tensorflow-gpu==1.14.0->-r requirements.txt (line 7)) (0.9.0)\n",
            "Requirement already satisfied: wrapt>=1.11.1 in /usr/local/lib/python3.6/dist-packages (from tensorflow-gpu==1.14.0->-r requirements.txt (line 7)) (1.12.1)\n",
            "Requirement already satisfied: keras-applications>=1.0.6 in /usr/local/lib/python3.6/dist-packages (from tensorflow-gpu==1.14.0->-r requirements.txt (line 7)) (1.0.8)\n",
            "Requirement already satisfied: tensorflow-estimator<1.15.0rc0,>=1.14.0rc0 in /usr/local/lib/python3.6/dist-packages (from tensorflow-gpu==1.14.0->-r requirements.txt (line 7)) (1.14.0)\n",
            "Requirement already satisfied: joblib>=0.11 in /usr/local/lib/python3.6/dist-packages (from scikit-learn->-r requirements.txt (line 8)) (0.16.0)\n",
            "Requirement already satisfied: django in /usr/local/lib/python3.6/dist-packages (from image->-r requirements.txt (line 9)) (3.0.8)\n",
            "Requirement already satisfied: pillow in /usr/local/lib/python3.6/dist-packages (from image->-r requirements.txt (line 9)) (7.0.0)\n",
            "Requirement already satisfied: pickleshare in /usr/local/lib/python3.6/dist-packages (from ipython->-r requirements.txt (line 10)) (0.7.5)\n",
            "Requirement already satisfied: pygments in /usr/local/lib/python3.6/dist-packages (from ipython->-r requirements.txt (line 10)) (2.1.3)\n",
            "Requirement already satisfied: traitlets>=4.2 in /usr/local/lib/python3.6/dist-packages (from ipython->-r requirements.txt (line 10)) (4.3.3)\n",
            "Requirement already satisfied: decorator in /usr/local/lib/python3.6/dist-packages (from ipython->-r requirements.txt (line 10)) (4.4.2)\n",
            "Requirement already satisfied: setuptools>=18.5 in /usr/local/lib/python3.6/dist-packages (from ipython->-r requirements.txt (line 10)) (49.1.0)\n",
            "Requirement already satisfied: pexpect; sys_platform != \"win32\" in /usr/local/lib/python3.6/dist-packages (from ipython->-r requirements.txt (line 10)) (4.8.0)\n",
            "Requirement already satisfied: simplegeneric>0.8 in /usr/local/lib/python3.6/dist-packages (from ipython->-r requirements.txt (line 10)) (0.8.1)\n",
            "Requirement already satisfied: prompt-toolkit<2.0.0,>=1.0.4 in /usr/local/lib/python3.6/dist-packages (from ipython->-r requirements.txt (line 10)) (1.0.18)\n",
            "Requirement already satisfied: pyparsing!=2.0.4,!=2.1.2,!=2.1.6,>=2.0.1 in /usr/local/lib/python3.6/dist-packages (from matplotlib->-r requirements.txt (line 11)) (2.4.7)\n",
            "Requirement already satisfied: cycler>=0.10 in /usr/local/lib/python3.6/dist-packages (from matplotlib->-r requirements.txt (line 11)) (0.10.0)\n",
            "Requirement already satisfied: kiwisolver>=1.0.1 in /usr/local/lib/python3.6/dist-packages (from matplotlib->-r requirements.txt (line 11)) (1.2.0)\n",
            "Requirement already satisfied: python-dateutil>=2.1 in /usr/local/lib/python3.6/dist-packages (from matplotlib->-r requirements.txt (line 11)) (2.8.1)\n",
            "Requirement already satisfied: freetype-py in /usr/local/lib/python3.6/dist-packages (from pyrender->-r requirements.txt (line 13)) (2.2.0)\n",
            "Requirement already satisfied: networkx in /usr/local/lib/python3.6/dist-packages (from pyrender->-r requirements.txt (line 13)) (2.4)\n",
            "Requirement already satisfied: PyOpenGL==3.1.0 in /usr/local/lib/python3.6/dist-packages (from pyrender->-r requirements.txt (line 13)) (3.1.0)\n",
            "Requirement already satisfied: pyglet>=1.4.10 in /usr/local/lib/python3.6/dist-packages (from pyrender->-r requirements.txt (line 13)) (1.5.0)\n",
            "Requirement already satisfied: imageio in /usr/local/lib/python3.6/dist-packages (from pyrender->-r requirements.txt (line 13)) (2.4.1)\n",
            "Requirement already satisfied: llvmlite<0.32.0,>=0.31.0dev0 in /usr/local/lib/python3.6/dist-packages (from numba>=0.32->resampy->-r requirements.txt (line 5)) (0.31.0)\n",
            "Requirement already satisfied: werkzeug>=0.11.15 in /usr/local/lib/python3.6/dist-packages (from tensorboard<1.15.0,>=1.14.0->tensorflow-gpu==1.14.0->-r requirements.txt (line 7)) (1.0.1)\n",
            "Requirement already satisfied: markdown>=2.6.8 in /usr/local/lib/python3.6/dist-packages (from tensorboard<1.15.0,>=1.14.0->tensorflow-gpu==1.14.0->-r requirements.txt (line 7)) (3.2.2)\n",
            "Requirement already satisfied: h5py in /usr/local/lib/python3.6/dist-packages (from keras-applications>=1.0.6->tensorflow-gpu==1.14.0->-r requirements.txt (line 7)) (2.10.0)\n",
            "Requirement already satisfied: sqlparse>=0.2.2 in /usr/local/lib/python3.6/dist-packages (from django->image->-r requirements.txt (line 9)) (0.3.1)\n",
            "Requirement already satisfied: asgiref~=3.2 in /usr/local/lib/python3.6/dist-packages (from django->image->-r requirements.txt (line 9)) (3.2.10)\n",
            "Requirement already satisfied: pytz in /usr/local/lib/python3.6/dist-packages (from django->image->-r requirements.txt (line 9)) (2018.9)\n",
            "Requirement already satisfied: ipython-genutils in /usr/local/lib/python3.6/dist-packages (from traitlets>=4.2->ipython->-r requirements.txt (line 10)) (0.2.0)\n",
            "Requirement already satisfied: ptyprocess>=0.5 in /usr/local/lib/python3.6/dist-packages (from pexpect; sys_platform != \"win32\"->ipython->-r requirements.txt (line 10)) (0.6.0)\n",
            "Requirement already satisfied: wcwidth in /usr/local/lib/python3.6/dist-packages (from prompt-toolkit<2.0.0,>=1.0.4->ipython->-r requirements.txt (line 10)) (0.2.5)\n",
            "Requirement already satisfied: future in /usr/local/lib/python3.6/dist-packages (from pyglet>=1.4.10->pyrender->-r requirements.txt (line 13)) (0.16.0)\n",
            "Requirement already satisfied: importlib-metadata; python_version < \"3.8\" in /usr/local/lib/python3.6/dist-packages (from markdown>=2.6.8->tensorboard<1.15.0,>=1.14.0->tensorflow-gpu==1.14.0->-r requirements.txt (line 7)) (1.7.0)\n",
            "Requirement already satisfied: zipp>=0.5 in /usr/local/lib/python3.6/dist-packages (from importlib-metadata; python_version < \"3.8\"->markdown>=2.6.8->tensorboard<1.15.0,>=1.14.0->tensorflow-gpu==1.14.0->-r requirements.txt (line 7)) (3.1.0)\n",
            "Building wheels for collected packages: chumpy, python-speech-features\n",
            "  Building wheel for chumpy (setup.py) ... \u001b[?25l\u001b[?25hdone\n",
            "  Created wheel for chumpy: filename=chumpy-0.69-cp36-none-any.whl size=58290 sha256=90ee1da9bc2717ed0b7fa7151675ce9a9b0710476e3de2cad202771880ddeec6\n",
            "  Stored in directory: /root/.cache/pip/wheels/df/11/36/2758327d759bad62803f3f9190db1c063e52a0358cecd33e94\n",
            "  Building wheel for python-speech-features (setup.py) ... \u001b[?25l\u001b[?25hdone\n",
            "  Created wheel for python-speech-features: filename=python_speech_features-0.6-cp36-none-any.whl size=5887 sha256=ddecc7add9a7371897a21f5ce0eef9dfc9d7943d2d37fa9a9c86b84097bfe054\n",
            "  Stored in directory: /root/.cache/pip/wheels/3c/42/7c/f60e9d1b40015cd69b213ad90f7c18a9264cd745b9888134be\n",
            "Successfully built chumpy python-speech-features\n",
            "Installing collected packages: chumpy, python-speech-features, tensorflow-gpu\n",
            "Successfully installed chumpy-0.69 python-speech-features-0.6 tensorflow-gpu-1.14.0\n"
          ],
          "name": "stdout"
        }
      ]
    },
    {
      "cell_type": "code",
      "metadata": {
        "id": "J2ggBV3T807i",
        "colab_type": "code",
        "colab": {
          "base_uri": "https://localhost:8080/",
          "height": 1000
        },
        "outputId": "d9b9ef23-2b0b-4893-f9f8-dc52e4434a61"
      },
      "source": [
        "!git clone https://github.com/MPI-IS/mesh.git MESH\n",
        "%cd MESH\n",
        "!make all"
      ],
      "execution_count": 5,
      "outputs": [
        {
          "output_type": "stream",
          "text": [
            "Cloning into 'MESH'...\n",
            "remote: Enumerating objects: 92, done.\u001b[K\n",
            "remote: Counting objects:   1% (1/92)\u001b[K\rremote: Counting objects:   2% (2/92)\u001b[K\rremote: Counting objects:   3% (3/92)\u001b[K\rremote: Counting objects:   4% (4/92)\u001b[K\rremote: Counting objects:   5% (5/92)\u001b[K\rremote: Counting objects:   6% (6/92)\u001b[K\rremote: Counting objects:   7% (7/92)\u001b[K\rremote: Counting objects:   8% (8/92)\u001b[K\rremote: Counting objects:   9% (9/92)\u001b[K\rremote: Counting objects:  10% (10/92)\u001b[K\rremote: Counting objects:  11% (11/92)\u001b[K\rremote: Counting objects:  13% (12/92)\u001b[K\rremote: Counting objects:  14% (13/92)\u001b[K\rremote: Counting objects:  15% (14/92)\u001b[K\rremote: Counting objects:  16% (15/92)\u001b[K\rremote: Counting objects:  17% (16/92)\u001b[K\rremote: Counting objects:  18% (17/92)\u001b[K\rremote: Counting objects:  19% (18/92)\u001b[K\rremote: Counting objects:  20% (19/92)\u001b[K\rremote: Counting objects:  21% (20/92)\u001b[K\rremote: Counting objects:  22% (21/92)\u001b[K\rremote: Counting objects:  23% (22/92)\u001b[K\rremote: Counting objects:  25% (23/92)\u001b[K\rremote: Counting objects:  26% (24/92)\u001b[K\rremote: Counting objects:  27% (25/92)\u001b[K\rremote: Counting objects:  28% (26/92)\u001b[K\rremote: Counting objects:  29% (27/92)\u001b[K\rremote: Counting objects:  30% (28/92)\u001b[K\rremote: Counting objects:  31% (29/92)\u001b[K\rremote: Counting objects:  32% (30/92)\u001b[K\rremote: Counting objects:  33% (31/92)\u001b[K\rremote: Counting objects:  34% (32/92)\u001b[K\rremote: Counting objects:  35% (33/92)\u001b[K\rremote: Counting objects:  36% (34/92)\u001b[K\rremote: Counting objects:  38% (35/92)\u001b[K\rremote: Counting objects:  39% (36/92)\u001b[K\rremote: Counting objects:  40% (37/92)\u001b[K\rremote: Counting objects:  41% (38/92)\u001b[K\rremote: Counting objects:  42% (39/92)\u001b[K\rremote: Counting objects:  43% (40/92)\u001b[K\rremote: Counting objects:  44% (41/92)\u001b[K\rremote: Counting objects:  45% (42/92)\u001b[K\rremote: Counting objects:  46% (43/92)\u001b[K\rremote: Counting objects:  47% (44/92)\u001b[K\rremote: Counting objects:  48% (45/92)\u001b[K\rremote: Counting objects:  50% (46/92)\u001b[K\rremote: Counting objects:  51% (47/92)\u001b[K\rremote: Counting objects:  52% (48/92)\u001b[K\rremote: Counting objects:  53% (49/92)\u001b[K\rremote: Counting objects:  54% (50/92)\u001b[K\rremote: Counting objects:  55% (51/92)\u001b[K\rremote: Counting objects:  56% (52/92)\u001b[K\rremote: Counting objects:  57% (53/92)\u001b[K\rremote: Counting objects:  58% (54/92)\u001b[K\rremote: Counting objects:  59% (55/92)\u001b[K\rremote: Counting objects:  60% (56/92)\u001b[K\rremote: Counting objects:  61% (57/92)\u001b[K\rremote: Counting objects:  63% (58/92)\u001b[K\rremote: Counting objects:  64% (59/92)\u001b[K\rremote: Counting objects:  65% (60/92)\u001b[K\rremote: Counting objects:  66% (61/92)\u001b[K\rremote: Counting objects:  67% (62/92)\u001b[K\rremote: Counting objects:  68% (63/92)\u001b[K\rremote: Counting objects:  69% (64/92)\u001b[K\rremote: Counting objects:  70% (65/92)\u001b[K\rremote: Counting objects:  71% (66/92)\u001b[K\rremote: Counting objects:  72% (67/92)\u001b[K\rremote: Counting objects:  73% (68/92)\u001b[K\rremote: Counting objects:  75% (69/92)\u001b[K\rremote: Counting objects:  76% (70/92)\u001b[K\rremote: Counting objects:  77% (71/92)\u001b[K\rremote: Counting objects:  78% (72/92)\u001b[K\rremote: Counting objects:  79% (73/92)\u001b[K\rremote: Counting objects:  80% (74/92)\u001b[K\rremote: Counting objects:  81% (75/92)\u001b[K\rremote: Counting objects:  82% (76/92)\u001b[K\rremote: Counting objects:  83% (77/92)\u001b[K\rremote: Counting objects:  84% (78/92)\u001b[K\rremote: Counting objects:  85% (79/92)\u001b[K\rremote: Counting objects:  86% (80/92)\u001b[K\rremote: Counting objects:  88% (81/92)\u001b[K\rremote: Counting objects:  89% (82/92)\u001b[K\rremote: Counting objects:  90% (83/92)\u001b[K\rremote: Counting objects:  91% (84/92)\u001b[K\rremote: Counting objects:  92% (85/92)\u001b[K\rremote: Counting objects:  93% (86/92)\u001b[K\rremote: Counting objects:  94% (87/92)\u001b[K\rremote: Counting objects:  95% (88/92)\u001b[K\rremote: Counting objects:  96% (89/92)\u001b[K\rremote: Counting objects:  97% (90/92)\u001b[K\rremote: Counting objects:  98% (91/92)\u001b[K\rremote: Counting objects: 100% (92/92)\u001b[K\rremote: Counting objects: 100% (92/92), done.\u001b[K\n",
            "remote: Compressing objects: 100% (61/61), done.\u001b[K\n",
            "remote: Total 307 (delta 47), reused 57 (delta 30), pack-reused 215\u001b[K\n",
            "Receiving objects: 100% (307/307), 19.72 MiB | 14.67 MiB/s, done.\n",
            "Resolving deltas: 100% (140/140), done.\n",
            "/content/VOCAani/MESH\n",
            "\u001b[0;36m----- [ mesh_package ] Installing with the interpreter /usr/local/bin/python (version 3.6.9)\u001b[0m\n",
            "Collecting setuptools\n",
            "\u001b[?25l  Downloading https://files.pythonhosted.org/packages/8e/11/9e10f1cad4518cb307b484c255cae61e97f05b82f6d536932b1714e01b47/setuptools-49.2.0-py3-none-any.whl (789kB)\n",
            "\u001b[K     |████████████████████████████████| 798kB 9.9MB/s \n",
            "\u001b[?25hCollecting numpy\n",
            "\u001b[?25l  Downloading https://files.pythonhosted.org/packages/b1/9a/7d474ba0860a41f771c9523d8c4ea56b084840b5ca4092d96bdee8a3b684/numpy-1.19.1-cp36-cp36m-manylinux2010_x86_64.whl (14.5MB)\n",
            "\u001b[K     |████████████████████████████████| 14.5MB 239kB/s \n",
            "\u001b[?25hCollecting matplotlib\n",
            "\u001b[?25l  Downloading https://files.pythonhosted.org/packages/93/ae/81b1c98ae97350711adb021ee12ea678b37f608ec2faa35c3a7db11795fa/matplotlib-3.3.0-1-cp36-cp36m-manylinux1_x86_64.whl (11.5MB)\n",
            "\u001b[K     |████████████████████████████████| 11.5MB 264kB/s \n",
            "\u001b[?25hCollecting scipy\n",
            "\u001b[?25l  Downloading https://files.pythonhosted.org/packages/2b/a8/f4c66eb529bb252d50e83dbf2909c6502e2f857550f22571ed8556f62d95/scipy-1.5.2-cp36-cp36m-manylinux1_x86_64.whl (25.9MB)\n",
            "\u001b[K     |████████████████████████████████| 25.9MB 100kB/s \n",
            "\u001b[?25hRequirement already up-to-date: pyopengl in /usr/local/lib/python3.6/dist-packages (from -r requirements.txt (line 5)) (3.1.5)\n",
            "Collecting pillow\n",
            "\u001b[?25l  Downloading https://files.pythonhosted.org/packages/30/bf/92385b4262178ca22b34f82e0e09c2922eb351fe39f3cc7b8ba9ea555b41/Pillow-7.2.0-cp36-cp36m-manylinux1_x86_64.whl (2.2MB)\n",
            "\u001b[K     |████████████████████████████████| 2.2MB 49.4MB/s \n",
            "\u001b[?25hRequirement already up-to-date: pyzmq in /usr/local/lib/python3.6/dist-packages (from -r requirements.txt (line 7)) (19.0.1)\n",
            "Collecting pyyaml\n",
            "\u001b[?25l  Downloading https://files.pythonhosted.org/packages/64/c2/b80047c7ac2478f9501676c988a5411ed5572f35d1beff9cae07d321512c/PyYAML-5.3.1.tar.gz (269kB)\n",
            "\u001b[K     |████████████████████████████████| 276kB 53.6MB/s \n",
            "\u001b[?25hCollecting opencv-python\n",
            "\u001b[?25l  Downloading https://files.pythonhosted.org/packages/30/5f/fb53ff33b16add066e902c6579330cfb34cd908d7fac13ec36da1e1cf26f/opencv_python-4.3.0.36-cp36-cp36m-manylinux2014_x86_64.whl (43.7MB)\n",
            "\u001b[K     |████████████████████████████████| 43.7MB 69kB/s \n",
            "\u001b[?25hRequirement already satisfied, skipping upgrade: cycler>=0.10 in /usr/local/lib/python3.6/dist-packages (from matplotlib->-r requirements.txt (line 3)) (0.10.0)\n",
            "Requirement already satisfied, skipping upgrade: kiwisolver>=1.0.1 in /usr/local/lib/python3.6/dist-packages (from matplotlib->-r requirements.txt (line 3)) (1.2.0)\n",
            "Requirement already satisfied, skipping upgrade: pyparsing!=2.0.4,!=2.1.2,!=2.1.6,>=2.0.3 in /usr/local/lib/python3.6/dist-packages (from matplotlib->-r requirements.txt (line 3)) (2.4.7)\n",
            "Requirement already satisfied, skipping upgrade: python-dateutil>=2.1 in /usr/local/lib/python3.6/dist-packages (from matplotlib->-r requirements.txt (line 3)) (2.8.1)\n",
            "Requirement already satisfied, skipping upgrade: six in /usr/local/lib/python3.6/dist-packages (from cycler>=0.10->matplotlib->-r requirements.txt (line 3)) (1.15.0)\n",
            "Building wheels for collected packages: pyyaml\n",
            "  Building wheel for pyyaml (setup.py) ... \u001b[?25l\u001b[?25hdone\n",
            "  Created wheel for pyyaml: filename=PyYAML-5.3.1-cp36-cp36m-linux_x86_64.whl size=44621 sha256=c11fe7d2a2c1813fb085d1f1402ef1678318ef1e37073961f3153cc89b1326db\n",
            "  Stored in directory: /root/.cache/pip/wheels/a7/c1/ea/cf5bd31012e735dc1dfea3131a2d5eae7978b251083d6247bd\n",
            "Successfully built pyyaml\n",
            "\u001b[31mERROR: datascience 0.10.6 has requirement folium==0.2.1, but you'll have folium 0.8.3 which is incompatible.\u001b[0m\n",
            "\u001b[31mERROR: albumentations 0.1.12 has requirement imgaug<0.2.7,>=0.2.5, but you'll have imgaug 0.2.9 which is incompatible.\u001b[0m\n",
            "Installing collected packages: setuptools, numpy, pillow, matplotlib, scipy, pyyaml, opencv-python\n",
            "  Found existing installation: setuptools 49.1.0\n",
            "    Uninstalling setuptools-49.1.0:\n",
            "      Successfully uninstalled setuptools-49.1.0\n",
            "  Found existing installation: numpy 1.18.5\n",
            "    Uninstalling numpy-1.18.5:\n",
            "      Successfully uninstalled numpy-1.18.5\n",
            "  Found existing installation: Pillow 7.0.0\n",
            "    Uninstalling Pillow-7.0.0:\n",
            "      Successfully uninstalled Pillow-7.0.0\n",
            "  Found existing installation: matplotlib 3.2.2\n",
            "    Uninstalling matplotlib-3.2.2:\n",
            "      Successfully uninstalled matplotlib-3.2.2\n",
            "  Found existing installation: scipy 1.4.1\n",
            "    Uninstalling scipy-1.4.1:\n",
            "      Successfully uninstalled scipy-1.4.1\n",
            "  Found existing installation: PyYAML 3.13\n",
            "    Uninstalling PyYAML-3.13:\n",
            "      Successfully uninstalled PyYAML-3.13\n",
            "  Found existing installation: opencv-python 4.1.2.30\n",
            "    Uninstalling opencv-python-4.1.2.30:\n",
            "      Successfully uninstalled opencv-python-4.1.2.30\n",
            "Successfully installed matplotlib-3.3.0 numpy-1.19.1 opencv-python-4.3.0.36 pillow-7.2.0 pyyaml-5.3.1 scipy-1.5.2 setuptools-49.2.0\n",
            "Package                  Version        \n",
            "------------------------ ---------------\n",
            "absl-py                  0.9.0          \n",
            "alabaster                0.7.12         \n",
            "albumentations           0.1.12         \n",
            "altair                   4.1.0          \n",
            "asgiref                  3.2.10         \n",
            "astor                    0.8.1          \n",
            "astropy                  4.0.1.post1    \n",
            "astunparse               1.6.3          \n",
            "atari-py                 0.2.6          \n",
            "atomicwrites             1.4.0          \n",
            "attrs                    19.3.0         \n",
            "audioread                2.1.8          \n",
            "autograd                 1.3            \n",
            "Babel                    2.8.0          \n",
            "backcall                 0.2.0          \n",
            "beautifulsoup4           4.6.3          \n",
            "bleach                   3.1.5          \n",
            "blis                     0.4.1          \n",
            "bokeh                    2.1.1          \n",
            "boto                     2.49.0         \n",
            "boto3                    1.14.24        \n",
            "botocore                 1.17.24        \n",
            "Bottleneck               1.3.2          \n",
            "branca                   0.4.1          \n",
            "bs4                      0.0.1          \n",
            "CacheControl             0.12.6         \n",
            "cachetools               4.1.1          \n",
            "catalogue                1.0.0          \n",
            "certifi                  2020.6.20      \n",
            "cffi                     1.14.0         \n",
            "chainer                  7.4.0          \n",
            "chardet                  3.0.4          \n",
            "click                    7.1.2          \n",
            "cloudpickle              1.3.0          \n",
            "cmake                    3.12.0         \n",
            "cmdstanpy                0.4.0          \n",
            "colorlover               0.3.0          \n",
            "community                1.0.0b1        \n",
            "contextlib2              0.5.5          \n",
            "convertdate              2.2.1          \n",
            "coverage                 3.7.1          \n",
            "coveralls                0.5            \n",
            "crcmod                   1.7            \n",
            "cufflinks                0.17.3         \n",
            "cupy-cuda101             7.4.0          \n",
            "cvxopt                   1.2.5          \n",
            "cvxpy                    1.0.31         \n",
            "cycler                   0.10.0         \n",
            "cymem                    2.0.3          \n",
            "Cython                   0.29.21        \n",
            "daft                     0.0.4          \n",
            "dask                     2.12.0         \n",
            "dataclasses              0.7            \n",
            "datascience              0.10.6         \n",
            "decorator                4.4.2          \n",
            "defusedxml               0.6.0          \n",
            "descartes                1.1.0          \n",
            "dill                     0.3.2          \n",
            "distributed              1.25.3         \n",
            "Django                   3.0.8          \n",
            "dlib                     19.18.0        \n",
            "docopt                   0.6.2          \n",
            "docutils                 0.15.2         \n",
            "dopamine-rl              1.0.5          \n",
            "earthengine-api          0.1.227        \n",
            "easydict                 1.9            \n",
            "ecos                     2.0.7.post1    \n",
            "editdistance             0.5.3          \n",
            "en-core-web-sm           2.2.5          \n",
            "entrypoints              0.3            \n",
            "ephem                    3.7.7.1        \n",
            "et-xmlfile               1.0.1          \n",
            "fa2                      0.3.5          \n",
            "fancyimpute              0.4.3          \n",
            "fastai                   1.0.61         \n",
            "fastdtw                  0.3.4          \n",
            "fastprogress             0.2.3          \n",
            "fastrlock                0.5            \n",
            "fbprophet                0.6            \n",
            "feather-format           0.4.1          \n",
            "featuretools             0.4.1          \n",
            "filelock                 3.0.12         \n",
            "firebase-admin           4.1.0          \n",
            "fix-yahoo-finance        0.0.22         \n",
            "Flask                    1.1.2          \n",
            "folium                   0.8.3          \n",
            "fsspec                   0.7.4          \n",
            "future                   0.16.0         \n",
            "gast                     0.3.3          \n",
            "GDAL                     2.2.2          \n",
            "gdown                    3.6.4          \n",
            "gensim                   3.6.0          \n",
            "geographiclib            1.50           \n",
            "geopy                    1.17.0         \n",
            "gin-config               0.3.0          \n",
            "glob2                    0.7            \n",
            "google                   2.0.3          \n",
            "google-api-core          1.16.0         \n",
            "google-api-python-client 1.7.12         \n",
            "google-auth              1.17.2         \n",
            "google-auth-httplib2     0.0.4          \n",
            "google-auth-oauthlib     0.4.1          \n",
            "google-cloud-bigquery    1.21.0         \n",
            "google-cloud-core        1.0.3          \n",
            "google-cloud-datastore   1.8.0          \n",
            "google-cloud-firestore   1.7.0          \n",
            "google-cloud-language    1.2.0          \n",
            "google-cloud-storage     1.18.1         \n",
            "google-cloud-translate   1.5.0          \n",
            "google-colab             1.0.0          \n",
            "google-pasta             0.2.0          \n",
            "google-resumable-media   0.4.1          \n",
            "googleapis-common-protos 1.52.0         \n",
            "googledrivedownloader    0.4            \n",
            "graphviz                 0.10.1         \n",
            "grpcio                   1.30.0         \n",
            "gspread                  3.0.1          \n",
            "gspread-dataframe        3.0.7          \n",
            "gym                      0.17.2         \n",
            "h5py                     2.10.0         \n",
            "HeapDict                 1.0.1          \n",
            "holidays                 0.9.12         \n",
            "holoviews                1.13.3         \n",
            "html5lib                 1.0.1          \n",
            "httpimport               0.5.18         \n",
            "httplib2                 0.17.4         \n",
            "httplib2shim             0.0.3          \n",
            "humanize                 0.5.1          \n",
            "hyperopt                 0.1.2          \n",
            "ideep4py                 2.0.0.post3    \n",
            "idna                     2.10           \n",
            "image                    1.5.32         \n",
            "imageio                  2.4.1          \n",
            "imagesize                1.2.0          \n",
            "imbalanced-learn         0.4.3          \n",
            "imblearn                 0.0            \n",
            "imgaug                   0.2.9          \n",
            "importlib-metadata       1.7.0          \n",
            "imutils                  0.5.3          \n",
            "inflect                  2.1.0          \n",
            "intel-openmp             2020.0.133     \n",
            "intervaltree             2.1.0          \n",
            "ipykernel                4.10.1         \n",
            "ipython                  5.5.0          \n",
            "ipython-genutils         0.2.0          \n",
            "ipython-sql              0.3.9          \n",
            "ipywidgets               7.5.1          \n",
            "itsdangerous             1.1.0          \n",
            "jax                      0.1.72         \n",
            "jaxlib                   0.1.51         \n",
            "jdcal                    1.4.1          \n",
            "jedi                     0.17.2         \n",
            "jieba                    0.42.1         \n",
            "Jinja2                   2.11.2         \n",
            "jmespath                 0.10.0         \n",
            "joblib                   0.16.0         \n",
            "jpeg4py                  0.1.4          \n",
            "jsonschema               2.6.0          \n",
            "jupyter                  1.0.0          \n",
            "jupyter-client           5.3.5          \n",
            "jupyter-console          5.2.0          \n",
            "jupyter-core             4.6.3          \n",
            "kaggle                   1.5.6          \n",
            "kapre                    0.1.3.1        \n",
            "Keras                    2.3.1          \n",
            "Keras-Applications       1.0.8          \n",
            "Keras-Preprocessing      1.1.2          \n",
            "keras-vis                0.4.1          \n",
            "kiwisolver               1.2.0          \n",
            "knnimpute                0.1.0          \n",
            "librosa                  0.6.3          \n",
            "lightgbm                 2.2.3          \n",
            "llvmlite                 0.31.0         \n",
            "lmdb                     0.98           \n",
            "lucid                    0.3.8          \n",
            "LunarCalendar            0.0.9          \n",
            "lxml                     4.2.6          \n",
            "Markdown                 3.2.2          \n",
            "MarkupSafe               1.1.1          \n",
            "matplotlib               3.3.0          \n",
            "matplotlib-venn          0.11.5         \n",
            "missingno                0.4.2          \n",
            "mistune                  0.8.4          \n",
            "mizani                   0.6.0          \n",
            "mkl                      2019.0         \n",
            "mlxtend                  0.14.0         \n",
            "more-itertools           8.4.0          \n",
            "moviepy                  0.2.3.5        \n",
            "mpmath                   1.1.0          \n",
            "msgpack                  1.0.0          \n",
            "multiprocess             0.70.10        \n",
            "multitasking             0.0.9          \n",
            "murmurhash               1.0.2          \n",
            "music21                  5.5.0          \n",
            "natsort                  5.5.0          \n",
            "nbconvert                5.6.1          \n",
            "nbformat                 5.0.7          \n",
            "networkx                 2.4            \n",
            "nibabel                  3.0.2          \n",
            "nltk                     3.2.5          \n",
            "notebook                 5.3.1          \n",
            "np-utils                 0.5.12.1       \n",
            "numba                    0.48.0         \n",
            "numexpr                  2.7.1          \n",
            "numpy                    1.19.1         \n",
            "nvidia-ml-py3            7.352.0        \n",
            "oauth2client             4.1.3          \n",
            "oauthlib                 3.1.0          \n",
            "okgrade                  0.4.3          \n",
            "opencv-contrib-python    4.1.2.30       \n",
            "opencv-python            4.3.0.36       \n",
            "openpyxl                 2.5.9          \n",
            "opt-einsum               3.3.0          \n",
            "osqp                     0.6.1          \n",
            "packaging                20.4           \n",
            "palettable               3.3.0          \n",
            "pandas                   1.0.5          \n",
            "pandas-datareader        0.8.1          \n",
            "pandas-gbq               0.11.0         \n",
            "pandas-profiling         1.4.1          \n",
            "pandocfilters            1.4.2          \n",
            "panel                    0.9.7          \n",
            "param                    1.9.3          \n",
            "parso                    0.7.0          \n",
            "pathlib                  1.0.1          \n",
            "patsy                    0.5.1          \n",
            "pexpect                  4.8.0          \n",
            "pickleshare              0.7.5          \n",
            "Pillow                   7.2.0          \n",
            "pip                      19.3.1         \n",
            "pip-tools                4.5.1          \n",
            "plac                     1.1.3          \n",
            "plotly                   4.4.1          \n",
            "plotnine                 0.6.0          \n",
            "pluggy                   0.7.1          \n",
            "portpicker               1.3.1          \n",
            "prefetch-generator       1.0.1          \n",
            "preshed                  3.0.2          \n",
            "prettytable              0.7.2          \n",
            "progressbar2             3.38.0         \n",
            "prometheus-client        0.8.0          \n",
            "promise                  2.3            \n",
            "prompt-toolkit           1.0.18         \n",
            "protobuf                 3.12.2         \n",
            "psutil                   5.4.8          \n",
            "psycopg2                 2.7.6.1        \n",
            "ptyprocess               0.6.0          \n",
            "py                       1.9.0          \n",
            "pyarrow                  0.14.1         \n",
            "pyasn1                   0.4.8          \n",
            "pyasn1-modules           0.2.8          \n",
            "pycocotools              2.0.1          \n",
            "pycparser                2.20           \n",
            "pyct                     0.4.6          \n",
            "pydata-google-auth       1.1.0          \n",
            "pydot                    1.3.0          \n",
            "pydot-ng                 2.0.0          \n",
            "pydotplus                2.0.2          \n",
            "PyDrive                  1.3.1          \n",
            "pyemd                    0.5.1          \n",
            "pyglet                   1.5.0          \n",
            "Pygments                 2.1.3          \n",
            "pygobject                3.26.1         \n",
            "pymc3                    3.7            \n",
            "PyMeeus                  0.3.7          \n",
            "pymongo                  3.10.1         \n",
            "pymystem3                0.2.0          \n",
            "PyOpenGL                 3.1.5          \n",
            "pyparsing                2.4.7          \n",
            "pyrsistent               0.16.0         \n",
            "pysndfile                1.3.8          \n",
            "PySocks                  1.7.1          \n",
            "pystan                   2.19.1.1       \n",
            "pytest                   3.6.4          \n",
            "python-apt               1.6.5+ubuntu0.3\n",
            "python-chess             0.23.11        \n",
            "python-dateutil          2.8.1          \n",
            "python-louvain           0.14           \n",
            "python-slugify           4.0.1          \n",
            "python-utils             2.4.0          \n",
            "pytz                     2018.9         \n",
            "pyviz-comms              0.7.6          \n",
            "PyWavelets               1.1.1          \n",
            "PyYAML                   5.3.1          \n",
            "pyzmq                    19.0.1         \n",
            "qtconsole                4.7.5          \n",
            "QtPy                     1.9.0          \n",
            "regex                    2019.12.20     \n",
            "requests                 2.23.0         \n",
            "requests-oauthlib        1.3.0          \n",
            "resampy                  0.2.2          \n",
            "retrying                 1.3.3          \n",
            "rpy2                     3.2.7          \n",
            "rsa                      4.6            \n",
            "s3fs                     0.4.2          \n",
            "s3transfer               0.3.3          \n",
            "scikit-image             0.16.2         \n",
            "scikit-learn             0.22.2.post1   \n",
            "scipy                    1.5.2          \n",
            "screen-resolution-extra  0.0.0          \n",
            "scs                      2.1.2          \n",
            "seaborn                  0.10.1         \n",
            "Send2Trash               1.5.0          \n",
            "setuptools               49.2.0         \n",
            "setuptools-git           1.2            \n",
            "Shapely                  1.7.0          \n",
            "simplegeneric            0.8.1          \n",
            "six                      1.15.0         \n",
            "sklearn                  0.0            \n",
            "sklearn-pandas           1.8.0          \n",
            "smart-open               2.1.0          \n",
            "snowballstemmer          2.0.0          \n",
            "sortedcontainers         2.2.2          \n",
            "spacy                    2.2.4          \n",
            "Sphinx                   1.8.5          \n",
            "sphinxcontrib-websupport 1.2.3          \n",
            "SQLAlchemy               1.3.18         \n",
            "sqlparse                 0.3.1          \n",
            "srsly                    1.0.2          \n",
            "statsmodels              0.10.2         \n",
            "sympy                    1.1.1          \n",
            "tables                   3.4.4          \n",
            "tabulate                 0.8.7          \n",
            "tblib                    1.6.0          \n",
            "tensorboard              1.14.0         \n",
            "tensorboard-plugin-wit   1.7.0          \n",
            "tensorboardcolab         0.0.22         \n",
            "tensorflow               1.14.0         \n",
            "tensorflow-addons        0.8.3          \n",
            "tensorflow-datasets      2.1.0          \n",
            "tensorflow-estimator     1.14.0         \n",
            "tensorflow-gcs-config    2.2.0          \n",
            "tensorflow-hub           0.8.0          \n",
            "tensorflow-metadata      0.22.2         \n",
            "tensorflow-privacy       0.2.2          \n",
            "tensorflow-probability   0.10.0         \n",
            "termcolor                1.1.0          \n",
            "terminado                0.8.3          \n",
            "testpath                 0.4.4          \n",
            "text-unidecode           1.3            \n",
            "textblob                 0.15.3         \n",
            "textgenrnn               1.4.1          \n",
            "Theano                   1.0.4          \n",
            "thinc                    7.4.0          \n",
            "tifffile                 2020.7.17      \n",
            "toolz                    0.10.0         \n",
            "torch                    1.5.1+cu101    \n",
            "torchsummary             1.5.1          \n",
            "torchtext                0.3.1          \n",
            "torchvision              0.6.1+cu101    \n",
            "tornado                  5.1.1          \n",
            "tqdm                     4.41.1         \n",
            "traitlets                4.3.3          \n",
            "tweepy                   3.6.0          \n",
            "typeguard                2.7.1          \n",
            "typing-extensions        3.7.4.2        \n",
            "tzlocal                  1.5.1          \n",
            "umap-learn               0.4.6          \n",
            "uritemplate              3.0.1          \n",
            "urllib3                  1.24.3         \n",
            "vega-datasets            0.8.0          \n",
            "wasabi                   0.7.1          \n",
            "wcwidth                  0.2.5          \n",
            "webencodings             0.5.1          \n",
            "Werkzeug                 1.0.1          \n",
            "wheel                    0.34.2         \n",
            "widgetsnbextension       3.5.1          \n",
            "wordcloud                1.5.0          \n",
            "wrapt                    1.12.1         \n",
            "xarray                   0.15.1         \n",
            "xgboost                  0.90           \n",
            "xkit                     0.0.0          \n",
            "xlrd                     1.1.0          \n",
            "xlwt                     1.3.0          \n",
            "yellowbrick              0.9.1          \n",
            "zict                     2.0.0          \n",
            "zipp                     3.1.0          \n",
            "/usr/local/lib/python3.6/dist-packages/pip/_internal/commands/install.py:283: UserWarning: Disabling all use of wheels due to the use of --build-options / --global-options / --install-options.\n",
            "  cmdoptions.check_install_build_global(options)\n",
            "Created temporary directory: /tmp/pip-ephem-wheel-cache-0w_danta\n",
            "Created temporary directory: /tmp/pip-req-tracker-nzneq9w5\n",
            "Created requirements tracker '/tmp/pip-req-tracker-nzneq9w5'\n",
            "Created temporary directory: /tmp/pip-install-smgollz4\n",
            "Processing /content/VOCAani/MESH\n",
            "  Created temporary directory: /tmp/pip-req-build-jclgy3ch\n",
            "  Added file:///content/VOCAani/MESH to build tracker '/tmp/pip-req-tracker-nzneq9w5'\n",
            "    Running setup.py (path:/tmp/pip-req-build-jclgy3ch/setup.py) egg_info for package from file:///content/VOCAani/MESH\n",
            "    Running command python setup.py egg_info\n",
            "    [VERSION] read version is 0.4\n",
            "    running egg_info\n",
            "    creating /tmp/pip-req-build-jclgy3ch/pip-egg-info/psbody_mesh.egg-info\n",
            "    writing /tmp/pip-req-build-jclgy3ch/pip-egg-info/psbody_mesh.egg-info/PKG-INFO\n",
            "    writing dependency_links to /tmp/pip-req-build-jclgy3ch/pip-egg-info/psbody_mesh.egg-info/dependency_links.txt\n",
            "    writing namespace_packages to /tmp/pip-req-build-jclgy3ch/pip-egg-info/psbody_mesh.egg-info/namespace_packages.txt\n",
            "    writing requirements to /tmp/pip-req-build-jclgy3ch/pip-egg-info/psbody_mesh.egg-info/requires.txt\n",
            "    writing top-level names to /tmp/pip-req-build-jclgy3ch/pip-egg-info/psbody_mesh.egg-info/top_level.txt\n",
            "    writing manifest file '/tmp/pip-req-build-jclgy3ch/pip-egg-info/psbody_mesh.egg-info/SOURCES.txt'\n",
            "    reading manifest template 'MANIFEST.in'\n",
            "    writing manifest file '/tmp/pip-req-build-jclgy3ch/pip-egg-info/psbody_mesh.egg-info/SOURCES.txt'\n",
            "  Source in /tmp/pip-req-build-jclgy3ch has version 0.4, which satisfies requirement psbody-mesh==0.4 from file:///content/VOCAani/MESH\n",
            "  Removed psbody-mesh==0.4 from file:///content/VOCAani/MESH from build tracker '/tmp/pip-req-tracker-nzneq9w5'\n",
            "Skipping wheel build for psbody-mesh, due to binaries being disabled for it.\n",
            "Installing collected packages: psbody-mesh\n",
            "  Created temporary directory: /tmp/pip-record-7plk3irg\n",
            "    Running command /usr/bin/python3 -u -c 'import sys, setuptools, tokenize; sys.argv[0] = '\"'\"'/tmp/pip-req-build-jclgy3ch/setup.py'\"'\"'; __file__='\"'\"'/tmp/pip-req-build-jclgy3ch/setup.py'\"'\"';f=getattr(tokenize, '\"'\"'open'\"'\"', open)(__file__);code=f.read().replace('\"'\"'\\r\\n'\"'\"', '\"'\"'\\n'\"'\"');f.close();exec(compile(code, __file__, '\"'\"'exec'\"'\"'))' install --record /tmp/pip-record-7plk3irg/install-record.txt --single-version-externally-managed --compile --boost-location=\n",
            "    [VERSION] read version is 0.4\n",
            "    running install\n",
            "    running build\n",
            "    running build_py\n",
            "    creating build\n",
            "    creating build/lib.linux-x86_64-3.6\n",
            "    creating build/lib.linux-x86_64-3.6/psbody\n",
            "    copying psbody-mesh-namespace/__init__.py -> build/lib.linux-x86_64-3.6/psbody\n",
            "    creating build/lib.linux-x86_64-3.6/psbody/mesh\n",
            "    copying mesh/search.py -> build/lib.linux-x86_64-3.6/psbody/mesh\n",
            "    copying mesh/mesh.py -> build/lib.linux-x86_64-3.6/psbody/mesh\n",
            "    copying mesh/__init__.py -> build/lib.linux-x86_64-3.6/psbody/mesh\n",
            "    copying mesh/sphere.py -> build/lib.linux-x86_64-3.6/psbody/mesh\n",
            "    copying mesh/version.py -> build/lib.linux-x86_64-3.6/psbody/mesh\n",
            "    copying mesh/utils.py -> build/lib.linux-x86_64-3.6/psbody/mesh\n",
            "    copying mesh/meshviewer.py -> build/lib.linux-x86_64-3.6/psbody/mesh\n",
            "    copying mesh/errors.py -> build/lib.linux-x86_64-3.6/psbody/mesh\n",
            "    copying mesh/landmarks.py -> build/lib.linux-x86_64-3.6/psbody/mesh\n",
            "    copying mesh/colors.py -> build/lib.linux-x86_64-3.6/psbody/mesh\n",
            "    copying mesh/texture.py -> build/lib.linux-x86_64-3.6/psbody/mesh\n",
            "    copying mesh/lines.py -> build/lib.linux-x86_64-3.6/psbody/mesh\n",
            "    copying mesh/processing.py -> build/lib.linux-x86_64-3.6/psbody/mesh\n",
            "    copying mesh/arcball.py -> build/lib.linux-x86_64-3.6/psbody/mesh\n",
            "    copying mesh/fonts.py -> build/lib.linux-x86_64-3.6/psbody/mesh\n",
            "    creating build/lib.linux-x86_64-3.6/psbody/mesh/topology\n",
            "    copying mesh/topology/subdivision.py -> build/lib.linux-x86_64-3.6/psbody/mesh/topology\n",
            "    copying mesh/topology/__init__.py -> build/lib.linux-x86_64-3.6/psbody/mesh/topology\n",
            "    copying mesh/topology/decimation.py -> build/lib.linux-x86_64-3.6/psbody/mesh/topology\n",
            "    copying mesh/topology/linear_mesh_transform.py -> build/lib.linux-x86_64-3.6/psbody/mesh/topology\n",
            "    copying mesh/topology/connectivity.py -> build/lib.linux-x86_64-3.6/psbody/mesh/topology\n",
            "    creating build/lib.linux-x86_64-3.6/psbody/mesh/geometry\n",
            "    copying mesh/geometry/rodrigues.py -> build/lib.linux-x86_64-3.6/psbody/mesh/geometry\n",
            "    copying mesh/geometry/__init__.py -> build/lib.linux-x86_64-3.6/psbody/mesh/geometry\n",
            "    copying mesh/geometry/cross_product.py -> build/lib.linux-x86_64-3.6/psbody/mesh/geometry\n",
            "    copying mesh/geometry/barycentric_coordinates_of_projection.py -> build/lib.linux-x86_64-3.6/psbody/mesh/geometry\n",
            "    copying mesh/geometry/tri_normals.py -> build/lib.linux-x86_64-3.6/psbody/mesh/geometry\n",
            "    copying mesh/geometry/triangle_area.py -> build/lib.linux-x86_64-3.6/psbody/mesh/geometry\n",
            "    copying mesh/geometry/vert_normals.py -> build/lib.linux-x86_64-3.6/psbody/mesh/geometry\n",
            "    creating build/lib.linux-x86_64-3.6/psbody/mesh/serialization\n",
            "    copying mesh/serialization/__init__.py -> build/lib.linux-x86_64-3.6/psbody/mesh/serialization\n",
            "    copying mesh/serialization/serialization.py -> build/lib.linux-x86_64-3.6/psbody/mesh/serialization\n",
            "    running build_ext\n",
            "    [CGAL] deflating cgal from \"mesh/thirdparty/CGAL-4.7.tar.gz\" to \"/tmp/pip-req-build-jclgy3ch/build/temp.linux-x86_64-3.6\"\n",
            "    building 'psbody.mesh.aabb_normals' extension\n",
            "    creating build/temp.linux-x86_64-3.6/mesh\n",
            "    creating build/temp.linux-x86_64-3.6/mesh/src\n",
            "    x86_64-linux-gnu-gcc -pthread -DNDEBUG -g -fwrapv -O2 -Wall -g -fstack-protector-strong -Wformat -Werror=format-security -Wdate-time -D_FORTIFY_SOURCE=2 -fPIC -DNDEBUG=1 -DCGAL_NDEBUG=1 -DMESH_CGAL_AVOID_COMPILED_VERSION=1 -DCGAL_HAS_NO_THREADS=1 -DCGAL_NO_AUTOLINK_CGAL=1 -Imesh/src -I/usr/local/lib/python3.6/dist-packages/numpy/core/include -I/tmp/pip-req-build-jclgy3ch/build/temp.linux-x86_64-3.6/CGAL-4.7/include -I/usr/include/python3.6m -c mesh/src/aabb_normals.cpp -o build/temp.linux-x86_64-3.6/mesh/src/aabb_normals.o -O3 -fopenmp\n",
            "    In file included from /usr/local/lib/python3.6/dist-packages/numpy/core/include/numpy/ndarraytypes.h:1822:0,\n",
            "                     from /usr/local/lib/python3.6/dist-packages/numpy/core/include/numpy/ndarrayobject.h:12,\n",
            "                     from /usr/local/lib/python3.6/dist-packages/numpy/core/include/numpy/arrayobject.h:4,\n",
            "                     from mesh/src/aabb_normals.cpp:4:\n",
            "    /usr/local/lib/python3.6/dist-packages/numpy/core/include/numpy/npy_1_7_deprecated_api.h:17:2: warning: #warning \"Using deprecated NumPy API, disable it with \" \"#define NPY_NO_DEPRECATED_API NPY_1_7_API_VERSION\" [-Wcpp]\n",
            "     #warning \"Using deprecated NumPy API, disable it with \" \\\n",
            "      ^~~~~~~\n",
            "    mesh/src/aabb_normals.cpp: In function ‘PyObject* aabbtree_normals_nearest(PyObject*, PyObject*)’:\n",
            "    mesh/src/aabb_normals.cpp:150:36: warning: narrowing conversion of ‘S’ from ‘size_t {aka long unsigned int}’ to ‘npy_intp {aka long int}’ inside { } [-Wnarrowing]\n",
            "         npy_intp result1_dims[] = {1, S};\n",
            "                                        ^\n",
            "    mesh/src/aabb_normals.cpp:157:40: warning: narrowing conversion of ‘S’ from ‘size_t {aka long unsigned int}’ to ‘npy_intp {aka long int}’ inside { } [-Wnarrowing]\n",
            "             npy_intp result2_dims[] = {S, 3};\n",
            "                                            ^\n",
            "    x86_64-linux-gnu-g++ -pthread -shared -Wl,-O1 -Wl,-Bsymbolic-functions -Wl,-Bsymbolic-functions -Wl,-z,relro -Wl,-Bsymbolic-functions -Wl,-z,relro -g -fstack-protector-strong -Wformat -Werror=format-security -Wdate-time -D_FORTIFY_SOURCE=2 build/temp.linux-x86_64-3.6/mesh/src/aabb_normals.o -o build/lib.linux-x86_64-3.6/psbody/mesh/aabb_normals.cpython-36m-x86_64-linux-gnu.so -O3 -fopenmp\n",
            "    building 'psbody.mesh.spatialsearch' extension\n",
            "    x86_64-linux-gnu-gcc -pthread -DNDEBUG -g -fwrapv -O2 -Wall -g -fstack-protector-strong -Wformat -Werror=format-security -Wdate-time -D_FORTIFY_SOURCE=2 -fPIC -DNDEBUG=1 -DCGAL_NDEBUG=1 -DMESH_CGAL_AVOID_COMPILED_VERSION=1 -DCGAL_HAS_NO_THREADS=1 -DCGAL_NO_AUTOLINK_CGAL=1 -Imesh/src -I/usr/local/lib/python3.6/dist-packages/numpy/core/include -I/tmp/pip-req-build-jclgy3ch/build/temp.linux-x86_64-3.6/CGAL-4.7/include -I/usr/include/python3.6m -c mesh/src/spatialsearchmodule.cpp -o build/temp.linux-x86_64-3.6/mesh/src/spatialsearchmodule.o -O3 -fopenmp\n",
            "    In file included from /usr/local/lib/python3.6/dist-packages/numpy/core/include/numpy/ndarraytypes.h:1822:0,\n",
            "                     from /usr/local/lib/python3.6/dist-packages/numpy/core/include/numpy/ndarrayobject.h:12,\n",
            "                     from /usr/local/lib/python3.6/dist-packages/numpy/core/include/numpy/arrayobject.h:4,\n",
            "                     from mesh/src/spatialsearchmodule.cpp:4:\n",
            "    /usr/local/lib/python3.6/dist-packages/numpy/core/include/numpy/npy_1_7_deprecated_api.h:17:2: warning: #warning \"Using deprecated NumPy API, disable it with \" \"#define NPY_NO_DEPRECATED_API NPY_1_7_API_VERSION\" [-Wcpp]\n",
            "     #warning \"Using deprecated NumPy API, disable it with \" \\\n",
            "      ^~~~~~~\n",
            "    mesh/src/spatialsearchmodule.cpp: In function ‘PyObject* spatialsearch_aabbtree_nearest(PyObject*, PyObject*)’:\n",
            "    mesh/src/spatialsearchmodule.cpp:190:36: warning: narrowing conversion of ‘S’ from ‘size_t {aka long unsigned int}’ to ‘npy_intp {aka long int}’ inside { } [-Wnarrowing]\n",
            "         npy_intp result1_dims[] = {1, S};\n",
            "                                        ^\n",
            "    mesh/src/spatialsearchmodule.cpp:198:36: warning: narrowing conversion of ‘S’ from ‘size_t {aka long unsigned int}’ to ‘npy_intp {aka long int}’ inside { } [-Wnarrowing]\n",
            "         npy_intp result3_dims[] = {S, 3};\n",
            "                                        ^\n",
            "    mesh/src/spatialsearchmodule.cpp: In function ‘PyObject* spatialsearch_aabbtree_nearest_alongnormal(PyObject*, PyObject*)’:\n",
            "    mesh/src/spatialsearchmodule.cpp:249:33: warning: narrowing conversion of ‘S’ from ‘size_t {aka long unsigned int}’ to ‘npy_intp {aka long int}’ inside { } [-Wnarrowing]\n",
            "         npy_intp result1_dims[] = {S};\n",
            "                                     ^\n",
            "    mesh/src/spatialsearchmodule.cpp:258:36: warning: narrowing conversion of ‘S’ from ‘size_t {aka long unsigned int}’ to ‘npy_intp {aka long int}’ inside { } [-Wnarrowing]\n",
            "         npy_intp result3_dims[] = {S, 3};\n",
            "                                        ^\n",
            "    mesh/src/spatialsearchmodule.cpp: In function ‘PyObject* spatialsearch_aabbtree_intersections_indices(PyObject*, PyObject*, PyObject*)’:\n",
            "    mesh/src/spatialsearchmodule.cpp:396:58: warning: narrowing conversion of ‘mesh_intersections.std::vector<unsigned int>::size()’ from ‘std::vector<unsigned int>::size_type {aka long unsigned int}’ to ‘npy_intp {aka long int}’ inside { } [-Wnarrowing]\n",
            "             npy_intp result_dims[] = {mesh_intersections.size()};\n",
            "                                       ~~~~~~~~~~~~~~~~~~~~~~~^~\n",
            "    mesh/src/spatialsearchmodule.cpp: At global scope:\n",
            "    mesh/src/spatialsearchmodule.cpp:316:19: warning: ‘PyObject* spatialsearch_aabbtree_intersections_indices(PyObject*, PyObject*, PyObject*)’ defined but not used [-Wunused-function]\n",
            "     static PyObject * spatialsearch_aabbtree_intersections_indices(PyObject *self, PyObject *args, PyObject *keywds) {\n",
            "                       ^~~~~~~~~~~~~~~~~~~~~~~~~~~~~~~~~~~~~~~~~~~~\n",
            "    x86_64-linux-gnu-g++ -pthread -shared -Wl,-O1 -Wl,-Bsymbolic-functions -Wl,-Bsymbolic-functions -Wl,-z,relro -Wl,-Bsymbolic-functions -Wl,-z,relro -g -fstack-protector-strong -Wformat -Werror=format-security -Wdate-time -D_FORTIFY_SOURCE=2 build/temp.linux-x86_64-3.6/mesh/src/spatialsearchmodule.o -o build/lib.linux-x86_64-3.6/psbody/mesh/spatialsearch.cpython-36m-x86_64-linux-gnu.so -O3 -fopenmp\n",
            "    building 'psbody.mesh.visibility' extension\n",
            "    x86_64-linux-gnu-gcc -pthread -DNDEBUG -g -fwrapv -O2 -Wall -g -fstack-protector-strong -Wformat -Werror=format-security -Wdate-time -D_FORTIFY_SOURCE=2 -fPIC -DNDEBUG=1 -DCGAL_NDEBUG=1 -DMESH_CGAL_AVOID_COMPILED_VERSION=1 -DCGAL_HAS_NO_THREADS=1 -DCGAL_NO_AUTOLINK_CGAL=1 -Imesh/src -I/usr/local/lib/python3.6/dist-packages/numpy/core/include -I/tmp/pip-req-build-jclgy3ch/build/temp.linux-x86_64-3.6/CGAL-4.7/include -I/usr/include/python3.6m -c mesh/src/py_visibility.cpp -o build/temp.linux-x86_64-3.6/mesh/src/py_visibility.o -O3 -fopenmp\n",
            "    In file included from /usr/local/lib/python3.6/dist-packages/numpy/core/include/numpy/ndarraytypes.h:1822:0,\n",
            "                     from /usr/local/lib/python3.6/dist-packages/numpy/core/include/numpy/ndarrayobject.h:12,\n",
            "                     from /usr/local/lib/python3.6/dist-packages/numpy/core/include/numpy/arrayobject.h:4,\n",
            "                     from mesh/src/py_visibility.cpp:6:\n",
            "    /usr/local/lib/python3.6/dist-packages/numpy/core/include/numpy/npy_1_7_deprecated_api.h:17:2: warning: #warning \"Using deprecated NumPy API, disable it with \" \"#define NPY_NO_DEPRECATED_API NPY_1_7_API_VERSION\" [-Wcpp]\n",
            "     #warning \"Using deprecated NumPy API, disable it with \" \\\n",
            "      ^~~~~~~\n",
            "    mesh/src/py_visibility.cpp: In function ‘PyObject* visibility_compute(PyObject*, PyObject*, PyObject*)’:\n",
            "    mesh/src/py_visibility.cpp:89:72: warning: ISO C++ forbids converting a string constant to ‘char*’ [-Wwrite-strings]\n",
            "                                      \"extra_v\", \"extra_f\", \"min_dist\", NULL};\n",
            "                                                                            ^\n",
            "    mesh/src/py_visibility.cpp:89:72: warning: ISO C++ forbids converting a string constant to ‘char*’ [-Wwrite-strings]\n",
            "    mesh/src/py_visibility.cpp:89:72: warning: ISO C++ forbids converting a string constant to ‘char*’ [-Wwrite-strings]\n",
            "    mesh/src/py_visibility.cpp:89:72: warning: ISO C++ forbids converting a string constant to ‘char*’ [-Wwrite-strings]\n",
            "    mesh/src/py_visibility.cpp:89:72: warning: ISO C++ forbids converting a string constant to ‘char*’ [-Wwrite-strings]\n",
            "    mesh/src/py_visibility.cpp:89:72: warning: ISO C++ forbids converting a string constant to ‘char*’ [-Wwrite-strings]\n",
            "    mesh/src/py_visibility.cpp:89:72: warning: ISO C++ forbids converting a string constant to ‘char*’ [-Wwrite-strings]\n",
            "    mesh/src/py_visibility.cpp:89:72: warning: ISO C++ forbids converting a string constant to ‘char*’ [-Wwrite-strings]\n",
            "    mesh/src/py_visibility.cpp:89:72: warning: ISO C++ forbids converting a string constant to ‘char*’ [-Wwrite-strings]\n",
            "    mesh/src/py_visibility.cpp:120:32: warning: comparison between signed and unsigned integer expressions [-Wsign-compare]\n",
            "                 for(size_t pp=0; pp<nv; ++pp){\n",
            "                                  ~~^~~\n",
            "    mesh/src/py_visibility.cpp:127:32: warning: comparison between signed and unsigned integer expressions [-Wsign-compare]\n",
            "                 for(size_t tt=0; tt<nf; ++tt) {\n",
            "                                  ~~^~~\n",
            "    mesh/src/py_visibility.cpp:141:36: warning: comparison between signed and unsigned integer expressions [-Wsign-compare]\n",
            "                     for(size_t pp=0; pp<nv_extra; ++pp){\n",
            "                                      ~~^~~~~~~~~\n",
            "    mesh/src/py_visibility.cpp:148:36: warning: comparison between signed and unsigned integer expressions [-Wsign-compare]\n",
            "                     for(size_t tt=0; tt<nf_extra; ++tt) {\n",
            "                                      ~~^~~~~~~~~\n",
            "    mesh/src/py_visibility.cpp:174:45: warning: comparison between signed and unsigned integer expressions [-Wsign-compare]\n",
            "                 if (n_dims[1] != 3 || n_dims[0] != search->points.size()) {\n",
            "                                       ~~~~~~~~~~^~~~~~~~~~~~~~~~~~~~~~~~\n",
            "    mesh/src/py_visibility.cpp:195:58: warning: narrowing conversion of ‘C’ from ‘size_t {aka long unsigned int}’ to ‘npy_intp {aka long int}’ inside { } [-Wnarrowing]\n",
            "             npy_intp result_dims[] = {C,search->points.size()};\n",
            "                                                              ^\n",
            "    mesh/src/py_visibility.cpp:195:56: warning: narrowing conversion of ‘search->TreeAndTri::points.std::vector<CGAL::Point_3<CGAL::Simple_cartesian<double> > >::size()’ from ‘std::vector<CGAL::Point_3<CGAL::Simple_cartesian<double> > >::size_type {aka long unsigned int}’ to ‘npy_intp {aka long int}’ inside { } [-Wnarrowing]\n",
            "             npy_intp result_dims[] = {C,search->points.size()};\n",
            "                                         ~~~~~~~~~~~~~~~~~~~^~\n",
            "    mesh/src/py_visibility.cpp: In instantiation of ‘npy_intp parse_pyarray(const PyArrayObject*, const boost::array<CTYPE, 3>*&) [with CTYPE = double; int PYTYPE = 12; npy_intp = long int; PyArrayObject = tagPyArrayObject_fields]’:\n",
            "    mesh/src/py_visibility.cpp:115:76:   required from here\n",
            "    mesh/src/py_visibility.cpp:66:16: warning: converting to non-pointer type ‘long int’ from NULL [-Wconversion-null]\n",
            "             return NULL;\n",
            "                    ^~~~\n",
            "    mesh/src/py_visibility.cpp:71:16: warning: converting to non-pointer type ‘long int’ from NULL [-Wconversion-null]\n",
            "             return NULL;\n",
            "                    ^~~~\n",
            "    mesh/src/py_visibility.cpp: In instantiation of ‘npy_intp parse_pyarray(const PyArrayObject*, const boost::array<CTYPE, 3>*&) [with CTYPE = unsigned int; int PYTYPE = 6; npy_intp = long int; PyArrayObject = tagPyArrayObject_fields]’:\n",
            "    mesh/src/py_visibility.cpp:116:78:   required from here\n",
            "    mesh/src/py_visibility.cpp:66:16: warning: converting to non-pointer type ‘long int’ from NULL [-Wconversion-null]\n",
            "             return NULL;\n",
            "                    ^~~~\n",
            "    mesh/src/py_visibility.cpp:71:16: warning: converting to non-pointer type ‘long int’ from NULL [-Wconversion-null]\n",
            "             return NULL;\n",
            "                    ^~~~\n",
            "    mesh/src/py_visibility.cpp:135:42: warning: ‘faces_extra_arr’ may be used uninitialized in this function [-Wmaybe-uninitialized]\n",
            "                     const array<uint32_t,3>* faces_extra_arr;\n",
            "                                              ^~~~~~~~~~~~~~~\n",
            "    mesh/src/py_visibility.cpp:134:40: warning: ‘verts_extra_arr’ may be used uninitialized in this function [-Wmaybe-uninitialized]\n",
            "                     const array<double,3>* verts_extra_arr;\n",
            "                                            ^~~~~~~~~~~~~~~\n",
            "    mesh/src/py_visibility.cpp:113:38: warning: ‘faces_arr’ may be used uninitialized in this function [-Wmaybe-uninitialized]\n",
            "                 const array<uint32_t,3>* faces_arr;\n",
            "                                          ^~~~~~~~~\n",
            "    mesh/src/py_visibility.cpp:112:36: warning: ‘verts_arr’ may be used uninitialized in this function [-Wmaybe-uninitialized]\n",
            "                 const array<double,3>* verts_arr;\n",
            "                                        ^~~~~~~~~\n",
            "    x86_64-linux-gnu-gcc -pthread -DNDEBUG -g -fwrapv -O2 -Wall -g -fstack-protector-strong -Wformat -Werror=format-security -Wdate-time -D_FORTIFY_SOURCE=2 -fPIC -DNDEBUG=1 -DCGAL_NDEBUG=1 -DMESH_CGAL_AVOID_COMPILED_VERSION=1 -DCGAL_HAS_NO_THREADS=1 -DCGAL_NO_AUTOLINK_CGAL=1 -Imesh/src -I/usr/local/lib/python3.6/dist-packages/numpy/core/include -I/tmp/pip-req-build-jclgy3ch/build/temp.linux-x86_64-3.6/CGAL-4.7/include -I/usr/include/python3.6m -c mesh/src/visibility.cpp -o build/temp.linux-x86_64-3.6/mesh/src/visibility.o -O3 -fopenmp\n",
            "    In file included from /tmp/pip-req-build-jclgy3ch/build/temp.linux-x86_64-3.6/CGAL-4.7/include/CGAL/Cartesian/Cartesian_base.h:68:0,\n",
            "                     from /tmp/pip-req-build-jclgy3ch/build/temp.linux-x86_64-3.6/CGAL-4.7/include/CGAL/Simple_cartesian.h:28,\n",
            "                     from mesh/src/visibility.cpp:6:\n",
            "    /tmp/pip-req-build-jclgy3ch/build/temp.linux-x86_64-3.6/CGAL-4.7/include/CGAL/Cartesian/function_objects.h: In function ‘void _internal_compute(const TreeAndTri*, const double*, const double*, size_t, bool, const double*, const double&, uint32_t*, double*)’:\n",
            "    /tmp/pip-req-build-jclgy3ch/build/temp.linux-x86_64-3.6/CGAL-4.7/include/CGAL/Cartesian/function_objects.h:940:47: warning: ‘*((void*)& zoff +16)’ may be used uninitialized in this function [-Wmaybe-uninitialized]\n",
            "      return v.x() * w.x() + v.y() * w.y() + v.z() * w.z();\n",
            "    mesh/src/visibility.cpp:77:31: note: ‘*((void*)& zoff +16)’ was declared here\n",
            "             K::Vector_3 xoff,yoff,zoff;\n",
            "                                   ^~~~\n",
            "    In file included from /tmp/pip-req-build-jclgy3ch/build/temp.linux-x86_64-3.6/CGAL-4.7/include/CGAL/Cartesian/Cartesian_base.h:68:0,\n",
            "                     from /tmp/pip-req-build-jclgy3ch/build/temp.linux-x86_64-3.6/CGAL-4.7/include/CGAL/Simple_cartesian.h:28,\n",
            "                     from mesh/src/visibility.cpp:6:\n",
            "    /tmp/pip-req-build-jclgy3ch/build/temp.linux-x86_64-3.6/CGAL-4.7/include/CGAL/Cartesian/function_objects.h:940:31: warning: ‘*((void*)& zoff +8)’ may be used uninitialized in this function [-Wmaybe-uninitialized]\n",
            "      return v.x() * w.x() + v.y() * w.y() + v.z() * w.z();\n",
            "    mesh/src/visibility.cpp:77:31: note: ‘*((void*)& zoff +8)’ was declared here\n",
            "             K::Vector_3 xoff,yoff,zoff;\n",
            "                                   ^~~~\n",
            "    In file included from /tmp/pip-req-build-jclgy3ch/build/temp.linux-x86_64-3.6/CGAL-4.7/include/CGAL/Cartesian/Cartesian_base.h:68:0,\n",
            "                     from /tmp/pip-req-build-jclgy3ch/build/temp.linux-x86_64-3.6/CGAL-4.7/include/CGAL/Simple_cartesian.h:28,\n",
            "                     from mesh/src/visibility.cpp:6:\n",
            "    /tmp/pip-req-build-jclgy3ch/build/temp.linux-x86_64-3.6/CGAL-4.7/include/CGAL/Cartesian/function_objects.h:940:15: warning: ‘zoff’ may be used uninitialized in this function [-Wmaybe-uninitialized]\n",
            "      return v.x() * w.x() + v.y() * w.y() + v.z() * w.z();\n",
            "    mesh/src/visibility.cpp:77:31: note: ‘zoff’ was declared here\n",
            "             K::Vector_3 xoff,yoff,zoff;\n",
            "                                   ^~~~\n",
            "    In file included from /tmp/pip-req-build-jclgy3ch/build/temp.linux-x86_64-3.6/CGAL-4.7/include/CGAL/Cartesian/Cartesian_base.h:68:0,\n",
            "                     from /tmp/pip-req-build-jclgy3ch/build/temp.linux-x86_64-3.6/CGAL-4.7/include/CGAL/Simple_cartesian.h:28,\n",
            "                     from mesh/src/visibility.cpp:6:\n",
            "    /tmp/pip-req-build-jclgy3ch/build/temp.linux-x86_64-3.6/CGAL-4.7/include/CGAL/Cartesian/function_objects.h:940:47: warning: ‘*((void*)& yoff +16)’ may be used uninitialized in this function [-Wmaybe-uninitialized]\n",
            "      return v.x() * w.x() + v.y() * w.y() + v.z() * w.z();\n",
            "    mesh/src/visibility.cpp:77:26: note: ‘*((void*)& yoff +16)’ was declared here\n",
            "             K::Vector_3 xoff,yoff,zoff;\n",
            "                              ^~~~\n",
            "    In file included from /tmp/pip-req-build-jclgy3ch/build/temp.linux-x86_64-3.6/CGAL-4.7/include/CGAL/Cartesian/Cartesian_base.h:68:0,\n",
            "                     from /tmp/pip-req-build-jclgy3ch/build/temp.linux-x86_64-3.6/CGAL-4.7/include/CGAL/Simple_cartesian.h:28,\n",
            "                     from mesh/src/visibility.cpp:6:\n",
            "    /tmp/pip-req-build-jclgy3ch/build/temp.linux-x86_64-3.6/CGAL-4.7/include/CGAL/Cartesian/function_objects.h:940:31: warning: ‘*((void*)& yoff +8)’ may be used uninitialized in this function [-Wmaybe-uninitialized]\n",
            "      return v.x() * w.x() + v.y() * w.y() + v.z() * w.z();\n",
            "    mesh/src/visibility.cpp:77:26: note: ‘*((void*)& yoff +8)’ was declared here\n",
            "             K::Vector_3 xoff,yoff,zoff;\n",
            "                              ^~~~\n",
            "    In file included from /tmp/pip-req-build-jclgy3ch/build/temp.linux-x86_64-3.6/CGAL-4.7/include/CGAL/Cartesian/Cartesian_base.h:68:0,\n",
            "                     from /tmp/pip-req-build-jclgy3ch/build/temp.linux-x86_64-3.6/CGAL-4.7/include/CGAL/Simple_cartesian.h:28,\n",
            "                     from mesh/src/visibility.cpp:6:\n",
            "    /tmp/pip-req-build-jclgy3ch/build/temp.linux-x86_64-3.6/CGAL-4.7/include/CGAL/Cartesian/function_objects.h:940:15: warning: ‘yoff’ may be used uninitialized in this function [-Wmaybe-uninitialized]\n",
            "      return v.x() * w.x() + v.y() * w.y() + v.z() * w.z();\n",
            "    mesh/src/visibility.cpp:77:26: note: ‘yoff’ was declared here\n",
            "             K::Vector_3 xoff,yoff,zoff;\n",
            "                              ^~~~\n",
            "    In file included from /tmp/pip-req-build-jclgy3ch/build/temp.linux-x86_64-3.6/CGAL-4.7/include/CGAL/Cartesian/Cartesian_base.h:68:0,\n",
            "                     from /tmp/pip-req-build-jclgy3ch/build/temp.linux-x86_64-3.6/CGAL-4.7/include/CGAL/Simple_cartesian.h:28,\n",
            "                     from mesh/src/visibility.cpp:6:\n",
            "    /tmp/pip-req-build-jclgy3ch/build/temp.linux-x86_64-3.6/CGAL-4.7/include/CGAL/Cartesian/function_objects.h:940:47: warning: ‘*((void*)& xoff +16)’ may be used uninitialized in this function [-Wmaybe-uninitialized]\n",
            "      return v.x() * w.x() + v.y() * w.y() + v.z() * w.z();\n",
            "    mesh/src/visibility.cpp:77:21: note: ‘*((void*)& xoff +16)’ was declared here\n",
            "             K::Vector_3 xoff,yoff,zoff;\n",
            "                         ^~~~\n",
            "    In file included from /tmp/pip-req-build-jclgy3ch/build/temp.linux-x86_64-3.6/CGAL-4.7/include/CGAL/Cartesian/Cartesian_base.h:68:0,\n",
            "                     from /tmp/pip-req-build-jclgy3ch/build/temp.linux-x86_64-3.6/CGAL-4.7/include/CGAL/Simple_cartesian.h:28,\n",
            "                     from mesh/src/visibility.cpp:6:\n",
            "    /tmp/pip-req-build-jclgy3ch/build/temp.linux-x86_64-3.6/CGAL-4.7/include/CGAL/Cartesian/function_objects.h:940:31: warning: ‘*((void*)& xoff +8)’ may be used uninitialized in this function [-Wmaybe-uninitialized]\n",
            "      return v.x() * w.x() + v.y() * w.y() + v.z() * w.z();\n",
            "    mesh/src/visibility.cpp:77:21: note: ‘*((void*)& xoff +8)’ was declared here\n",
            "             K::Vector_3 xoff,yoff,zoff;\n",
            "                         ^~~~\n",
            "    In file included from /tmp/pip-req-build-jclgy3ch/build/temp.linux-x86_64-3.6/CGAL-4.7/include/CGAL/Cartesian/Cartesian_base.h:68:0,\n",
            "                     from /tmp/pip-req-build-jclgy3ch/build/temp.linux-x86_64-3.6/CGAL-4.7/include/CGAL/Simple_cartesian.h:28,\n",
            "                     from mesh/src/visibility.cpp:6:\n",
            "    /tmp/pip-req-build-jclgy3ch/build/temp.linux-x86_64-3.6/CGAL-4.7/include/CGAL/Cartesian/function_objects.h:940:15: warning: ‘xoff’ may be used uninitialized in this function [-Wmaybe-uninitialized]\n",
            "      return v.x() * w.x() + v.y() * w.y() + v.z() * w.z();\n",
            "    mesh/src/visibility.cpp:77:21: note: ‘xoff’ was declared here\n",
            "             K::Vector_3 xoff,yoff,zoff;\n",
            "                         ^~~~\n",
            "    mesh/src/visibility.cpp:100:69: warning: ‘planeoff’ may be used uninitialized in this function [-Wmaybe-uninitialized]\n",
            "                         double t = -(zoff*(verts_v[ivert]-CGAL::ORIGIN) - planeoff)/(zoff*dir);\n",
            "                                     ~~~~~~~~~~~~~~~~~~~~~~~~~~~~~~~~~~~~^~~~~~~~~~~\n",
            "    mesh/src/visibility.cpp:78:16: note: ‘planeoff’ was declared here\n",
            "             double planeoff;\n",
            "                    ^~~~~~~~\n",
            "    x86_64-linux-gnu-g++ -pthread -shared -Wl,-O1 -Wl,-Bsymbolic-functions -Wl,-Bsymbolic-functions -Wl,-z,relro -Wl,-Bsymbolic-functions -Wl,-z,relro -g -fstack-protector-strong -Wformat -Werror=format-security -Wdate-time -D_FORTIFY_SOURCE=2 build/temp.linux-x86_64-3.6/mesh/src/py_visibility.o build/temp.linux-x86_64-3.6/mesh/src/visibility.o -o build/lib.linux-x86_64-3.6/psbody/mesh/visibility.cpython-36m-x86_64-linux-gnu.so -O3 -fopenmp\n",
            "    building 'psbody.mesh.serialization.plyutils' extension\n",
            "    x86_64-linux-gnu-gcc -pthread -DNDEBUG -g -fwrapv -O2 -Wall -g -fstack-protector-strong -Wformat -Werror=format-security -Wdate-time -D_FORTIFY_SOURCE=2 -fPIC -DNDEBUG=1 -Imesh/src -I/usr/local/lib/python3.6/dist-packages/numpy/core/include -I/tmp/pip-req-build-jclgy3ch/build/temp.linux-x86_64-3.6/CGAL-4.7/include -I/usr/include/python3.6m -c mesh/src/plyutils.c -o build/temp.linux-x86_64-3.6/mesh/src/plyutils.o -O3 -fopenmp\n",
            "    x86_64-linux-gnu-gcc -pthread -DNDEBUG -g -fwrapv -O2 -Wall -g -fstack-protector-strong -Wformat -Werror=format-security -Wdate-time -D_FORTIFY_SOURCE=2 -fPIC -DNDEBUG=1 -Imesh/src -I/usr/local/lib/python3.6/dist-packages/numpy/core/include -I/tmp/pip-req-build-jclgy3ch/build/temp.linux-x86_64-3.6/CGAL-4.7/include -I/usr/include/python3.6m -c mesh/src/rply.c -o build/temp.linux-x86_64-3.6/mesh/src/rply.o -O3 -fopenmp\n",
            "    x86_64-linux-gnu-g++ -pthread -shared -Wl,-O1 -Wl,-Bsymbolic-functions -Wl,-Bsymbolic-functions -Wl,-z,relro -Wl,-Bsymbolic-functions -Wl,-z,relro -g -fstack-protector-strong -Wformat -Werror=format-security -Wdate-time -D_FORTIFY_SOURCE=2 build/temp.linux-x86_64-3.6/mesh/src/plyutils.o build/temp.linux-x86_64-3.6/mesh/src/rply.o -o build/lib.linux-x86_64-3.6/psbody/mesh/serialization/plyutils.cpython-36m-x86_64-linux-gnu.so -O3 -fopenmp\n",
            "    building 'psbody.mesh.serialization.loadobj' extension\n",
            "    x86_64-linux-gnu-gcc -pthread -DNDEBUG -g -fwrapv -O2 -Wall -g -fstack-protector-strong -Wformat -Werror=format-security -Wdate-time -D_FORTIFY_SOURCE=2 -fPIC -DNDEBUG=1 -Imesh/src -I/usr/local/lib/python3.6/dist-packages/numpy/core/include -I/tmp/pip-req-build-jclgy3ch/build/temp.linux-x86_64-3.6/CGAL-4.7/include -I/usr/include/python3.6m -c mesh/src/py_loadobj.cpp -o build/temp.linux-x86_64-3.6/mesh/src/py_loadobj.o -O3 -fopenmp\n",
            "    In file included from /usr/local/lib/python3.6/dist-packages/numpy/core/include/numpy/ndarraytypes.h:1822:0,\n",
            "                     from /usr/local/lib/python3.6/dist-packages/numpy/core/include/numpy/ndarrayobject.h:12,\n",
            "                     from /usr/local/lib/python3.6/dist-packages/numpy/core/include/numpy/arrayobject.h:4,\n",
            "                     from mesh/src/py_loadobj.cpp:5:\n",
            "    /usr/local/lib/python3.6/dist-packages/numpy/core/include/numpy/npy_1_7_deprecated_api.h:17:2: warning: #warning \"Using deprecated NumPy API, disable it with \" \"#define NPY_NO_DEPRECATED_API NPY_1_7_API_VERSION\" [-Wcpp]\n",
            "     #warning \"Using deprecated NumPy API, disable it with \" \\\n",
            "      ^~~~~~~\n",
            "    mesh/src/py_loadobj.cpp: In function ‘PyObject* loadobj(PyObject*, PyObject*, PyObject*)’:\n",
            "    mesh/src/py_loadobj.cpp:150:36: warning: comparison between signed and unsigned integer expressions [-Wsign-compare]\n",
            "                         for (int i=1; i<(localf.size()-1); ++i) {\n",
            "                                       ~^~~~~~~~~~~~~~~~~~\n",
            "    mesh/src/py_loadobj.cpp:159:36: warning: comparison between signed and unsigned integer expressions [-Wsign-compare]\n",
            "                         for (int i=1; i<(localft.size()-1); ++i){\n",
            "                                       ~^~~~~~~~~~~~~~~~~~~\n",
            "    mesh/src/py_loadobj.cpp:166:36: warning: comparison between signed and unsigned integer expressions [-Wsign-compare]\n",
            "                         for (int i=1; i<(localfn.size()-1); ++i){\n",
            "                                       ~^~~~~~~~~~~~~~~~~~~\n",
            "    x86_64-linux-gnu-g++ -pthread -shared -Wl,-O1 -Wl,-Bsymbolic-functions -Wl,-Bsymbolic-functions -Wl,-z,relro -Wl,-Bsymbolic-functions -Wl,-z,relro -g -fstack-protector-strong -Wformat -Werror=format-security -Wdate-time -D_FORTIFY_SOURCE=2 build/temp.linux-x86_64-3.6/mesh/src/py_loadobj.o -o build/lib.linux-x86_64-3.6/psbody/mesh/serialization/loadobj.cpython-36m-x86_64-linux-gnu.so -O3 -fopenmp\n",
            "    running build_scripts\n",
            "    creating build/scripts-3.6\n",
            "    copying and adjusting bin/meshviewer -> build/scripts-3.6\n",
            "    changing mode of build/scripts-3.6/meshviewer from 644 to 755\n",
            "    running install_lib\n",
            "    Skipping installation of /usr/local/lib/python3.6/dist-packages/psbody/__init__.py (namespace package)\n",
            "    copying psbody/mesh/search.py -> /usr/local/lib/python3.6/dist-packages/psbody/mesh\n",
            "    copying psbody/mesh/aabb_normals.cpython-36m-x86_64-linux-gnu.so -> /usr/local/lib/python3.6/dist-packages/psbody/mesh\n",
            "    copying psbody/mesh/spatialsearch.cpython-36m-x86_64-linux-gnu.so -> /usr/local/lib/python3.6/dist-packages/psbody/mesh\n",
            "    copying psbody/mesh/mesh.py -> /usr/local/lib/python3.6/dist-packages/psbody/mesh\n",
            "    copying psbody/mesh/__init__.py -> /usr/local/lib/python3.6/dist-packages/psbody/mesh\n",
            "    copying psbody/mesh/visibility.cpython-36m-x86_64-linux-gnu.so -> /usr/local/lib/python3.6/dist-packages/psbody/mesh\n",
            "    copying psbody/mesh/sphere.py -> /usr/local/lib/python3.6/dist-packages/psbody/mesh\n",
            "    copying psbody/mesh/version.py -> /usr/local/lib/python3.6/dist-packages/psbody/mesh\n",
            "    copying psbody/mesh/utils.py -> /usr/local/lib/python3.6/dist-packages/psbody/mesh\n",
            "    copying psbody/mesh/meshviewer.py -> /usr/local/lib/python3.6/dist-packages/psbody/mesh\n",
            "    copying psbody/mesh/errors.py -> /usr/local/lib/python3.6/dist-packages/psbody/mesh\n",
            "    copying psbody/mesh/landmarks.py -> /usr/local/lib/python3.6/dist-packages/psbody/mesh\n",
            "    copying psbody/mesh/colors.py -> /usr/local/lib/python3.6/dist-packages/psbody/mesh\n",
            "    copying psbody/mesh/texture.py -> /usr/local/lib/python3.6/dist-packages/psbody/mesh\n",
            "    copying psbody/mesh/lines.py -> /usr/local/lib/python3.6/dist-packages/psbody/mesh\n",
            "    copying psbody/mesh/processing.py -> /usr/local/lib/python3.6/dist-packages/psbody/mesh\n",
            "    copying psbody/mesh/arcball.py -> /usr/local/lib/python3.6/dist-packages/psbody/mesh\n",
            "    copying psbody/mesh/fonts.py -> /usr/local/lib/python3.6/dist-packages/psbody/mesh\n",
            "    copying psbody/mesh/serialization/__init__.py -> /usr/local/lib/python3.6/dist-packages/psbody/mesh/serialization\n",
            "    copying psbody/mesh/serialization/serialization.py -> /usr/local/lib/python3.6/dist-packages/psbody/mesh/serialization\n",
            "    copying psbody/mesh/serialization/loadobj.cpython-36m-x86_64-linux-gnu.so -> /usr/local/lib/python3.6/dist-packages/psbody/mesh/serialization\n",
            "    copying psbody/mesh/serialization/plyutils.cpython-36m-x86_64-linux-gnu.so -> /usr/local/lib/python3.6/dist-packages/psbody/mesh/serialization\n",
            "    copying psbody/mesh/geometry/rodrigues.py -> /usr/local/lib/python3.6/dist-packages/psbody/mesh/geometry\n",
            "    copying psbody/mesh/geometry/__init__.py -> /usr/local/lib/python3.6/dist-packages/psbody/mesh/geometry\n",
            "    copying psbody/mesh/geometry/cross_product.py -> /usr/local/lib/python3.6/dist-packages/psbody/mesh/geometry\n",
            "    copying psbody/mesh/geometry/barycentric_coordinates_of_projection.py -> /usr/local/lib/python3.6/dist-packages/psbody/mesh/geometry\n",
            "    copying psbody/mesh/geometry/tri_normals.py -> /usr/local/lib/python3.6/dist-packages/psbody/mesh/geometry\n",
            "    copying psbody/mesh/geometry/triangle_area.py -> /usr/local/lib/python3.6/dist-packages/psbody/mesh/geometry\n",
            "    copying psbody/mesh/geometry/vert_normals.py -> /usr/local/lib/python3.6/dist-packages/psbody/mesh/geometry\n",
            "    copying psbody/mesh/topology/subdivision.py -> /usr/local/lib/python3.6/dist-packages/psbody/mesh/topology\n",
            "    copying psbody/mesh/topology/__init__.py -> /usr/local/lib/python3.6/dist-packages/psbody/mesh/topology\n",
            "    copying psbody/mesh/topology/decimation.py -> /usr/local/lib/python3.6/dist-packages/psbody/mesh/topology\n",
            "    copying psbody/mesh/topology/linear_mesh_transform.py -> /usr/local/lib/python3.6/dist-packages/psbody/mesh/topology\n",
            "    copying psbody/mesh/topology/connectivity.py -> /usr/local/lib/python3.6/dist-packages/psbody/mesh/topology\n",
            "    byte-compiling /usr/local/lib/python3.6/dist-packages/psbody/mesh/search.py to search.cpython-36.pyc\n",
            "    byte-compiling /usr/local/lib/python3.6/dist-packages/psbody/mesh/mesh.py to mesh.cpython-36.pyc\n",
            "    byte-compiling /usr/local/lib/python3.6/dist-packages/psbody/mesh/__init__.py to __init__.cpython-36.pyc\n",
            "    byte-compiling /usr/local/lib/python3.6/dist-packages/psbody/mesh/sphere.py to sphere.cpython-36.pyc\n",
            "    byte-compiling /usr/local/lib/python3.6/dist-packages/psbody/mesh/version.py to version.cpython-36.pyc\n",
            "    byte-compiling /usr/local/lib/python3.6/dist-packages/psbody/mesh/utils.py to utils.cpython-36.pyc\n",
            "    byte-compiling /usr/local/lib/python3.6/dist-packages/psbody/mesh/meshviewer.py to meshviewer.cpython-36.pyc\n",
            "    byte-compiling /usr/local/lib/python3.6/dist-packages/psbody/mesh/errors.py to errors.cpython-36.pyc\n",
            "    byte-compiling /usr/local/lib/python3.6/dist-packages/psbody/mesh/landmarks.py to landmarks.cpython-36.pyc\n",
            "    byte-compiling /usr/local/lib/python3.6/dist-packages/psbody/mesh/colors.py to colors.cpython-36.pyc\n",
            "    byte-compiling /usr/local/lib/python3.6/dist-packages/psbody/mesh/texture.py to texture.cpython-36.pyc\n",
            "    byte-compiling /usr/local/lib/python3.6/dist-packages/psbody/mesh/lines.py to lines.cpython-36.pyc\n",
            "    byte-compiling /usr/local/lib/python3.6/dist-packages/psbody/mesh/processing.py to processing.cpython-36.pyc\n",
            "    byte-compiling /usr/local/lib/python3.6/dist-packages/psbody/mesh/arcball.py to arcball.cpython-36.pyc\n",
            "    byte-compiling /usr/local/lib/python3.6/dist-packages/psbody/mesh/fonts.py to fonts.cpython-36.pyc\n",
            "    byte-compiling /usr/local/lib/python3.6/dist-packages/psbody/mesh/serialization/__init__.py to __init__.cpython-36.pyc\n",
            "    byte-compiling /usr/local/lib/python3.6/dist-packages/psbody/mesh/serialization/serialization.py to serialization.cpython-36.pyc\n",
            "    byte-compiling /usr/local/lib/python3.6/dist-packages/psbody/mesh/geometry/rodrigues.py to rodrigues.cpython-36.pyc\n",
            "    byte-compiling /usr/local/lib/python3.6/dist-packages/psbody/mesh/geometry/__init__.py to __init__.cpython-36.pyc\n",
            "    byte-compiling /usr/local/lib/python3.6/dist-packages/psbody/mesh/geometry/cross_product.py to cross_product.cpython-36.pyc\n",
            "    byte-compiling /usr/local/lib/python3.6/dist-packages/psbody/mesh/geometry/barycentric_coordinates_of_projection.py to barycentric_coordinates_of_projection.cpython-36.pyc\n",
            "    byte-compiling /usr/local/lib/python3.6/dist-packages/psbody/mesh/geometry/tri_normals.py to tri_normals.cpython-36.pyc\n",
            "    byte-compiling /usr/local/lib/python3.6/dist-packages/psbody/mesh/geometry/triangle_area.py to triangle_area.cpython-36.pyc\n",
            "    byte-compiling /usr/local/lib/python3.6/dist-packages/psbody/mesh/geometry/vert_normals.py to vert_normals.cpython-36.pyc\n",
            "    byte-compiling /usr/local/lib/python3.6/dist-packages/psbody/mesh/topology/subdivision.py to subdivision.cpython-36.pyc\n",
            "    byte-compiling /usr/local/lib/python3.6/dist-packages/psbody/mesh/topology/__init__.py to __init__.cpython-36.pyc\n",
            "    byte-compiling /usr/local/lib/python3.6/dist-packages/psbody/mesh/topology/decimation.py to decimation.cpython-36.pyc\n",
            "    byte-compiling /usr/local/lib/python3.6/dist-packages/psbody/mesh/topology/linear_mesh_transform.py to linear_mesh_transform.cpython-36.pyc\n",
            "    byte-compiling /usr/local/lib/python3.6/dist-packages/psbody/mesh/topology/connectivity.py to connectivity.cpython-36.pyc\n",
            "    running install_egg_info\n",
            "    running egg_info\n",
            "    creating psbody_mesh.egg-info\n",
            "    writing psbody_mesh.egg-info/PKG-INFO\n",
            "    writing dependency_links to psbody_mesh.egg-info/dependency_links.txt\n",
            "    writing namespace_packages to psbody_mesh.egg-info/namespace_packages.txt\n",
            "    writing requirements to psbody_mesh.egg-info/requires.txt\n",
            "    writing top-level names to psbody_mesh.egg-info/top_level.txt\n",
            "    writing manifest file 'psbody_mesh.egg-info/SOURCES.txt'\n",
            "    reading manifest template 'MANIFEST.in'\n",
            "    writing manifest file 'psbody_mesh.egg-info/SOURCES.txt'\n",
            "    Copying psbody_mesh.egg-info to /usr/local/lib/python3.6/dist-packages/psbody_mesh-0.4-py3.6.egg-info\n",
            "    Installing /usr/local/lib/python3.6/dist-packages/psbody_mesh-0.4-py3.6-nspkg.pth\n",
            "    running install_scripts\n",
            "    copying build/scripts-3.6/meshviewer -> /usr/local/bin\n",
            "    changing mode of /usr/local/bin/meshviewer to 755\n",
            "    writing list of installed files to '/tmp/pip-record-7plk3irg/install-record.txt'\n",
            "    Running setup.py install for psbody-mesh ... \u001b[?25l\u001b[?25hdone\n",
            "  Removing source in /tmp/pip-req-build-jclgy3ch\n",
            "Successfully installed psbody-mesh-0.4\n",
            "Cleaning up...\n",
            "Removed build tracker '/tmp/pip-req-tracker-nzneq9w5'\n"
          ],
          "name": "stdout"
        }
      ]
    },
    {
      "cell_type": "code",
      "metadata": {
        "id": "SI_CMneOR6Vg",
        "colab_type": "code",
        "colab": {
          "base_uri": "https://localhost:8080/",
          "height": 51
        },
        "outputId": "3a4bada8-5973-4ef0-f4b7-1fce218b08f7"
      },
      "source": [
        "%cd ..\n",
        "!meshviewer view \"MESH/data/unittest/sphere.obj\""
      ],
      "execution_count": 6,
      "outputs": [
        {
          "output_type": "stream",
          "text": [
            "/content/VOCAani\n",
            "INFO:root:started remote viewer on port 64660\n"
          ],
          "name": "stdout"
        }
      ]
    },
    {
      "cell_type": "code",
      "metadata": {
        "id": "Icv6o5Bn1X8f",
        "colab_type": "code",
        "colab": {
          "base_uri": "https://localhost:8080/",
          "height": 1000
        },
        "outputId": "825619be-4bf3-4bfe-f6a2-513d9be786eb"
      },
      "source": [
        "!sudo apt update\n",
        "!sudo apt install ffmpeg"
      ],
      "execution_count": 3,
      "outputs": [
        {
          "output_type": "stream",
          "text": [
            "\u001b[33m\r0% [Working]\u001b[0m\r            \rHit:1 http://archive.ubuntu.com/ubuntu bionic InRelease\n",
            "\u001b[33m\r0% [Connecting to security.ubuntu.com (91.189.91.38)] [Connecting to cloud.r-pr\u001b[0m\r                                                                               \rGet:2 http://archive.ubuntu.com/ubuntu bionic-updates InRelease [88.7 kB]\n",
            "\r                                                                               \rGet:3 http://ppa.launchpad.net/graphics-drivers/ppa/ubuntu bionic InRelease [21.3 kB]\n",
            "\u001b[33m\r0% [2 InRelease 30.1 kB/88.7 kB 34%] [Connecting to security.ubuntu.com (91.189\u001b[0m\u001b[33m\r0% [1 InRelease gpgv 242 kB] [2 InRelease 33.0 kB/88.7 kB 37%] [Connecting to s\u001b[0m\r                                                                               \rGet:4 https://cloud.r-project.org/bin/linux/ubuntu bionic-cran35/ InRelease [3,626 B]\n",
            "\u001b[33m\r0% [1 InRelease gpgv 242 kB] [2 InRelease 64.9 kB/88.7 kB 73%] [Connecting to s\u001b[0m\u001b[33m\r0% [1 InRelease gpgv 242 kB] [Waiting for headers] [Connecting to security.ubun\u001b[0m\r                                                                               \rGet:5 http://ppa.launchpad.net/marutter/c2d4u3.5/ubuntu bionic InRelease [15.4 kB]\n",
            "\u001b[33m\r0% [1 InRelease gpgv 242 kB] [Waiting for headers] [Connecting to security.ubun\u001b[0m\u001b[33m\r0% [1 InRelease gpgv 242 kB] [Waiting for headers] [Connecting to security.ubun\u001b[0m\r                                                                               \rGet:6 http://archive.ubuntu.com/ubuntu bionic-backports InRelease [74.6 kB]\n",
            "\u001b[33m\r0% [1 InRelease gpgv 242 kB] [6 InRelease 20.0 kB/74.6 kB 27%] [Connecting to s\u001b[0m\u001b[33m\r0% [1 InRelease gpgv 242 kB] [Connecting to security.ubuntu.com (91.189.91.38)]\u001b[0m\r                                                                               \rGet:7 http://security.ubuntu.com/ubuntu bionic-security InRelease [88.7 kB]\n",
            "\u001b[33m\r0% [1 InRelease gpgv 242 kB] [7 InRelease 14.2 kB/88.7 kB 16%] [Waiting for hea\u001b[0m\r                                                                               \rIgn:8 https://developer.download.nvidia.com/compute/cuda/repos/ubuntu1804/x86_64  InRelease\n",
            "\u001b[33m\r                                                                               \r0% [1 InRelease gpgv 242 kB] [7 InRelease 14.2 kB/88.7 kB 16%]\u001b[0m\u001b[33m\r                                                              \r0% [7 InRelease 14.2 kB/88.7 kB 16%] [Waiting for headers]\u001b[0m\u001b[33m\r0% [3 InRelease gpgv 21.3 kB] [7 InRelease 14.2 kB/88.7 kB 16%] [Waiting for he\u001b[0m\u001b[33m\r                                                                               \r0% [7 InRelease 43.1 kB/88.7 kB 49%] [Waiting for headers]\u001b[0m\u001b[33m\r0% [4 InRelease gpgv 3,626 B] [7 InRelease 43.1 kB/88.7 kB 49%] [Waiting for he\u001b[0m\r                                                                               \rGet:9 http://ppa.launchpad.net/graphics-drivers/ppa/ubuntu bionic/main amd64 Packages [43.3 kB]\n",
            "\u001b[33m\r0% [4 InRelease gpgv 3,626 B] [7 InRelease 43.1 kB/88.7 kB 49%] [Waiting for he\u001b[0m\r                                                                               \rIgn:10 https://developer.download.nvidia.com/compute/machine-learning/repos/ubuntu1804/x86_64  InRelease\n",
            "\u001b[33m\r0% [4 InRelease gpgv 3,626 B] [7 InRelease 57.6 kB/88.7 kB 65%] [9 Packages 20.\u001b[0m\r                                                                               \rGet:11 https://developer.download.nvidia.com/compute/cuda/repos/ubuntu1804/x86_64  Release [697 B]\n",
            "\u001b[33m\r0% [4 InRelease gpgv 3,626 B] [7 InRelease 63.4 kB/88.7 kB 71%] [11 Release 697\u001b[0m\u001b[33m\r0% [4 InRelease gpgv 3,626 B] [7 InRelease 63.4 kB/88.7 kB 71%] [9 Packages 40.\u001b[0m\u001b[33m\r0% [4 InRelease gpgv 3,626 B] [7 InRelease 77.9 kB/88.7 kB 88%] [Waiting for he\u001b[0m\r                                                                               \rGet:12 https://developer.download.nvidia.com/compute/machine-learning/repos/ubuntu1804/x86_64  Release [564 B]\n",
            "\u001b[33m\r                                                                               \r0% [4 InRelease gpgv 3,626 B] [7 InRelease 77.9 kB/88.7 kB 88%]\u001b[0m\u001b[33m\r0% [9 Packages store 0 B] [4 InRelease gpgv 3,626 B] [7 InRelease 77.9 kB/88.7 \u001b[0m\r                                                                               \rGet:13 https://developer.download.nvidia.com/compute/cuda/repos/ubuntu1804/x86_64  Release.gpg [836 B]\n",
            "\u001b[33m\r0% [9 Packages store 0 B] [4 InRelease gpgv 3,626 B] [7 InRelease 86.6 kB/88.7 \u001b[0m\u001b[33m\r0% [4 InRelease gpgv 3,626 B] [7 InRelease 86.6 kB/88.7 kB 98%] [Waiting for he\u001b[0m\u001b[33m\r                                                                               \r0% [4 InRelease gpgv 3,626 B] [Waiting for headers]\u001b[0m\r                                                   \rGet:14 https://developer.download.nvidia.com/compute/machine-learning/repos/ubuntu1804/x86_64  Release.gpg [833 B]\n",
            "\u001b[33m\r0% [4 InRelease gpgv 3,626 B] [14 Release.gpg 833 B/833 B 100%]\u001b[0m\u001b[33m\r                                                               \r0% [4 InRelease gpgv 3,626 B]\u001b[0m\u001b[33m\r                             \r0% [Working]\u001b[0m\u001b[33m\r0% [2 InRelease gpgv 88.7 kB]\u001b[0m\u001b[33m\r                             \r0% [Working]\u001b[0m\u001b[33m\r0% [5 InRelease gpgv 15.4 kB] [Waiting for headers]\u001b[0m\r                                                   \rGet:15 http://archive.ubuntu.com/ubuntu bionic-updates/main amd64 Packages [1,334 kB]\n",
            "\u001b[33m\r0% [5 InRelease gpgv 15.4 kB] [15 Packages 25.9 kB/1,334 kB 2%]\u001b[0m\u001b[33m\r                                                               \r0% [5 InRelease gpgv 15.4 kB]\u001b[0m\u001b[33m\r0% [15 Packages store 0 B] [5 InRelease gpgv 15.4 kB]\u001b[0m\r                                                     \rGet:16 http://archive.ubuntu.com/ubuntu bionic-updates/multiverse amd64 Packages [13.9 kB]\n",
            "\u001b[33m\r0% [15 Packages store 0 B] [5 InRelease gpgv 15.4 kB] [16 Packages 13.9 kB/13.9\u001b[0m\r                                                                               \rGet:17 http://archive.ubuntu.com/ubuntu bionic-updates/universe amd64 Packages [1,413 kB]\n",
            "\u001b[33m\r0% [15 Packages store 0 B] [5 InRelease gpgv 15.4 kB] [17 Packages 60.4 kB/1,41\u001b[0m\u001b[33m\r                                                                               \r0% [15 Packages store 0 B] [5 InRelease gpgv 15.4 kB]\u001b[0m\r                                                     \rGet:18 http://archive.ubuntu.com/ubuntu bionic-updates/restricted amd64 Packages [114 kB]\n",
            "\u001b[33m\r0% [15 Packages store 0 B] [5 InRelease gpgv 15.4 kB] [18 Packages 0 B/114 kB 0\u001b[0m\u001b[33m\r                                                                               \r0% [15 Packages store 0 B] [5 InRelease gpgv 15.4 kB]\u001b[0m\u001b[33m\r                                                     \r0% [15 Packages store 0 B]\u001b[0m\u001b[33m\r0% [15 Packages store 0 B] [6 InRelease gpgv 74.6 kB] [Connecting to ppa.launch\u001b[0m\r                                                                               \rGet:19 http://ppa.launchpad.net/marutter/c2d4u3.5/ubuntu bionic/main Sources [1,851 kB]\n",
            "\u001b[33m\r0% [15 Packages store 0 B] [6 InRelease gpgv 74.6 kB] [19 Sources 14.3 kB/1,851\u001b[0m\u001b[33m\r                                                                               \r0% [15 Packages store 0 B] [6 InRelease gpgv 74.6 kB]\u001b[0m\u001b[33m\r0% [6 InRelease gpgv 74.6 kB] [Connecting to ppa.launchpad.net (91.189.95.83)]\u001b[0m\u001b[33m\r0% [16 Packages store 0 B] [6 InRelease gpgv 74.6 kB] [Connecting to ppa.launch\u001b[0m\u001b[33m\r                                                                               \r0% [6 InRelease gpgv 74.6 kB] [Connecting to ppa.launchpad.net (91.189.95.83)]\u001b[0m\u001b[33m\r0% [17 Packages store 0 B] [6 InRelease gpgv 74.6 kB] [Connecting to ppa.launch\u001b[0m\u001b[33m\r                                                                               \r0% [17 Packages store 0 B] [Waiting for headers]\u001b[0m\u001b[33m\r0% [17 Packages store 0 B] [13 Release.gpg gpgv 697 B] [Waiting for headers] [W\u001b[0m\r                                                                               \rGet:20 http://ppa.launchpad.net/marutter/c2d4u3.5/ubuntu bionic/main amd64 Packages [893 kB]\n",
            "\u001b[33m\r0% [17 Packages store 0 B] [13 Release.gpg gpgv 697 B] [Waiting for headers] [2\u001b[0m\r                                                                               \rGet:21 http://archive.ubuntu.com/ubuntu bionic-backports/universe amd64 Packages [8,432 B]\n",
            "\u001b[33m\r0% [17 Packages store 0 B] [13 Release.gpg gpgv 697 B] [21 Packages 8,432 B/8,4\u001b[0m\u001b[33m\r0% [17 Packages store 0 B] [13 Release.gpg gpgv 697 B] [20 Packages 14.3 kB/893\u001b[0m\u001b[33m\r                                                                               \r0% [17 Packages store 0 B] [13 Release.gpg gpgv 697 B]\u001b[0m\u001b[33m\r                                                      \r0% [17 Packages store 0 B]\u001b[0m\u001b[33m\r0% [17 Packages store 0 B] [7 InRelease gpgv 88.7 kB] [Waiting for headers]\u001b[0m\u001b[33m\r                                                                           \r0% [7 InRelease gpgv 88.7 kB] [Waiting for headers]\u001b[0m\u001b[33m\r0% [18 Packages store 0 B] [7 InRelease gpgv 88.7 kB] [Waiting for headers]\u001b[0m\u001b[33m\r                                                                           \r0% [18 Packages store 0 B] [Waiting for headers]\u001b[0m\u001b[33m\r0% [18 Packages store 0 B] [14 Release.gpg gpgv 564 B] [Waiting for headers] [W\u001b[0m\u001b[33m\r                                                                               \r0% [14 Release.gpg gpgv 564 B] [Waiting for headers] [Waiting for headers]\u001b[0m\u001b[33m\r0% [19 Sources store 0 B] [14 Release.gpg gpgv 564 B] [Waiting for headers] [Wa\u001b[0m\r                                                                               \rIgn:22 https://developer.download.nvidia.com/compute/cuda/repos/ubuntu1804/x86_64  Packages\n",
            "\u001b[33m\r                                                                               \r0% [19 Sources store 0 B] [14 Release.gpg gpgv 564 B] [Waiting for headers]\u001b[0m\r                                                                           \rGet:22 https://developer.download.nvidia.com/compute/cuda/repos/ubuntu1804/x86_64  Packages [232 kB]\n",
            "\u001b[33m\r0% [19 Sources store 0 B] [14 Release.gpg gpgv 564 B] [Waiting for headers] [22\u001b[0m\u001b[33m\r                                                                               \r0% [19 Sources store 0 B] [14 Release.gpg gpgv 564 B] [Waiting for headers]\u001b[0m\r                                                                           \rGet:23 http://security.ubuntu.com/ubuntu bionic-security/multiverse amd64 Packages [9,555 B]\n",
            "\u001b[33m\r0% [19 Sources store 0 B] [14 Release.gpg gpgv 564 B] [23 Packages 2,690 B/9,55\u001b[0m\u001b[33m\r                                                                               \r0% [19 Sources store 0 B] [14 Release.gpg gpgv 564 B]\u001b[0m\u001b[33m\r                                                     \r77% [19 Sources store 0 B] [Waiting for headers]\u001b[0m\r                                                \rGet:24 https://developer.download.nvidia.com/compute/machine-learning/repos/ubuntu1804/x86_64  Packages [43.7 kB]\n",
            "\u001b[33m\r77% [19 Sources store 0 B] [Waiting for headers] [24 Packages 43.7 kB/43.7 kB 1\u001b[0m\u001b[33m\r                                                                               \r77% [19 Sources store 0 B] [Waiting for headers]\u001b[0m\u001b[33m\r                                                \r78% [Waiting for headers]\u001b[0m\u001b[33m\r78% [21 Packages store 0 B] [Waiting for headers]\u001b[0m\u001b[33m\r                                                 \r78% [Waiting for headers]\u001b[0m\u001b[33m\r78% [20 Packages store 0 B] [Waiting for headers]\u001b[0m\r                                                 \rGet:25 http://security.ubuntu.com/ubuntu bionic-security/main amd64 Packages [1,032 kB]\n",
            "\u001b[33m\r78% [20 Packages store 0 B] [25 Packages 8,478 B/1,032 kB 1%]\u001b[0m\u001b[33m\r                                                             \r79% [25 Packages 57.7 kB/1,032 kB 6%]\u001b[0m\u001b[33m\r79% [22 Packages store 0 B] [25 Packages 57.7 kB/1,032 kB 6%]\u001b[0m\u001b[33m\r                                                             \r79% [25 Packages 75.1 kB/1,032 kB 7%]\u001b[0m\u001b[33m\r79% [23 Packages store 0 B] [25 Packages 75.1 kB/1,032 kB 7%]\u001b[0m\u001b[33m\r                                                             \r80% [25 Packages 79.4 kB/1,032 kB 8%]\u001b[0m\u001b[33m\r80% [24 Packages store 0 B] [25 Packages 79.4 kB/1,032 kB 8%]\u001b[0m\u001b[33m\r                                                             \r80% [25 Packages 82.3 kB/1,032 kB 8%]\u001b[0m\u001b[33m\r                                     \r89% [Working]\u001b[0m\u001b[33m\r89% [25 Packages store 0 B] [Waiting for headers]\u001b[0m\r                                                 \rGet:26 http://security.ubuntu.com/ubuntu bionic-security/universe amd64 Packages [874 kB]\n",
            "\u001b[33m\r89% [25 Packages store 0 B] [26 Packages 0 B/874 kB 0%]\u001b[0m\u001b[33m\r                                                       \r98% [25 Packages store 0 B]\u001b[0m\r                           \rGet:27 http://security.ubuntu.com/ubuntu bionic-security/restricted amd64 Packages [99.9 kB]\n",
            "Fetched 8,256 kB in 2s (4,790 kB/s)\n",
            "Reading package lists... Done\n",
            "Building dependency tree       \n",
            "Reading state information... Done\n",
            "114 packages can be upgraded. Run 'apt list --upgradable' to see them.\n",
            "Reading package lists... Done\n",
            "Building dependency tree       \n",
            "Reading state information... Done\n",
            "The following package was automatically installed and is no longer required:\n",
            "  libnvidia-common-440\n",
            "Use 'sudo apt autoremove' to remove it.\n",
            "The following additional packages will be installed:\n",
            "  libavcodec-dev libavcodec57 libavdevice57 libavfilter6 libavformat-dev\n",
            "  libavformat57 libavresample-dev libavresample3 libavutil-dev libavutil55\n",
            "  libpostproc54 libswresample-dev libswresample2 libswscale-dev libswscale4\n",
            "Suggested packages:\n",
            "  ffmpeg-doc\n",
            "The following packages will be upgraded:\n",
            "  ffmpeg libavcodec-dev libavcodec57 libavdevice57 libavfilter6\n",
            "  libavformat-dev libavformat57 libavresample-dev libavresample3 libavutil-dev\n",
            "  libavutil55 libpostproc54 libswresample-dev libswresample2 libswscale-dev\n",
            "  libswscale4\n",
            "16 upgraded, 0 newly installed, 0 to remove and 98 not upgraded.\n",
            "Need to get 15.4 MB of archives.\n",
            "After this operation, 46.1 kB of additional disk space will be used.\n",
            "Get:1 http://archive.ubuntu.com/ubuntu bionic-updates/universe amd64 libavformat-dev amd64 7:3.4.8-0ubuntu0.2 [1,132 kB]\n",
            "Get:2 http://archive.ubuntu.com/ubuntu bionic-updates/universe amd64 libavcodec-dev amd64 7:3.4.8-0ubuntu0.2 [5,079 kB]\n",
            "Get:3 http://archive.ubuntu.com/ubuntu bionic-updates/universe amd64 libswresample-dev amd64 7:3.4.8-0ubuntu0.2 [68.7 kB]\n",
            "Get:4 http://archive.ubuntu.com/ubuntu bionic-updates/universe amd64 libswresample2 amd64 7:3.4.8-0ubuntu0.2 [55.2 kB]\n",
            "Get:5 http://archive.ubuntu.com/ubuntu bionic-updates/universe amd64 libswscale-dev amd64 7:3.4.8-0ubuntu0.2 [166 kB]\n",
            "Get:6 http://archive.ubuntu.com/ubuntu bionic-updates/universe amd64 libswscale4 amd64 7:3.4.8-0ubuntu0.2 [150 kB]\n",
            "Get:7 http://archive.ubuntu.com/ubuntu bionic-updates/universe amd64 libavresample-dev amd64 7:3.4.8-0ubuntu0.2 [62.0 kB]\n",
            "Get:8 http://archive.ubuntu.com/ubuntu bionic-updates/universe amd64 libavresample3 amd64 7:3.4.8-0ubuntu0.2 [52.6 kB]\n",
            "Get:9 http://archive.ubuntu.com/ubuntu bionic-updates/universe amd64 libavutil-dev amd64 7:3.4.8-0ubuntu0.2 [294 kB]\n",
            "Get:10 http://archive.ubuntu.com/ubuntu bionic-updates/universe amd64 libavutil55 amd64 7:3.4.8-0ubuntu0.2 [190 kB]\n",
            "Get:11 http://archive.ubuntu.com/ubuntu bionic-updates/universe amd64 libavformat57 amd64 7:3.4.8-0ubuntu0.2 [953 kB]\n",
            "Get:12 http://archive.ubuntu.com/ubuntu bionic-updates/universe amd64 libavcodec57 amd64 7:3.4.8-0ubuntu0.2 [4,595 kB]\n",
            "Get:13 http://archive.ubuntu.com/ubuntu bionic-updates/universe amd64 libpostproc54 amd64 7:3.4.8-0ubuntu0.2 [50.3 kB]\n",
            "Get:14 http://archive.ubuntu.com/ubuntu bionic-updates/universe amd64 libavfilter6 amd64 7:3.4.8-0ubuntu0.2 [874 kB]\n",
            "Get:15 http://archive.ubuntu.com/ubuntu bionic-updates/universe amd64 libavdevice57 amd64 7:3.4.8-0ubuntu0.2 [74.9 kB]\n",
            "Get:16 http://archive.ubuntu.com/ubuntu bionic-updates/universe amd64 ffmpeg amd64 7:3.4.8-0ubuntu0.2 [1,587 kB]\n",
            "Fetched 15.4 MB in 0s (56.5 MB/s)\n",
            "debconf: unable to initialize frontend: Dialog\n",
            "debconf: (No usable dialog-like program is installed, so the dialog based frontend cannot be used. at /usr/share/perl5/Debconf/FrontEnd/Dialog.pm line 76, <> line 16.)\n",
            "debconf: falling back to frontend: Readline\n",
            "debconf: unable to initialize frontend: Readline\n",
            "debconf: (This frontend requires a controlling tty.)\n",
            "debconf: falling back to frontend: Teletype\n",
            "dpkg-preconfigure: unable to re-open stdin: \n",
            "(Reading database ... 144465 files and directories currently installed.)\n",
            "Preparing to unpack .../00-libavformat-dev_7%3a3.4.8-0ubuntu0.2_amd64.deb ...\n",
            "Unpacking libavformat-dev:amd64 (7:3.4.8-0ubuntu0.2) over (7:3.4.6-0ubuntu0.18.04.1) ...\n",
            "Preparing to unpack .../01-libavcodec-dev_7%3a3.4.8-0ubuntu0.2_amd64.deb ...\n",
            "Unpacking libavcodec-dev:amd64 (7:3.4.8-0ubuntu0.2) over (7:3.4.6-0ubuntu0.18.04.1) ...\n",
            "Preparing to unpack .../02-libswresample-dev_7%3a3.4.8-0ubuntu0.2_amd64.deb ...\n",
            "Unpacking libswresample-dev:amd64 (7:3.4.8-0ubuntu0.2) over (7:3.4.6-0ubuntu0.18.04.1) ...\n",
            "Preparing to unpack .../03-libswresample2_7%3a3.4.8-0ubuntu0.2_amd64.deb ...\n",
            "Unpacking libswresample2:amd64 (7:3.4.8-0ubuntu0.2) over (7:3.4.6-0ubuntu0.18.04.1) ...\n",
            "Preparing to unpack .../04-libswscale-dev_7%3a3.4.8-0ubuntu0.2_amd64.deb ...\n",
            "Unpacking libswscale-dev:amd64 (7:3.4.8-0ubuntu0.2) over (7:3.4.6-0ubuntu0.18.04.1) ...\n",
            "Preparing to unpack .../05-libswscale4_7%3a3.4.8-0ubuntu0.2_amd64.deb ...\n",
            "Unpacking libswscale4:amd64 (7:3.4.8-0ubuntu0.2) over (7:3.4.6-0ubuntu0.18.04.1) ...\n",
            "Preparing to unpack .../06-libavresample-dev_7%3a3.4.8-0ubuntu0.2_amd64.deb ...\n",
            "Unpacking libavresample-dev:amd64 (7:3.4.8-0ubuntu0.2) over (7:3.4.6-0ubuntu0.18.04.1) ...\n",
            "Preparing to unpack .../07-libavresample3_7%3a3.4.8-0ubuntu0.2_amd64.deb ...\n",
            "Unpacking libavresample3:amd64 (7:3.4.8-0ubuntu0.2) over (7:3.4.6-0ubuntu0.18.04.1) ...\n",
            "Preparing to unpack .../08-libavutil-dev_7%3a3.4.8-0ubuntu0.2_amd64.deb ...\n",
            "Unpacking libavutil-dev:amd64 (7:3.4.8-0ubuntu0.2) over (7:3.4.6-0ubuntu0.18.04.1) ...\n",
            "Preparing to unpack .../09-libavutil55_7%3a3.4.8-0ubuntu0.2_amd64.deb ...\n",
            "Unpacking libavutil55:amd64 (7:3.4.8-0ubuntu0.2) over (7:3.4.6-0ubuntu0.18.04.1) ...\n",
            "Preparing to unpack .../10-libavformat57_7%3a3.4.8-0ubuntu0.2_amd64.deb ...\n",
            "Unpacking libavformat57:amd64 (7:3.4.8-0ubuntu0.2) over (7:3.4.6-0ubuntu0.18.04.1) ...\n",
            "Preparing to unpack .../11-libavcodec57_7%3a3.4.8-0ubuntu0.2_amd64.deb ...\n",
            "Unpacking libavcodec57:amd64 (7:3.4.8-0ubuntu0.2) over (7:3.4.6-0ubuntu0.18.04.1) ...\n",
            "Preparing to unpack .../12-libpostproc54_7%3a3.4.8-0ubuntu0.2_amd64.deb ...\n",
            "Unpacking libpostproc54:amd64 (7:3.4.8-0ubuntu0.2) over (7:3.4.6-0ubuntu0.18.04.1) ...\n",
            "Preparing to unpack .../13-libavfilter6_7%3a3.4.8-0ubuntu0.2_amd64.deb ...\n",
            "Unpacking libavfilter6:amd64 (7:3.4.8-0ubuntu0.2) over (7:3.4.6-0ubuntu0.18.04.1) ...\n",
            "Preparing to unpack .../14-libavdevice57_7%3a3.4.8-0ubuntu0.2_amd64.deb ...\n",
            "Unpacking libavdevice57:amd64 (7:3.4.8-0ubuntu0.2) over (7:3.4.6-0ubuntu0.18.04.1) ...\n",
            "Preparing to unpack .../15-ffmpeg_7%3a3.4.8-0ubuntu0.2_amd64.deb ...\n",
            "Unpacking ffmpeg (7:3.4.8-0ubuntu0.2) over (7:3.4.6-0ubuntu0.18.04.1) ...\n",
            "Setting up libavutil55:amd64 (7:3.4.8-0ubuntu0.2) ...\n",
            "Setting up libswresample2:amd64 (7:3.4.8-0ubuntu0.2) ...\n",
            "Setting up libswscale4:amd64 (7:3.4.8-0ubuntu0.2) ...\n",
            "Setting up libpostproc54:amd64 (7:3.4.8-0ubuntu0.2) ...\n",
            "Setting up libavutil-dev:amd64 (7:3.4.8-0ubuntu0.2) ...\n",
            "Setting up libavresample3:amd64 (7:3.4.8-0ubuntu0.2) ...\n",
            "Setting up libavcodec57:amd64 (7:3.4.8-0ubuntu0.2) ...\n",
            "Setting up libavresample-dev:amd64 (7:3.4.8-0ubuntu0.2) ...\n",
            "Setting up libswscale-dev:amd64 (7:3.4.8-0ubuntu0.2) ...\n",
            "Setting up libswresample-dev:amd64 (7:3.4.8-0ubuntu0.2) ...\n",
            "Setting up libavformat57:amd64 (7:3.4.8-0ubuntu0.2) ...\n",
            "Setting up libavfilter6:amd64 (7:3.4.8-0ubuntu0.2) ...\n",
            "Setting up libavcodec-dev:amd64 (7:3.4.8-0ubuntu0.2) ...\n",
            "Setting up libavformat-dev:amd64 (7:3.4.8-0ubuntu0.2) ...\n",
            "Setting up libavdevice57:amd64 (7:3.4.8-0ubuntu0.2) ...\n",
            "Setting up ffmpeg (7:3.4.8-0ubuntu0.2) ...\n",
            "Processing triggers for libc-bin (2.27-3ubuntu1) ...\n",
            "/sbin/ldconfig.real: /usr/local/lib/python3.6/dist-packages/ideep4py/lib/libmkldnn.so.0 is not a symbolic link\n",
            "\n",
            "Processing triggers for man-db (2.8.3-2ubuntu0.1) ...\n"
          ],
          "name": "stdout"
        }
      ]
    },
    {
      "cell_type": "code",
      "metadata": {
        "id": "U1WTlSobya-Q",
        "colab_type": "code",
        "colab": {
          "base_uri": "https://localhost:8080/",
          "height": 1000
        },
        "outputId": "74969afc-2e15-47ae-fa71-46674621affa"
      },
      "source": [
        "#!sudo apt-get install llvm-6.0 freeglut3 freeglut3-dev"
      ],
      "execution_count": 11,
      "outputs": [
        {
          "output_type": "stream",
          "text": [
            "Reading package lists... Done\n",
            "Building dependency tree       \n",
            "Reading state information... Done\n",
            "freeglut3 is already the newest version (2.8.1-3).\n",
            "freeglut3 set to manually installed.\n",
            "freeglut3-dev is already the newest version (2.8.1-3).\n",
            "freeglut3-dev set to manually installed.\n",
            "The following package was automatically installed and is no longer required:\n",
            "  libnvidia-common-440\n",
            "Use 'sudo apt autoremove' to remove it.\n",
            "The following additional packages will be installed:\n",
            "  binfmt-support libffi-dev llvm-6.0-dev llvm-6.0-runtime\n",
            "Suggested packages:\n",
            "  llvm-6.0-doc\n",
            "The following NEW packages will be installed:\n",
            "  binfmt-support libffi-dev llvm-6.0 llvm-6.0-dev llvm-6.0-runtime\n",
            "0 upgraded, 5 newly installed, 0 to remove and 35 not upgraded.\n",
            "Need to get 28.2 MB of archives.\n",
            "After this operation, 178 MB of additional disk space will be used.\n",
            "Get:1 http://archive.ubuntu.com/ubuntu bionic/main amd64 binfmt-support amd64 2.1.8-2 [51.6 kB]\n",
            "Get:2 http://archive.ubuntu.com/ubuntu bionic/main amd64 llvm-6.0-runtime amd64 1:6.0-1ubuntu2 [200 kB]\n",
            "Get:3 http://archive.ubuntu.com/ubuntu bionic/main amd64 llvm-6.0 amd64 1:6.0-1ubuntu2 [4,838 kB]\n",
            "Get:4 http://archive.ubuntu.com/ubuntu bionic/main amd64 libffi-dev amd64 3.2.1-8 [156 kB]\n",
            "Get:5 http://archive.ubuntu.com/ubuntu bionic/main amd64 llvm-6.0-dev amd64 1:6.0-1ubuntu2 [23.0 MB]\n",
            "Fetched 28.2 MB in 2s (16.2 MB/s)\n",
            "debconf: unable to initialize frontend: Dialog\n",
            "debconf: (No usable dialog-like program is installed, so the dialog based frontend cannot be used. at /usr/share/perl5/Debconf/FrontEnd/Dialog.pm line 76, <> line 5.)\n",
            "debconf: falling back to frontend: Readline\n",
            "debconf: unable to initialize frontend: Readline\n",
            "debconf: (This frontend requires a controlling tty.)\n",
            "debconf: falling back to frontend: Teletype\n",
            "dpkg-preconfigure: unable to re-open stdin: \n",
            "Selecting previously unselected package binfmt-support.\n",
            "(Reading database ... 144465 files and directories currently installed.)\n",
            "Preparing to unpack .../binfmt-support_2.1.8-2_amd64.deb ...\n",
            "Unpacking binfmt-support (2.1.8-2) ...\n",
            "Selecting previously unselected package llvm-6.0-runtime.\n",
            "Preparing to unpack .../llvm-6.0-runtime_1%3a6.0-1ubuntu2_amd64.deb ...\n",
            "Unpacking llvm-6.0-runtime (1:6.0-1ubuntu2) ...\n",
            "Selecting previously unselected package llvm-6.0.\n",
            "Preparing to unpack .../llvm-6.0_1%3a6.0-1ubuntu2_amd64.deb ...\n",
            "Unpacking llvm-6.0 (1:6.0-1ubuntu2) ...\n",
            "Selecting previously unselected package libffi-dev:amd64.\n",
            "Preparing to unpack .../libffi-dev_3.2.1-8_amd64.deb ...\n",
            "Unpacking libffi-dev:amd64 (3.2.1-8) ...\n",
            "Selecting previously unselected package llvm-6.0-dev.\n",
            "Preparing to unpack .../llvm-6.0-dev_1%3a6.0-1ubuntu2_amd64.deb ...\n",
            "Unpacking llvm-6.0-dev (1:6.0-1ubuntu2) ...\n",
            "Setting up binfmt-support (2.1.8-2) ...\n",
            "Created symlink /etc/systemd/system/multi-user.target.wants/binfmt-support.service → /lib/systemd/system/binfmt-support.service.\n",
            "invoke-rc.d: could not determine current runlevel\n",
            "invoke-rc.d: policy-rc.d denied execution of start.\n",
            "Setting up libffi-dev:amd64 (3.2.1-8) ...\n",
            "Setting up llvm-6.0-runtime (1:6.0-1ubuntu2) ...\n",
            "Setting up llvm-6.0 (1:6.0-1ubuntu2) ...\n",
            "Setting up llvm-6.0-dev (1:6.0-1ubuntu2) ...\n",
            "Processing triggers for systemd (237-3ubuntu10.41) ...\n",
            "Processing triggers for man-db (2.8.3-2ubuntu0.1) ...\n",
            "Processing triggers for libc-bin (2.27-3ubuntu1) ...\n",
            "/sbin/ldconfig.real: /usr/local/lib/python3.6/dist-packages/ideep4py/lib/libmkldnn.so.0 is not a symbolic link\n",
            "\n"
          ],
          "name": "stdout"
        }
      ]
    },
    {
      "cell_type": "code",
      "metadata": {
        "id": "SW4dNSIpugUA",
        "colab_type": "code",
        "colab": {
          "base_uri": "https://localhost:8080/",
          "height": 255
        },
        "outputId": "2a54d2ec-0415-4c16-ff5d-c6f251e1d218"
      },
      "source": [
        "#!pip install pyrender"
      ],
      "execution_count": 20,
      "outputs": [
        {
          "output_type": "stream",
          "text": [
            "Requirement already satisfied: pyrender in /usr/local/lib/python3.6/dist-packages (0.1.43)\n",
            "Requirement already satisfied: pyglet>=1.4.10 in /usr/local/lib/python3.6/dist-packages (from pyrender) (1.5.0)\n",
            "Requirement already satisfied: numpy in /usr/local/lib/python3.6/dist-packages (from pyrender) (1.19.1)\n",
            "Requirement already satisfied: six in /usr/local/lib/python3.6/dist-packages (from pyrender) (1.15.0)\n",
            "Requirement already satisfied: freetype-py in /usr/local/lib/python3.6/dist-packages (from pyrender) (2.2.0)\n",
            "Requirement already satisfied: imageio in /usr/local/lib/python3.6/dist-packages (from pyrender) (2.4.1)\n",
            "Requirement already satisfied: trimesh in /usr/local/lib/python3.6/dist-packages (from pyrender) (3.7.14)\n",
            "Requirement already satisfied: Pillow in /usr/local/lib/python3.6/dist-packages (from pyrender) (7.2.0)\n",
            "Requirement already satisfied: scipy in /usr/local/lib/python3.6/dist-packages (from pyrender) (1.5.2)\n",
            "Requirement already satisfied: PyOpenGL==3.1.0 in /usr/local/lib/python3.6/dist-packages (from pyrender) (3.1.0)\n",
            "Requirement already satisfied: networkx in /usr/local/lib/python3.6/dist-packages (from pyrender) (2.4)\n",
            "Requirement already satisfied: future in /usr/local/lib/python3.6/dist-packages (from pyglet>=1.4.10->pyrender) (0.16.0)\n",
            "Requirement already satisfied: setuptools in /usr/local/lib/python3.6/dist-packages (from trimesh->pyrender) (49.2.0)\n",
            "Requirement already satisfied: decorator>=4.3.0 in /usr/local/lib/python3.6/dist-packages (from networkx->pyrender) (4.4.2)\n"
          ],
          "name": "stdout"
        }
      ]
    },
    {
      "cell_type": "code",
      "metadata": {
        "id": "461tvVAbdRck",
        "colab_type": "code",
        "colab": {
          "base_uri": "https://localhost:8080/",
          "height": 833
        },
        "outputId": "4dc3cc99-06a5-4665-e426-72d519c4aefb"
      },
      "source": [
        "!sudo wget https://github.com/mmatl/travis_debs/raw/master/xenial/mesa_18.3.3-0.deb\n",
        "!sudo dpkg -i ./mesa_18.3.3-0.deb || true\n",
        "!sudo apt install -f\n",
        "!git clone https://github.com/mmatl/pyopengl.git\n",
        "!pip install ./pyopengl"
      ],
      "execution_count": 7,
      "outputs": [
        {
          "output_type": "stream",
          "text": [
            "--2020-07-29 04:10:56--  https://github.com/mmatl/travis_debs/raw/master/xenial/mesa_18.3.3-0.deb\n",
            "Resolving github.com (github.com)... 140.82.112.3\n",
            "Connecting to github.com (github.com)|140.82.112.3|:443... connected.\n",
            "HTTP request sent, awaiting response... 302 Found\n",
            "Location: https://raw.githubusercontent.com/mmatl/travis_debs/master/xenial/mesa_18.3.3-0.deb [following]\n",
            "--2020-07-29 04:10:57--  https://raw.githubusercontent.com/mmatl/travis_debs/master/xenial/mesa_18.3.3-0.deb\n",
            "Resolving raw.githubusercontent.com (raw.githubusercontent.com)... 151.101.0.133, 151.101.64.133, 151.101.128.133, ...\n",
            "Connecting to raw.githubusercontent.com (raw.githubusercontent.com)|151.101.0.133|:443... connected.\n",
            "HTTP request sent, awaiting response... 200 OK\n",
            "Length: 31776942 (30M) [application/octet-stream]\n",
            "Saving to: ‘mesa_18.3.3-0.deb’\n",
            "\n",
            "mesa_18.3.3-0.deb   100%[===================>]  30.30M  39.9MB/s    in 0.8s    \n",
            "\n",
            "2020-07-29 04:10:58 (39.9 MB/s) - ‘mesa_18.3.3-0.deb’ saved [31776942/31776942]\n",
            "\n",
            "(Reading database ... 146351 files and directories currently installed.)\n",
            "Preparing to unpack ./mesa_18.3.3-0.deb ...\n",
            "Unpacking mesa (18.3.3-0) over (18.3.3-0) ...\n",
            "Setting up mesa (18.3.3-0) ...\n",
            "Reading package lists... Done\n",
            "Building dependency tree       \n",
            "Reading state information... Done\n",
            "The following package was automatically installed and is no longer required:\n",
            "  libnvidia-common-440\n",
            "Use 'sudo apt autoremove' to remove it.\n",
            "0 upgraded, 0 newly installed, 0 to remove and 35 not upgraded.\n",
            "Cloning into 'pyopengl'...\n",
            "remote: Enumerating objects: 26044, done.\u001b[K\n",
            "remote: Total 26044 (delta 0), reused 0 (delta 0), pack-reused 26044\u001b[K\n",
            "Receiving objects: 100% (26044/26044), 23.94 MiB | 22.19 MiB/s, done.\n",
            "Resolving deltas: 100% (21680/21680), done.\n",
            "Processing ./pyopengl\n",
            "Building wheels for collected packages: PyOpenGL\n",
            "  Building wheel for PyOpenGL (setup.py) ... \u001b[?25l\u001b[?25hdone\n",
            "  Created wheel for PyOpenGL: filename=PyOpenGL-3.1.0-cp36-none-any.whl size=2349655 sha256=af5560b55460543b0fa3190b2a80516514a97e18e8d433f2fcadb6670df83bf0\n",
            "  Stored in directory: /tmp/pip-ephem-wheel-cache-_4rtkz49/wheels/89/5f/69/d65a30306708045f091e76d7e2dd024890b9bcd662988921d3\n",
            "Successfully built PyOpenGL\n",
            "Installing collected packages: PyOpenGL\n",
            "  Found existing installation: PyOpenGL 3.1.0\n",
            "    Uninstalling PyOpenGL-3.1.0:\n",
            "      Successfully uninstalled PyOpenGL-3.1.0\n",
            "Successfully installed PyOpenGL-3.1.0\n"
          ],
          "name": "stdout"
        },
        {
          "output_type": "display_data",
          "data": {
            "application/vnd.colab-display-data+json": {
              "pip_warning": {
                "packages": [
                  "OpenGL"
                ]
              }
            }
          },
          "metadata": {
            "tags": []
          }
        }
      ]
    },
    {
      "cell_type": "code",
      "metadata": {
        "id": "JP957eLUdSQS",
        "colab_type": "code",
        "colab": {
          "base_uri": "https://localhost:8080/",
          "height": 136
        },
        "outputId": "307ac416-2f6e-4db7-f5dd-c8264db47035"
      },
      "source": [
        "!git clone https://github.com/mmatl/pyrender.git"
      ],
      "execution_count": 15,
      "outputs": [
        {
          "output_type": "stream",
          "text": [
            "Cloning into 'pyrender'...\n",
            "remote: Enumerating objects: 28, done.\u001b[K\n",
            "remote: Counting objects:   3% (1/28)\u001b[K\rremote: Counting objects:   7% (2/28)\u001b[K\rremote: Counting objects:  10% (3/28)\u001b[K\rremote: Counting objects:  14% (4/28)\u001b[K\rremote: Counting objects:  17% (5/28)\u001b[K\rremote: Counting objects:  21% (6/28)\u001b[K\rremote: Counting objects:  25% (7/28)\u001b[K\rremote: Counting objects:  28% (8/28)\u001b[K\rremote: Counting objects:  32% (9/28)\u001b[K\rremote: Counting objects:  35% (10/28)\u001b[K\rremote: Counting objects:  39% (11/28)\u001b[K\rremote: Counting objects:  42% (12/28)\u001b[K\rremote: Counting objects:  46% (13/28)\u001b[K\rremote: Counting objects:  50% (14/28)\u001b[K\rremote: Counting objects:  53% (15/28)\u001b[K\rremote: Counting objects:  57% (16/28)\u001b[K\rremote: Counting objects:  60% (17/28)\u001b[K\rremote: Counting objects:  64% (18/28)\u001b[K\rremote: Counting objects:  67% (19/28)\u001b[K\rremote: Counting objects:  71% (20/28)\u001b[K\rremote: Counting objects:  75% (21/28)\u001b[K\rremote: Counting objects:  78% (22/28)\u001b[K\rremote: Counting objects:  82% (23/28)\u001b[K\rremote: Counting objects:  85% (24/28)\u001b[K\rremote: Counting objects:  89% (25/28)\u001b[K\rremote: Counting objects:  92% (26/28)\u001b[K\rremote: Counting objects:  96% (27/28)\u001b[K\rremote: Counting objects: 100% (28/28)\u001b[K\rremote: Counting objects: 100% (28/28), done.\u001b[K\n",
            "remote: Compressing objects: 100% (16/16), done.\u001b[K\n",
            "remote: Total 1122 (delta 10), reused 21 (delta 9), pack-reused 1094\u001b[K\n",
            "Receiving objects: 100% (1122/1122), 28.38 MiB | 33.25 MiB/s, done.\n",
            "Resolving deltas: 100% (661/661), done.\n"
          ],
          "name": "stdout"
        }
      ]
    },
    {
      "cell_type": "code",
      "metadata": {
        "id": "uut1Nqq1eGvC",
        "colab_type": "code",
        "colab": {
          "base_uri": "https://localhost:8080/",
          "height": 51
        },
        "outputId": "345ae333-9638-45b2-ce52-8159e2201670"
      },
      "source": [
        "!pwd\n",
        "%cd /content"
      ],
      "execution_count": 4,
      "outputs": [
        {
          "output_type": "stream",
          "text": [
            "/root\n",
            "/content\n"
          ],
          "name": "stdout"
        }
      ]
    },
    {
      "cell_type": "code",
      "metadata": {
        "id": "A9W_u4qetK6F",
        "colab_type": "code",
        "colab": {
          "base_uri": "https://localhost:8080/",
          "height": 935
        },
        "outputId": "a37b9698-c662-4195-d24e-7fb64583aa2a"
      },
      "source": [
        "import os\n",
        "os.environ[\"PYOPENGL_PLATFORM\"] = \"osmesa\"\n",
        "import numpy as np\n",
        "import trimesh\n",
        "import pyrender\n"
      ],
      "execution_count": 5,
      "outputs": [
        {
          "output_type": "error",
          "ename": "AttributeError",
          "evalue": "ignored",
          "traceback": [
            "\u001b[0;31m---------------------------------------------------------------------------\u001b[0m",
            "\u001b[0;31mAttributeError\u001b[0m                            Traceback (most recent call last)",
            "\u001b[0;32m<ipython-input-5-cd7c0330e368>\u001b[0m in \u001b[0;36m<module>\u001b[0;34m()\u001b[0m\n\u001b[1;32m      3\u001b[0m \u001b[0;32mimport\u001b[0m \u001b[0mnumpy\u001b[0m \u001b[0;32mas\u001b[0m \u001b[0mnp\u001b[0m\u001b[0;34m\u001b[0m\u001b[0;34m\u001b[0m\u001b[0m\n\u001b[1;32m      4\u001b[0m \u001b[0;32mimport\u001b[0m \u001b[0mtrimesh\u001b[0m\u001b[0;34m\u001b[0m\u001b[0;34m\u001b[0m\u001b[0m\n\u001b[0;32m----> 5\u001b[0;31m \u001b[0;32mimport\u001b[0m \u001b[0mpyrender\u001b[0m\u001b[0;34m\u001b[0m\u001b[0;34m\u001b[0m\u001b[0m\n\u001b[0m",
            "\u001b[0;32m/usr/local/lib/python3.6/dist-packages/pyrender/__init__.py\u001b[0m in \u001b[0;36m<module>\u001b[0;34m()\u001b[0m\n\u001b[1;32m      1\u001b[0m from .camera import (Camera, PerspectiveCamera, OrthographicCamera,\n\u001b[1;32m      2\u001b[0m                      IntrinsicsCamera)\n\u001b[0;32m----> 3\u001b[0;31m \u001b[0;32mfrom\u001b[0m \u001b[0;34m.\u001b[0m\u001b[0mlight\u001b[0m \u001b[0;32mimport\u001b[0m \u001b[0mLight\u001b[0m\u001b[0;34m,\u001b[0m \u001b[0mPointLight\u001b[0m\u001b[0;34m,\u001b[0m \u001b[0mDirectionalLight\u001b[0m\u001b[0;34m,\u001b[0m \u001b[0mSpotLight\u001b[0m\u001b[0;34m\u001b[0m\u001b[0;34m\u001b[0m\u001b[0m\n\u001b[0m\u001b[1;32m      4\u001b[0m \u001b[0;32mfrom\u001b[0m \u001b[0;34m.\u001b[0m\u001b[0msampler\u001b[0m \u001b[0;32mimport\u001b[0m \u001b[0mSampler\u001b[0m\u001b[0;34m\u001b[0m\u001b[0;34m\u001b[0m\u001b[0m\n\u001b[1;32m      5\u001b[0m \u001b[0;32mfrom\u001b[0m \u001b[0;34m.\u001b[0m\u001b[0mtexture\u001b[0m \u001b[0;32mimport\u001b[0m \u001b[0mTexture\u001b[0m\u001b[0;34m\u001b[0m\u001b[0;34m\u001b[0m\u001b[0m\n",
            "\u001b[0;32m/usr/local/lib/python3.6/dist-packages/pyrender/light.py\u001b[0m in \u001b[0;36m<module>\u001b[0;34m()\u001b[0m\n\u001b[1;32m      8\u001b[0m \u001b[0;32mimport\u001b[0m \u001b[0msix\u001b[0m\u001b[0;34m\u001b[0m\u001b[0;34m\u001b[0m\u001b[0m\n\u001b[1;32m      9\u001b[0m \u001b[0;34m\u001b[0m\u001b[0m\n\u001b[0;32m---> 10\u001b[0;31m \u001b[0;32mfrom\u001b[0m \u001b[0mOpenGL\u001b[0m\u001b[0;34m.\u001b[0m\u001b[0mGL\u001b[0m \u001b[0;32mimport\u001b[0m \u001b[0;34m*\u001b[0m\u001b[0;34m\u001b[0m\u001b[0;34m\u001b[0m\u001b[0m\n\u001b[0m\u001b[1;32m     11\u001b[0m \u001b[0;34m\u001b[0m\u001b[0m\n\u001b[1;32m     12\u001b[0m \u001b[0;32mfrom\u001b[0m \u001b[0;34m.\u001b[0m\u001b[0mutils\u001b[0m \u001b[0;32mimport\u001b[0m \u001b[0mformat_color_vector\u001b[0m\u001b[0;34m\u001b[0m\u001b[0;34m\u001b[0m\u001b[0m\n",
            "\u001b[0;32m/usr/local/lib/python3.6/dist-packages/OpenGL/GL/__init__.py\u001b[0m in \u001b[0;36m<module>\u001b[0;34m()\u001b[0m\n\u001b[1;32m      2\u001b[0m \u001b[0;31m# early import of our modules to prevent import loops...\u001b[0m\u001b[0;34m\u001b[0m\u001b[0;34m\u001b[0m\u001b[0;34m\u001b[0m\u001b[0m\n\u001b[1;32m      3\u001b[0m \u001b[0;32mfrom\u001b[0m \u001b[0mOpenGL\u001b[0m \u001b[0;32mimport\u001b[0m \u001b[0merror\u001b[0m \u001b[0;32mas\u001b[0m \u001b[0m_error\u001b[0m\u001b[0;34m\u001b[0m\u001b[0;34m\u001b[0m\u001b[0m\n\u001b[0;32m----> 4\u001b[0;31m \u001b[0;32mfrom\u001b[0m \u001b[0mOpenGL\u001b[0m\u001b[0;34m.\u001b[0m\u001b[0mGL\u001b[0m\u001b[0;34m.\u001b[0m\u001b[0mVERSION\u001b[0m\u001b[0;34m.\u001b[0m\u001b[0mGL_1_1\u001b[0m \u001b[0;32mimport\u001b[0m \u001b[0;34m*\u001b[0m\u001b[0;34m\u001b[0m\u001b[0;34m\u001b[0m\u001b[0m\n\u001b[0m\u001b[1;32m      5\u001b[0m \u001b[0;32mfrom\u001b[0m \u001b[0mOpenGL\u001b[0m\u001b[0;34m.\u001b[0m\u001b[0mGL\u001b[0m\u001b[0;34m.\u001b[0m\u001b[0mpointers\u001b[0m \u001b[0;32mimport\u001b[0m \u001b[0;34m*\u001b[0m\u001b[0;34m\u001b[0m\u001b[0;34m\u001b[0m\u001b[0m\n\u001b[1;32m      6\u001b[0m \u001b[0;32mfrom\u001b[0m \u001b[0mOpenGL\u001b[0m\u001b[0;34m.\u001b[0m\u001b[0mGL\u001b[0m\u001b[0;34m.\u001b[0m\u001b[0mimages\u001b[0m \u001b[0;32mimport\u001b[0m \u001b[0;34m*\u001b[0m\u001b[0;34m\u001b[0m\u001b[0;34m\u001b[0m\u001b[0m\n",
            "\u001b[0;32m/usr/local/lib/python3.6/dist-packages/OpenGL/GL/VERSION/GL_1_1.py\u001b[0m in \u001b[0;36m<module>\u001b[0;34m()\u001b[0m\n\u001b[1;32m     12\u001b[0m \u001b[0;32mimport\u001b[0m \u001b[0mctypes\u001b[0m\u001b[0;34m\u001b[0m\u001b[0;34m\u001b[0m\u001b[0m\n\u001b[1;32m     13\u001b[0m \u001b[0;32mfrom\u001b[0m \u001b[0mOpenGL\u001b[0m\u001b[0;34m.\u001b[0m\u001b[0mraw\u001b[0m\u001b[0;34m.\u001b[0m\u001b[0mGL\u001b[0m \u001b[0;32mimport\u001b[0m \u001b[0m_types\u001b[0m\u001b[0;34m,\u001b[0m \u001b[0m_glgets\u001b[0m\u001b[0;34m\u001b[0m\u001b[0;34m\u001b[0m\u001b[0m\n\u001b[0;32m---> 14\u001b[0;31m \u001b[0;32mfrom\u001b[0m \u001b[0mOpenGL\u001b[0m\u001b[0;34m.\u001b[0m\u001b[0mraw\u001b[0m\u001b[0;34m.\u001b[0m\u001b[0mGL\u001b[0m\u001b[0;34m.\u001b[0m\u001b[0mVERSION\u001b[0m\u001b[0;34m.\u001b[0m\u001b[0mGL_1_1\u001b[0m \u001b[0;32mimport\u001b[0m \u001b[0;34m*\u001b[0m\u001b[0;34m\u001b[0m\u001b[0;34m\u001b[0m\u001b[0m\n\u001b[0m\u001b[1;32m     15\u001b[0m \u001b[0;32mfrom\u001b[0m \u001b[0mOpenGL\u001b[0m\u001b[0;34m.\u001b[0m\u001b[0mraw\u001b[0m\u001b[0;34m.\u001b[0m\u001b[0mGL\u001b[0m\u001b[0;34m.\u001b[0m\u001b[0mVERSION\u001b[0m\u001b[0;34m.\u001b[0m\u001b[0mGL_1_1\u001b[0m \u001b[0;32mimport\u001b[0m \u001b[0m_EXTENSION_NAME\u001b[0m\u001b[0;34m\u001b[0m\u001b[0;34m\u001b[0m\u001b[0m\n\u001b[1;32m     16\u001b[0m \u001b[0;34m\u001b[0m\u001b[0m\n",
            "\u001b[0;32m/usr/local/lib/python3.6/dist-packages/OpenGL/raw/GL/VERSION/GL_1_1.py\u001b[0m in \u001b[0;36m<module>\u001b[0;34m()\u001b[0m\n\u001b[1;32m      5\u001b[0m \u001b[0;31m# End users want this...\u001b[0m\u001b[0;34m\u001b[0m\u001b[0;34m\u001b[0m\u001b[0;34m\u001b[0m\u001b[0m\n\u001b[1;32m      6\u001b[0m \u001b[0;32mfrom\u001b[0m \u001b[0mOpenGL\u001b[0m\u001b[0;34m.\u001b[0m\u001b[0mraw\u001b[0m\u001b[0;34m.\u001b[0m\u001b[0mGL\u001b[0m\u001b[0;34m.\u001b[0m\u001b[0m_types\u001b[0m \u001b[0;32mimport\u001b[0m \u001b[0;34m*\u001b[0m\u001b[0;34m\u001b[0m\u001b[0;34m\u001b[0m\u001b[0m\n\u001b[0;32m----> 7\u001b[0;31m \u001b[0;32mfrom\u001b[0m \u001b[0mOpenGL\u001b[0m\u001b[0;34m.\u001b[0m\u001b[0mraw\u001b[0m\u001b[0;34m.\u001b[0m\u001b[0mGL\u001b[0m \u001b[0;32mimport\u001b[0m \u001b[0m_errors\u001b[0m\u001b[0;34m\u001b[0m\u001b[0;34m\u001b[0m\u001b[0m\n\u001b[0m\u001b[1;32m      8\u001b[0m \u001b[0;32mfrom\u001b[0m \u001b[0mOpenGL\u001b[0m\u001b[0;34m.\u001b[0m\u001b[0mconstant\u001b[0m \u001b[0;32mimport\u001b[0m \u001b[0mConstant\u001b[0m \u001b[0;32mas\u001b[0m \u001b[0m_C\u001b[0m\u001b[0;34m\u001b[0m\u001b[0;34m\u001b[0m\u001b[0m\n\u001b[1;32m      9\u001b[0m \u001b[0;31m# Spec mixes constants from 1.0 and 1.1\u001b[0m\u001b[0;34m\u001b[0m\u001b[0;34m\u001b[0m\u001b[0;34m\u001b[0m\u001b[0m\n",
            "\u001b[0;32m/usr/local/lib/python3.6/dist-packages/OpenGL/raw/GL/_errors.py\u001b[0m in \u001b[0;36m<module>\u001b[0;34m()\u001b[0m\n\u001b[1;32m      2\u001b[0m \u001b[0;32mfrom\u001b[0m \u001b[0mOpenGL\u001b[0m\u001b[0;34m.\u001b[0m\u001b[0merror\u001b[0m \u001b[0;32mimport\u001b[0m \u001b[0m_ErrorChecker\u001b[0m\u001b[0;34m\u001b[0m\u001b[0;34m\u001b[0m\u001b[0m\n\u001b[1;32m      3\u001b[0m \u001b[0;32mif\u001b[0m \u001b[0m_ErrorChecker\u001b[0m\u001b[0;34m:\u001b[0m\u001b[0;34m\u001b[0m\u001b[0;34m\u001b[0m\u001b[0m\n\u001b[0;32m----> 4\u001b[0;31m     \u001b[0m_error_checker\u001b[0m \u001b[0;34m=\u001b[0m \u001b[0m_ErrorChecker\u001b[0m\u001b[0;34m(\u001b[0m \u001b[0m_p\u001b[0m\u001b[0;34m,\u001b[0m \u001b[0m_p\u001b[0m\u001b[0;34m.\u001b[0m\u001b[0mGL\u001b[0m\u001b[0;34m.\u001b[0m\u001b[0mglGetError\u001b[0m \u001b[0;34m)\u001b[0m\u001b[0;34m\u001b[0m\u001b[0;34m\u001b[0m\u001b[0m\n\u001b[0m\u001b[1;32m      5\u001b[0m \u001b[0;32melse\u001b[0m\u001b[0;34m:\u001b[0m\u001b[0;34m\u001b[0m\u001b[0;34m\u001b[0m\u001b[0m\n\u001b[1;32m      6\u001b[0m     \u001b[0m_error_checker\u001b[0m \u001b[0;34m=\u001b[0m \u001b[0;32mNone\u001b[0m\u001b[0;34m\u001b[0m\u001b[0;34m\u001b[0m\u001b[0m\n",
            "\u001b[0;31mAttributeError\u001b[0m: 'NoneType' object has no attribute 'glGetError'"
          ]
        }
      ]
    },
    {
      "cell_type": "code",
      "metadata": {
        "id": "ywp5qzRldSDu",
        "colab_type": "code",
        "colab": {
          "base_uri": "https://localhost:8080/",
          "height": 374
        },
        "outputId": "e1651a0f-5f9d-49ee-bdd7-5a219e14f9a4"
      },
      "source": [
        "\n",
        "# Load the FUZE bottle trimesh and put it in a scene\n",
        "fuze_trimesh = trimesh.load('pyrender/examples/models/fuze.obj')\n",
        "mesh = pyrender.Mesh.from_trimesh(fuze_trimesh)\n",
        "scene = pyrender.Scene()\n",
        "scene.add(mesh)\n",
        "\n",
        "# Set up the camera -- z-axis away from the scene, x-axis right, y-axis up\n",
        "camera = pyrender.PerspectiveCamera(yfov=np.pi / 3.0)\n",
        "s = np.sqrt(2)/2\n",
        "camera_pose = np.array([\n",
        "       [0.0, -s,   s,   0.3],\n",
        "       [1.0,  0.0, 0.0, 0.0],\n",
        "       [0.0,  s,   s,   0.35],\n",
        "       [0.0,  0.0, 0.0, 1.0],\n",
        "    ])\n",
        "scene.add(camera, pose=camera_pose)\n",
        "\n",
        "# Set up the light -- a single spot light in the same spot as the camera\n",
        "light = pyrender.SpotLight(color=np.ones(3), intensity=3.0,\n",
        "                               innerConeAngle=np.pi/16.0)\n",
        "scene.add(light, pose=camera_pose)\n",
        "\n",
        "# Render the scene\n",
        "r = pyrender.OffscreenRenderer(640, 480)\n",
        "color, depth = r.render(scene)\n",
        "\n",
        "# Show the images\n",
        "import matplotlib.pyplot as plt\n",
        "plt.figure()\n",
        "plt.subplot(1,2,1)\n",
        "plt.axis('off')\n",
        "plt.imshow(color)\n",
        "plt.subplot(1,2,2)\n",
        "plt.axis('off')\n",
        "plt.imshow(depth, cmap=plt.cm.gray_r)\n",
        "plt.show()"
      ],
      "execution_count": 6,
      "outputs": [
        {
          "output_type": "error",
          "ename": "ValueError",
          "evalue": "ignored",
          "traceback": [
            "\u001b[0;31m---------------------------------------------------------------------------\u001b[0m",
            "\u001b[0;31mValueError\u001b[0m                                Traceback (most recent call last)",
            "\u001b[0;32m<ipython-input-6-768b66dff3ea>\u001b[0m in \u001b[0;36m<module>\u001b[0;34m()\u001b[0m\n\u001b[1;32m      1\u001b[0m \u001b[0;34m\u001b[0m\u001b[0m\n\u001b[1;32m      2\u001b[0m \u001b[0;31m# Load the FUZE bottle trimesh and put it in a scene\u001b[0m\u001b[0;34m\u001b[0m\u001b[0;34m\u001b[0m\u001b[0;34m\u001b[0m\u001b[0m\n\u001b[0;32m----> 3\u001b[0;31m \u001b[0mfuze_trimesh\u001b[0m \u001b[0;34m=\u001b[0m \u001b[0mtrimesh\u001b[0m\u001b[0;34m.\u001b[0m\u001b[0mload\u001b[0m\u001b[0;34m(\u001b[0m\u001b[0;34m'pyrender/examples/models/fuze.obj'\u001b[0m\u001b[0;34m)\u001b[0m\u001b[0;34m\u001b[0m\u001b[0;34m\u001b[0m\u001b[0m\n\u001b[0m\u001b[1;32m      4\u001b[0m \u001b[0mmesh\u001b[0m \u001b[0;34m=\u001b[0m \u001b[0mpyrender\u001b[0m\u001b[0;34m.\u001b[0m\u001b[0mMesh\u001b[0m\u001b[0;34m.\u001b[0m\u001b[0mfrom_trimesh\u001b[0m\u001b[0;34m(\u001b[0m\u001b[0mfuze_trimesh\u001b[0m\u001b[0;34m)\u001b[0m\u001b[0;34m\u001b[0m\u001b[0;34m\u001b[0m\u001b[0m\n\u001b[1;32m      5\u001b[0m \u001b[0mscene\u001b[0m \u001b[0;34m=\u001b[0m \u001b[0mpyrender\u001b[0m\u001b[0;34m.\u001b[0m\u001b[0mScene\u001b[0m\u001b[0;34m(\u001b[0m\u001b[0;34m)\u001b[0m\u001b[0;34m\u001b[0m\u001b[0;34m\u001b[0m\u001b[0m\n",
            "\u001b[0;32m/usr/local/lib/python3.6/dist-packages/trimesh/exchange/load.py\u001b[0m in \u001b[0;36mload\u001b[0;34m(file_obj, file_type, resolver, force, **kwargs)\u001b[0m\n\u001b[1;32m    121\u001b[0m      \u001b[0;34m)\u001b[0m \u001b[0;34m=\u001b[0m \u001b[0mparse_file_args\u001b[0m\u001b[0;34m(\u001b[0m\u001b[0mfile_obj\u001b[0m\u001b[0;34m=\u001b[0m\u001b[0mfile_obj\u001b[0m\u001b[0;34m,\u001b[0m\u001b[0;34m\u001b[0m\u001b[0;34m\u001b[0m\u001b[0m\n\u001b[1;32m    122\u001b[0m                          \u001b[0mfile_type\u001b[0m\u001b[0;34m=\u001b[0m\u001b[0mfile_type\u001b[0m\u001b[0;34m,\u001b[0m\u001b[0;34m\u001b[0m\u001b[0;34m\u001b[0m\u001b[0m\n\u001b[0;32m--> 123\u001b[0;31m                          resolver=resolver)\n\u001b[0m\u001b[1;32m    124\u001b[0m \u001b[0;34m\u001b[0m\u001b[0m\n\u001b[1;32m    125\u001b[0m     \u001b[0;32mtry\u001b[0m\u001b[0;34m:\u001b[0m\u001b[0;34m\u001b[0m\u001b[0;34m\u001b[0m\u001b[0m\n",
            "\u001b[0;32m/usr/local/lib/python3.6/dist-packages/trimesh/exchange/load.py\u001b[0m in \u001b[0;36mparse_file_args\u001b[0;34m(file_obj, file_type, resolver, **kwargs)\u001b[0m\n\u001b[1;32m    565\u001b[0m                     'use load_remote to load URL: {}'.format(file_obj))\n\u001b[1;32m    566\u001b[0m             \u001b[0;32melif\u001b[0m \u001b[0mfile_type\u001b[0m \u001b[0;32mis\u001b[0m \u001b[0;32mNone\u001b[0m\u001b[0;34m:\u001b[0m\u001b[0;34m\u001b[0m\u001b[0;34m\u001b[0m\u001b[0m\n\u001b[0;32m--> 567\u001b[0;31m                 \u001b[0;32mraise\u001b[0m \u001b[0mValueError\u001b[0m\u001b[0;34m(\u001b[0m\u001b[0;34m'string is not a file: {}'\u001b[0m\u001b[0;34m.\u001b[0m\u001b[0mformat\u001b[0m\u001b[0;34m(\u001b[0m\u001b[0mfile_obj\u001b[0m\u001b[0;34m)\u001b[0m\u001b[0;34m)\u001b[0m\u001b[0;34m\u001b[0m\u001b[0;34m\u001b[0m\u001b[0m\n\u001b[0m\u001b[1;32m    568\u001b[0m \u001b[0;34m\u001b[0m\u001b[0m\n\u001b[1;32m    569\u001b[0m     \u001b[0;32mif\u001b[0m \u001b[0mfile_type\u001b[0m \u001b[0;32mis\u001b[0m \u001b[0;32mNone\u001b[0m\u001b[0;34m:\u001b[0m\u001b[0;34m\u001b[0m\u001b[0;34m\u001b[0m\u001b[0m\n",
            "\u001b[0;31mValueError\u001b[0m: string is not a file: pyrender/examples/models/fuze.obj"
          ]
        }
      ]
    },
    {
      "cell_type": "code",
      "metadata": {
        "id": "pyMHbjh8dR-N",
        "colab_type": "code",
        "colab": {}
      },
      "source": [
        ""
      ],
      "execution_count": null,
      "outputs": []
    },
    {
      "cell_type": "code",
      "metadata": {
        "id": "NZTWJvCWdR8H",
        "colab_type": "code",
        "colab": {}
      },
      "source": [
        ""
      ],
      "execution_count": null,
      "outputs": []
    },
    {
      "cell_type": "code",
      "metadata": {
        "id": "XyuZf7D8z45i",
        "colab_type": "code",
        "colab": {
          "base_uri": "https://localhost:8080/",
          "height": 170
        },
        "outputId": "419adc8c-9c85-47f0-e8a5-51c5e2101f6a"
      },
      "source": [
        "%cd /content\n",
        "!git clone https://github.com/TimoBolkart/voca.git VOCA\n",
        "%cd /content/VOCA"
      ],
      "execution_count": null,
      "outputs": [
        {
          "output_type": "stream",
          "text": [
            "/content\n",
            "Cloning into 'VOCA'...\n",
            "remote: Enumerating objects: 17, done.\u001b[K\n",
            "remote: Counting objects: 100% (17/17), done.\u001b[K\n",
            "remote: Compressing objects: 100% (15/15), done.\u001b[K\n",
            "remote: Total 174 (delta 6), reused 5 (delta 2), pack-reused 157\u001b[K\n",
            "Receiving objects: 100% (174/174), 14.56 MiB | 3.75 MiB/s, done.\n",
            "Resolving deltas: 100% (79/79), done.\n",
            "/content/VOCA\n"
          ],
          "name": "stdout"
        }
      ]
    },
    {
      "cell_type": "code",
      "metadata": {
        "id": "pD9P8VMRL6ky",
        "colab_type": "code",
        "colab": {
          "base_uri": "https://localhost:8080/",
          "height": 190
        },
        "outputId": "21f35c9d-febd-448f-e9b6-bdd2ee78911a"
      },
      "source": [
        "!pip install python_speech_features"
      ],
      "execution_count": null,
      "outputs": [
        {
          "output_type": "stream",
          "text": [
            "Collecting python_speech_features\n",
            "  Downloading https://files.pythonhosted.org/packages/ff/d1/94c59e20a2631985fbd2124c45177abaa9e0a4eee8ba8a305aa26fc02a8e/python_speech_features-0.6.tar.gz\n",
            "Building wheels for collected packages: python-speech-features\n",
            "  Building wheel for python-speech-features (setup.py) ... \u001b[?25l\u001b[?25hdone\n",
            "  Created wheel for python-speech-features: filename=python_speech_features-0.6-cp36-none-any.whl size=5887 sha256=8943cd44f0eb87a29ba70347a443f04bc45c2f17e94a01a838fbe959fd713def\n",
            "  Stored in directory: /root/.cache/pip/wheels/3c/42/7c/f60e9d1b40015cd69b213ad90f7c18a9264cd745b9888134be\n",
            "Successfully built python-speech-features\n",
            "Installing collected packages: python-speech-features\n",
            "Successfully installed python-speech-features-0.6\n"
          ],
          "name": "stdout"
        }
      ]
    },
    {
      "cell_type": "code",
      "metadata": {
        "id": "a9vcoRtaSBQh",
        "colab_type": "code",
        "colab": {
          "base_uri": "https://localhost:8080/",
          "height": 122
        },
        "outputId": "d76bfbf9-724a-4d0b-e0d7-da67d7ec93d0"
      },
      "source": [
        "from google.colab import drive\n",
        "drive.mount('/content/gdrive')"
      ],
      "execution_count": null,
      "outputs": [
        {
          "output_type": "stream",
          "text": [
            "Go to this URL in a browser: https://accounts.google.com/o/oauth2/auth?client_id=947318989803-6bn6qk8qdgf4n4g3pfee6491hc0brc4i.apps.googleusercontent.com&redirect_uri=urn%3aietf%3awg%3aoauth%3a2.0%3aoob&response_type=code&scope=email%20https%3a%2f%2fwww.googleapis.com%2fauth%2fdocs.test%20https%3a%2f%2fwww.googleapis.com%2fauth%2fdrive%20https%3a%2f%2fwww.googleapis.com%2fauth%2fdrive.photos.readonly%20https%3a%2f%2fwww.googleapis.com%2fauth%2fpeopleapi.readonly\n",
            "\n",
            "Enter your authorization code:\n",
            "··········\n",
            "Mounted at /content/gdrive\n"
          ],
          "name": "stdout"
        }
      ]
    },
    {
      "cell_type": "code",
      "metadata": {
        "id": "oWk3LPBpdkFp",
        "colab_type": "code",
        "colab": {
          "base_uri": "https://localhost:8080/",
          "height": 136
        },
        "outputId": "b151a2db-cca8-4a8f-fdbf-bf1e6df7c558"
      },
      "source": [
        "!git clone https://github.com/mmatl/pyrender.git"
      ],
      "execution_count": null,
      "outputs": [
        {
          "output_type": "stream",
          "text": [
            "Cloning into 'pyrender'...\n",
            "remote: Enumerating objects: 28, done.\u001b[K\n",
            "remote: Counting objects:   3% (1/28)\u001b[K\rremote: Counting objects:   7% (2/28)\u001b[K\rremote: Counting objects:  10% (3/28)\u001b[K\rremote: Counting objects:  14% (4/28)\u001b[K\rremote: Counting objects:  17% (5/28)\u001b[K\rremote: Counting objects:  21% (6/28)\u001b[K\rremote: Counting objects:  25% (7/28)\u001b[K\rremote: Counting objects:  28% (8/28)\u001b[K\rremote: Counting objects:  32% (9/28)\u001b[K\rremote: Counting objects:  35% (10/28)\u001b[K\rremote: Counting objects:  39% (11/28)\u001b[K\rremote: Counting objects:  42% (12/28)\u001b[K\rremote: Counting objects:  46% (13/28)\u001b[K\rremote: Counting objects:  50% (14/28)\u001b[K\rremote: Counting objects:  53% (15/28)\u001b[K\rremote: Counting objects:  57% (16/28)\u001b[K\rremote: Counting objects:  60% (17/28)\u001b[K\rremote: Counting objects:  64% (18/28)\u001b[K\rremote: Counting objects:  67% (19/28)\u001b[K\rremote: Counting objects:  71% (20/28)\u001b[K\rremote: Counting objects:  75% (21/28)\u001b[K\rremote: Counting objects:  78% (22/28)\u001b[K\rremote: Counting objects:  82% (23/28)\u001b[K\rremote: Counting objects:  85% (24/28)\u001b[K\rremote: Counting objects:  89% (25/28)\u001b[K\rremote: Counting objects:  92% (26/28)\u001b[K\rremote: Counting objects:  96% (27/28)\u001b[K\rremote: Counting objects: 100% (28/28)\u001b[K\rremote: Counting objects: 100% (28/28), done.\n",
            "remote: Compressing objects: 100% (16/16), done.\u001b[K\n",
            "remote: Total 1122 (delta 10), reused 21 (delta 9), pack-reused 1094\u001b[K\n",
            "Receiving objects: 100% (1122/1122), 28.38 MiB | 13.75 MiB/s, done.\n",
            "Resolving deltas: 100% (661/661), done.\n"
          ],
          "name": "stdout"
        }
      ]
    },
    {
      "cell_type": "code",
      "metadata": {
        "id": "0J1QmWq7zFw5",
        "colab_type": "code",
        "colab": {
          "base_uri": "https://localhost:8080/",
          "height": 904
        },
        "outputId": "f128da6a-35b5-4a01-de93-ce2e84304a36"
      },
      "source": [
        "!python run_voca.py --visualize False --tf_model_fname './model/gstep_52280.model' --ds_fname './ds_graph/output_graph.pb' --audio_fname '../b2-scale512.wav' --template_fname './template/FLAME_sample.ply' --condition_idx 3 --out_path './animation_output'"
      ],
      "execution_count": null,
      "outputs": [
        {
          "output_type": "stream",
          "text": [
            "/usr/local/lib/python3.6/dist-packages/tensorflow/python/framework/dtypes.py:516: FutureWarning: Passing (type, 1) or '1type' as a synonym of type is deprecated; in a future version of numpy, it will be understood as (type, (1,)) / '(1,)type'.\n",
            "  _np_qint8 = np.dtype([(\"qint8\", np.int8, 1)])\n",
            "/usr/local/lib/python3.6/dist-packages/tensorflow/python/framework/dtypes.py:517: FutureWarning: Passing (type, 1) or '1type' as a synonym of type is deprecated; in a future version of numpy, it will be understood as (type, (1,)) / '(1,)type'.\n",
            "  _np_quint8 = np.dtype([(\"quint8\", np.uint8, 1)])\n",
            "/usr/local/lib/python3.6/dist-packages/tensorflow/python/framework/dtypes.py:518: FutureWarning: Passing (type, 1) or '1type' as a synonym of type is deprecated; in a future version of numpy, it will be understood as (type, (1,)) / '(1,)type'.\n",
            "  _np_qint16 = np.dtype([(\"qint16\", np.int16, 1)])\n",
            "/usr/local/lib/python3.6/dist-packages/tensorflow/python/framework/dtypes.py:519: FutureWarning: Passing (type, 1) or '1type' as a synonym of type is deprecated; in a future version of numpy, it will be understood as (type, (1,)) / '(1,)type'.\n",
            "  _np_quint16 = np.dtype([(\"quint16\", np.uint16, 1)])\n",
            "/usr/local/lib/python3.6/dist-packages/tensorflow/python/framework/dtypes.py:520: FutureWarning: Passing (type, 1) or '1type' as a synonym of type is deprecated; in a future version of numpy, it will be understood as (type, (1,)) / '(1,)type'.\n",
            "  _np_qint32 = np.dtype([(\"qint32\", np.int32, 1)])\n",
            "/usr/local/lib/python3.6/dist-packages/tensorflow/python/framework/dtypes.py:525: FutureWarning: Passing (type, 1) or '1type' as a synonym of type is deprecated; in a future version of numpy, it will be understood as (type, (1,)) / '(1,)type'.\n",
            "  np_resource = np.dtype([(\"resource\", np.ubyte, 1)])\n",
            "/usr/local/lib/python3.6/dist-packages/tensorboard/compat/tensorflow_stub/dtypes.py:541: FutureWarning: Passing (type, 1) or '1type' as a synonym of type is deprecated; in a future version of numpy, it will be understood as (type, (1,)) / '(1,)type'.\n",
            "  _np_qint8 = np.dtype([(\"qint8\", np.int8, 1)])\n",
            "/usr/local/lib/python3.6/dist-packages/tensorboard/compat/tensorflow_stub/dtypes.py:542: FutureWarning: Passing (type, 1) or '1type' as a synonym of type is deprecated; in a future version of numpy, it will be understood as (type, (1,)) / '(1,)type'.\n",
            "  _np_quint8 = np.dtype([(\"quint8\", np.uint8, 1)])\n",
            "/usr/local/lib/python3.6/dist-packages/tensorboard/compat/tensorflow_stub/dtypes.py:543: FutureWarning: Passing (type, 1) or '1type' as a synonym of type is deprecated; in a future version of numpy, it will be understood as (type, (1,)) / '(1,)type'.\n",
            "  _np_qint16 = np.dtype([(\"qint16\", np.int16, 1)])\n",
            "/usr/local/lib/python3.6/dist-packages/tensorboard/compat/tensorflow_stub/dtypes.py:544: FutureWarning: Passing (type, 1) or '1type' as a synonym of type is deprecated; in a future version of numpy, it will be understood as (type, (1,)) / '(1,)type'.\n",
            "  _np_quint16 = np.dtype([(\"quint16\", np.uint16, 1)])\n",
            "/usr/local/lib/python3.6/dist-packages/tensorboard/compat/tensorflow_stub/dtypes.py:545: FutureWarning: Passing (type, 1) or '1type' as a synonym of type is deprecated; in a future version of numpy, it will be understood as (type, (1,)) / '(1,)type'.\n",
            "  _np_qint32 = np.dtype([(\"qint32\", np.int32, 1)])\n",
            "/usr/local/lib/python3.6/dist-packages/tensorboard/compat/tensorflow_stub/dtypes.py:550: FutureWarning: Passing (type, 1) or '1type' as a synonym of type is deprecated; in a future version of numpy, it will be understood as (type, (1,)) / '(1,)type'.\n",
            "  np_resource = np.dtype([(\"resource\", np.ubyte, 1)])\n",
            "Audio has multiple channels, only first channel is considered\n",
            "WARNING:tensorflow:From /content/VOCA/utils/audio_handler.py:96: The name tf.gfile.GFile is deprecated. Please use tf.io.gfile.GFile instead.\n",
            "\n",
            "WARNING:tensorflow:From /content/VOCA/utils/audio_handler.py:97: The name tf.GraphDef is deprecated. Please use tf.compat.v1.GraphDef instead.\n",
            "\n",
            "WARNING:tensorflow:From /content/VOCA/utils/audio_handler.py:100: The name tf.get_default_graph is deprecated. Please use tf.compat.v1.get_default_graph instead.\n",
            "\n",
            "WARNING:tensorflow:From /content/VOCA/utils/audio_handler.py:110: The name tf.Session is deprecated. Please use tf.compat.v1.Session instead.\n",
            "\n",
            "2020-07-28 23:57:20.951248: I tensorflow/core/platform/cpu_feature_guard.cc:142] Your CPU supports instructions that this TensorFlow binary was not compiled to use: AVX2 AVX512F FMA\n",
            "2020-07-28 23:57:20.954787: I tensorflow/core/platform/profile_utils/cpu_utils.cc:94] CPU Frequency: 2000175000 Hz\n",
            "2020-07-28 23:57:20.958633: I tensorflow/compiler/xla/service/service.cc:168] XLA service 0x604c1c0 executing computations on platform Host. Devices:\n",
            "2020-07-28 23:57:20.958669: I tensorflow/compiler/xla/service/service.cc:175]   StreamExecutor device (0): <undefined>, <undefined>\n",
            "process audio: subj - seq\n",
            "2020-07-28 23:57:22.153310: W tensorflow/core/framework/allocator.cc:107] Allocation of 201326592 exceeds 10% of system memory.\n",
            "2020-07-28 23:57:22.225179: W tensorflow/core/framework/allocator.cc:107] Allocation of 201326592 exceeds 10% of system memory.\n",
            "2020-07-28 23:57:22.300128: W tensorflow/core/framework/allocator.cc:107] Allocation of 33554432 exceeds 10% of system memory.\n",
            "2020-07-28 23:57:22.317121: W tensorflow/core/framework/allocator.cc:107] Allocation of 33554432 exceeds 10% of system memory.\n",
            "2020-07-28 23:57:22.334067: W tensorflow/core/framework/allocator.cc:107] Allocation of 201326592 exceeds 10% of system memory.\n",
            "2020-07-28 23:57:26.318189: W tensorflow/compiler/jit/mark_for_compilation_pass.cc:1412] (One-time warning): Not using XLA:CPU for cluster because envvar TF_XLA_FLAGS=--tf_xla_cpu_global_jit was not set.  If you want XLA:CPU, either set that envvar, or use experimental_jit_scope to enable XLA:CPU.  To confirm that XLA is active, pass --vmodule=xla_compilation_cache=1 (as a proper command-line flag, not via TF_XLA_FLAGS) or set the envvar XLA_FLAGS=--xla_hlo_profile.\n",
            "WARNING:tensorflow:From /content/VOCA/utils/inference.py:91: The name tf.train.import_meta_graph is deprecated. Please use tf.compat.v1.train.import_meta_graph instead.\n",
            "\n",
            "WARNING:tensorflow:From /usr/local/lib/python3.6/dist-packages/tensorflow/python/training/saver.py:1276: checkpoint_exists (from tensorflow.python.training.checkpoint_management) is deprecated and will be removed in a future version.\n",
            "Instructions for updating:\n",
            "Use standard file APIs to check for files with this prefix.\n",
            "WARNING:tensorflow:From /content/VOCA/utils/inference.py:113: The name tf.reset_default_graph is deprecated. Please use tf.compat.v1.reset_default_graph instead.\n",
            "\n"
          ],
          "name": "stdout"
        }
      ]
    },
    {
      "cell_type": "code",
      "metadata": {
        "id": "waOQ_6fFv1kY",
        "colab_type": "code",
        "colab": {
          "base_uri": "https://localhost:8080/",
          "height": 34
        },
        "outputId": "7658b24f-1719-4ab3-f932-ba6ca8042824"
      },
      "source": [
        "!pwd"
      ],
      "execution_count": null,
      "outputs": [
        {
          "output_type": "stream",
          "text": [
            "/content\n"
          ],
          "name": "stdout"
        }
      ]
    },
    {
      "cell_type": "code",
      "metadata": {
        "id": "T4EDN7zLveSZ",
        "colab_type": "code",
        "colab": {
          "base_uri": "https://localhost:8080/",
          "height": 1000
        },
        "outputId": "ba601fd4-c4ac-469d-e25a-64dbbb165abe"
      },
      "source": [
        "# Install dependencies - OSMesa, mmatl's fork of PyOpenGL\n",
        "!sudo apt update\n",
        "!sudo wget https://github.com/mmatl/travis_debs/raw/master/xenial/mesa_18.3.3-0.deb\n",
        "!sudo dpkg -i ./mesa_18.3.3-0.deb || true\n",
        "!sudo apt install -f\n",
        "!git clone https://github.com/mmatl/pyopengl.git\n",
        "!pip install ./pyopengl"
      ],
      "execution_count": null,
      "outputs": [
        {
          "output_type": "stream",
          "text": [
            "\u001b[33m\r0% [Working]\u001b[0m\r            \rHit:1 http://security.ubuntu.com/ubuntu bionic-security InRelease\n",
            "\u001b[33m\r0% [Connecting to archive.ubuntu.com (91.189.88.152)] [Connecting to cloud.r-pr\u001b[0m\r                                                                               \rHit:2 http://ppa.launchpad.net/graphics-drivers/ppa/ubuntu bionic InRelease\n",
            "\u001b[33m\r0% [Waiting for headers] [Connecting to cloud.r-project.org] [Connected to deve\u001b[0m\u001b[33m\r0% [1 InRelease gpgv 88.7 kB] [Waiting for headers] [Connecting to cloud.r-proj\u001b[0m\r                                                                               \rHit:3 http://archive.ubuntu.com/ubuntu bionic InRelease\n",
            "\u001b[33m\r0% [1 InRelease gpgv 88.7 kB] [Connecting to cloud.r-project.org] [Connected to\u001b[0m\r                                                                               \rHit:4 http://ppa.launchpad.net/marutter/c2d4u3.5/ubuntu bionic InRelease\n",
            "\u001b[33m\r0% [1 InRelease gpgv 88.7 kB] [Waiting for headers] [Connecting to cloud.r-proj\u001b[0m\r                                                                               \rHit:5 http://archive.ubuntu.com/ubuntu bionic-updates InRelease\n",
            "\u001b[33m\r0% [1 InRelease gpgv 88.7 kB] [Waiting for headers] [Connecting to cloud.r-proj\u001b[0m\r                                                                               \rHit:6 http://archive.ubuntu.com/ubuntu bionic-backports InRelease\n",
            "\u001b[33m\r0% [1 InRelease gpgv 88.7 kB] [Connecting to cloud.r-project.org] [Waiting for \u001b[0m\u001b[33m\r                                                                               \r0% [Connecting to cloud.r-project.org] [Waiting for headers]\u001b[0m\u001b[33m\r0% [2 InRelease gpgv 21.3 kB] [Connecting to cloud.r-project.org] [Waiting for \u001b[0m\u001b[33m\r                                                                               \r0% [Connecting to cloud.r-project.org] [Waiting for headers]\u001b[0m\u001b[33m\r0% [3 InRelease gpgv 242 kB] [Connecting to cloud.r-project.org] [Waiting for h\u001b[0m\r                                                                               \rIgn:7 https://developer.download.nvidia.com/compute/cuda/repos/ubuntu1804/x86_64  InRelease\n",
            "\u001b[33m\r0% [3 InRelease gpgv 242 kB] [Connecting to cloud.r-project.org] [Waiting for h\u001b[0m\u001b[33m\r                                                                               \r0% [Connecting to cloud.r-project.org] [Waiting for headers]\u001b[0m\u001b[33m\r0% [4 InRelease gpgv 15.4 kB] [Connecting to cloud.r-project.org] [Waiting for \u001b[0m\u001b[33m\r                                                                               \r0% [Connecting to cloud.r-project.org] [Waiting for headers]\u001b[0m\u001b[33m\r0% [5 InRelease gpgv 88.7 kB] [Connecting to cloud.r-project.org] [Waiting for \u001b[0m\u001b[33m\r                                                                               \r0% [Connecting to cloud.r-project.org] [Waiting for headers]\u001b[0m\u001b[33m\r0% [6 InRelease gpgv 74.6 kB] [Connecting to cloud.r-project.org] [Waiting for \u001b[0m\u001b[33m\r                                                                               \r0% [Connecting to cloud.r-project.org] [Waiting for headers]\u001b[0m\r                                                            \rIgn:8 https://developer.download.nvidia.com/compute/machine-learning/repos/ubuntu1804/x86_64  InRelease\n",
            "\u001b[33m\r                                                            \r0% [Connecting to cloud.r-project.org]\u001b[0m\r                                      \rHit:9 https://developer.download.nvidia.com/compute/cuda/repos/ubuntu1804/x86_64  Release\n",
            "Hit:10 https://developer.download.nvidia.com/compute/machine-learning/repos/ubuntu1804/x86_64  Release\n",
            "Hit:13 https://cloud.r-project.org/bin/linux/ubuntu bionic-cran35/ InRelease\n",
            "Reading package lists... Done\n",
            "Building dependency tree       \n",
            "Reading state information... Done\n",
            "114 packages can be upgraded. Run 'apt list --upgradable' to see them.\n",
            "--2020-07-29 00:32:26--  https://github.com/mmatl/travis_debs/raw/master/xenial/mesa_18.3.3-0.deb\n",
            "Resolving github.com (github.com)... 140.82.118.4\n",
            "Connecting to github.com (github.com)|140.82.118.4|:443... connected.\n",
            "HTTP request sent, awaiting response... 302 Found\n",
            "Location: https://raw.githubusercontent.com/mmatl/travis_debs/master/xenial/mesa_18.3.3-0.deb [following]\n",
            "--2020-07-29 00:32:26--  https://raw.githubusercontent.com/mmatl/travis_debs/master/xenial/mesa_18.3.3-0.deb\n",
            "Resolving raw.githubusercontent.com (raw.githubusercontent.com)... 151.101.0.133, 151.101.64.133, 151.101.128.133, ...\n",
            "Connecting to raw.githubusercontent.com (raw.githubusercontent.com)|151.101.0.133|:443... connected.\n",
            "HTTP request sent, awaiting response... 200 OK\n",
            "Length: 31776942 (30M) [application/octet-stream]\n",
            "Saving to: ‘mesa_18.3.3-0.deb’\n",
            "\n",
            "mesa_18.3.3-0.deb   100%[===================>]  30.30M   151MB/s    in 0.2s    \n",
            "\n",
            "2020-07-29 00:32:27 (151 MB/s) - ‘mesa_18.3.3-0.deb’ saved [31776942/31776942]\n",
            "\n",
            "(Reading database ... 146351 files and directories currently installed.)\n",
            "Preparing to unpack ./mesa_18.3.3-0.deb ...\n",
            "Unpacking mesa (18.3.3-0) over (18.3.3-0) ...\n",
            "Setting up mesa (18.3.3-0) ...\n",
            "Reading package lists... Done\n",
            "Building dependency tree       \n",
            "Reading state information... Done\n",
            "The following package was automatically installed and is no longer required:\n",
            "  libnvidia-common-440\n",
            "Use 'sudo apt autoremove' to remove it.\n",
            "0 upgraded, 0 newly installed, 0 to remove and 114 not upgraded.\n",
            "Cloning into 'pyopengl'...\n",
            "remote: Enumerating objects: 26044, done.\u001b[K\n",
            "remote: Total 26044 (delta 0), reused 0 (delta 0), pack-reused 26044\u001b[K\n",
            "Receiving objects: 100% (26044/26044), 23.94 MiB | 13.13 MiB/s, done.\n",
            "Resolving deltas: 100% (21680/21680), done.\n",
            "Processing ./pyopengl\n",
            "Building wheels for collected packages: PyOpenGL\n",
            "  Building wheel for PyOpenGL (setup.py) ... \u001b[?25l\u001b[?25hdone\n",
            "  Created wheel for PyOpenGL: filename=PyOpenGL-3.1.0-cp36-none-any.whl size=2349655 sha256=116246ed4a8d29bc50bca95f56612c6a2e60253ca486f9303a5a4152b4904a8c\n",
            "  Stored in directory: /tmp/pip-ephem-wheel-cache-hyrzjk4l/wheels/89/5f/69/d65a30306708045f091e76d7e2dd024890b9bcd662988921d3\n",
            "Successfully built PyOpenGL\n",
            "Installing collected packages: PyOpenGL\n",
            "  Found existing installation: PyOpenGL 3.1.0\n",
            "    Uninstalling PyOpenGL-3.1.0:\n",
            "      Successfully uninstalled PyOpenGL-3.1.0\n",
            "Successfully installed PyOpenGL-3.1.0\n"
          ],
          "name": "stdout"
        }
      ]
    },
    {
      "cell_type": "code",
      "metadata": {
        "id": "y7Qc356KxCRR",
        "colab_type": "code",
        "colab": {}
      },
      "source": [
        "import os\n",
        "os.environ[\"PYOPENGL_PLATFORM\"] = \"osmesa\"\n",
        "import numpy as np\n",
        "import trimesh\n",
        "import pyrender"
      ],
      "execution_count": null,
      "outputs": []
    },
    {
      "cell_type": "code",
      "metadata": {
        "id": "S-sneLdAxj6b",
        "colab_type": "code",
        "colab": {
          "base_uri": "https://localhost:8080/",
          "height": 34
        },
        "outputId": "f9203bc6-eef4-44d4-9d3c-9c32110b842a"
      },
      "source": [
        "!pwd"
      ],
      "execution_count": null,
      "outputs": [
        {
          "output_type": "stream",
          "text": [
            "/content\n"
          ],
          "name": "stdout"
        }
      ]
    },
    {
      "cell_type": "code",
      "metadata": {
        "id": "ogRXlKQ2xTOq",
        "colab_type": "code",
        "colab": {
          "base_uri": "https://localhost:8080/",
          "height": 145
        },
        "outputId": "40b5979c-f6c1-4860-fa52-16b61896c4cd"
      },
      "source": [
        "# Load the FUZE bottle trimesh and put it in a scene\n",
        "fuze_trimesh = trimesh.load('VOCA/pyrender/examples/models/fuze.obj')\n",
        "mesh = pyrender.Mesh.from_trimesh(fuze_trimesh)\n",
        "scene = pyrender.Scene()\n",
        "scene.add(mesh)\n",
        "\n",
        "# Set up the camera -- z-axis away from the scene, x-axis right, y-axis up\n",
        "camera = pyrender.PerspectiveCamera(yfov=np.pi / 3.0)\n",
        "s = np.sqrt(2)/2\n",
        "camera_pose = np.array([\n",
        "       [0.0, -s,   s,   0.3],\n",
        "       [1.0,  0.0, 0.0, 0.0],\n",
        "       [0.0,  s,   s,   0.35],\n",
        "       [0.0,  0.0, 0.0, 1.0],\n",
        "    ])\n",
        "scene.add(camera, pose=camera_pose)\n",
        "\n",
        "# Set up the light -- a single spot light in the same spot as the camera\n",
        "light = pyrender.SpotLight(color=np.ones(3), intensity=3.0,\n",
        "                               innerConeAngle=np.pi/16.0)\n",
        "scene.add(light, pose=camera_pose)\n",
        "\n",
        "# Render the scene\n",
        "r = pyrender.OffscreenRenderer(640, 480)\n",
        "color, depth = r.render(scene)\n",
        "\n",
        "# Show the images\n",
        "import matplotlib.pyplot as plt\n",
        "\n",
        "plt.figure()\n",
        "plt.subplot(1,2,1)\n",
        "plt.axis('off')\n",
        "plt.imshow(color)\n",
        "plt.subplot(1,2,2)\n",
        "plt.axis('off')\n",
        "\n",
        "plt.imshow(depth, cmap=plt.cm.gray_r)\n",
        "plt.show()"
      ],
      "execution_count": null,
      "outputs": [
        {
          "output_type": "display_data",
          "data": {
            "image/png": "[encoded data removed]",
            "text/plain": [
              "<Figure size 432x288 with 2 Axes>"
            ]
          },
          "metadata": {
            "tags": [],
            "needs_background": "light"
          }
        }
      ]
    },
    {
      "cell_type": "code",
      "metadata": {
        "id": "WJmiJCQsxcWR",
        "colab_type": "code",
        "colab": {}
      },
      "source": [
        "def render_sequence_meshes(audio_fname, sequence_vertices, template, out_path):\n",
        "    \"\"\"\n",
        "    This function is used for rendering meshes(obj files) into images.\n",
        "    The original function is defined in util.inference, but this is some issue while running it directly with osmesa.\n",
        "    Input:\n",
        "        audio_fname (string): audio file name\n",
        "        sequence_vertices(list): a list of obj vetexs\n",
        "        template: \n",
        "        out_path: location of generation video\n",
        "    \n",
        "    \n",
        "    \"\"\"\n",
        "    if not os.path.exists(out_path):\n",
        "        os.makedirs(out_path)\n",
        "    tmp_filename = out_path + '/tmp_video.mp4'\n",
        "        \n",
        "    if int(cv2.__version__[0]) < 3:\n",
        "        writer = cv2.VideoWriter(tmp_filename, cv2.cv.CV_FOURCC(*'mp4v'), 60, (800, 800), True)\n",
        "    else:\n",
        "        writer = cv2.VideoWriter(tmp_filename, cv2.VideoWriter_fourcc(*'mp4v'), 60, (800, 800), True)\n",
        "\n",
        "    num_frames = sequence_vertices.shape[0]\n",
        "    center = np.mean(sequence_vertices[0], axis=0)\n",
        "    for i_frame in tqdm(range(num_frames)):\n",
        "        img = render_mesh_helper(Mesh(sequence_vertices[i_frame], template.f), center)\n",
        "        writer.write(img)\n",
        "    writer.release()\n",
        "\n",
        "    video_fname = os.path.join(out_path, 'video.mp4')\n",
        "\n",
        "    cmd = ('ffmpeg' + ' -i {0} -i {1} -vcodec h264 -ac 2 -channel_layout stereo -pix_fmt yuv420p {2}'.format(\n",
        "        audio_fname, tmp_filename, video_fname)).split()\n",
        "    print(cmd)\n",
        "    subprocess.call(cmd)\n",
        "    \n",
        "    print(\"Generation Done...\")"
      ],
      "execution_count": null,
      "outputs": []
    },
    {
      "cell_type": "code",
      "metadata": {
        "id": "jrjcX2ZVxyNB",
        "colab_type": "code",
        "colab": {
          "base_uri": "https://localhost:8080/",
          "height": 34
        },
        "outputId": "2400f897-9052-434a-bf21-a8100a430205"
      },
      "source": [
        "import argparse\n",
        "\n",
        "parser = argparse.ArgumentParser(description='Sequence visualization')\n",
        "parser.add_argument('--sequence_path', default='./VOCA/animation_output', help='Path to motion sequence')\n",
        "parser.add_argument('--audio_fname', default='', help='Path of speech sequence')\n",
        "parser.add_argument('--out_path', default='./VOCA/animation_visualization', help='Output path')\n",
        "\n",
        "args = parser.parse_args(args=[])\n",
        "\n",
        "# add new path\n",
        "\n",
        "# Eng sample \n",
        "args.sequence_path = './VOCA/animation_output/meshes/'\n",
        "args.audio_fname = './b2-scale512.wav'\n",
        "\n",
        "# Korean Sample\n",
        "# args.sequence_path = './animation_output/Korean/meshes/'\n",
        "# args.audio_frame = './audio/story_korean_30.wav'\n",
        "\n",
        "# Korean Sample\n",
        "# args.sequence_path = './animation_output/Koo/meshes/'\n",
        "# args.audio_fname = './audio/koo.wav'\n",
        "# args.out_path = './animation_visualization/koo/'\n",
        "\n",
        "\n",
        "# Add Eye-blink\n",
        "#args.sequence_path = './FLAME_eye_blink/meshes/'\n",
        "#args.audio_fname = './audio/test_sentence.wav'\n",
        "\n",
        "# Acheive useful directories\n",
        "sequence_path = args.sequence_path\n",
        "audio_fname = args.audio_fname\n",
        "out_path = args.out_path\n",
        "\n",
        "print(args)"
      ],
      "execution_count": null,
      "outputs": [
        {
          "output_type": "stream",
          "text": [
            "Namespace(audio_fname='./b2-scale512.wav', out_path='./VOCA/animation_visualization', sequence_path='./VOCA/animation_output/meshes/')\n"
          ],
          "name": "stdout"
        }
      ]
    },
    {
      "cell_type": "code",
      "metadata": {
        "id": "43Orx0s5yBmK",
        "colab_type": "code",
        "colab": {
          "base_uri": "https://localhost:8080/",
          "height": 51
        },
        "outputId": "556159b1-47d4-4637-ca01-0eb53bd23ffd"
      },
      "source": [
        "import glob\n",
        "import time\n",
        "from tqdm import tqdm\n",
        "from tqdm import trange\n",
        "\n",
        "import trimesh\n",
        "from psbody.mesh import Mesh\n",
        "\n",
        "# Load vertexex into a list from obj files\n",
        "sequence_fnames = sorted(glob.glob(os.path.join(sequence_path, '*.obj')))\n",
        "if len(sequence_fnames) == 0:\n",
        "    print('No meshes found')\n",
        "\n",
        "sequence_vertices = []\n",
        "\n",
        "f = None\n",
        "for frame_idx, mesh_fname in tqdm(enumerate(sequence_fnames)):\n",
        "    frame = Mesh(filename=mesh_fname)\n",
        "    sequence_vertices.append(frame.v)\n",
        "    if f is None:\n",
        "        f = frame.f\n",
        "\n",
        "template = Mesh(sequence_vertices[0], f)\n",
        "sequence_vertices = np.stack(sequence_vertices)\n",
        "print(sequence_vertices.shape)"
      ],
      "execution_count": null,
      "outputs": [
        {
          "output_type": "stream",
          "text": [
            "1338it [00:35, 37.92it/s]"
          ],
          "name": "stderr"
        },
        {
          "output_type": "stream",
          "text": [
            "(1338, 5023, 3)\n"
          ],
          "name": "stdout"
        },
        {
          "output_type": "stream",
          "text": [
            "\n"
          ],
          "name": "stderr"
        }
      ]
    },
    {
      "cell_type": "code",
      "metadata": {
        "id": "mdmKxzSyyTzk",
        "colab_type": "code",
        "colab": {
          "base_uri": "https://localhost:8080/",
          "height": 105
        },
        "outputId": "11c8b410-77b0-4ab3-8885-4cf280a93563"
      },
      "source": [
        "import cv2\n",
        "import subprocess\n",
        "from subprocess import call\n",
        "from VOCA.utils.rendering import get_unit_factor, render_mesh_helper\n",
        "\n",
        "render_sequence_meshes(audio_fname, sequence_vertices, template, out_path)"
      ],
      "execution_count": null,
      "outputs": [
        {
          "output_type": "stream",
          "text": [
            "100%|██████████| 1338/1338 [08:52<00:00,  2.51it/s]"
          ],
          "name": "stderr"
        },
        {
          "output_type": "stream",
          "text": [
            "['ffmpeg', '-i', './b2-scale512.wav', '-i', './VOCA/animation_visualization/tmp_video.mp4', '-vcodec', 'h264', '-ac', '2', '-channel_layout', 'stereo', '-pix_fmt', 'yuv420p', './VOCA/animation_visualization/video.mp4']\n",
            "Generation Done...\n"
          ],
          "name": "stdout"
        },
        {
          "output_type": "stream",
          "text": [
            "\n"
          ],
          "name": "stderr"
        }
      ]
    },
    {
      "cell_type": "code",
      "metadata": {
        "id": "v8G6BnXQzlpf",
        "colab_type": "code",
        "colab": {}
      },
      "source": [
        ""
      ],
      "execution_count": null,
      "outputs": []
    }
  ]
}
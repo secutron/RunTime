{
  "nbformat": 4,
  "nbformat_minor": 0,
  "metadata": {
    "colab": {
      "name": "VOCA.ipynb",
      "provenance": [],
      "mount_file_id": "https://github.com/secutron/RunTime/blob/master/VOCA.ipynb",
      "authorship_tag": "ABX9TyNjW4vIjemRgHSrzNnoOF2D",
      "include_colab_link": true
    },
    "kernelspec": {
      "name": "python3",
      "display_name": "Python 3"
    },
    "accelerator": "GPU"
  },
  "cells": [
    {
      "cell_type": "markdown",
      "metadata": {
        "id": "view-in-github",
        "colab_type": "text"
      },
      "source": [
        "<a href=\"https://colab.research.google.com/github/secutron/RunTime/blob/master/VOCA.ipynb\" target=\"_parent\"><img src=\"https://colab.research.google.com/assets/colab-badge.svg\" alt=\"Open In Colab\"/></a>"
      ]
    },
    {
      "cell_type": "code",
      "metadata": {
        "id": "ediyWfKvidlu",
        "colab_type": "code",
        "colab": {
          "base_uri": "https://localhost:8080/",
          "height": 700
        },
        "outputId": "6d979de2-8793-4cde-c19f-62c4bb9a5b05"
      },
      "source": [
        "#!pip install Python==3.6.8\n",
        "!pip install tensorflow==1.14.0\n"
      ],
      "execution_count": 1,
      "outputs": [
        {
          "output_type": "stream",
          "text": [
            "Collecting tensorflow==1.14.0\n",
            "\u001b[?25l  Downloading https://files.pythonhosted.org/packages/de/f0/96fb2e0412ae9692dbf400e5b04432885f677ad6241c088ccc5fe7724d69/tensorflow-1.14.0-cp36-cp36m-manylinux1_x86_64.whl (109.2MB)\n",
            "\u001b[K     |████████████████████████████████| 109.2MB 94kB/s \n",
            "\u001b[?25hRequirement already satisfied: gast>=0.2.0 in /usr/local/lib/python3.6/dist-packages (from tensorflow==1.14.0) (0.3.3)\n",
            "Requirement already satisfied: six>=1.10.0 in /usr/local/lib/python3.6/dist-packages (from tensorflow==1.14.0) (1.15.0)\n",
            "Requirement already satisfied: wrapt>=1.11.1 in /usr/local/lib/python3.6/dist-packages (from tensorflow==1.14.0) (1.12.1)\n",
            "Requirement already satisfied: protobuf>=3.6.1 in /usr/local/lib/python3.6/dist-packages (from tensorflow==1.14.0) (3.12.2)\n",
            "Collecting tensorboard<1.15.0,>=1.14.0\n",
            "\u001b[?25l  Downloading https://files.pythonhosted.org/packages/91/2d/2ed263449a078cd9c8a9ba50ebd50123adf1f8cfbea1492f9084169b89d9/tensorboard-1.14.0-py3-none-any.whl (3.1MB)\n",
            "\u001b[K     |████████████████████████████████| 3.2MB 46.3MB/s \n",
            "\u001b[?25hRequirement already satisfied: numpy<2.0,>=1.14.5 in /usr/local/lib/python3.6/dist-packages (from tensorflow==1.14.0) (1.18.5)\n",
            "Requirement already satisfied: grpcio>=1.8.6 in /usr/local/lib/python3.6/dist-packages (from tensorflow==1.14.0) (1.30.0)\n",
            "Requirement already satisfied: keras-applications>=1.0.6 in /usr/local/lib/python3.6/dist-packages (from tensorflow==1.14.0) (1.0.8)\n",
            "Collecting tensorflow-estimator<1.15.0rc0,>=1.14.0rc0\n",
            "\u001b[?25l  Downloading https://files.pythonhosted.org/packages/3c/d5/21860a5b11caf0678fbc8319341b0ae21a07156911132e0e71bffed0510d/tensorflow_estimator-1.14.0-py2.py3-none-any.whl (488kB)\n",
            "\u001b[K     |████████████████████████████████| 491kB 37.4MB/s \n",
            "\u001b[?25hRequirement already satisfied: google-pasta>=0.1.6 in /usr/local/lib/python3.6/dist-packages (from tensorflow==1.14.0) (0.2.0)\n",
            "Requirement already satisfied: wheel>=0.26 in /usr/local/lib/python3.6/dist-packages (from tensorflow==1.14.0) (0.34.2)\n",
            "Requirement already satisfied: astor>=0.6.0 in /usr/local/lib/python3.6/dist-packages (from tensorflow==1.14.0) (0.8.1)\n",
            "Requirement already satisfied: termcolor>=1.1.0 in /usr/local/lib/python3.6/dist-packages (from tensorflow==1.14.0) (1.1.0)\n",
            "Requirement already satisfied: keras-preprocessing>=1.0.5 in /usr/local/lib/python3.6/dist-packages (from tensorflow==1.14.0) (1.1.2)\n",
            "Requirement already satisfied: absl-py>=0.7.0 in /usr/local/lib/python3.6/dist-packages (from tensorflow==1.14.0) (0.9.0)\n",
            "Requirement already satisfied: setuptools in /usr/local/lib/python3.6/dist-packages (from protobuf>=3.6.1->tensorflow==1.14.0) (49.2.0)\n",
            "Requirement already satisfied: werkzeug>=0.11.15 in /usr/local/lib/python3.6/dist-packages (from tensorboard<1.15.0,>=1.14.0->tensorflow==1.14.0) (1.0.1)\n",
            "Requirement already satisfied: markdown>=2.6.8 in /usr/local/lib/python3.6/dist-packages (from tensorboard<1.15.0,>=1.14.0->tensorflow==1.14.0) (3.2.2)\n",
            "Requirement already satisfied: h5py in /usr/local/lib/python3.6/dist-packages (from keras-applications>=1.0.6->tensorflow==1.14.0) (2.10.0)\n",
            "Requirement already satisfied: importlib-metadata; python_version < \"3.8\" in /usr/local/lib/python3.6/dist-packages (from markdown>=2.6.8->tensorboard<1.15.0,>=1.14.0->tensorflow==1.14.0) (1.7.0)\n",
            "Requirement already satisfied: zipp>=0.5 in /usr/local/lib/python3.6/dist-packages (from importlib-metadata; python_version < \"3.8\"->markdown>=2.6.8->tensorboard<1.15.0,>=1.14.0->tensorflow==1.14.0) (3.1.0)\n",
            "Installing collected packages: tensorboard, tensorflow-estimator, tensorflow\n",
            "  Found existing installation: tensorboard 2.2.2\n",
            "    Uninstalling tensorboard-2.2.2:\n",
            "      Successfully uninstalled tensorboard-2.2.2\n",
            "  Found existing installation: tensorflow-estimator 2.2.0\n",
            "    Uninstalling tensorflow-estimator-2.2.0:\n",
            "      Successfully uninstalled tensorflow-estimator-2.2.0\n",
            "  Found existing installation: tensorflow 2.2.0\n",
            "    Uninstalling tensorflow-2.2.0:\n",
            "      Successfully uninstalled tensorflow-2.2.0\n",
            "Successfully installed tensorboard-1.14.0 tensorflow-1.14.0 tensorflow-estimator-1.14.0\n"
          ],
          "name": "stdout"
        }
      ]
    },
    {
      "cell_type": "code",
      "metadata": {
        "id": "Icv6o5Bn1X8f",
        "colab_type": "code",
        "colab": {
          "base_uri": "https://localhost:8080/",
          "height": 34
        },
        "outputId": "3c4ccd18-6bbd-4633-a32b-991fb3aeddac"
      },
      "source": [
        "!pip install -r requirements-mesh.txt"
      ],
      "execution_count": 2,
      "outputs": [
        {
          "output_type": "stream",
          "text": [
            "\u001b[31mERROR: Could not open requirements file: [Errno 2] No such file or directory: 'requirements-mesh.txt'\u001b[0m\n"
          ],
          "name": "stdout"
        }
      ]
    },
    {
      "cell_type": "code",
      "metadata": {
        "id": "8H5bX-7-7Xz2",
        "colab_type": "code",
        "colab": {
          "base_uri": "https://localhost:8080/",
          "height": 136
        },
        "outputId": "9c2e7c08-d828-408a-c4ec-fb0e80b8575b"
      },
      "source": [
        "!git clone https://github.com/MPI-IS/mesh.git MESH"
      ],
      "execution_count": 3,
      "outputs": [
        {
          "output_type": "stream",
          "text": [
            "Cloning into 'MESH'...\n",
            "remote: Enumerating objects: 92, done.\u001b[K\n",
            "remote: Counting objects: 100% (92/92), done.\u001b[K\n",
            "remote: Compressing objects: 100% (61/61), done.\u001b[K\n",
            "remote: Total 307 (delta 47), reused 57 (delta 30), pack-reused 215\u001b[K\n",
            "Receiving objects: 100% (307/307), 19.72 MiB | 9.19 MiB/s, done.\n",
            "Resolving deltas: 100% (140/140), done.\n"
          ],
          "name": "stdout"
        }
      ]
    },
    {
      "cell_type": "code",
      "metadata": {
        "id": "J2ggBV3T807i",
        "colab_type": "code",
        "colab": {
          "base_uri": "https://localhost:8080/",
          "height": 1000
        },
        "outputId": "5ef7d117-d52b-4b41-b504-ca22a44b4f30"
      },
      "source": [
        "%cd /content/MESH\n",
        "!pip install pyrender\n",
        "!make all"
      ],
      "execution_count": 4,
      "outputs": [
        {
          "output_type": "stream",
          "text": [
            "/content/MESH\n",
            "Collecting pyrender\n",
            "\u001b[?25l  Downloading https://files.pythonhosted.org/packages/5d/ad/c0ddb46516cc35f58f1d9a0b516eb8aeba962b054aa9b1ea8e5ed4127f8b/pyrender-0.1.43-py3-none-any.whl (1.2MB)\n",
            "\u001b[K     |████████████████████████████████| 1.2MB 2.8MB/s \n",
            "\u001b[?25hRequirement already satisfied: Pillow in /usr/local/lib/python3.6/dist-packages (from pyrender) (7.0.0)\n",
            "Requirement already satisfied: six in /usr/local/lib/python3.6/dist-packages (from pyrender) (1.15.0)\n",
            "Requirement already satisfied: numpy in /usr/local/lib/python3.6/dist-packages (from pyrender) (1.18.5)\n",
            "Requirement already satisfied: imageio in /usr/local/lib/python3.6/dist-packages (from pyrender) (2.4.1)\n",
            "Requirement already satisfied: pyglet>=1.4.10 in /usr/local/lib/python3.6/dist-packages (from pyrender) (1.5.0)\n",
            "Collecting trimesh\n",
            "\u001b[?25l  Downloading https://files.pythonhosted.org/packages/2f/27/f911a12e6c3f272fb7b40015a54c41223dd90d19cdbc6ae3ad45b8cee162/trimesh-3.7.14-py3-none-any.whl (619kB)\n",
            "\u001b[K     |████████████████████████████████| 624kB 18.3MB/s \n",
            "\u001b[?25hRequirement already satisfied: scipy in /usr/local/lib/python3.6/dist-packages (from pyrender) (1.4.1)\n",
            "Collecting freetype-py\n",
            "\u001b[?25l  Downloading https://files.pythonhosted.org/packages/40/b5/56751e13f8b4a42f52c1b85ecce1446f83245190d820b42748eb8574ae43/freetype_py-2.2.0-py3-none-manylinux1_x86_64.whl (890kB)\n",
            "\u001b[K     |████████████████████████████████| 890kB 19.0MB/s \n",
            "\u001b[?25hRequirement already satisfied: networkx in /usr/local/lib/python3.6/dist-packages (from pyrender) (2.4)\n",
            "Collecting PyOpenGL==3.1.0\n",
            "\u001b[?25l  Downloading https://files.pythonhosted.org/packages/9c/1d/4544708aaa89f26c97cc09450bb333a23724a320923e74d73e028b3560f9/PyOpenGL-3.1.0.tar.gz (1.2MB)\n",
            "\u001b[K     |████████████████████████████████| 1.2MB 28.2MB/s \n",
            "\u001b[?25hRequirement already satisfied: future in /usr/local/lib/python3.6/dist-packages (from pyglet>=1.4.10->pyrender) (0.16.0)\n",
            "Requirement already satisfied: setuptools in /usr/local/lib/python3.6/dist-packages (from trimesh->pyrender) (49.2.0)\n",
            "Requirement already satisfied: decorator>=4.3.0 in /usr/local/lib/python3.6/dist-packages (from networkx->pyrender) (4.4.2)\n",
            "Building wheels for collected packages: PyOpenGL\n",
            "  Building wheel for PyOpenGL (setup.py) ... \u001b[?25l\u001b[?25hdone\n",
            "  Created wheel for PyOpenGL: filename=PyOpenGL-3.1.0-cp36-none-any.whl size=1745212 sha256=5faf464fc2543b9f3833ccd7b8412388c6055ee19e7f7fdd13f38c8323b1baf4\n",
            "  Stored in directory: /root/.cache/pip/wheels/6c/00/7f/1dd736f380848720ad79a1a1de5272e0d3f79c15a42968fb58\n",
            "Successfully built PyOpenGL\n",
            "Installing collected packages: trimesh, freetype-py, PyOpenGL, pyrender\n",
            "  Found existing installation: PyOpenGL 3.1.5\n",
            "    Uninstalling PyOpenGL-3.1.5:\n",
            "      Successfully uninstalled PyOpenGL-3.1.5\n",
            "Successfully installed PyOpenGL-3.1.0 freetype-py-2.2.0 pyrender-0.1.43 trimesh-3.7.14\n",
            "\u001b[0;36m----- [ mesh_package ] Installing with the interpreter /usr/local/bin/python (version 3.6.9)\u001b[0m\n",
            "Collecting setuptools\n",
            "\u001b[?25l  Downloading https://files.pythonhosted.org/packages/ed/16/e9f5c5b86696da09298ea10c32d68ad8ea21f888e45b11aa9e615adda6c9/setuptools-49.2.1-py3-none-any.whl (789kB)\n",
            "\u001b[K     |████████████████████████████████| 798kB 2.6MB/s \n",
            "\u001b[?25hCollecting numpy\n",
            "\u001b[?25l  Downloading https://files.pythonhosted.org/packages/b1/9a/7d474ba0860a41f771c9523d8c4ea56b084840b5ca4092d96bdee8a3b684/numpy-1.19.1-cp36-cp36m-manylinux2010_x86_64.whl (14.5MB)\n",
            "\u001b[K     |████████████████████████████████| 14.5MB 236kB/s \n",
            "\u001b[?25hCollecting matplotlib\n",
            "\u001b[?25l  Downloading https://files.pythonhosted.org/packages/93/ae/81b1c98ae97350711adb021ee12ea678b37f608ec2faa35c3a7db11795fa/matplotlib-3.3.0-1-cp36-cp36m-manylinux1_x86_64.whl (11.5MB)\n",
            "\u001b[K     |████████████████████████████████| 11.5MB 56.6MB/s \n",
            "\u001b[?25hCollecting scipy\n",
            "\u001b[?25l  Downloading https://files.pythonhosted.org/packages/2b/a8/f4c66eb529bb252d50e83dbf2909c6502e2f857550f22571ed8556f62d95/scipy-1.5.2-cp36-cp36m-manylinux1_x86_64.whl (25.9MB)\n",
            "\u001b[K     |████████████████████████████████| 25.9MB 119kB/s \n",
            "\u001b[?25hCollecting pyopengl\n",
            "\u001b[?25l  Downloading https://files.pythonhosted.org/packages/47/9a/8d9364533ebcaa13621994a63dcc6a6051e27671ae5e1715dac4af18cac2/PyOpenGL-3.1.5-py3-none-any.whl (2.4MB)\n",
            "\u001b[K     |████████████████████████████████| 2.4MB 49.4MB/s \n",
            "\u001b[?25hCollecting pillow\n",
            "\u001b[?25l  Downloading https://files.pythonhosted.org/packages/30/bf/92385b4262178ca22b34f82e0e09c2922eb351fe39f3cc7b8ba9ea555b41/Pillow-7.2.0-cp36-cp36m-manylinux1_x86_64.whl (2.2MB)\n",
            "\u001b[K     |████████████████████████████████| 2.2MB 57.3MB/s \n",
            "\u001b[?25hCollecting pyzmq\n",
            "\u001b[?25l  Downloading https://files.pythonhosted.org/packages/56/ff/34bf45e5cf8367edcf4946b26690f0982b3ec701b0a655edfe562d29e246/pyzmq-19.0.2-cp36-cp36m-manylinux1_x86_64.whl (1.1MB)\n",
            "\u001b[K     |████████████████████████████████| 1.1MB 51.6MB/s \n",
            "\u001b[?25hCollecting pyyaml\n",
            "\u001b[?25l  Downloading https://files.pythonhosted.org/packages/64/c2/b80047c7ac2478f9501676c988a5411ed5572f35d1beff9cae07d321512c/PyYAML-5.3.1.tar.gz (269kB)\n",
            "\u001b[K     |████████████████████████████████| 276kB 56.5MB/s \n",
            "\u001b[?25hCollecting opencv-python\n",
            "\u001b[?25l  Downloading https://files.pythonhosted.org/packages/30/5f/fb53ff33b16add066e902c6579330cfb34cd908d7fac13ec36da1e1cf26f/opencv_python-4.3.0.36-cp36-cp36m-manylinux2014_x86_64.whl (43.7MB)\n",
            "\u001b[K     |████████████████████████████████| 43.7MB 68kB/s \n",
            "\u001b[?25hRequirement already satisfied, skipping upgrade: kiwisolver>=1.0.1 in /usr/local/lib/python3.6/dist-packages (from matplotlib->-r requirements.txt (line 3)) (1.2.0)\n",
            "Requirement already satisfied, skipping upgrade: pyparsing!=2.0.4,!=2.1.2,!=2.1.6,>=2.0.3 in /usr/local/lib/python3.6/dist-packages (from matplotlib->-r requirements.txt (line 3)) (2.4.7)\n",
            "Requirement already satisfied, skipping upgrade: python-dateutil>=2.1 in /usr/local/lib/python3.6/dist-packages (from matplotlib->-r requirements.txt (line 3)) (2.8.1)\n",
            "Requirement already satisfied, skipping upgrade: cycler>=0.10 in /usr/local/lib/python3.6/dist-packages (from matplotlib->-r requirements.txt (line 3)) (0.10.0)\n",
            "Requirement already satisfied, skipping upgrade: six>=1.5 in /usr/local/lib/python3.6/dist-packages (from python-dateutil>=2.1->matplotlib->-r requirements.txt (line 3)) (1.15.0)\n",
            "Building wheels for collected packages: pyyaml\n",
            "  Building wheel for pyyaml (setup.py) ... \u001b[?25l\u001b[?25hdone\n",
            "  Created wheel for pyyaml: filename=PyYAML-5.3.1-cp36-cp36m-linux_x86_64.whl size=44621 sha256=d46f9a6860595ec90ed47fe5da6fa9c3c3919b5d544f97f75c345f5757ca82e4\n",
            "  Stored in directory: /root/.cache/pip/wheels/a7/c1/ea/cf5bd31012e735dc1dfea3131a2d5eae7978b251083d6247bd\n",
            "Successfully built pyyaml\n",
            "\u001b[31mERROR: pyrender 0.1.43 has requirement PyOpenGL==3.1.0, but you'll have pyopengl 3.1.5 which is incompatible.\u001b[0m\n",
            "\u001b[31mERROR: datascience 0.10.6 has requirement folium==0.2.1, but you'll have folium 0.8.3 which is incompatible.\u001b[0m\n",
            "\u001b[31mERROR: albumentations 0.1.12 has requirement imgaug<0.2.7,>=0.2.5, but you'll have imgaug 0.2.9 which is incompatible.\u001b[0m\n",
            "Installing collected packages: setuptools, numpy, pillow, matplotlib, scipy, pyopengl, pyzmq, pyyaml, opencv-python\n",
            "  Found existing installation: setuptools 49.2.0\n",
            "    Uninstalling setuptools-49.2.0:\n",
            "      Successfully uninstalled setuptools-49.2.0\n",
            "  Found existing installation: numpy 1.18.5\n",
            "    Uninstalling numpy-1.18.5:\n",
            "      Successfully uninstalled numpy-1.18.5\n",
            "  Found existing installation: Pillow 7.0.0\n",
            "    Uninstalling Pillow-7.0.0:\n",
            "      Successfully uninstalled Pillow-7.0.0\n",
            "  Found existing installation: matplotlib 3.2.2\n",
            "    Uninstalling matplotlib-3.2.2:\n",
            "      Successfully uninstalled matplotlib-3.2.2\n",
            "  Found existing installation: scipy 1.4.1\n",
            "    Uninstalling scipy-1.4.1:\n",
            "      Successfully uninstalled scipy-1.4.1\n",
            "  Found existing installation: PyOpenGL 3.1.0\n",
            "    Uninstalling PyOpenGL-3.1.0:\n",
            "      Successfully uninstalled PyOpenGL-3.1.0\n",
            "  Found existing installation: pyzmq 19.0.1\n",
            "    Uninstalling pyzmq-19.0.1:\n",
            "      Successfully uninstalled pyzmq-19.0.1\n",
            "  Found existing installation: PyYAML 3.13\n",
            "    Uninstalling PyYAML-3.13:\n",
            "      Successfully uninstalled PyYAML-3.13\n",
            "  Found existing installation: opencv-python 4.1.2.30\n",
            "    Uninstalling opencv-python-4.1.2.30:\n",
            "      Successfully uninstalled opencv-python-4.1.2.30\n",
            "Successfully installed matplotlib-3.3.0 numpy-1.19.1 opencv-python-4.3.0.36 pillow-7.2.0 pyopengl-3.1.5 pyyaml-5.3.1 pyzmq-19.0.2 scipy-1.5.2 setuptools-49.2.1\n",
            "Package                  Version        \n",
            "------------------------ ---------------\n",
            "absl-py                  0.9.0          \n",
            "alabaster                0.7.12         \n",
            "albumentations           0.1.12         \n",
            "altair                   4.1.0          \n",
            "asgiref                  3.2.10         \n",
            "astor                    0.8.1          \n",
            "astropy                  4.0.1.post1    \n",
            "astunparse               1.6.3          \n",
            "atari-py                 0.2.6          \n",
            "atomicwrites             1.4.0          \n",
            "attrs                    19.3.0         \n",
            "audioread                2.1.8          \n",
            "autograd                 1.3            \n",
            "Babel                    2.8.0          \n",
            "backcall                 0.2.0          \n",
            "beautifulsoup4           4.6.3          \n",
            "bleach                   3.1.5          \n",
            "blis                     0.4.1          \n",
            "bokeh                    2.1.1          \n",
            "boto                     2.49.0         \n",
            "boto3                    1.14.30        \n",
            "botocore                 1.17.30        \n",
            "Bottleneck               1.3.2          \n",
            "branca                   0.4.1          \n",
            "bs4                      0.0.1          \n",
            "CacheControl             0.12.6         \n",
            "cachetools               4.1.1          \n",
            "catalogue                1.0.0          \n",
            "certifi                  2020.6.20      \n",
            "cffi                     1.14.1         \n",
            "chainer                  7.4.0          \n",
            "chardet                  3.0.4          \n",
            "click                    7.1.2          \n",
            "cloudpickle              1.3.0          \n",
            "cmake                    3.12.0         \n",
            "cmdstanpy                0.4.0          \n",
            "colorlover               0.3.0          \n",
            "community                1.0.0b1        \n",
            "contextlib2              0.5.5          \n",
            "convertdate              2.2.1          \n",
            "coverage                 3.7.1          \n",
            "coveralls                0.5            \n",
            "crcmod                   1.7            \n",
            "cufflinks                0.17.3         \n",
            "cupy-cuda101             7.4.0          \n",
            "cvxopt                   1.2.5          \n",
            "cvxpy                    1.0.31         \n",
            "cycler                   0.10.0         \n",
            "cymem                    2.0.3          \n",
            "Cython                   0.29.21        \n",
            "daft                     0.0.4          \n",
            "dask                     2.12.0         \n",
            "dataclasses              0.7            \n",
            "datascience              0.10.6         \n",
            "decorator                4.4.2          \n",
            "defusedxml               0.6.0          \n",
            "descartes                1.1.0          \n",
            "dill                     0.3.2          \n",
            "distributed              1.25.3         \n",
            "Django                   3.0.8          \n",
            "dlib                     19.18.0        \n",
            "docopt                   0.6.2          \n",
            "docutils                 0.15.2         \n",
            "dopamine-rl              1.0.5          \n",
            "earthengine-api          0.1.228        \n",
            "easydict                 1.9            \n",
            "ecos                     2.0.7.post1    \n",
            "editdistance             0.5.3          \n",
            "en-core-web-sm           2.2.5          \n",
            "entrypoints              0.3            \n",
            "ephem                    3.7.7.1        \n",
            "et-xmlfile               1.0.1          \n",
            "fa2                      0.3.5          \n",
            "fancyimpute              0.4.3          \n",
            "fastai                   1.0.61         \n",
            "fastdtw                  0.3.4          \n",
            "fastprogress             0.2.4          \n",
            "fastrlock                0.5            \n",
            "fbprophet                0.6            \n",
            "feather-format           0.4.1          \n",
            "featuretools             0.4.1          \n",
            "filelock                 3.0.12         \n",
            "firebase-admin           4.1.0          \n",
            "fix-yahoo-finance        0.0.22         \n",
            "Flask                    1.1.2          \n",
            "folium                   0.8.3          \n",
            "freetype-py              2.2.0          \n",
            "fsspec                   0.7.4          \n",
            "future                   0.16.0         \n",
            "gast                     0.3.3          \n",
            "GDAL                     2.2.2          \n",
            "gdown                    3.6.4          \n",
            "gensim                   3.6.0          \n",
            "geographiclib            1.50           \n",
            "geopy                    1.17.0         \n",
            "gin-config               0.3.0          \n",
            "glob2                    0.7            \n",
            "google                   2.0.3          \n",
            "google-api-core          1.16.0         \n",
            "google-api-python-client 1.7.12         \n",
            "google-auth              1.17.2         \n",
            "google-auth-httplib2     0.0.4          \n",
            "google-auth-oauthlib     0.4.1          \n",
            "google-cloud-bigquery    1.21.0         \n",
            "google-cloud-core        1.0.3          \n",
            "google-cloud-datastore   1.8.0          \n",
            "google-cloud-firestore   1.7.0          \n",
            "google-cloud-language    1.2.0          \n",
            "google-cloud-storage     1.18.1         \n",
            "google-cloud-translate   1.5.0          \n",
            "google-colab             1.0.0          \n",
            "google-pasta             0.2.0          \n",
            "google-resumable-media   0.4.1          \n",
            "googleapis-common-protos 1.52.0         \n",
            "googledrivedownloader    0.4            \n",
            "graphviz                 0.10.1         \n",
            "grpcio                   1.30.0         \n",
            "gspread                  3.0.1          \n",
            "gspread-dataframe        3.0.7          \n",
            "gym                      0.17.2         \n",
            "h5py                     2.10.0         \n",
            "HeapDict                 1.0.1          \n",
            "holidays                 0.9.12         \n",
            "holoviews                1.13.3         \n",
            "html5lib                 1.0.1          \n",
            "httpimport               0.5.18         \n",
            "httplib2                 0.17.4         \n",
            "httplib2shim             0.0.3          \n",
            "humanize                 0.5.1          \n",
            "hyperopt                 0.1.2          \n",
            "ideep4py                 2.0.0.post3    \n",
            "idna                     2.10           \n",
            "image                    1.5.32         \n",
            "imageio                  2.4.1          \n",
            "imagesize                1.2.0          \n",
            "imbalanced-learn         0.4.3          \n",
            "imblearn                 0.0            \n",
            "imgaug                   0.2.9          \n",
            "importlib-metadata       1.7.0          \n",
            "imutils                  0.5.3          \n",
            "inflect                  2.1.0          \n",
            "iniconfig                1.0.0          \n",
            "intel-openmp             2020.0.133     \n",
            "intervaltree             2.1.0          \n",
            "ipykernel                4.10.1         \n",
            "ipython                  5.5.0          \n",
            "ipython-genutils         0.2.0          \n",
            "ipython-sql              0.3.9          \n",
            "ipywidgets               7.5.1          \n",
            "itsdangerous             1.1.0          \n",
            "jax                      0.1.73         \n",
            "jaxlib                   0.1.52         \n",
            "jdcal                    1.4.1          \n",
            "jedi                     0.17.2         \n",
            "jieba                    0.42.1         \n",
            "Jinja2                   2.11.2         \n",
            "jmespath                 0.10.0         \n",
            "joblib                   0.16.0         \n",
            "jpeg4py                  0.1.4          \n",
            "jsonschema               2.6.0          \n",
            "jupyter                  1.0.0          \n",
            "jupyter-client           5.3.5          \n",
            "jupyter-console          5.2.0          \n",
            "jupyter-core             4.6.3          \n",
            "kaggle                   1.5.6          \n",
            "kapre                    0.1.3.1        \n",
            "Keras                    2.3.1          \n",
            "Keras-Applications       1.0.8          \n",
            "Keras-Preprocessing      1.1.2          \n",
            "keras-vis                0.4.1          \n",
            "kiwisolver               1.2.0          \n",
            "knnimpute                0.1.0          \n",
            "librosa                  0.6.3          \n",
            "lightgbm                 2.2.3          \n",
            "llvmlite                 0.31.0         \n",
            "lmdb                     0.98           \n",
            "lucid                    0.3.8          \n",
            "LunarCalendar            0.0.9          \n",
            "lxml                     4.2.6          \n",
            "Markdown                 3.2.2          \n",
            "MarkupSafe               1.1.1          \n",
            "matplotlib               3.3.0          \n",
            "matplotlib-venn          0.11.5         \n",
            "missingno                0.4.2          \n",
            "mistune                  0.8.4          \n",
            "mizani                   0.6.0          \n",
            "mkl                      2019.0         \n",
            "mlxtend                  0.14.0         \n",
            "more-itertools           8.4.0          \n",
            "moviepy                  0.2.3.5        \n",
            "mpmath                   1.1.0          \n",
            "msgpack                  1.0.0          \n",
            "multiprocess             0.70.10        \n",
            "multitasking             0.0.9          \n",
            "murmurhash               1.0.2          \n",
            "music21                  5.5.0          \n",
            "natsort                  5.5.0          \n",
            "nbconvert                5.6.1          \n",
            "nbformat                 5.0.7          \n",
            "networkx                 2.4            \n",
            "nibabel                  3.0.2          \n",
            "nltk                     3.2.5          \n",
            "notebook                 5.3.1          \n",
            "np-utils                 0.5.12.1       \n",
            "numba                    0.48.0         \n",
            "numexpr                  2.7.1          \n",
            "numpy                    1.19.1         \n",
            "nvidia-ml-py3            7.352.0        \n",
            "oauth2client             4.1.3          \n",
            "oauthlib                 3.1.0          \n",
            "okgrade                  0.4.3          \n",
            "opencv-contrib-python    4.1.2.30       \n",
            "opencv-python            4.3.0.36       \n",
            "openpyxl                 2.5.9          \n",
            "opt-einsum               3.3.0          \n",
            "osqp                     0.6.1          \n",
            "packaging                20.4           \n",
            "palettable               3.3.0          \n",
            "pandas                   1.0.5          \n",
            "pandas-datareader        0.8.1          \n",
            "pandas-gbq               0.11.0         \n",
            "pandas-profiling         1.4.1          \n",
            "pandocfilters            1.4.2          \n",
            "panel                    0.9.7          \n",
            "param                    1.9.3          \n",
            "parso                    0.7.1          \n",
            "pathlib                  1.0.1          \n",
            "patsy                    0.5.1          \n",
            "pexpect                  4.8.0          \n",
            "pickleshare              0.7.5          \n",
            "Pillow                   7.2.0          \n",
            "pip                      19.3.1         \n",
            "pip-tools                4.5.1          \n",
            "plac                     1.1.3          \n",
            "plotly                   4.4.1          \n",
            "plotnine                 0.6.0          \n",
            "pluggy                   0.7.1          \n",
            "portpicker               1.3.1          \n",
            "prefetch-generator       1.0.1          \n",
            "preshed                  3.0.2          \n",
            "prettytable              0.7.2          \n",
            "progressbar2             3.38.0         \n",
            "prometheus-client        0.8.0          \n",
            "promise                  2.3            \n",
            "prompt-toolkit           1.0.18         \n",
            "protobuf                 3.12.2         \n",
            "psutil                   5.4.8          \n",
            "psycopg2                 2.7.6.1        \n",
            "ptyprocess               0.6.0          \n",
            "py                       1.9.0          \n",
            "pyarrow                  0.14.1         \n",
            "pyasn1                   0.4.8          \n",
            "pyasn1-modules           0.2.8          \n",
            "pycocotools              2.0.1          \n",
            "pycparser                2.20           \n",
            "pyct                     0.4.6          \n",
            "pydata-google-auth       1.1.0          \n",
            "pydot                    1.3.0          \n",
            "pydot-ng                 2.0.0          \n",
            "pydotplus                2.0.2          \n",
            "PyDrive                  1.3.1          \n",
            "pyemd                    0.5.1          \n",
            "pyglet                   1.5.0          \n",
            "Pygments                 2.1.3          \n",
            "pygobject                3.26.1         \n",
            "pymc3                    3.7            \n",
            "PyMeeus                  0.3.7          \n",
            "pymongo                  3.10.1         \n",
            "pymystem3                0.2.0          \n",
            "PyOpenGL                 3.1.5          \n",
            "pyparsing                2.4.7          \n",
            "pyrender                 0.1.43         \n",
            "pyrsistent               0.16.0         \n",
            "pysndfile                1.3.8          \n",
            "PySocks                  1.7.1          \n",
            "pystan                   2.19.1.1       \n",
            "pytest                   3.6.4          \n",
            "python-apt               1.6.5+ubuntu0.3\n",
            "python-chess             0.23.11        \n",
            "python-dateutil          2.8.1          \n",
            "python-louvain           0.14           \n",
            "python-slugify           4.0.1          \n",
            "python-utils             2.4.0          \n",
            "pytz                     2018.9         \n",
            "pyviz-comms              0.7.6          \n",
            "PyWavelets               1.1.1          \n",
            "PyYAML                   5.3.1          \n",
            "pyzmq                    19.0.2         \n",
            "qtconsole                4.7.5          \n",
            "QtPy                     1.9.0          \n",
            "regex                    2019.12.20     \n",
            "requests                 2.23.0         \n",
            "requests-oauthlib        1.3.0          \n",
            "resampy                  0.2.2          \n",
            "retrying                 1.3.3          \n",
            "rpy2                     3.2.7          \n",
            "rsa                      4.6            \n",
            "s3fs                     0.4.2          \n",
            "s3transfer               0.3.3          \n",
            "scikit-image             0.16.2         \n",
            "scikit-learn             0.22.2.post1   \n",
            "scipy                    1.5.2          \n",
            "screen-resolution-extra  0.0.0          \n",
            "scs                      2.1.2          \n",
            "seaborn                  0.10.1         \n",
            "Send2Trash               1.5.0          \n",
            "setuptools               49.2.1         \n",
            "setuptools-git           1.2            \n",
            "Shapely                  1.7.0          \n",
            "simplegeneric            0.8.1          \n",
            "six                      1.15.0         \n",
            "sklearn                  0.0            \n",
            "sklearn-pandas           1.8.0          \n",
            "smart-open               2.1.0          \n",
            "snowballstemmer          2.0.0          \n",
            "sortedcontainers         2.2.2          \n",
            "spacy                    2.2.4          \n",
            "Sphinx                   1.8.5          \n",
            "sphinxcontrib-websupport 1.2.3          \n",
            "SQLAlchemy               1.3.18         \n",
            "sqlparse                 0.3.1          \n",
            "srsly                    1.0.2          \n",
            "statsmodels              0.10.2         \n",
            "sympy                    1.1.1          \n",
            "tables                   3.4.4          \n",
            "tabulate                 0.8.7          \n",
            "tblib                    1.7.0          \n",
            "tensorboard              1.14.0         \n",
            "tensorboard-plugin-wit   1.7.0          \n",
            "tensorboardcolab         0.0.22         \n",
            "tensorflow               1.14.0         \n",
            "tensorflow-addons        0.8.3          \n",
            "tensorflow-datasets      2.1.0          \n",
            "tensorflow-estimator     1.14.0         \n",
            "tensorflow-gcs-config    2.2.0          \n",
            "tensorflow-hub           0.8.0          \n",
            "tensorflow-metadata      0.22.2         \n",
            "tensorflow-privacy       0.2.2          \n",
            "tensorflow-probability   0.10.0         \n",
            "termcolor                1.1.0          \n",
            "terminado                0.8.3          \n",
            "testpath                 0.4.4          \n",
            "text-unidecode           1.3            \n",
            "textblob                 0.15.3         \n",
            "textgenrnn               1.4.1          \n",
            "Theano                   1.0.5          \n",
            "thinc                    7.4.0          \n",
            "tifffile                 2020.7.24      \n",
            "toml                     0.10.1         \n",
            "toolz                    0.10.0         \n",
            "torch                    1.6.0+cu101    \n",
            "torchsummary             1.5.1          \n",
            "torchtext                0.3.1          \n",
            "torchvision              0.7.0+cu101    \n",
            "tornado                  5.1.1          \n",
            "tqdm                     4.41.1         \n",
            "traitlets                4.3.3          \n",
            "trimesh                  3.7.14         \n",
            "tweepy                   3.6.0          \n",
            "typeguard                2.7.1          \n",
            "typing-extensions        3.7.4.2        \n",
            "tzlocal                  1.5.1          \n",
            "umap-learn               0.4.6          \n",
            "uritemplate              3.0.1          \n",
            "urllib3                  1.24.3         \n",
            "vega-datasets            0.8.0          \n",
            "wasabi                   0.7.1          \n",
            "wcwidth                  0.2.5          \n",
            "webencodings             0.5.1          \n",
            "Werkzeug                 1.0.1          \n",
            "wheel                    0.34.2         \n",
            "widgetsnbextension       3.5.1          \n",
            "wordcloud                1.5.0          \n",
            "wrapt                    1.12.1         \n",
            "xarray                   0.15.1         \n",
            "xgboost                  0.90           \n",
            "xkit                     0.0.0          \n",
            "xlrd                     1.1.0          \n",
            "xlwt                     1.3.0          \n",
            "yellowbrick              0.9.1          \n",
            "zict                     2.0.0          \n",
            "zipp                     3.1.0          \n",
            "/usr/local/lib/python3.6/dist-packages/pip/_internal/commands/install.py:283: UserWarning: Disabling all use of wheels due to the use of --build-options / --global-options / --install-options.\n",
            "  cmdoptions.check_install_build_global(options)\n",
            "Created temporary directory: /tmp/pip-ephem-wheel-cache-y9m8bhgo\n",
            "Created temporary directory: /tmp/pip-req-tracker-_wx3t26c\n",
            "Created requirements tracker '/tmp/pip-req-tracker-_wx3t26c'\n",
            "Created temporary directory: /tmp/pip-install-zu2pcyku\n",
            "Processing /content/MESH\n",
            "  Created temporary directory: /tmp/pip-req-build-mlvffs38\n",
            "  Added file:///content/MESH to build tracker '/tmp/pip-req-tracker-_wx3t26c'\n",
            "    Running setup.py (path:/tmp/pip-req-build-mlvffs38/setup.py) egg_info for package from file:///content/MESH\n",
            "    Running command python setup.py egg_info\n",
            "    [VERSION] read version is 0.4\n",
            "    running egg_info\n",
            "    creating /tmp/pip-req-build-mlvffs38/pip-egg-info/psbody_mesh.egg-info\n",
            "    writing /tmp/pip-req-build-mlvffs38/pip-egg-info/psbody_mesh.egg-info/PKG-INFO\n",
            "    writing dependency_links to /tmp/pip-req-build-mlvffs38/pip-egg-info/psbody_mesh.egg-info/dependency_links.txt\n",
            "    writing namespace_packages to /tmp/pip-req-build-mlvffs38/pip-egg-info/psbody_mesh.egg-info/namespace_packages.txt\n",
            "    writing requirements to /tmp/pip-req-build-mlvffs38/pip-egg-info/psbody_mesh.egg-info/requires.txt\n",
            "    writing top-level names to /tmp/pip-req-build-mlvffs38/pip-egg-info/psbody_mesh.egg-info/top_level.txt\n",
            "    writing manifest file '/tmp/pip-req-build-mlvffs38/pip-egg-info/psbody_mesh.egg-info/SOURCES.txt'\n",
            "    reading manifest template 'MANIFEST.in'\n",
            "    writing manifest file '/tmp/pip-req-build-mlvffs38/pip-egg-info/psbody_mesh.egg-info/SOURCES.txt'\n",
            "  Source in /tmp/pip-req-build-mlvffs38 has version 0.4, which satisfies requirement psbody-mesh==0.4 from file:///content/MESH\n",
            "  Removed psbody-mesh==0.4 from file:///content/MESH from build tracker '/tmp/pip-req-tracker-_wx3t26c'\n",
            "Skipping wheel build for psbody-mesh, due to binaries being disabled for it.\n",
            "Installing collected packages: psbody-mesh\n",
            "  Created temporary directory: /tmp/pip-record-orwf1ypu\n",
            "    Running command /usr/bin/python3 -u -c 'import sys, setuptools, tokenize; sys.argv[0] = '\"'\"'/tmp/pip-req-build-mlvffs38/setup.py'\"'\"'; __file__='\"'\"'/tmp/pip-req-build-mlvffs38/setup.py'\"'\"';f=getattr(tokenize, '\"'\"'open'\"'\"', open)(__file__);code=f.read().replace('\"'\"'\\r\\n'\"'\"', '\"'\"'\\n'\"'\"');f.close();exec(compile(code, __file__, '\"'\"'exec'\"'\"'))' install --record /tmp/pip-record-orwf1ypu/install-record.txt --single-version-externally-managed --compile --boost-location=\n",
            "    [VERSION] read version is 0.4\n",
            "    running install\n",
            "    running build\n",
            "    running build_py\n",
            "    creating build\n",
            "    creating build/lib.linux-x86_64-3.6\n",
            "    creating build/lib.linux-x86_64-3.6/psbody\n",
            "    copying psbody-mesh-namespace/__init__.py -> build/lib.linux-x86_64-3.6/psbody\n",
            "    creating build/lib.linux-x86_64-3.6/psbody/mesh\n",
            "    copying mesh/arcball.py -> build/lib.linux-x86_64-3.6/psbody/mesh\n",
            "    copying mesh/search.py -> build/lib.linux-x86_64-3.6/psbody/mesh\n",
            "    copying mesh/utils.py -> build/lib.linux-x86_64-3.6/psbody/mesh\n",
            "    copying mesh/fonts.py -> build/lib.linux-x86_64-3.6/psbody/mesh\n",
            "    copying mesh/errors.py -> build/lib.linux-x86_64-3.6/psbody/mesh\n",
            "    copying mesh/mesh.py -> build/lib.linux-x86_64-3.6/psbody/mesh\n",
            "    copying mesh/colors.py -> build/lib.linux-x86_64-3.6/psbody/mesh\n",
            "    copying mesh/meshviewer.py -> build/lib.linux-x86_64-3.6/psbody/mesh\n",
            "    copying mesh/texture.py -> build/lib.linux-x86_64-3.6/psbody/mesh\n",
            "    copying mesh/__init__.py -> build/lib.linux-x86_64-3.6/psbody/mesh\n",
            "    copying mesh/sphere.py -> build/lib.linux-x86_64-3.6/psbody/mesh\n",
            "    copying mesh/version.py -> build/lib.linux-x86_64-3.6/psbody/mesh\n",
            "    copying mesh/processing.py -> build/lib.linux-x86_64-3.6/psbody/mesh\n",
            "    copying mesh/lines.py -> build/lib.linux-x86_64-3.6/psbody/mesh\n",
            "    copying mesh/landmarks.py -> build/lib.linux-x86_64-3.6/psbody/mesh\n",
            "    creating build/lib.linux-x86_64-3.6/psbody/mesh/topology\n",
            "    copying mesh/topology/subdivision.py -> build/lib.linux-x86_64-3.6/psbody/mesh/topology\n",
            "    copying mesh/topology/connectivity.py -> build/lib.linux-x86_64-3.6/psbody/mesh/topology\n",
            "    copying mesh/topology/linear_mesh_transform.py -> build/lib.linux-x86_64-3.6/psbody/mesh/topology\n",
            "    copying mesh/topology/__init__.py -> build/lib.linux-x86_64-3.6/psbody/mesh/topology\n",
            "    copying mesh/topology/decimation.py -> build/lib.linux-x86_64-3.6/psbody/mesh/topology\n",
            "    creating build/lib.linux-x86_64-3.6/psbody/mesh/geometry\n",
            "    copying mesh/geometry/barycentric_coordinates_of_projection.py -> build/lib.linux-x86_64-3.6/psbody/mesh/geometry\n",
            "    copying mesh/geometry/__init__.py -> build/lib.linux-x86_64-3.6/psbody/mesh/geometry\n",
            "    copying mesh/geometry/rodrigues.py -> build/lib.linux-x86_64-3.6/psbody/mesh/geometry\n",
            "    copying mesh/geometry/tri_normals.py -> build/lib.linux-x86_64-3.6/psbody/mesh/geometry\n",
            "    copying mesh/geometry/vert_normals.py -> build/lib.linux-x86_64-3.6/psbody/mesh/geometry\n",
            "    copying mesh/geometry/cross_product.py -> build/lib.linux-x86_64-3.6/psbody/mesh/geometry\n",
            "    copying mesh/geometry/triangle_area.py -> build/lib.linux-x86_64-3.6/psbody/mesh/geometry\n",
            "    creating build/lib.linux-x86_64-3.6/psbody/mesh/serialization\n",
            "    copying mesh/serialization/__init__.py -> build/lib.linux-x86_64-3.6/psbody/mesh/serialization\n",
            "    copying mesh/serialization/serialization.py -> build/lib.linux-x86_64-3.6/psbody/mesh/serialization\n",
            "    running build_ext\n",
            "    [CGAL] deflating cgal from \"mesh/thirdparty/CGAL-4.7.tar.gz\" to \"/tmp/pip-req-build-mlvffs38/build/temp.linux-x86_64-3.6\"\n",
            "    building 'psbody.mesh.aabb_normals' extension\n",
            "    creating build/temp.linux-x86_64-3.6/mesh\n",
            "    creating build/temp.linux-x86_64-3.6/mesh/src\n",
            "    x86_64-linux-gnu-gcc -pthread -DNDEBUG -g -fwrapv -O2 -Wall -g -fstack-protector-strong -Wformat -Werror=format-security -Wdate-time -D_FORTIFY_SOURCE=2 -fPIC -DNDEBUG=1 -DCGAL_NDEBUG=1 -DMESH_CGAL_AVOID_COMPILED_VERSION=1 -DCGAL_HAS_NO_THREADS=1 -DCGAL_NO_AUTOLINK_CGAL=1 -Imesh/src -I/usr/local/lib/python3.6/dist-packages/numpy/core/include -I/tmp/pip-req-build-mlvffs38/build/temp.linux-x86_64-3.6/CGAL-4.7/include -I/usr/include/python3.6m -c mesh/src/aabb_normals.cpp -o build/temp.linux-x86_64-3.6/mesh/src/aabb_normals.o -O3 -fopenmp\n",
            "    In file included from /usr/local/lib/python3.6/dist-packages/numpy/core/include/numpy/ndarraytypes.h:1822:0,\n",
            "                     from /usr/local/lib/python3.6/dist-packages/numpy/core/include/numpy/ndarrayobject.h:12,\n",
            "                     from /usr/local/lib/python3.6/dist-packages/numpy/core/include/numpy/arrayobject.h:4,\n",
            "                     from mesh/src/aabb_normals.cpp:4:\n",
            "    /usr/local/lib/python3.6/dist-packages/numpy/core/include/numpy/npy_1_7_deprecated_api.h:17:2: warning: #warning \"Using deprecated NumPy API, disable it with \" \"#define NPY_NO_DEPRECATED_API NPY_1_7_API_VERSION\" [-Wcpp]\n",
            "     #warning \"Using deprecated NumPy API, disable it with \" \\\n",
            "      ^~~~~~~\n",
            "    mesh/src/aabb_normals.cpp: In function ‘PyObject* aabbtree_normals_nearest(PyObject*, PyObject*)’:\n",
            "    mesh/src/aabb_normals.cpp:150:36: warning: narrowing conversion of ‘S’ from ‘size_t {aka long unsigned int}’ to ‘npy_intp {aka long int}’ inside { } [-Wnarrowing]\n",
            "         npy_intp result1_dims[] = {1, S};\n",
            "                                        ^\n",
            "    mesh/src/aabb_normals.cpp:157:40: warning: narrowing conversion of ‘S’ from ‘size_t {aka long unsigned int}’ to ‘npy_intp {aka long int}’ inside { } [-Wnarrowing]\n",
            "             npy_intp result2_dims[] = {S, 3};\n",
            "                                            ^\n",
            "    x86_64-linux-gnu-g++ -pthread -shared -Wl,-O1 -Wl,-Bsymbolic-functions -Wl,-Bsymbolic-functions -Wl,-z,relro -Wl,-Bsymbolic-functions -Wl,-z,relro -g -fstack-protector-strong -Wformat -Werror=format-security -Wdate-time -D_FORTIFY_SOURCE=2 build/temp.linux-x86_64-3.6/mesh/src/aabb_normals.o -o build/lib.linux-x86_64-3.6/psbody/mesh/aabb_normals.cpython-36m-x86_64-linux-gnu.so -O3 -fopenmp\n",
            "    building 'psbody.mesh.spatialsearch' extension\n",
            "    x86_64-linux-gnu-gcc -pthread -DNDEBUG -g -fwrapv -O2 -Wall -g -fstack-protector-strong -Wformat -Werror=format-security -Wdate-time -D_FORTIFY_SOURCE=2 -fPIC -DNDEBUG=1 -DCGAL_NDEBUG=1 -DMESH_CGAL_AVOID_COMPILED_VERSION=1 -DCGAL_HAS_NO_THREADS=1 -DCGAL_NO_AUTOLINK_CGAL=1 -Imesh/src -I/usr/local/lib/python3.6/dist-packages/numpy/core/include -I/tmp/pip-req-build-mlvffs38/build/temp.linux-x86_64-3.6/CGAL-4.7/include -I/usr/include/python3.6m -c mesh/src/spatialsearchmodule.cpp -o build/temp.linux-x86_64-3.6/mesh/src/spatialsearchmodule.o -O3 -fopenmp\n",
            "    In file included from /usr/local/lib/python3.6/dist-packages/numpy/core/include/numpy/ndarraytypes.h:1822:0,\n",
            "                     from /usr/local/lib/python3.6/dist-packages/numpy/core/include/numpy/ndarrayobject.h:12,\n",
            "                     from /usr/local/lib/python3.6/dist-packages/numpy/core/include/numpy/arrayobject.h:4,\n",
            "                     from mesh/src/spatialsearchmodule.cpp:4:\n",
            "    /usr/local/lib/python3.6/dist-packages/numpy/core/include/numpy/npy_1_7_deprecated_api.h:17:2: warning: #warning \"Using deprecated NumPy API, disable it with \" \"#define NPY_NO_DEPRECATED_API NPY_1_7_API_VERSION\" [-Wcpp]\n",
            "     #warning \"Using deprecated NumPy API, disable it with \" \\\n",
            "      ^~~~~~~\n",
            "    mesh/src/spatialsearchmodule.cpp: In function ‘PyObject* spatialsearch_aabbtree_nearest(PyObject*, PyObject*)’:\n",
            "    mesh/src/spatialsearchmodule.cpp:190:36: warning: narrowing conversion of ‘S’ from ‘size_t {aka long unsigned int}’ to ‘npy_intp {aka long int}’ inside { } [-Wnarrowing]\n",
            "         npy_intp result1_dims[] = {1, S};\n",
            "                                        ^\n",
            "    mesh/src/spatialsearchmodule.cpp:198:36: warning: narrowing conversion of ‘S’ from ‘size_t {aka long unsigned int}’ to ‘npy_intp {aka long int}’ inside { } [-Wnarrowing]\n",
            "         npy_intp result3_dims[] = {S, 3};\n",
            "                                        ^\n",
            "    mesh/src/spatialsearchmodule.cpp: In function ‘PyObject* spatialsearch_aabbtree_nearest_alongnormal(PyObject*, PyObject*)’:\n",
            "    mesh/src/spatialsearchmodule.cpp:249:33: warning: narrowing conversion of ‘S’ from ‘size_t {aka long unsigned int}’ to ‘npy_intp {aka long int}’ inside { } [-Wnarrowing]\n",
            "         npy_intp result1_dims[] = {S};\n",
            "                                     ^\n",
            "    mesh/src/spatialsearchmodule.cpp:258:36: warning: narrowing conversion of ‘S’ from ‘size_t {aka long unsigned int}’ to ‘npy_intp {aka long int}’ inside { } [-Wnarrowing]\n",
            "         npy_intp result3_dims[] = {S, 3};\n",
            "                                        ^\n",
            "    mesh/src/spatialsearchmodule.cpp: In function ‘PyObject* spatialsearch_aabbtree_intersections_indices(PyObject*, PyObject*, PyObject*)’:\n",
            "    mesh/src/spatialsearchmodule.cpp:396:58: warning: narrowing conversion of ‘mesh_intersections.std::vector<unsigned int>::size()’ from ‘std::vector<unsigned int>::size_type {aka long unsigned int}’ to ‘npy_intp {aka long int}’ inside { } [-Wnarrowing]\n",
            "             npy_intp result_dims[] = {mesh_intersections.size()};\n",
            "                                       ~~~~~~~~~~~~~~~~~~~~~~~^~\n",
            "    mesh/src/spatialsearchmodule.cpp: At global scope:\n",
            "    mesh/src/spatialsearchmodule.cpp:316:19: warning: ‘PyObject* spatialsearch_aabbtree_intersections_indices(PyObject*, PyObject*, PyObject*)’ defined but not used [-Wunused-function]\n",
            "     static PyObject * spatialsearch_aabbtree_intersections_indices(PyObject *self, PyObject *args, PyObject *keywds) {\n",
            "                       ^~~~~~~~~~~~~~~~~~~~~~~~~~~~~~~~~~~~~~~~~~~~\n",
            "    x86_64-linux-gnu-g++ -pthread -shared -Wl,-O1 -Wl,-Bsymbolic-functions -Wl,-Bsymbolic-functions -Wl,-z,relro -Wl,-Bsymbolic-functions -Wl,-z,relro -g -fstack-protector-strong -Wformat -Werror=format-security -Wdate-time -D_FORTIFY_SOURCE=2 build/temp.linux-x86_64-3.6/mesh/src/spatialsearchmodule.o -o build/lib.linux-x86_64-3.6/psbody/mesh/spatialsearch.cpython-36m-x86_64-linux-gnu.so -O3 -fopenmp\n",
            "    building 'psbody.mesh.visibility' extension\n",
            "    x86_64-linux-gnu-gcc -pthread -DNDEBUG -g -fwrapv -O2 -Wall -g -fstack-protector-strong -Wformat -Werror=format-security -Wdate-time -D_FORTIFY_SOURCE=2 -fPIC -DNDEBUG=1 -DCGAL_NDEBUG=1 -DMESH_CGAL_AVOID_COMPILED_VERSION=1 -DCGAL_HAS_NO_THREADS=1 -DCGAL_NO_AUTOLINK_CGAL=1 -Imesh/src -I/usr/local/lib/python3.6/dist-packages/numpy/core/include -I/tmp/pip-req-build-mlvffs38/build/temp.linux-x86_64-3.6/CGAL-4.7/include -I/usr/include/python3.6m -c mesh/src/py_visibility.cpp -o build/temp.linux-x86_64-3.6/mesh/src/py_visibility.o -O3 -fopenmp\n",
            "    In file included from /usr/local/lib/python3.6/dist-packages/numpy/core/include/numpy/ndarraytypes.h:1822:0,\n",
            "                     from /usr/local/lib/python3.6/dist-packages/numpy/core/include/numpy/ndarrayobject.h:12,\n",
            "                     from /usr/local/lib/python3.6/dist-packages/numpy/core/include/numpy/arrayobject.h:4,\n",
            "                     from mesh/src/py_visibility.cpp:6:\n",
            "    /usr/local/lib/python3.6/dist-packages/numpy/core/include/numpy/npy_1_7_deprecated_api.h:17:2: warning: #warning \"Using deprecated NumPy API, disable it with \" \"#define NPY_NO_DEPRECATED_API NPY_1_7_API_VERSION\" [-Wcpp]\n",
            "     #warning \"Using deprecated NumPy API, disable it with \" \\\n",
            "      ^~~~~~~\n",
            "    mesh/src/py_visibility.cpp: In function ‘PyObject* visibility_compute(PyObject*, PyObject*, PyObject*)’:\n",
            "    mesh/src/py_visibility.cpp:89:72: warning: ISO C++ forbids converting a string constant to ‘char*’ [-Wwrite-strings]\n",
            "                                      \"extra_v\", \"extra_f\", \"min_dist\", NULL};\n",
            "                                                                            ^\n",
            "    mesh/src/py_visibility.cpp:89:72: warning: ISO C++ forbids converting a string constant to ‘char*’ [-Wwrite-strings]\n",
            "    mesh/src/py_visibility.cpp:89:72: warning: ISO C++ forbids converting a string constant to ‘char*’ [-Wwrite-strings]\n",
            "    mesh/src/py_visibility.cpp:89:72: warning: ISO C++ forbids converting a string constant to ‘char*’ [-Wwrite-strings]\n",
            "    mesh/src/py_visibility.cpp:89:72: warning: ISO C++ forbids converting a string constant to ‘char*’ [-Wwrite-strings]\n",
            "    mesh/src/py_visibility.cpp:89:72: warning: ISO C++ forbids converting a string constant to ‘char*’ [-Wwrite-strings]\n",
            "    mesh/src/py_visibility.cpp:89:72: warning: ISO C++ forbids converting a string constant to ‘char*’ [-Wwrite-strings]\n",
            "    mesh/src/py_visibility.cpp:89:72: warning: ISO C++ forbids converting a string constant to ‘char*’ [-Wwrite-strings]\n",
            "    mesh/src/py_visibility.cpp:89:72: warning: ISO C++ forbids converting a string constant to ‘char*’ [-Wwrite-strings]\n",
            "    mesh/src/py_visibility.cpp:120:32: warning: comparison between signed and unsigned integer expressions [-Wsign-compare]\n",
            "                 for(size_t pp=0; pp<nv; ++pp){\n",
            "                                  ~~^~~\n",
            "    mesh/src/py_visibility.cpp:127:32: warning: comparison between signed and unsigned integer expressions [-Wsign-compare]\n",
            "                 for(size_t tt=0; tt<nf; ++tt) {\n",
            "                                  ~~^~~\n",
            "    mesh/src/py_visibility.cpp:141:36: warning: comparison between signed and unsigned integer expressions [-Wsign-compare]\n",
            "                     for(size_t pp=0; pp<nv_extra; ++pp){\n",
            "                                      ~~^~~~~~~~~\n",
            "    mesh/src/py_visibility.cpp:148:36: warning: comparison between signed and unsigned integer expressions [-Wsign-compare]\n",
            "                     for(size_t tt=0; tt<nf_extra; ++tt) {\n",
            "                                      ~~^~~~~~~~~\n",
            "    mesh/src/py_visibility.cpp:174:45: warning: comparison between signed and unsigned integer expressions [-Wsign-compare]\n",
            "                 if (n_dims[1] != 3 || n_dims[0] != search->points.size()) {\n",
            "                                       ~~~~~~~~~~^~~~~~~~~~~~~~~~~~~~~~~~\n",
            "    mesh/src/py_visibility.cpp:195:58: warning: narrowing conversion of ‘C’ from ‘size_t {aka long unsigned int}’ to ‘npy_intp {aka long int}’ inside { } [-Wnarrowing]\n",
            "             npy_intp result_dims[] = {C,search->points.size()};\n",
            "                                                              ^\n",
            "    mesh/src/py_visibility.cpp:195:56: warning: narrowing conversion of ‘search->TreeAndTri::points.std::vector<CGAL::Point_3<CGAL::Simple_cartesian<double> > >::size()’ from ‘std::vector<CGAL::Point_3<CGAL::Simple_cartesian<double> > >::size_type {aka long unsigned int}’ to ‘npy_intp {aka long int}’ inside { } [-Wnarrowing]\n",
            "             npy_intp result_dims[] = {C,search->points.size()};\n",
            "                                         ~~~~~~~~~~~~~~~~~~~^~\n",
            "    mesh/src/py_visibility.cpp: In instantiation of ‘npy_intp parse_pyarray(const PyArrayObject*, const boost::array<CTYPE, 3>*&) [with CTYPE = double; int PYTYPE = 12; npy_intp = long int; PyArrayObject = tagPyArrayObject_fields]’:\n",
            "    mesh/src/py_visibility.cpp:115:76:   required from here\n",
            "    mesh/src/py_visibility.cpp:66:16: warning: converting to non-pointer type ‘long int’ from NULL [-Wconversion-null]\n",
            "             return NULL;\n",
            "                    ^~~~\n",
            "    mesh/src/py_visibility.cpp:71:16: warning: converting to non-pointer type ‘long int’ from NULL [-Wconversion-null]\n",
            "             return NULL;\n",
            "                    ^~~~\n",
            "    mesh/src/py_visibility.cpp: In instantiation of ‘npy_intp parse_pyarray(const PyArrayObject*, const boost::array<CTYPE, 3>*&) [with CTYPE = unsigned int; int PYTYPE = 6; npy_intp = long int; PyArrayObject = tagPyArrayObject_fields]’:\n",
            "    mesh/src/py_visibility.cpp:116:78:   required from here\n",
            "    mesh/src/py_visibility.cpp:66:16: warning: converting to non-pointer type ‘long int’ from NULL [-Wconversion-null]\n",
            "             return NULL;\n",
            "                    ^~~~\n",
            "    mesh/src/py_visibility.cpp:71:16: warning: converting to non-pointer type ‘long int’ from NULL [-Wconversion-null]\n",
            "             return NULL;\n",
            "                    ^~~~\n",
            "    mesh/src/py_visibility.cpp:135:42: warning: ‘faces_extra_arr’ may be used uninitialized in this function [-Wmaybe-uninitialized]\n",
            "                     const array<uint32_t,3>* faces_extra_arr;\n",
            "                                              ^~~~~~~~~~~~~~~\n",
            "    mesh/src/py_visibility.cpp:134:40: warning: ‘verts_extra_arr’ may be used uninitialized in this function [-Wmaybe-uninitialized]\n",
            "                     const array<double,3>* verts_extra_arr;\n",
            "                                            ^~~~~~~~~~~~~~~\n",
            "    mesh/src/py_visibility.cpp:113:38: warning: ‘faces_arr’ may be used uninitialized in this function [-Wmaybe-uninitialized]\n",
            "                 const array<uint32_t,3>* faces_arr;\n",
            "                                          ^~~~~~~~~\n",
            "    mesh/src/py_visibility.cpp:112:36: warning: ‘verts_arr’ may be used uninitialized in this function [-Wmaybe-uninitialized]\n",
            "                 const array<double,3>* verts_arr;\n",
            "                                        ^~~~~~~~~\n",
            "    x86_64-linux-gnu-gcc -pthread -DNDEBUG -g -fwrapv -O2 -Wall -g -fstack-protector-strong -Wformat -Werror=format-security -Wdate-time -D_FORTIFY_SOURCE=2 -fPIC -DNDEBUG=1 -DCGAL_NDEBUG=1 -DMESH_CGAL_AVOID_COMPILED_VERSION=1 -DCGAL_HAS_NO_THREADS=1 -DCGAL_NO_AUTOLINK_CGAL=1 -Imesh/src -I/usr/local/lib/python3.6/dist-packages/numpy/core/include -I/tmp/pip-req-build-mlvffs38/build/temp.linux-x86_64-3.6/CGAL-4.7/include -I/usr/include/python3.6m -c mesh/src/visibility.cpp -o build/temp.linux-x86_64-3.6/mesh/src/visibility.o -O3 -fopenmp\n",
            "    In file included from /tmp/pip-req-build-mlvffs38/build/temp.linux-x86_64-3.6/CGAL-4.7/include/CGAL/Cartesian/Cartesian_base.h:68:0,\n",
            "                     from /tmp/pip-req-build-mlvffs38/build/temp.linux-x86_64-3.6/CGAL-4.7/include/CGAL/Simple_cartesian.h:28,\n",
            "                     from mesh/src/visibility.cpp:6:\n",
            "    /tmp/pip-req-build-mlvffs38/build/temp.linux-x86_64-3.6/CGAL-4.7/include/CGAL/Cartesian/function_objects.h: In function ‘void _internal_compute(const TreeAndTri*, const double*, const double*, size_t, bool, const double*, const double&, uint32_t*, double*)’:\n",
            "    /tmp/pip-req-build-mlvffs38/build/temp.linux-x86_64-3.6/CGAL-4.7/include/CGAL/Cartesian/function_objects.h:940:47: warning: ‘*((void*)& zoff +16)’ may be used uninitialized in this function [-Wmaybe-uninitialized]\n",
            "      return v.x() * w.x() + v.y() * w.y() + v.z() * w.z();\n",
            "    mesh/src/visibility.cpp:77:31: note: ‘*((void*)& zoff +16)’ was declared here\n",
            "             K::Vector_3 xoff,yoff,zoff;\n",
            "                                   ^~~~\n",
            "    In file included from /tmp/pip-req-build-mlvffs38/build/temp.linux-x86_64-3.6/CGAL-4.7/include/CGAL/Cartesian/Cartesian_base.h:68:0,\n",
            "                     from /tmp/pip-req-build-mlvffs38/build/temp.linux-x86_64-3.6/CGAL-4.7/include/CGAL/Simple_cartesian.h:28,\n",
            "                     from mesh/src/visibility.cpp:6:\n",
            "    /tmp/pip-req-build-mlvffs38/build/temp.linux-x86_64-3.6/CGAL-4.7/include/CGAL/Cartesian/function_objects.h:940:31: warning: ‘*((void*)& zoff +8)’ may be used uninitialized in this function [-Wmaybe-uninitialized]\n",
            "      return v.x() * w.x() + v.y() * w.y() + v.z() * w.z();\n",
            "    mesh/src/visibility.cpp:77:31: note: ‘*((void*)& zoff +8)’ was declared here\n",
            "             K::Vector_3 xoff,yoff,zoff;\n",
            "                                   ^~~~\n",
            "    In file included from /tmp/pip-req-build-mlvffs38/build/temp.linux-x86_64-3.6/CGAL-4.7/include/CGAL/Cartesian/Cartesian_base.h:68:0,\n",
            "                     from /tmp/pip-req-build-mlvffs38/build/temp.linux-x86_64-3.6/CGAL-4.7/include/CGAL/Simple_cartesian.h:28,\n",
            "                     from mesh/src/visibility.cpp:6:\n",
            "    /tmp/pip-req-build-mlvffs38/build/temp.linux-x86_64-3.6/CGAL-4.7/include/CGAL/Cartesian/function_objects.h:940:15: warning: ‘zoff’ may be used uninitialized in this function [-Wmaybe-uninitialized]\n",
            "      return v.x() * w.x() + v.y() * w.y() + v.z() * w.z();\n",
            "    mesh/src/visibility.cpp:77:31: note: ‘zoff’ was declared here\n",
            "             K::Vector_3 xoff,yoff,zoff;\n",
            "                                   ^~~~\n",
            "    In file included from /tmp/pip-req-build-mlvffs38/build/temp.linux-x86_64-3.6/CGAL-4.7/include/CGAL/Cartesian/Cartesian_base.h:68:0,\n",
            "                     from /tmp/pip-req-build-mlvffs38/build/temp.linux-x86_64-3.6/CGAL-4.7/include/CGAL/Simple_cartesian.h:28,\n",
            "                     from mesh/src/visibility.cpp:6:\n",
            "    /tmp/pip-req-build-mlvffs38/build/temp.linux-x86_64-3.6/CGAL-4.7/include/CGAL/Cartesian/function_objects.h:940:47: warning: ‘*((void*)& yoff +16)’ may be used uninitialized in this function [-Wmaybe-uninitialized]\n",
            "      return v.x() * w.x() + v.y() * w.y() + v.z() * w.z();\n",
            "    mesh/src/visibility.cpp:77:26: note: ‘*((void*)& yoff +16)’ was declared here\n",
            "             K::Vector_3 xoff,yoff,zoff;\n",
            "                              ^~~~\n",
            "    In file included from /tmp/pip-req-build-mlvffs38/build/temp.linux-x86_64-3.6/CGAL-4.7/include/CGAL/Cartesian/Cartesian_base.h:68:0,\n",
            "                     from /tmp/pip-req-build-mlvffs38/build/temp.linux-x86_64-3.6/CGAL-4.7/include/CGAL/Simple_cartesian.h:28,\n",
            "                     from mesh/src/visibility.cpp:6:\n",
            "    /tmp/pip-req-build-mlvffs38/build/temp.linux-x86_64-3.6/CGAL-4.7/include/CGAL/Cartesian/function_objects.h:940:31: warning: ‘*((void*)& yoff +8)’ may be used uninitialized in this function [-Wmaybe-uninitialized]\n",
            "      return v.x() * w.x() + v.y() * w.y() + v.z() * w.z();\n",
            "    mesh/src/visibility.cpp:77:26: note: ‘*((void*)& yoff +8)’ was declared here\n",
            "             K::Vector_3 xoff,yoff,zoff;\n",
            "                              ^~~~\n",
            "    In file included from /tmp/pip-req-build-mlvffs38/build/temp.linux-x86_64-3.6/CGAL-4.7/include/CGAL/Cartesian/Cartesian_base.h:68:0,\n",
            "                     from /tmp/pip-req-build-mlvffs38/build/temp.linux-x86_64-3.6/CGAL-4.7/include/CGAL/Simple_cartesian.h:28,\n",
            "                     from mesh/src/visibility.cpp:6:\n",
            "    /tmp/pip-req-build-mlvffs38/build/temp.linux-x86_64-3.6/CGAL-4.7/include/CGAL/Cartesian/function_objects.h:940:15: warning: ‘yoff’ may be used uninitialized in this function [-Wmaybe-uninitialized]\n",
            "      return v.x() * w.x() + v.y() * w.y() + v.z() * w.z();\n",
            "    mesh/src/visibility.cpp:77:26: note: ‘yoff’ was declared here\n",
            "             K::Vector_3 xoff,yoff,zoff;\n",
            "                              ^~~~\n",
            "    In file included from /tmp/pip-req-build-mlvffs38/build/temp.linux-x86_64-3.6/CGAL-4.7/include/CGAL/Cartesian/Cartesian_base.h:68:0,\n",
            "                     from /tmp/pip-req-build-mlvffs38/build/temp.linux-x86_64-3.6/CGAL-4.7/include/CGAL/Simple_cartesian.h:28,\n",
            "                     from mesh/src/visibility.cpp:6:\n",
            "    /tmp/pip-req-build-mlvffs38/build/temp.linux-x86_64-3.6/CGAL-4.7/include/CGAL/Cartesian/function_objects.h:940:47: warning: ‘*((void*)& xoff +16)’ may be used uninitialized in this function [-Wmaybe-uninitialized]\n",
            "      return v.x() * w.x() + v.y() * w.y() + v.z() * w.z();\n",
            "    mesh/src/visibility.cpp:77:21: note: ‘*((void*)& xoff +16)’ was declared here\n",
            "             K::Vector_3 xoff,yoff,zoff;\n",
            "                         ^~~~\n",
            "    In file included from /tmp/pip-req-build-mlvffs38/build/temp.linux-x86_64-3.6/CGAL-4.7/include/CGAL/Cartesian/Cartesian_base.h:68:0,\n",
            "                     from /tmp/pip-req-build-mlvffs38/build/temp.linux-x86_64-3.6/CGAL-4.7/include/CGAL/Simple_cartesian.h:28,\n",
            "                     from mesh/src/visibility.cpp:6:\n",
            "    /tmp/pip-req-build-mlvffs38/build/temp.linux-x86_64-3.6/CGAL-4.7/include/CGAL/Cartesian/function_objects.h:940:31: warning: ‘*((void*)& xoff +8)’ may be used uninitialized in this function [-Wmaybe-uninitialized]\n",
            "      return v.x() * w.x() + v.y() * w.y() + v.z() * w.z();\n",
            "    mesh/src/visibility.cpp:77:21: note: ‘*((void*)& xoff +8)’ was declared here\n",
            "             K::Vector_3 xoff,yoff,zoff;\n",
            "                         ^~~~\n",
            "    In file included from /tmp/pip-req-build-mlvffs38/build/temp.linux-x86_64-3.6/CGAL-4.7/include/CGAL/Cartesian/Cartesian_base.h:68:0,\n",
            "                     from /tmp/pip-req-build-mlvffs38/build/temp.linux-x86_64-3.6/CGAL-4.7/include/CGAL/Simple_cartesian.h:28,\n",
            "                     from mesh/src/visibility.cpp:6:\n",
            "    /tmp/pip-req-build-mlvffs38/build/temp.linux-x86_64-3.6/CGAL-4.7/include/CGAL/Cartesian/function_objects.h:940:15: warning: ‘xoff’ may be used uninitialized in this function [-Wmaybe-uninitialized]\n",
            "      return v.x() * w.x() + v.y() * w.y() + v.z() * w.z();\n",
            "    mesh/src/visibility.cpp:77:21: note: ‘xoff’ was declared here\n",
            "             K::Vector_3 xoff,yoff,zoff;\n",
            "                         ^~~~\n",
            "    mesh/src/visibility.cpp:100:69: warning: ‘planeoff’ may be used uninitialized in this function [-Wmaybe-uninitialized]\n",
            "                         double t = -(zoff*(verts_v[ivert]-CGAL::ORIGIN) - planeoff)/(zoff*dir);\n",
            "                                     ~~~~~~~~~~~~~~~~~~~~~~~~~~~~~~~~~~~~^~~~~~~~~~~\n",
            "    mesh/src/visibility.cpp:78:16: note: ‘planeoff’ was declared here\n",
            "             double planeoff;\n",
            "                    ^~~~~~~~\n",
            "    x86_64-linux-gnu-g++ -pthread -shared -Wl,-O1 -Wl,-Bsymbolic-functions -Wl,-Bsymbolic-functions -Wl,-z,relro -Wl,-Bsymbolic-functions -Wl,-z,relro -g -fstack-protector-strong -Wformat -Werror=format-security -Wdate-time -D_FORTIFY_SOURCE=2 build/temp.linux-x86_64-3.6/mesh/src/py_visibility.o build/temp.linux-x86_64-3.6/mesh/src/visibility.o -o build/lib.linux-x86_64-3.6/psbody/mesh/visibility.cpython-36m-x86_64-linux-gnu.so -O3 -fopenmp\n",
            "    building 'psbody.mesh.serialization.plyutils' extension\n",
            "    x86_64-linux-gnu-gcc -pthread -DNDEBUG -g -fwrapv -O2 -Wall -g -fstack-protector-strong -Wformat -Werror=format-security -Wdate-time -D_FORTIFY_SOURCE=2 -fPIC -DNDEBUG=1 -Imesh/src -I/usr/local/lib/python3.6/dist-packages/numpy/core/include -I/tmp/pip-req-build-mlvffs38/build/temp.linux-x86_64-3.6/CGAL-4.7/include -I/usr/include/python3.6m -c mesh/src/plyutils.c -o build/temp.linux-x86_64-3.6/mesh/src/plyutils.o -O3 -fopenmp\n",
            "    x86_64-linux-gnu-gcc -pthread -DNDEBUG -g -fwrapv -O2 -Wall -g -fstack-protector-strong -Wformat -Werror=format-security -Wdate-time -D_FORTIFY_SOURCE=2 -fPIC -DNDEBUG=1 -Imesh/src -I/usr/local/lib/python3.6/dist-packages/numpy/core/include -I/tmp/pip-req-build-mlvffs38/build/temp.linux-x86_64-3.6/CGAL-4.7/include -I/usr/include/python3.6m -c mesh/src/rply.c -o build/temp.linux-x86_64-3.6/mesh/src/rply.o -O3 -fopenmp\n",
            "    x86_64-linux-gnu-g++ -pthread -shared -Wl,-O1 -Wl,-Bsymbolic-functions -Wl,-Bsymbolic-functions -Wl,-z,relro -Wl,-Bsymbolic-functions -Wl,-z,relro -g -fstack-protector-strong -Wformat -Werror=format-security -Wdate-time -D_FORTIFY_SOURCE=2 build/temp.linux-x86_64-3.6/mesh/src/plyutils.o build/temp.linux-x86_64-3.6/mesh/src/rply.o -o build/lib.linux-x86_64-3.6/psbody/mesh/serialization/plyutils.cpython-36m-x86_64-linux-gnu.so -O3 -fopenmp\n",
            "    building 'psbody.mesh.serialization.loadobj' extension\n",
            "    x86_64-linux-gnu-gcc -pthread -DNDEBUG -g -fwrapv -O2 -Wall -g -fstack-protector-strong -Wformat -Werror=format-security -Wdate-time -D_FORTIFY_SOURCE=2 -fPIC -DNDEBUG=1 -Imesh/src -I/usr/local/lib/python3.6/dist-packages/numpy/core/include -I/tmp/pip-req-build-mlvffs38/build/temp.linux-x86_64-3.6/CGAL-4.7/include -I/usr/include/python3.6m -c mesh/src/py_loadobj.cpp -o build/temp.linux-x86_64-3.6/mesh/src/py_loadobj.o -O3 -fopenmp\n",
            "    In file included from /usr/local/lib/python3.6/dist-packages/numpy/core/include/numpy/ndarraytypes.h:1822:0,\n",
            "                     from /usr/local/lib/python3.6/dist-packages/numpy/core/include/numpy/ndarrayobject.h:12,\n",
            "                     from /usr/local/lib/python3.6/dist-packages/numpy/core/include/numpy/arrayobject.h:4,\n",
            "                     from mesh/src/py_loadobj.cpp:5:\n",
            "    /usr/local/lib/python3.6/dist-packages/numpy/core/include/numpy/npy_1_7_deprecated_api.h:17:2: warning: #warning \"Using deprecated NumPy API, disable it with \" \"#define NPY_NO_DEPRECATED_API NPY_1_7_API_VERSION\" [-Wcpp]\n",
            "     #warning \"Using deprecated NumPy API, disable it with \" \\\n",
            "      ^~~~~~~\n",
            "    mesh/src/py_loadobj.cpp: In function ‘PyObject* loadobj(PyObject*, PyObject*, PyObject*)’:\n",
            "    mesh/src/py_loadobj.cpp:150:36: warning: comparison between signed and unsigned integer expressions [-Wsign-compare]\n",
            "                         for (int i=1; i<(localf.size()-1); ++i) {\n",
            "                                       ~^~~~~~~~~~~~~~~~~~\n",
            "    mesh/src/py_loadobj.cpp:159:36: warning: comparison between signed and unsigned integer expressions [-Wsign-compare]\n",
            "                         for (int i=1; i<(localft.size()-1); ++i){\n",
            "                                       ~^~~~~~~~~~~~~~~~~~~\n",
            "    mesh/src/py_loadobj.cpp:166:36: warning: comparison between signed and unsigned integer expressions [-Wsign-compare]\n",
            "                         for (int i=1; i<(localfn.size()-1); ++i){\n",
            "                                       ~^~~~~~~~~~~~~~~~~~~\n",
            "    x86_64-linux-gnu-g++ -pthread -shared -Wl,-O1 -Wl,-Bsymbolic-functions -Wl,-Bsymbolic-functions -Wl,-z,relro -Wl,-Bsymbolic-functions -Wl,-z,relro -g -fstack-protector-strong -Wformat -Werror=format-security -Wdate-time -D_FORTIFY_SOURCE=2 build/temp.linux-x86_64-3.6/mesh/src/py_loadobj.o -o build/lib.linux-x86_64-3.6/psbody/mesh/serialization/loadobj.cpython-36m-x86_64-linux-gnu.so -O3 -fopenmp\n",
            "    running build_scripts\n",
            "    creating build/scripts-3.6\n",
            "    copying and adjusting bin/meshviewer -> build/scripts-3.6\n",
            "    changing mode of build/scripts-3.6/meshviewer from 644 to 755\n",
            "    running install_lib\n",
            "    Skipping installation of /usr/local/lib/python3.6/dist-packages/psbody/__init__.py (namespace package)\n",
            "    copying psbody/mesh/arcball.py -> /usr/local/lib/python3.6/dist-packages/psbody/mesh\n",
            "    copying psbody/mesh/search.py -> /usr/local/lib/python3.6/dist-packages/psbody/mesh\n",
            "    copying psbody/mesh/utils.py -> /usr/local/lib/python3.6/dist-packages/psbody/mesh\n",
            "    copying psbody/mesh/fonts.py -> /usr/local/lib/python3.6/dist-packages/psbody/mesh\n",
            "    copying psbody/mesh/errors.py -> /usr/local/lib/python3.6/dist-packages/psbody/mesh\n",
            "    copying psbody/mesh/aabb_normals.cpython-36m-x86_64-linux-gnu.so -> /usr/local/lib/python3.6/dist-packages/psbody/mesh\n",
            "    copying psbody/mesh/mesh.py -> /usr/local/lib/python3.6/dist-packages/psbody/mesh\n",
            "    copying psbody/mesh/colors.py -> /usr/local/lib/python3.6/dist-packages/psbody/mesh\n",
            "    copying psbody/mesh/visibility.cpython-36m-x86_64-linux-gnu.so -> /usr/local/lib/python3.6/dist-packages/psbody/mesh\n",
            "    copying psbody/mesh/meshviewer.py -> /usr/local/lib/python3.6/dist-packages/psbody/mesh\n",
            "    copying psbody/mesh/texture.py -> /usr/local/lib/python3.6/dist-packages/psbody/mesh\n",
            "    copying psbody/mesh/__init__.py -> /usr/local/lib/python3.6/dist-packages/psbody/mesh\n",
            "    copying psbody/mesh/sphere.py -> /usr/local/lib/python3.6/dist-packages/psbody/mesh\n",
            "    copying psbody/mesh/version.py -> /usr/local/lib/python3.6/dist-packages/psbody/mesh\n",
            "    copying psbody/mesh/processing.py -> /usr/local/lib/python3.6/dist-packages/psbody/mesh\n",
            "    copying psbody/mesh/spatialsearch.cpython-36m-x86_64-linux-gnu.so -> /usr/local/lib/python3.6/dist-packages/psbody/mesh\n",
            "    copying psbody/mesh/lines.py -> /usr/local/lib/python3.6/dist-packages/psbody/mesh\n",
            "    copying psbody/mesh/landmarks.py -> /usr/local/lib/python3.6/dist-packages/psbody/mesh\n",
            "    copying psbody/mesh/geometry/barycentric_coordinates_of_projection.py -> /usr/local/lib/python3.6/dist-packages/psbody/mesh/geometry\n",
            "    copying psbody/mesh/geometry/__init__.py -> /usr/local/lib/python3.6/dist-packages/psbody/mesh/geometry\n",
            "    copying psbody/mesh/geometry/rodrigues.py -> /usr/local/lib/python3.6/dist-packages/psbody/mesh/geometry\n",
            "    copying psbody/mesh/geometry/tri_normals.py -> /usr/local/lib/python3.6/dist-packages/psbody/mesh/geometry\n",
            "    copying psbody/mesh/geometry/vert_normals.py -> /usr/local/lib/python3.6/dist-packages/psbody/mesh/geometry\n",
            "    copying psbody/mesh/geometry/cross_product.py -> /usr/local/lib/python3.6/dist-packages/psbody/mesh/geometry\n",
            "    copying psbody/mesh/geometry/triangle_area.py -> /usr/local/lib/python3.6/dist-packages/psbody/mesh/geometry\n",
            "    copying psbody/mesh/topology/subdivision.py -> /usr/local/lib/python3.6/dist-packages/psbody/mesh/topology\n",
            "    copying psbody/mesh/topology/connectivity.py -> /usr/local/lib/python3.6/dist-packages/psbody/mesh/topology\n",
            "    copying psbody/mesh/topology/linear_mesh_transform.py -> /usr/local/lib/python3.6/dist-packages/psbody/mesh/topology\n",
            "    copying psbody/mesh/topology/__init__.py -> /usr/local/lib/python3.6/dist-packages/psbody/mesh/topology\n",
            "    copying psbody/mesh/topology/decimation.py -> /usr/local/lib/python3.6/dist-packages/psbody/mesh/topology\n",
            "    copying psbody/mesh/serialization/__init__.py -> /usr/local/lib/python3.6/dist-packages/psbody/mesh/serialization\n",
            "    copying psbody/mesh/serialization/plyutils.cpython-36m-x86_64-linux-gnu.so -> /usr/local/lib/python3.6/dist-packages/psbody/mesh/serialization\n",
            "    copying psbody/mesh/serialization/loadobj.cpython-36m-x86_64-linux-gnu.so -> /usr/local/lib/python3.6/dist-packages/psbody/mesh/serialization\n",
            "    copying psbody/mesh/serialization/serialization.py -> /usr/local/lib/python3.6/dist-packages/psbody/mesh/serialization\n",
            "    byte-compiling /usr/local/lib/python3.6/dist-packages/psbody/mesh/arcball.py to arcball.cpython-36.pyc\n",
            "    byte-compiling /usr/local/lib/python3.6/dist-packages/psbody/mesh/search.py to search.cpython-36.pyc\n",
            "    byte-compiling /usr/local/lib/python3.6/dist-packages/psbody/mesh/utils.py to utils.cpython-36.pyc\n",
            "    byte-compiling /usr/local/lib/python3.6/dist-packages/psbody/mesh/fonts.py to fonts.cpython-36.pyc\n",
            "    byte-compiling /usr/local/lib/python3.6/dist-packages/psbody/mesh/errors.py to errors.cpython-36.pyc\n",
            "    byte-compiling /usr/local/lib/python3.6/dist-packages/psbody/mesh/mesh.py to mesh.cpython-36.pyc\n",
            "    byte-compiling /usr/local/lib/python3.6/dist-packages/psbody/mesh/colors.py to colors.cpython-36.pyc\n",
            "    byte-compiling /usr/local/lib/python3.6/dist-packages/psbody/mesh/meshviewer.py to meshviewer.cpython-36.pyc\n",
            "    byte-compiling /usr/local/lib/python3.6/dist-packages/psbody/mesh/texture.py to texture.cpython-36.pyc\n",
            "    byte-compiling /usr/local/lib/python3.6/dist-packages/psbody/mesh/__init__.py to __init__.cpython-36.pyc\n",
            "    byte-compiling /usr/local/lib/python3.6/dist-packages/psbody/mesh/sphere.py to sphere.cpython-36.pyc\n",
            "    byte-compiling /usr/local/lib/python3.6/dist-packages/psbody/mesh/version.py to version.cpython-36.pyc\n",
            "    byte-compiling /usr/local/lib/python3.6/dist-packages/psbody/mesh/processing.py to processing.cpython-36.pyc\n",
            "    byte-compiling /usr/local/lib/python3.6/dist-packages/psbody/mesh/lines.py to lines.cpython-36.pyc\n",
            "    byte-compiling /usr/local/lib/python3.6/dist-packages/psbody/mesh/landmarks.py to landmarks.cpython-36.pyc\n",
            "    byte-compiling /usr/local/lib/python3.6/dist-packages/psbody/mesh/geometry/barycentric_coordinates_of_projection.py to barycentric_coordinates_of_projection.cpython-36.pyc\n",
            "    byte-compiling /usr/local/lib/python3.6/dist-packages/psbody/mesh/geometry/__init__.py to __init__.cpython-36.pyc\n",
            "    byte-compiling /usr/local/lib/python3.6/dist-packages/psbody/mesh/geometry/rodrigues.py to rodrigues.cpython-36.pyc\n",
            "    byte-compiling /usr/local/lib/python3.6/dist-packages/psbody/mesh/geometry/tri_normals.py to tri_normals.cpython-36.pyc\n",
            "    byte-compiling /usr/local/lib/python3.6/dist-packages/psbody/mesh/geometry/vert_normals.py to vert_normals.cpython-36.pyc\n",
            "    byte-compiling /usr/local/lib/python3.6/dist-packages/psbody/mesh/geometry/cross_product.py to cross_product.cpython-36.pyc\n",
            "    byte-compiling /usr/local/lib/python3.6/dist-packages/psbody/mesh/geometry/triangle_area.py to triangle_area.cpython-36.pyc\n",
            "    byte-compiling /usr/local/lib/python3.6/dist-packages/psbody/mesh/topology/subdivision.py to subdivision.cpython-36.pyc\n",
            "    byte-compiling /usr/local/lib/python3.6/dist-packages/psbody/mesh/topology/connectivity.py to connectivity.cpython-36.pyc\n",
            "    byte-compiling /usr/local/lib/python3.6/dist-packages/psbody/mesh/topology/linear_mesh_transform.py to linear_mesh_transform.cpython-36.pyc\n",
            "    byte-compiling /usr/local/lib/python3.6/dist-packages/psbody/mesh/topology/__init__.py to __init__.cpython-36.pyc\n",
            "    byte-compiling /usr/local/lib/python3.6/dist-packages/psbody/mesh/topology/decimation.py to decimation.cpython-36.pyc\n",
            "    byte-compiling /usr/local/lib/python3.6/dist-packages/psbody/mesh/serialization/__init__.py to __init__.cpython-36.pyc\n",
            "    byte-compiling /usr/local/lib/python3.6/dist-packages/psbody/mesh/serialization/serialization.py to serialization.cpython-36.pyc\n",
            "    running install_egg_info\n",
            "    running egg_info\n",
            "    creating psbody_mesh.egg-info\n",
            "    writing psbody_mesh.egg-info/PKG-INFO\n",
            "    writing dependency_links to psbody_mesh.egg-info/dependency_links.txt\n",
            "    writing namespace_packages to psbody_mesh.egg-info/namespace_packages.txt\n",
            "    writing requirements to psbody_mesh.egg-info/requires.txt\n",
            "    writing top-level names to psbody_mesh.egg-info/top_level.txt\n",
            "    writing manifest file 'psbody_mesh.egg-info/SOURCES.txt'\n",
            "    reading manifest template 'MANIFEST.in'\n",
            "    writing manifest file 'psbody_mesh.egg-info/SOURCES.txt'\n",
            "    Copying psbody_mesh.egg-info to /usr/local/lib/python3.6/dist-packages/psbody_mesh-0.4-py3.6.egg-info\n",
            "    Installing /usr/local/lib/python3.6/dist-packages/psbody_mesh-0.4-py3.6-nspkg.pth\n",
            "    running install_scripts\n",
            "    copying build/scripts-3.6/meshviewer -> /usr/local/bin\n",
            "    changing mode of /usr/local/bin/meshviewer to 755\n",
            "    writing list of installed files to '/tmp/pip-record-orwf1ypu/install-record.txt'\n",
            "    Running setup.py install for psbody-mesh ... \u001b[?25l\u001b[?25hdone\n",
            "  Removing source in /tmp/pip-req-build-mlvffs38\n",
            "Successfully installed psbody-mesh-0.4\n",
            "Cleaning up...\n",
            "Removed build tracker '/tmp/pip-req-tracker-_wx3t26c'\n"
          ],
          "name": "stdout"
        }
      ]
    },
    {
      "cell_type": "code",
      "metadata": {
        "id": "SI_CMneOR6Vg",
        "colab_type": "code",
        "colab": {
          "base_uri": "https://localhost:8080/",
          "height": 34
        },
        "outputId": "08ec6960-b8d9-43aa-b0c4-b8dfed57ba8c"
      },
      "source": [
        "!meshviewer view \"/content/MESH/data/unittest/sphere.obj\""
      ],
      "execution_count": 5,
      "outputs": [
        {
          "output_type": "stream",
          "text": [
            "INFO:root:started remote viewer on port 52013\n"
          ],
          "name": "stdout"
        }
      ]
    },
    {
      "cell_type": "code",
      "metadata": {
        "id": "U1WTlSobya-Q",
        "colab_type": "code",
        "colab": {
          "base_uri": "https://localhost:8080/",
          "height": 255
        },
        "outputId": "b26a7e33-37d9-4066-8f24-0285cda8544a"
      },
      "source": [
        "!pip install -r requirements.txt"
      ],
      "execution_count": 6,
      "outputs": [
        {
          "output_type": "stream",
          "text": [
            "Requirement already satisfied: setuptools in /usr/local/lib/python3.6/dist-packages (from -r requirements.txt (line 1)) (49.2.1)\n",
            "Requirement already satisfied: numpy in /usr/local/lib/python3.6/dist-packages (from -r requirements.txt (line 2)) (1.19.1)\n",
            "Requirement already satisfied: matplotlib in /usr/local/lib/python3.6/dist-packages (from -r requirements.txt (line 3)) (3.3.0)\n",
            "Requirement already satisfied: scipy in /usr/local/lib/python3.6/dist-packages (from -r requirements.txt (line 4)) (1.5.2)\n",
            "Requirement already satisfied: pyopengl in /usr/local/lib/python3.6/dist-packages (from -r requirements.txt (line 5)) (3.1.5)\n",
            "Requirement already satisfied: pillow in /usr/local/lib/python3.6/dist-packages (from -r requirements.txt (line 6)) (7.2.0)\n",
            "Requirement already satisfied: pyzmq in /usr/local/lib/python3.6/dist-packages (from -r requirements.txt (line 7)) (19.0.2)\n",
            "Requirement already satisfied: pyyaml in /usr/local/lib/python3.6/dist-packages (from -r requirements.txt (line 8)) (5.3.1)\n",
            "Requirement already satisfied: opencv-python in /usr/local/lib/python3.6/dist-packages (from -r requirements.txt (line 9)) (4.3.0.36)\n",
            "Requirement already satisfied: pyparsing!=2.0.4,!=2.1.2,!=2.1.6,>=2.0.3 in /usr/local/lib/python3.6/dist-packages (from matplotlib->-r requirements.txt (line 3)) (2.4.7)\n",
            "Requirement already satisfied: kiwisolver>=1.0.1 in /usr/local/lib/python3.6/dist-packages (from matplotlib->-r requirements.txt (line 3)) (1.2.0)\n",
            "Requirement already satisfied: python-dateutil>=2.1 in /usr/local/lib/python3.6/dist-packages (from matplotlib->-r requirements.txt (line 3)) (2.8.1)\n",
            "Requirement already satisfied: cycler>=0.10 in /usr/local/lib/python3.6/dist-packages (from matplotlib->-r requirements.txt (line 3)) (0.10.0)\n",
            "Requirement already satisfied: six>=1.5 in /usr/local/lib/python3.6/dist-packages (from python-dateutil>=2.1->matplotlib->-r requirements.txt (line 3)) (1.15.0)\n"
          ],
          "name": "stdout"
        }
      ]
    },
    {
      "cell_type": "code",
      "metadata": {
        "id": "XyuZf7D8z45i",
        "colab_type": "code",
        "colab": {
          "base_uri": "https://localhost:8080/",
          "height": 170
        },
        "outputId": "bc55381d-c6bf-417c-d659-e7ca77a814cd"
      },
      "source": [
        "%cd /content\n",
        "!git clone https://github.com/TimoBolkart/voca.git VOCA\n",
        "%cd /content/VOCA"
      ],
      "execution_count": 7,
      "outputs": [
        {
          "output_type": "stream",
          "text": [
            "/content\n",
            "Cloning into 'VOCA'...\n",
            "remote: Enumerating objects: 17, done.\u001b[K\n",
            "remote: Counting objects: 100% (17/17), done.\u001b[K\n",
            "remote: Compressing objects: 100% (15/15), done.\u001b[K\n",
            "remote: Total 174 (delta 6), reused 5 (delta 2), pack-reused 157\n",
            "Receiving objects: 100% (174/174), 14.56 MiB | 7.41 MiB/s, done.\n",
            "Resolving deltas: 100% (79/79), done.\n",
            "/content/VOCA\n"
          ],
          "name": "stdout"
        }
      ]
    },
    {
      "cell_type": "code",
      "metadata": {
        "id": "pD9P8VMRL6ky",
        "colab_type": "code",
        "colab": {
          "base_uri": "https://localhost:8080/",
          "height": 190
        },
        "outputId": "6bec8420-f1c3-4533-a8cb-7d52a13cd631"
      },
      "source": [
        "!pip install python_speech_features"
      ],
      "execution_count": 8,
      "outputs": [
        {
          "output_type": "stream",
          "text": [
            "Collecting python_speech_features\n",
            "  Downloading https://files.pythonhosted.org/packages/ff/d1/94c59e20a2631985fbd2124c45177abaa9e0a4eee8ba8a305aa26fc02a8e/python_speech_features-0.6.tar.gz\n",
            "Building wheels for collected packages: python-speech-features\n",
            "  Building wheel for python-speech-features (setup.py) ... \u001b[?25l\u001b[?25hdone\n",
            "  Created wheel for python-speech-features: filename=python_speech_features-0.6-cp36-none-any.whl size=5887 sha256=9f8c1555fb3b9cad045d0b004998f3d3a58950c5e119323284efac72a3b46420\n",
            "  Stored in directory: /root/.cache/pip/wheels/3c/42/7c/f60e9d1b40015cd69b213ad90f7c18a9264cd745b9888134be\n",
            "Successfully built python-speech-features\n",
            "Installing collected packages: python-speech-features\n",
            "Successfully installed python-speech-features-0.6\n"
          ],
          "name": "stdout"
        }
      ]
    },
    {
      "cell_type": "code",
      "metadata": {
        "id": "oWk3LPBpdkFp",
        "colab_type": "code",
        "colab": {
          "base_uri": "https://localhost:8080/",
          "height": 136
        },
        "outputId": "e3581b39-2ec4-4c12-b404-13e366f80d20"
      },
      "source": [
        "!git clone https://github.com/mmatl/pyrender.git"
      ],
      "execution_count": 9,
      "outputs": [
        {
          "output_type": "stream",
          "text": [
            "Cloning into 'pyrender'...\n",
            "remote: Enumerating objects: 28, done.\u001b[K\n",
            "remote: Counting objects: 100% (28/28), done.\u001b[K\n",
            "remote: Compressing objects: 100% (16/16), done.\u001b[K\n",
            "remote: Total 1122 (delta 10), reused 21 (delta 9), pack-reused 1094\u001b[K\n",
            "Receiving objects: 100% (1122/1122), 28.38 MiB | 8.80 MiB/s, done.\n",
            "Resolving deltas: 100% (661/661), done.\n"
          ],
          "name": "stdout"
        }
      ]
    },
    {
      "cell_type": "code",
      "metadata": {
        "id": "GffdyOCCJvBw",
        "colab_type": "code",
        "colab": {
          "base_uri": "https://localhost:8080/",
          "height": 238
        },
        "outputId": "c709b951-b103-4537-b564-d2712b210da3"
      },
      "source": [
        "!pip install chumpy"
      ],
      "execution_count": 10,
      "outputs": [
        {
          "output_type": "stream",
          "text": [
            "Collecting chumpy\n",
            "\u001b[?25l  Downloading https://files.pythonhosted.org/packages/87/81/d7a94ad0ff556b9dd1bf27b84c0b255d9ba22ad5952f20088dafacd9292e/chumpy-0.69.tar.gz (50kB)\n",
            "\r\u001b[K     |██████▌                         | 10kB 18.0MB/s eta 0:00:01\r\u001b[K     |█████████████                   | 20kB 1.7MB/s eta 0:00:01\r\u001b[K     |███████████████████▍            | 30kB 2.0MB/s eta 0:00:01\r\u001b[K     |█████████████████████████▉      | 40kB 2.3MB/s eta 0:00:01\r\u001b[K     |████████████████████████████████| 51kB 1.5MB/s \n",
            "\u001b[?25hRequirement already satisfied: numpy>=1.8.1 in /usr/local/lib/python3.6/dist-packages (from chumpy) (1.19.1)\n",
            "Requirement already satisfied: scipy>=0.13.0 in /usr/local/lib/python3.6/dist-packages (from chumpy) (1.5.2)\n",
            "Requirement already satisfied: six>=1.11.0 in /usr/local/lib/python3.6/dist-packages (from chumpy) (1.15.0)\n",
            "Building wheels for collected packages: chumpy\n",
            "  Building wheel for chumpy (setup.py) ... \u001b[?25l\u001b[?25hdone\n",
            "  Created wheel for chumpy: filename=chumpy-0.69-cp36-none-any.whl size=58290 sha256=117753bbf7581e175a5777d51e4876340a85c888d1030569914320ec8f3f1a5e\n",
            "  Stored in directory: /root/.cache/pip/wheels/df/11/36/2758327d759bad62803f3f9190db1c063e52a0358cecd33e94\n",
            "Successfully built chumpy\n",
            "Installing collected packages: chumpy\n",
            "Successfully installed chumpy-0.69\n"
          ],
          "name": "stdout"
        }
      ]
    },
    {
      "cell_type": "code",
      "metadata": {
        "id": "oYVx1epJlCvE",
        "colab_type": "code",
        "colab": {
          "base_uri": "https://localhost:8080/",
          "height": 34
        },
        "outputId": "5f1419d9-7c8c-4a41-acc5-850f04959401"
      },
      "source": [
        "!pwd"
      ],
      "execution_count": 11,
      "outputs": [
        {
          "output_type": "stream",
          "text": [
            "/content/VOCA\n"
          ],
          "name": "stdout"
        }
      ]
    },
    {
      "cell_type": "code",
      "metadata": {
        "id": "sYCyIcxkm07i",
        "colab_type": "code",
        "colab": {
          "base_uri": "https://localhost:8080/",
          "height": 34
        },
        "outputId": "e74d9f0b-7e89-457c-fe76-43886b98acc3"
      },
      "source": [
        "!git clone https://github.com/TimoBolkart/TF_FLAME.git flame"
      ],
      "execution_count": 12,
      "outputs": [
        {
          "output_type": "stream",
          "text": [
            "fatal: destination path 'flame' already exists and is not an empty directory.\n"
          ],
          "name": "stdout"
        }
      ]
    },
    {
      "cell_type": "code",
      "metadata": {
        "id": "OL6RWigunqR-",
        "colab_type": "code",
        "colab": {
          "base_uri": "https://localhost:8080/",
          "height": 34
        },
        "outputId": "e39ec921-4b28-4389-f7a0-6ca8492678fe"
      },
      "source": [
        "%cd /content/VOCA/flame"
      ],
      "execution_count": 13,
      "outputs": [
        {
          "output_type": "stream",
          "text": [
            "/content/VOCA/flame\n"
          ],
          "name": "stdout"
        }
      ]
    },
    {
      "cell_type": "code",
      "metadata": {
        "id": "9IalAqzwQr28",
        "colab_type": "code",
        "colab": {}
      },
      "source": [
        "#!python sample_texture.py --model_fname './models/generic_model.pkl' --texture_fname './models/albedoModel2020_FLAME_albedoPart.npz' --num_samples 5 --out_path './texture_samples_AlbedoMM'"
      ],
      "execution_count": null,
      "outputs": []
    },
    {
      "cell_type": "code",
      "metadata": {
        "id": "ryFqYDlkmhIw",
        "colab_type": "code",
        "colab": {}
      },
      "source": [
        "#!python sample_FLAME.py --option sample_FLAME --model_fname './models/generic_model.pkl' --num_samples 5 --out_path './FLAME_samples'"
      ],
      "execution_count": 15,
      "outputs": []
    },
    {
      "cell_type": "code",
      "metadata": {
        "id": "acRcZHWZv1t3",
        "colab_type": "code",
        "colab": {}
      },
      "source": [
        "#!python sample_texture.py --model_fname './models/generic_model.pkl' --texture_fname './models/albedoModel2020_FLAME_albedoPart.npz' --num_samples 5 --out_path './texture_samples_AlbedoMM'"
      ],
      "execution_count": 16,
      "outputs": []
    },
    {
      "cell_type": "code",
      "metadata": {
        "id": "AlsqOpj8r2Dx",
        "colab_type": "code",
        "colab": {}
      },
      "source": [
        "#!python sample_texture.py --model_fname './models/generic_model.pkl' --texture_fname './models/FLAME_texture.npz' --num_samples 5 --out_path './texture_samples_MPI'"
      ],
      "execution_count": null,
      "outputs": []
    },
    {
      "cell_type": "code",
      "metadata": {
        "id": "nCMER2nmIlVG",
        "colab_type": "code",
        "colab": {
          "base_uri": "https://localhost:8080/",
          "height": 34
        },
        "outputId": "0efc2a4d-3d59-4f8d-d213-4031d780ef34"
      },
      "source": [
        "#!python sample_templates.py --flame_model_path './flame/generic_model.pkl' --num_samples 1 --out_path './template'"
      ],
      "execution_count": null,
      "outputs": [
        {
          "output_type": "stream",
          "text": [
            "python3: can't open file 'sample_templates.py': [Errno 2] No such file or directory\n"
          ],
          "name": "stdout"
        }
      ]
    },
    {
      "cell_type": "code",
      "metadata": {
        "id": "0J1QmWq7zFw5",
        "colab_type": "code",
        "colab": {
          "base_uri": "https://localhost:8080/",
          "height": 921
        },
        "outputId": "f051f829-5f45-4a25-da0f-4b83a8437b6b"
      },
      "source": [
        "%cd /content/VOCA\n",
        "\n",
        "!python run_voca.py --visualize False --tf_model_fname '/content/drive/My Drive/VOCA-model/gstep_52280.model' \\\n",
        "  --ds_fname '/content/drive/My Drive/VOCA-ds_graph/output_graph.pb' \\\n",
        "  --audio_fname '/content/drive/My Drive/b2-scale512.wav' \\\n",
        "  --template_fname '/content/drive/My Drive/VOCA-template/FLAME_sample.ply' \\\n",
        "  --condition_idx 3 --out_path './animation_output'"
      ],
      "execution_count": 14,
      "outputs": [
        {
          "output_type": "stream",
          "text": [
            "/content/VOCA\n",
            "/usr/local/lib/python3.6/dist-packages/tensorflow/python/framework/dtypes.py:516: FutureWarning: Passing (type, 1) or '1type' as a synonym of type is deprecated; in a future version of numpy, it will be understood as (type, (1,)) / '(1,)type'.\n",
            "  _np_qint8 = np.dtype([(\"qint8\", np.int8, 1)])\n",
            "/usr/local/lib/python3.6/dist-packages/tensorflow/python/framework/dtypes.py:517: FutureWarning: Passing (type, 1) or '1type' as a synonym of type is deprecated; in a future version of numpy, it will be understood as (type, (1,)) / '(1,)type'.\n",
            "  _np_quint8 = np.dtype([(\"quint8\", np.uint8, 1)])\n",
            "/usr/local/lib/python3.6/dist-packages/tensorflow/python/framework/dtypes.py:518: FutureWarning: Passing (type, 1) or '1type' as a synonym of type is deprecated; in a future version of numpy, it will be understood as (type, (1,)) / '(1,)type'.\n",
            "  _np_qint16 = np.dtype([(\"qint16\", np.int16, 1)])\n",
            "/usr/local/lib/python3.6/dist-packages/tensorflow/python/framework/dtypes.py:519: FutureWarning: Passing (type, 1) or '1type' as a synonym of type is deprecated; in a future version of numpy, it will be understood as (type, (1,)) / '(1,)type'.\n",
            "  _np_quint16 = np.dtype([(\"quint16\", np.uint16, 1)])\n",
            "/usr/local/lib/python3.6/dist-packages/tensorflow/python/framework/dtypes.py:520: FutureWarning: Passing (type, 1) or '1type' as a synonym of type is deprecated; in a future version of numpy, it will be understood as (type, (1,)) / '(1,)type'.\n",
            "  _np_qint32 = np.dtype([(\"qint32\", np.int32, 1)])\n",
            "/usr/local/lib/python3.6/dist-packages/tensorflow/python/framework/dtypes.py:525: FutureWarning: Passing (type, 1) or '1type' as a synonym of type is deprecated; in a future version of numpy, it will be understood as (type, (1,)) / '(1,)type'.\n",
            "  np_resource = np.dtype([(\"resource\", np.ubyte, 1)])\n",
            "/usr/local/lib/python3.6/dist-packages/tensorboard/compat/tensorflow_stub/dtypes.py:541: FutureWarning: Passing (type, 1) or '1type' as a synonym of type is deprecated; in a future version of numpy, it will be understood as (type, (1,)) / '(1,)type'.\n",
            "  _np_qint8 = np.dtype([(\"qint8\", np.int8, 1)])\n",
            "/usr/local/lib/python3.6/dist-packages/tensorboard/compat/tensorflow_stub/dtypes.py:542: FutureWarning: Passing (type, 1) or '1type' as a synonym of type is deprecated; in a future version of numpy, it will be understood as (type, (1,)) / '(1,)type'.\n",
            "  _np_quint8 = np.dtype([(\"quint8\", np.uint8, 1)])\n",
            "/usr/local/lib/python3.6/dist-packages/tensorboard/compat/tensorflow_stub/dtypes.py:543: FutureWarning: Passing (type, 1) or '1type' as a synonym of type is deprecated; in a future version of numpy, it will be understood as (type, (1,)) / '(1,)type'.\n",
            "  _np_qint16 = np.dtype([(\"qint16\", np.int16, 1)])\n",
            "/usr/local/lib/python3.6/dist-packages/tensorboard/compat/tensorflow_stub/dtypes.py:544: FutureWarning: Passing (type, 1) or '1type' as a synonym of type is deprecated; in a future version of numpy, it will be understood as (type, (1,)) / '(1,)type'.\n",
            "  _np_quint16 = np.dtype([(\"quint16\", np.uint16, 1)])\n",
            "/usr/local/lib/python3.6/dist-packages/tensorboard/compat/tensorflow_stub/dtypes.py:545: FutureWarning: Passing (type, 1) or '1type' as a synonym of type is deprecated; in a future version of numpy, it will be understood as (type, (1,)) / '(1,)type'.\n",
            "  _np_qint32 = np.dtype([(\"qint32\", np.int32, 1)])\n",
            "/usr/local/lib/python3.6/dist-packages/tensorboard/compat/tensorflow_stub/dtypes.py:550: FutureWarning: Passing (type, 1) or '1type' as a synonym of type is deprecated; in a future version of numpy, it will be understood as (type, (1,)) / '(1,)type'.\n",
            "  np_resource = np.dtype([(\"resource\", np.ubyte, 1)])\n",
            "Audio has multiple channels, only first channel is considered\n",
            "WARNING:tensorflow:From /content/VOCA/utils/audio_handler.py:96: The name tf.gfile.GFile is deprecated. Please use tf.io.gfile.GFile instead.\n",
            "\n",
            "WARNING:tensorflow:From /content/VOCA/utils/audio_handler.py:97: The name tf.GraphDef is deprecated. Please use tf.compat.v1.GraphDef instead.\n",
            "\n",
            "WARNING:tensorflow:From /content/VOCA/utils/audio_handler.py:100: The name tf.get_default_graph is deprecated. Please use tf.compat.v1.get_default_graph instead.\n",
            "\n",
            "WARNING:tensorflow:From /content/VOCA/utils/audio_handler.py:110: The name tf.Session is deprecated. Please use tf.compat.v1.Session instead.\n",
            "\n",
            "2020-08-03 11:55:38.507868: I tensorflow/core/platform/cpu_feature_guard.cc:142] Your CPU supports instructions that this TensorFlow binary was not compiled to use: AVX2 FMA\n",
            "2020-08-03 11:55:38.511487: I tensorflow/core/platform/profile_utils/cpu_utils.cc:94] CPU Frequency: 2300000000 Hz\n",
            "2020-08-03 11:55:38.511740: I tensorflow/compiler/xla/service/service.cc:168] XLA service 0x61f81c0 executing computations on platform Host. Devices:\n",
            "2020-08-03 11:55:38.511776: I tensorflow/compiler/xla/service/service.cc:175]   StreamExecutor device (0): <undefined>, <undefined>\n",
            "process audio: subj - seq\n",
            "2020-08-03 11:55:39.717056: W tensorflow/core/framework/allocator.cc:107] Allocation of 201326592 exceeds 10% of system memory.\n",
            "2020-08-03 11:55:39.787045: W tensorflow/core/framework/allocator.cc:107] Allocation of 201326592 exceeds 10% of system memory.\n",
            "2020-08-03 11:55:39.858350: W tensorflow/core/framework/allocator.cc:107] Allocation of 16777216 exceeds 10% of system memory.\n",
            "2020-08-03 11:55:39.865015: W tensorflow/core/framework/allocator.cc:107] Allocation of 33554432 exceeds 10% of system memory.\n",
            "2020-08-03 11:55:39.877216: W tensorflow/core/framework/allocator.cc:107] Allocation of 33554432 exceeds 10% of system memory.\n",
            "2020-08-03 11:55:43.690144: W tensorflow/compiler/jit/mark_for_compilation_pass.cc:1412] (One-time warning): Not using XLA:CPU for cluster because envvar TF_XLA_FLAGS=--tf_xla_cpu_global_jit was not set.  If you want XLA:CPU, either set that envvar, or use experimental_jit_scope to enable XLA:CPU.  To confirm that XLA is active, pass --vmodule=xla_compilation_cache=1 (as a proper command-line flag, not via TF_XLA_FLAGS) or set the envvar XLA_FLAGS=--xla_hlo_profile.\n",
            "WARNING:tensorflow:From /content/VOCA/utils/inference.py:91: The name tf.train.import_meta_graph is deprecated. Please use tf.compat.v1.train.import_meta_graph instead.\n",
            "\n",
            "WARNING:tensorflow:From /usr/local/lib/python3.6/dist-packages/tensorflow/python/training/saver.py:1276: checkpoint_exists (from tensorflow.python.training.checkpoint_management) is deprecated and will be removed in a future version.\n",
            "Instructions for updating:\n",
            "Use standard file APIs to check for files with this prefix.\n",
            "WARNING:tensorflow:From /content/VOCA/utils/inference.py:113: The name tf.reset_default_graph is deprecated. Please use tf.compat.v1.reset_default_graph instead.\n",
            "\n"
          ],
          "name": "stdout"
        }
      ]
    },
    {
      "cell_type": "code",
      "metadata": {
        "id": "PbV0blmhNt0n",
        "colab_type": "code",
        "colab": {
          "base_uri": "https://localhost:8080/",
          "height": 445
        },
        "outputId": "6d3dcc11-dd3c-4bd3-e5ba-cf220f801e01"
      },
      "source": [
        "!python edit_sequences.py --source_path './animation_output/meshes' \\\n",
        "  --out_path './animation_eye_blink' \\\n",
        "  --flame_model_path  '/content/drive/My Drive/FLAME-model/generic_model.pkl' \\\n",
        "  --mode blink --num_blinks 12 --blink_duration 3"
      ],
      "execution_count": 15,
      "outputs": [
        {
          "output_type": "stream",
          "text": [
            "/usr/local/lib/python3.6/dist-packages/tensorflow/python/framework/dtypes.py:516: FutureWarning: Passing (type, 1) or '1type' as a synonym of type is deprecated; in a future version of numpy, it will be understood as (type, (1,)) / '(1,)type'.\n",
            "  _np_qint8 = np.dtype([(\"qint8\", np.int8, 1)])\n",
            "/usr/local/lib/python3.6/dist-packages/tensorflow/python/framework/dtypes.py:517: FutureWarning: Passing (type, 1) or '1type' as a synonym of type is deprecated; in a future version of numpy, it will be understood as (type, (1,)) / '(1,)type'.\n",
            "  _np_quint8 = np.dtype([(\"quint8\", np.uint8, 1)])\n",
            "/usr/local/lib/python3.6/dist-packages/tensorflow/python/framework/dtypes.py:518: FutureWarning: Passing (type, 1) or '1type' as a synonym of type is deprecated; in a future version of numpy, it will be understood as (type, (1,)) / '(1,)type'.\n",
            "  _np_qint16 = np.dtype([(\"qint16\", np.int16, 1)])\n",
            "/usr/local/lib/python3.6/dist-packages/tensorflow/python/framework/dtypes.py:519: FutureWarning: Passing (type, 1) or '1type' as a synonym of type is deprecated; in a future version of numpy, it will be understood as (type, (1,)) / '(1,)type'.\n",
            "  _np_quint16 = np.dtype([(\"quint16\", np.uint16, 1)])\n",
            "/usr/local/lib/python3.6/dist-packages/tensorflow/python/framework/dtypes.py:520: FutureWarning: Passing (type, 1) or '1type' as a synonym of type is deprecated; in a future version of numpy, it will be understood as (type, (1,)) / '(1,)type'.\n",
            "  _np_qint32 = np.dtype([(\"qint32\", np.int32, 1)])\n",
            "/usr/local/lib/python3.6/dist-packages/tensorflow/python/framework/dtypes.py:525: FutureWarning: Passing (type, 1) or '1type' as a synonym of type is deprecated; in a future version of numpy, it will be understood as (type, (1,)) / '(1,)type'.\n",
            "  np_resource = np.dtype([(\"resource\", np.ubyte, 1)])\n",
            "/usr/local/lib/python3.6/dist-packages/tensorboard/compat/tensorflow_stub/dtypes.py:541: FutureWarning: Passing (type, 1) or '1type' as a synonym of type is deprecated; in a future version of numpy, it will be understood as (type, (1,)) / '(1,)type'.\n",
            "  _np_qint8 = np.dtype([(\"qint8\", np.int8, 1)])\n",
            "/usr/local/lib/python3.6/dist-packages/tensorboard/compat/tensorflow_stub/dtypes.py:542: FutureWarning: Passing (type, 1) or '1type' as a synonym of type is deprecated; in a future version of numpy, it will be understood as (type, (1,)) / '(1,)type'.\n",
            "  _np_quint8 = np.dtype([(\"quint8\", np.uint8, 1)])\n",
            "/usr/local/lib/python3.6/dist-packages/tensorboard/compat/tensorflow_stub/dtypes.py:543: FutureWarning: Passing (type, 1) or '1type' as a synonym of type is deprecated; in a future version of numpy, it will be understood as (type, (1,)) / '(1,)type'.\n",
            "  _np_qint16 = np.dtype([(\"qint16\", np.int16, 1)])\n",
            "/usr/local/lib/python3.6/dist-packages/tensorboard/compat/tensorflow_stub/dtypes.py:544: FutureWarning: Passing (type, 1) or '1type' as a synonym of type is deprecated; in a future version of numpy, it will be understood as (type, (1,)) / '(1,)type'.\n",
            "  _np_quint16 = np.dtype([(\"quint16\", np.uint16, 1)])\n",
            "/usr/local/lib/python3.6/dist-packages/tensorboard/compat/tensorflow_stub/dtypes.py:545: FutureWarning: Passing (type, 1) or '1type' as a synonym of type is deprecated; in a future version of numpy, it will be understood as (type, (1,)) / '(1,)type'.\n",
            "  _np_qint32 = np.dtype([(\"qint32\", np.int32, 1)])\n",
            "/usr/local/lib/python3.6/dist-packages/tensorboard/compat/tensorflow_stub/dtypes.py:550: FutureWarning: Passing (type, 1) or '1type' as a synonym of type is deprecated; in a future version of numpy, it will be understood as (type, (1,)) / '(1,)type'.\n",
            "  np_resource = np.dtype([(\"resource\", np.ubyte, 1)])\n"
          ],
          "name": "stdout"
        }
      ]
    },
    {
      "cell_type": "code",
      "metadata": {
        "id": "R2iMcWO-TImW",
        "colab_type": "code",
        "colab": {
          "base_uri": "https://localhost:8080/",
          "height": 445
        },
        "outputId": "a4617222-5afb-4dc5-8a07-33eb748b0664"
      },
      "source": [
        "!python edit_sequences.py --source_path './animation_output/meshes' \\\n",
        "  --out_path './animation_variation_pose' \\\n",
        "  --flame_model_path  '/content/drive/My Drive/FLAME-model/generic_model.pkl' \\\n",
        "  --mode pose --index 3 --max_variation 0.52"
      ],
      "execution_count": 16,
      "outputs": [
        {
          "output_type": "stream",
          "text": [
            "/usr/local/lib/python3.6/dist-packages/tensorflow/python/framework/dtypes.py:516: FutureWarning: Passing (type, 1) or '1type' as a synonym of type is deprecated; in a future version of numpy, it will be understood as (type, (1,)) / '(1,)type'.\n",
            "  _np_qint8 = np.dtype([(\"qint8\", np.int8, 1)])\n",
            "/usr/local/lib/python3.6/dist-packages/tensorflow/python/framework/dtypes.py:517: FutureWarning: Passing (type, 1) or '1type' as a synonym of type is deprecated; in a future version of numpy, it will be understood as (type, (1,)) / '(1,)type'.\n",
            "  _np_quint8 = np.dtype([(\"quint8\", np.uint8, 1)])\n",
            "/usr/local/lib/python3.6/dist-packages/tensorflow/python/framework/dtypes.py:518: FutureWarning: Passing (type, 1) or '1type' as a synonym of type is deprecated; in a future version of numpy, it will be understood as (type, (1,)) / '(1,)type'.\n",
            "  _np_qint16 = np.dtype([(\"qint16\", np.int16, 1)])\n",
            "/usr/local/lib/python3.6/dist-packages/tensorflow/python/framework/dtypes.py:519: FutureWarning: Passing (type, 1) or '1type' as a synonym of type is deprecated; in a future version of numpy, it will be understood as (type, (1,)) / '(1,)type'.\n",
            "  _np_quint16 = np.dtype([(\"quint16\", np.uint16, 1)])\n",
            "/usr/local/lib/python3.6/dist-packages/tensorflow/python/framework/dtypes.py:520: FutureWarning: Passing (type, 1) or '1type' as a synonym of type is deprecated; in a future version of numpy, it will be understood as (type, (1,)) / '(1,)type'.\n",
            "  _np_qint32 = np.dtype([(\"qint32\", np.int32, 1)])\n",
            "/usr/local/lib/python3.6/dist-packages/tensorflow/python/framework/dtypes.py:525: FutureWarning: Passing (type, 1) or '1type' as a synonym of type is deprecated; in a future version of numpy, it will be understood as (type, (1,)) / '(1,)type'.\n",
            "  np_resource = np.dtype([(\"resource\", np.ubyte, 1)])\n",
            "/usr/local/lib/python3.6/dist-packages/tensorboard/compat/tensorflow_stub/dtypes.py:541: FutureWarning: Passing (type, 1) or '1type' as a synonym of type is deprecated; in a future version of numpy, it will be understood as (type, (1,)) / '(1,)type'.\n",
            "  _np_qint8 = np.dtype([(\"qint8\", np.int8, 1)])\n",
            "/usr/local/lib/python3.6/dist-packages/tensorboard/compat/tensorflow_stub/dtypes.py:542: FutureWarning: Passing (type, 1) or '1type' as a synonym of type is deprecated; in a future version of numpy, it will be understood as (type, (1,)) / '(1,)type'.\n",
            "  _np_quint8 = np.dtype([(\"quint8\", np.uint8, 1)])\n",
            "/usr/local/lib/python3.6/dist-packages/tensorboard/compat/tensorflow_stub/dtypes.py:543: FutureWarning: Passing (type, 1) or '1type' as a synonym of type is deprecated; in a future version of numpy, it will be understood as (type, (1,)) / '(1,)type'.\n",
            "  _np_qint16 = np.dtype([(\"qint16\", np.int16, 1)])\n",
            "/usr/local/lib/python3.6/dist-packages/tensorboard/compat/tensorflow_stub/dtypes.py:544: FutureWarning: Passing (type, 1) or '1type' as a synonym of type is deprecated; in a future version of numpy, it will be understood as (type, (1,)) / '(1,)type'.\n",
            "  _np_quint16 = np.dtype([(\"quint16\", np.uint16, 1)])\n",
            "/usr/local/lib/python3.6/dist-packages/tensorboard/compat/tensorflow_stub/dtypes.py:545: FutureWarning: Passing (type, 1) or '1type' as a synonym of type is deprecated; in a future version of numpy, it will be understood as (type, (1,)) / '(1,)type'.\n",
            "  _np_qint32 = np.dtype([(\"qint32\", np.int32, 1)])\n",
            "/usr/local/lib/python3.6/dist-packages/tensorboard/compat/tensorflow_stub/dtypes.py:550: FutureWarning: Passing (type, 1) or '1type' as a synonym of type is deprecated; in a future version of numpy, it will be understood as (type, (1,)) / '(1,)type'.\n",
            "  np_resource = np.dtype([(\"resource\", np.ubyte, 1)])\n"
          ],
          "name": "stdout"
        }
      ]
    },
    {
      "cell_type": "code",
      "metadata": {
        "id": "waOQ_6fFv1kY",
        "colab_type": "code",
        "colab": {
          "base_uri": "https://localhost:8080/",
          "height": 34
        },
        "outputId": "95943b2f-6dfa-4397-bc38-e813e16f4255"
      },
      "source": [
        "######### 여기!!!\n",
        "\n",
        "!pwd"
      ],
      "execution_count": 1,
      "outputs": [
        {
          "output_type": "stream",
          "text": [
            "/content\n"
          ],
          "name": "stdout"
        }
      ]
    },
    {
      "cell_type": "code",
      "metadata": {
        "id": "T4EDN7zLveSZ",
        "colab_type": "code",
        "colab": {
          "base_uri": "https://localhost:8080/",
          "height": 1000
        },
        "outputId": "66d7872d-78a0-40ea-b52c-2fe3b237b1e2"
      },
      "source": [
        "# Install dependencies - OSMesa, mmatl's fork of PyOpenGL\n",
        "!sudo apt update\n",
        "!sudo wget https://github.com/mmatl/travis_debs/raw/master/xenial/mesa_18.3.3-0.deb\n",
        "!sudo dpkg -i ./mesa_18.3.3-0.deb || true\n",
        "!sudo apt install -f\n",
        "!git clone https://github.com/mmatl/pyopengl.git\n",
        "!pip install ./pyopengl"
      ],
      "execution_count": 2,
      "outputs": [
        {
          "output_type": "stream",
          "text": [
            "\u001b[33m\r0% [Working]\u001b[0m\r            \rGet:1 https://cloud.r-project.org/bin/linux/ubuntu bionic-cran35/ InRelease [3,626 B]\n",
            "\u001b[33m\r0% [Connecting to archive.ubuntu.com] [Connecting to security.ubuntu.com (91.18\u001b[0m\u001b[33m\r0% [Connecting to archive.ubuntu.com] [Connecting to security.ubuntu.com (91.18\u001b[0m\u001b[33m\r0% [1 InRelease gpgv 3,626 B] [Connecting to archive.ubuntu.com] [Connecting to\u001b[0m\u001b[33m\r0% [Connecting to archive.ubuntu.com] [Connecting to security.ubuntu.com (91.18\u001b[0m\r                                                                               \rIgn:2 https://developer.download.nvidia.com/compute/cuda/repos/ubuntu1804/x86_64  InRelease\n",
            "\u001b[33m\r0% [Connecting to archive.ubuntu.com (91.189.88.142)] [Waiting for headers] [Wa\u001b[0m\r                                                                               \rHit:3 http://ppa.launchpad.net/graphics-drivers/ppa/ubuntu bionic InRelease\n",
            "\u001b[33m\r0% [Connecting to archive.ubuntu.com (91.189.88.142)] [Waiting for headers] [Wa\u001b[0m\r                                                                               \rGet:4 http://security.ubuntu.com/ubuntu bionic-security InRelease [88.7 kB]\n",
            "\u001b[33m\r0% [Waiting for headers] [4 InRelease 14.2 kB/88.7 kB 16%] [Waiting for headers\u001b[0m\u001b[33m\r0% [3 InRelease gpgv 21.3 kB] [Waiting for headers] [4 InRelease 14.2 kB/88.7 k\u001b[0m\r                                                                               \rIgn:5 https://developer.download.nvidia.com/compute/machine-learning/repos/ubuntu1804/x86_64  InRelease\n",
            "\u001b[33m\r0% [3 InRelease gpgv 21.3 kB] [Waiting for headers] [4 InRelease 14.2 kB/88.7 k\u001b[0m\r                                                                               \rHit:6 https://developer.download.nvidia.com/compute/cuda/repos/ubuntu1804/x86_64  Release\n",
            "Hit:7 https://developer.download.nvidia.com/compute/machine-learning/repos/ubuntu1804/x86_64  Release\n",
            "Hit:10 http://archive.ubuntu.com/ubuntu bionic InRelease\n",
            "Get:11 http://ppa.launchpad.net/marutter/c2d4u3.5/ubuntu bionic InRelease [15.4 kB]\n",
            "Get:12 http://archive.ubuntu.com/ubuntu bionic-updates InRelease [88.7 kB]\n",
            "Get:13 http://ppa.launchpad.net/marutter/c2d4u3.5/ubuntu bionic/main Sources [1,853 kB]\n",
            "Get:14 http://archive.ubuntu.com/ubuntu bionic-backports InRelease [74.6 kB]\n",
            "Get:15 http://archive.ubuntu.com/ubuntu bionic-updates/main amd64 Packages [1,334 kB]\n",
            "Get:16 http://archive.ubuntu.com/ubuntu bionic-updates/universe amd64 Packages [1,413 kB]\n",
            "Get:17 http://archive.ubuntu.com/ubuntu bionic-updates/restricted amd64 Packages [116 kB]\n",
            "Get:18 http://archive.ubuntu.com/ubuntu bionic-updates/multiverse amd64 Packages [27.1 kB]\n",
            "Get:19 http://ppa.launchpad.net/marutter/c2d4u3.5/ubuntu bionic/main amd64 Packages [894 kB]\n",
            "Fetched 5,909 kB in 5s (1,147 kB/s)\n",
            "Reading package lists... Done\n",
            "Building dependency tree       \n",
            "Reading state information... Done\n",
            "38 packages can be upgraded. Run 'apt list --upgradable' to see them.\n",
            "--2020-08-03 12:03:03--  https://github.com/mmatl/travis_debs/raw/master/xenial/mesa_18.3.3-0.deb\n",
            "Resolving github.com (github.com)... 140.82.112.3\n",
            "Connecting to github.com (github.com)|140.82.112.3|:443... connected.\n",
            "HTTP request sent, awaiting response... 302 Found\n",
            "Location: https://raw.githubusercontent.com/mmatl/travis_debs/master/xenial/mesa_18.3.3-0.deb [following]\n",
            "--2020-08-03 12:03:04--  https://raw.githubusercontent.com/mmatl/travis_debs/master/xenial/mesa_18.3.3-0.deb\n",
            "Resolving raw.githubusercontent.com (raw.githubusercontent.com)... 151.101.0.133, 151.101.64.133, 151.101.128.133, ...\n",
            "Connecting to raw.githubusercontent.com (raw.githubusercontent.com)|151.101.0.133|:443... connected.\n",
            "HTTP request sent, awaiting response... 200 OK\n",
            "Length: 31776942 (30M) [application/octet-stream]\n",
            "Saving to: ‘mesa_18.3.3-0.deb’\n",
            "\n",
            "mesa_18.3.3-0.deb   100%[===================>]  30.30M  47.0MB/s    in 0.6s    \n",
            "\n",
            "2020-08-03 12:03:07 (47.0 MB/s) - ‘mesa_18.3.3-0.deb’ saved [31776942/31776942]\n",
            "\n",
            "Selecting previously unselected package mesa.\n",
            "(Reading database ... 144487 files and directories currently installed.)\n",
            "Preparing to unpack ./mesa_18.3.3-0.deb ...\n",
            "Unpacking mesa (18.3.3-0) ...\n",
            "\u001b[1mdpkg:\u001b[0m dependency problems prevent configuration of mesa:\n",
            " mesa depends on llvm-6.0; however:\n",
            "  Package llvm-6.0 is not installed.\n",
            " mesa depends on llvm-6.0-tools; however:\n",
            "  Package llvm-6.0-tools is not installed.\n",
            "\n",
            "\u001b[1mdpkg:\u001b[0m error processing package mesa (--install):\n",
            " dependency problems - leaving unconfigured\n",
            "Errors were encountered while processing:\n",
            " mesa\n",
            "Reading package lists... Done\n",
            "Building dependency tree       \n",
            "Reading state information... Done\n",
            "Correcting dependencies... Done\n",
            "The following package was automatically installed and is no longer required:\n",
            "  libnvidia-common-440\n",
            "Use 'sudo apt autoremove' to remove it.\n",
            "The following additional packages will be installed:\n",
            "  binfmt-support libffi-dev llvm-6.0 llvm-6.0-dev llvm-6.0-runtime\n",
            "  llvm-6.0-tools\n",
            "Suggested packages:\n",
            "  llvm-6.0-doc\n",
            "The following NEW packages will be installed:\n",
            "  binfmt-support libffi-dev llvm-6.0 llvm-6.0-dev llvm-6.0-runtime\n",
            "  llvm-6.0-tools\n",
            "0 upgraded, 6 newly installed, 0 to remove and 38 not upgraded.\n",
            "1 not fully installed or removed.\n",
            "Need to get 28.5 MB of archives.\n",
            "After this operation, 179 MB of additional disk space will be used.\n",
            "Get:1 http://archive.ubuntu.com/ubuntu bionic/main amd64 binfmt-support amd64 2.1.8-2 [51.6 kB]\n",
            "Get:2 http://archive.ubuntu.com/ubuntu bionic/main amd64 llvm-6.0-runtime amd64 1:6.0-1ubuntu2 [200 kB]\n",
            "Get:3 http://archive.ubuntu.com/ubuntu bionic/main amd64 llvm-6.0 amd64 1:6.0-1ubuntu2 [4,838 kB]\n",
            "Get:4 http://archive.ubuntu.com/ubuntu bionic/main amd64 libffi-dev amd64 3.2.1-8 [156 kB]\n",
            "Get:5 http://archive.ubuntu.com/ubuntu bionic/main amd64 llvm-6.0-dev amd64 1:6.0-1ubuntu2 [23.0 MB]\n",
            "Get:6 http://archive.ubuntu.com/ubuntu bionic/universe amd64 llvm-6.0-tools amd64 1:6.0-1ubuntu2 [210 kB]\n",
            "Fetched 28.5 MB in 5s (5,796 kB/s)\n",
            "debconf: unable to initialize frontend: Dialog\n",
            "debconf: (No usable dialog-like program is installed, so the dialog based frontend cannot be used. at /usr/share/perl5/Debconf/FrontEnd/Dialog.pm line 76, <> line 6.)\n",
            "debconf: falling back to frontend: Readline\n",
            "debconf: unable to initialize frontend: Readline\n",
            "debconf: (This frontend requires a controlling tty.)\n",
            "debconf: falling back to frontend: Teletype\n",
            "dpkg-preconfigure: unable to re-open stdin: \n",
            "Selecting previously unselected package binfmt-support.\n",
            "(Reading database ... 144518 files and directories currently installed.)\n",
            "Preparing to unpack .../0-binfmt-support_2.1.8-2_amd64.deb ...\n",
            "Unpacking binfmt-support (2.1.8-2) ...\n",
            "Selecting previously unselected package llvm-6.0-runtime.\n",
            "Preparing to unpack .../1-llvm-6.0-runtime_1%3a6.0-1ubuntu2_amd64.deb ...\n",
            "Unpacking llvm-6.0-runtime (1:6.0-1ubuntu2) ...\n",
            "Selecting previously unselected package llvm-6.0.\n",
            "Preparing to unpack .../2-llvm-6.0_1%3a6.0-1ubuntu2_amd64.deb ...\n",
            "Unpacking llvm-6.0 (1:6.0-1ubuntu2) ...\n",
            "Selecting previously unselected package libffi-dev:amd64.\n",
            "Preparing to unpack .../3-libffi-dev_3.2.1-8_amd64.deb ...\n",
            "Unpacking libffi-dev:amd64 (3.2.1-8) ...\n",
            "Selecting previously unselected package llvm-6.0-dev.\n",
            "Preparing to unpack .../4-llvm-6.0-dev_1%3a6.0-1ubuntu2_amd64.deb ...\n",
            "Unpacking llvm-6.0-dev (1:6.0-1ubuntu2) ...\n",
            "Selecting previously unselected package llvm-6.0-tools.\n",
            "Preparing to unpack .../5-llvm-6.0-tools_1%3a6.0-1ubuntu2_amd64.deb ...\n",
            "Unpacking llvm-6.0-tools (1:6.0-1ubuntu2) ...\n",
            "Setting up binfmt-support (2.1.8-2) ...\n",
            "Created symlink /etc/systemd/system/multi-user.target.wants/binfmt-support.service → /lib/systemd/system/binfmt-support.service.\n",
            "invoke-rc.d: could not determine current runlevel\n",
            "invoke-rc.d: policy-rc.d denied execution of start.\n",
            "Setting up libffi-dev:amd64 (3.2.1-8) ...\n",
            "Setting up llvm-6.0-runtime (1:6.0-1ubuntu2) ...\n",
            "Setting up llvm-6.0 (1:6.0-1ubuntu2) ...\n",
            "Setting up llvm-6.0-dev (1:6.0-1ubuntu2) ...\n",
            "Setting up llvm-6.0-tools (1:6.0-1ubuntu2) ...\n",
            "Setting up mesa (18.3.3-0) ...\n",
            "Processing triggers for systemd (237-3ubuntu10.41) ...\n",
            "Processing triggers for man-db (2.8.3-2ubuntu0.1) ...\n",
            "Processing triggers for libc-bin (2.27-3ubuntu1) ...\n",
            "/sbin/ldconfig.real: /usr/local/lib/python3.6/dist-packages/ideep4py/lib/libmkldnn.so.0 is not a symbolic link\n",
            "\n",
            "Cloning into 'pyopengl'...\n",
            "remote: Enumerating objects: 26044, done.\u001b[K\n",
            "remote: Total 26044 (delta 0), reused 0 (delta 0), pack-reused 26044\u001b[K\n",
            "Receiving objects: 100% (26044/26044), 23.94 MiB | 8.40 MiB/s, done.\n",
            "Resolving deltas: 100% (21680/21680), done.\n",
            "Processing ./pyopengl\n",
            "Building wheels for collected packages: PyOpenGL\n",
            "  Building wheel for PyOpenGL (setup.py) ... \u001b[?25l\u001b[?25hdone\n",
            "  Created wheel for PyOpenGL: filename=PyOpenGL-3.1.0-cp36-none-any.whl size=2349655 sha256=50ee59b97543bf762fb491d07914cae6876b18d8dde0d1f3e19b67d782444de7\n",
            "  Stored in directory: /tmp/pip-ephem-wheel-cache-4nq1fxf9/wheels/89/5f/69/d65a30306708045f091e76d7e2dd024890b9bcd662988921d3\n",
            "Successfully built PyOpenGL\n",
            "Installing collected packages: PyOpenGL\n",
            "  Found existing installation: PyOpenGL 3.1.5\n",
            "    Uninstalling PyOpenGL-3.1.5:\n",
            "      Successfully uninstalled PyOpenGL-3.1.5\n",
            "Successfully installed PyOpenGL-3.1.0\n"
          ],
          "name": "stdout"
        }
      ]
    },
    {
      "cell_type": "code",
      "metadata": {
        "id": "y7Qc356KxCRR",
        "colab_type": "code",
        "colab": {}
      },
      "source": [
        "import os\n",
        "os.environ[\"PYOPENGL_PLATFORM\"] = \"osmesa\"\n",
        "import numpy as np\n",
        "import trimesh\n",
        "import pyrender"
      ],
      "execution_count": 3,
      "outputs": []
    },
    {
      "cell_type": "code",
      "metadata": {
        "id": "S-sneLdAxj6b",
        "colab_type": "code",
        "colab": {
          "base_uri": "https://localhost:8080/",
          "height": 34
        },
        "outputId": "9fcff584-e30e-4f80-e3e4-3a93535538c4"
      },
      "source": [
        "!pwd"
      ],
      "execution_count": 4,
      "outputs": [
        {
          "output_type": "stream",
          "text": [
            "/content\n"
          ],
          "name": "stdout"
        }
      ]
    },
    {
      "cell_type": "code",
      "metadata": {
        "id": "ogRXlKQ2xTOq",
        "colab_type": "code",
        "colab": {
          "base_uri": "https://localhost:8080/",
          "height": 145
        },
        "outputId": "31e88bc6-fcac-42e4-ed0b-c008b10e32d9"
      },
      "source": [
        "# Load the FUZE bottle trimesh and put it in a scene\n",
        "fuze_trimesh = trimesh.load('VOCA/pyrender/examples/models/fuze.obj')\n",
        "mesh = pyrender.Mesh.from_trimesh(fuze_trimesh)\n",
        "scene = pyrender.Scene()\n",
        "scene.add(mesh)\n",
        "\n",
        "# Set up the camera -- z-axis away from the scene, x-axis right, y-axis up\n",
        "camera = pyrender.PerspectiveCamera(yfov=np.pi / 3.0)\n",
        "s = np.sqrt(2)/2\n",
        "camera_pose = np.array([\n",
        "       [0.0, -s,   s,   0.3],\n",
        "       [1.0,  0.0, 0.0, 0.0],\n",
        "       [0.0,  s,   s,   0.35],\n",
        "       [0.0,  0.0, 0.0, 1.0],\n",
        "    ])\n",
        "scene.add(camera, pose=camera_pose)\n",
        "\n",
        "# Set up the light -- a single spot light in the same spot as the camera\n",
        "light = pyrender.SpotLight(color=np.ones(3), intensity=3.0,\n",
        "                               innerConeAngle=np.pi/16.0)\n",
        "scene.add(light, pose=camera_pose)\n",
        "\n",
        "# Render the scene\n",
        "r = pyrender.OffscreenRenderer(640, 480)\n",
        "color, depth = r.render(scene)\n",
        "\n",
        "# Show the images\n",
        "import matplotlib.pyplot as plt\n",
        "\n",
        "plt.figure()\n",
        "plt.subplot(1,2,1)\n",
        "plt.axis('off')\n",
        "plt.imshow(color)\n",
        "plt.subplot(1,2,2)\n",
        "plt.axis('off')\n",
        "\n",
        "plt.imshow(depth, cmap=plt.cm.gray_r)\n",
        "plt.show()"
      ],
      "execution_count": 5,
      "outputs": [
        {
          "output_type": "display_data",
          "data": {
            "image/png": "[encoded data removed]",
            "text/plain": [
              "<Figure size 432x288 with 2 Axes>"
            ]
          },
          "metadata": {
            "tags": [],
            "needs_background": "light"
          }
        }
      ]
    },
    {
      "cell_type": "code",
      "metadata": {
        "id": "iiKyDSjsPcnl",
        "colab_type": "code",
        "colab": {
          "base_uri": "https://localhost:8080/",
          "height": 34
        },
        "outputId": "e81aa771-8ea0-443f-baf0-a7de629bfdf1"
      },
      "source": [
        "#%cd VOCA/flame"
      ],
      "execution_count": 6,
      "outputs": [
        {
          "output_type": "stream",
          "text": [
            "/content/VOCA/flame\n"
          ],
          "name": "stdout"
        }
      ]
    },
    {
      "cell_type": "code",
      "metadata": {
        "id": "hMKLgifVPOFG",
        "colab_type": "code",
        "colab": {
          "base_uri": "https://localhost:8080/",
          "height": 853
        },
        "outputId": "22594c13-1767-4b25-fb42-06d02233bda2"
      },
      "source": [
        "#!python ./fit_2D_landmarks.py --model_fname '/content/drive/My Drive/FLAME-model/generic_model.pkl' --flame_lmk_path './data/flame_static_embedding.pkl' --texture_mapping './data/texture_data.npy' --target_img_path './data/imgHQ00039.jpeg' --target_lmk_path './data/imgHQ00039_lmks.npy' --out_path './results'"
      ],
      "execution_count": 7,
      "outputs": [
        {
          "output_type": "stream",
          "text": [
            "/usr/local/lib/python3.6/dist-packages/tensorflow/python/framework/dtypes.py:516: FutureWarning: Passing (type, 1) or '1type' as a synonym of type is deprecated; in a future version of numpy, it will be understood as (type, (1,)) / '(1,)type'.\n",
            "  _np_qint8 = np.dtype([(\"qint8\", np.int8, 1)])\n",
            "/usr/local/lib/python3.6/dist-packages/tensorflow/python/framework/dtypes.py:517: FutureWarning: Passing (type, 1) or '1type' as a synonym of type is deprecated; in a future version of numpy, it will be understood as (type, (1,)) / '(1,)type'.\n",
            "  _np_quint8 = np.dtype([(\"quint8\", np.uint8, 1)])\n",
            "/usr/local/lib/python3.6/dist-packages/tensorflow/python/framework/dtypes.py:518: FutureWarning: Passing (type, 1) or '1type' as a synonym of type is deprecated; in a future version of numpy, it will be understood as (type, (1,)) / '(1,)type'.\n",
            "  _np_qint16 = np.dtype([(\"qint16\", np.int16, 1)])\n",
            "/usr/local/lib/python3.6/dist-packages/tensorflow/python/framework/dtypes.py:519: FutureWarning: Passing (type, 1) or '1type' as a synonym of type is deprecated; in a future version of numpy, it will be understood as (type, (1,)) / '(1,)type'.\n",
            "  _np_quint16 = np.dtype([(\"quint16\", np.uint16, 1)])\n",
            "/usr/local/lib/python3.6/dist-packages/tensorflow/python/framework/dtypes.py:520: FutureWarning: Passing (type, 1) or '1type' as a synonym of type is deprecated; in a future version of numpy, it will be understood as (type, (1,)) / '(1,)type'.\n",
            "  _np_qint32 = np.dtype([(\"qint32\", np.int32, 1)])\n",
            "/usr/local/lib/python3.6/dist-packages/tensorflow/python/framework/dtypes.py:525: FutureWarning: Passing (type, 1) or '1type' as a synonym of type is deprecated; in a future version of numpy, it will be understood as (type, (1,)) / '(1,)type'.\n",
            "  np_resource = np.dtype([(\"resource\", np.ubyte, 1)])\n",
            "/usr/local/lib/python3.6/dist-packages/tensorboard/compat/tensorflow_stub/dtypes.py:541: FutureWarning: Passing (type, 1) or '1type' as a synonym of type is deprecated; in a future version of numpy, it will be understood as (type, (1,)) / '(1,)type'.\n",
            "  _np_qint8 = np.dtype([(\"qint8\", np.int8, 1)])\n",
            "/usr/local/lib/python3.6/dist-packages/tensorboard/compat/tensorflow_stub/dtypes.py:542: FutureWarning: Passing (type, 1) or '1type' as a synonym of type is deprecated; in a future version of numpy, it will be understood as (type, (1,)) / '(1,)type'.\n",
            "  _np_quint8 = np.dtype([(\"quint8\", np.uint8, 1)])\n",
            "/usr/local/lib/python3.6/dist-packages/tensorboard/compat/tensorflow_stub/dtypes.py:543: FutureWarning: Passing (type, 1) or '1type' as a synonym of type is deprecated; in a future version of numpy, it will be understood as (type, (1,)) / '(1,)type'.\n",
            "  _np_qint16 = np.dtype([(\"qint16\", np.int16, 1)])\n",
            "/usr/local/lib/python3.6/dist-packages/tensorboard/compat/tensorflow_stub/dtypes.py:544: FutureWarning: Passing (type, 1) or '1type' as a synonym of type is deprecated; in a future version of numpy, it will be understood as (type, (1,)) / '(1,)type'.\n",
            "  _np_quint16 = np.dtype([(\"quint16\", np.uint16, 1)])\n",
            "/usr/local/lib/python3.6/dist-packages/tensorboard/compat/tensorflow_stub/dtypes.py:545: FutureWarning: Passing (type, 1) or '1type' as a synonym of type is deprecated; in a future version of numpy, it will be understood as (type, (1,)) / '(1,)type'.\n",
            "  _np_qint32 = np.dtype([(\"qint32\", np.int32, 1)])\n",
            "/usr/local/lib/python3.6/dist-packages/tensorboard/compat/tensorflow_stub/dtypes.py:550: FutureWarning: Passing (type, 1) or '1type' as a synonym of type is deprecated; in a future version of numpy, it will be understood as (type, (1,)) / '(1,)type'.\n",
            "  np_resource = np.dtype([(\"resource\", np.ubyte, 1)])\n",
            "*** hkim - run_2d_lmk_fitting\n",
            "WARNING:tensorflow:From ./fit_2D_landmarks.py:67: The name tf.Session is deprecated. Please use tf.compat.v1.Session instead.\n",
            "\n",
            "2020-07-30 06:25:38.689074: I tensorflow/core/platform/cpu_feature_guard.cc:142] Your CPU supports instructions that this TensorFlow binary was not compiled to use: AVX2 FMA\n",
            "2020-07-30 06:25:38.692830: I tensorflow/core/platform/profile_utils/cpu_utils.cc:94] CPU Frequency: 2200000000 Hz\n",
            "2020-07-30 06:25:38.693019: I tensorflow/compiler/xla/service/service.cc:168] XLA service 0x2cf5800 executing computations on platform Host. Devices:\n",
            "2020-07-30 06:25:38.693050: I tensorflow/compiler/xla/service/service.cc:175]   StreamExecutor device (0): <undefined>, <undefined>\n",
            "WARNING:tensorflow:From /usr/local/lib/python3.6/dist-packages/tensorflow/python/ops/variables.py:2618: Variable.initialized_value (from tensorflow.python.ops.variables) is deprecated and will be removed in a future version.\n",
            "Instructions for updating:\n",
            "Use Variable.read_value. Variables in 2.X are initialized automatically both in eager and graph (inside tf.defun) contexts.\n",
            "WARNING:tensorflow:From ./fit_2D_landmarks.py:91: The name tf.global_variables_initializer is deprecated. Please use tf.compat.v1.global_variables_initializer instead.\n",
            "\n",
            "2020-07-30 06:25:38.951545: W tensorflow/core/framework/allocator.cc:107] Allocation of 48220800 exceeds 10% of system memory.\n",
            "2020-07-30 06:25:38.967422: W tensorflow/core/framework/allocator.cc:107] Allocation of 48220800 exceeds 10% of system memory.\n",
            "2020-07-30 06:25:38.988816: W tensorflow/core/framework/allocator.cc:107] Allocation of 48220800 exceeds 10% of system memory.\n",
            "2020-07-30 06:25:39.004842: W tensorflow/core/framework/allocator.cc:107] Allocation of 48220800 exceeds 10% of system memory.\n",
            "2020-07-30 06:25:39.055536: W tensorflow/core/framework/allocator.cc:107] Allocation of 48220800 exceeds 10% of system memory.\n",
            "2020-07-30 06:25:39.290848: W tensorflow/compiler/jit/mark_for_compilation_pass.cc:1412] (One-time warning): Not using XLA:CPU for cluster because envvar TF_XLA_FLAGS=--tf_xla_cpu_global_jit was not set.  If you want XLA:CPU, either set that envvar, or use experimental_jit_scope to enable XLA:CPU.  To confirm that XLA is active, pass --vmodule=xla_compilation_cache=1 (as a proper command-line flag, not via TF_XLA_FLAGS) or set the envvar XLA_FLAGS=--xla_hlo_profile.\n",
            "Optimize rigid transformation\n",
            "WARNING:tensorflow:From /usr/local/lib/python3.6/dist-packages/tensorflow/python/ops/math_grad.py:1250: add_dispatch_support.<locals>.wrapper (from tensorflow.python.ops.array_ops) is deprecated and will be removed in a future version.\n",
            "Instructions for updating:\n",
            "Use tf.where in 2.0, which has the same broadcast rule as np.where\n",
            "Rendering failed\n",
            ": cannot connect to X server \n"
          ],
          "name": "stdout"
        }
      ]
    },
    {
      "cell_type": "code",
      "metadata": {
        "id": "WJmiJCQsxcWR",
        "colab_type": "code",
        "colab": {}
      },
      "source": [
        "def render_sequence_meshes(audio_fname, sequence_vertices, template, out_path):\n",
        "    \"\"\"\n",
        "    This function is used for rendering meshes(obj files) into images.\n",
        "    The original function is defined in util.inference, but this is some issue while running it directly with osmesa.\n",
        "    Input:\n",
        "        audio_fname (string): audio file name\n",
        "        sequence_vertices(list): a list of obj vetexs\n",
        "        template: \n",
        "        out_path: location of generation video\n",
        "    \n",
        "    \n",
        "    \"\"\"\n",
        "    if not os.path.exists(out_path):\n",
        "        os.makedirs(out_path)\n",
        "    tmp_filename = out_path + '/tmp_video.mp4'\n",
        "        \n",
        "    if int(cv2.__version__[0]) < 3:\n",
        "        writer = cv2.VideoWriter(tmp_filename, cv2.cv.CV_FOURCC(*'mp4v'), 60, (800, 800), True)\n",
        "    else:\n",
        "        writer = cv2.VideoWriter(tmp_filename, cv2.VideoWriter_fourcc(*'mp4v'), 60, (800, 800), True)\n",
        "\n",
        "#template = Mesh(sequence_vertices[0], f)\n",
        "#template.set_texture_image('/content/drive/My Drive/animation_texture/meshes/hkim정면crop.png')\n",
        "\n",
        "    num_frames = sequence_vertices.shape[0]\n",
        "    center = np.mean(sequence_vertices[0], axis=0)\n",
        "    for i_frame in tqdm(range(num_frames)):\n",
        "        tmp = Mesh(sequence_vertices[i_frame], template.f)\n",
        "        tmp.set_texture_image('/content/drive/My Drive/animation_texture/meshes/hkim정면crop.png')\n",
        "        print(\"hkim --- set_texture\")\n",
        "        print(\"\")\n",
        "        #img = render_mesh_helper(Mesh(sequence_vertices[i_frame], template.f), center)\n",
        "        img = render_mesh_helper(tmp, center)\n",
        "        writer.write(img)\n",
        "    writer.release()\n",
        "\n",
        "    video_fname = os.path.join(out_path, 'video.mp4')\n",
        "\n",
        "    cmd = ('ffmpeg' + ' -i {0} -i {1} -vcodec h264 -ac 2 -channel_layout stereo -pix_fmt yuv420p {2}'.format(\n",
        "        audio_fname, tmp_filename, video_fname)).split()\n",
        "    print(cmd)\n",
        "    subprocess.call(cmd)\n",
        "    \n",
        "    print(\"Generation Done...\")"
      ],
      "execution_count": 15,
      "outputs": []
    },
    {
      "cell_type": "code",
      "metadata": {
        "id": "jrjcX2ZVxyNB",
        "colab_type": "code",
        "colab": {
          "base_uri": "https://localhost:8080/",
          "height": 34
        },
        "outputId": "b99833c4-44a8-4a3a-9ac4-00b090621dae"
      },
      "source": [
        "import argparse\n",
        "\n",
        "parser = argparse.ArgumentParser(description='Sequence visualization')\n",
        "parser.add_argument('--sequence_path', default='./VOCA/animation_output', help='Path to motion sequence')\n",
        "parser.add_argument('--audio_fname', default='', help='Path of speech sequence')\n",
        "parser.add_argument('--out_path', default='./VOCA/animation_visualization', help='Output path')\n",
        "\n",
        "args = parser.parse_args(args=[])\n",
        "\n",
        "# add new path\n",
        "\n",
        "# eye sample \n",
        "#args.sequence_path = './VOCA/FLAME_eye_blink/meshes/'\n",
        "#args.audio_fname = './b2-scale512.wav'\n",
        "\n",
        "# eye sample \n",
        "args.sequence_path = './VOCA/animation_variation_pose/meshes/'\n",
        "args.audio_fname = './b2-scale512.wav'\n",
        "\n",
        "# Korean Sample\n",
        "# args.sequence_path = './animation_output/Korean/meshes/'\n",
        "# args.audio_frame = './audio/story_korean_30.wav'\n",
        "\n",
        "# Korean Sample\n",
        "# args.sequence_path = './animation_output/Koo/meshes/'\n",
        "# args.audio_fname = './audio/koo.wav'\n",
        "# args.out_path = './animation_visualization/koo/'\n",
        "\n",
        "\n",
        "# Add Eye-blink\n",
        "#args.sequence_path = './FLAME_eye_blink/meshes/'\n",
        "#args.audio_fname = './audio/test_sentence.wav'\n",
        "\n",
        "# Acheive useful directories\n",
        "sequence_path = args.sequence_path\n",
        "audio_fname = args.audio_fname\n",
        "out_path = args.out_path\n",
        "\n",
        "print(args)"
      ],
      "execution_count": 9,
      "outputs": [
        {
          "output_type": "stream",
          "text": [
            "Namespace(audio_fname='./b2-scale512.wav', out_path='./VOCA/animation_visualization', sequence_path='./VOCA/animation_variation_pose/meshes/')\n"
          ],
          "name": "stdout"
        }
      ]
    },
    {
      "cell_type": "code",
      "metadata": {
        "id": "43Orx0s5yBmK",
        "colab_type": "code",
        "colab": {
          "base_uri": "https://localhost:8080/",
          "height": 51
        },
        "outputId": "ab3baca4-bdbb-4356-fa86-a98aaa5e485a"
      },
      "source": [
        "import glob\n",
        "import time\n",
        "from tqdm import tqdm\n",
        "from tqdm import trange\n",
        "\n",
        "import trimesh\n",
        "from psbody.mesh import Mesh\n",
        "\n",
        "# Load vertexex into a list from obj files\n",
        "sequence_fnames = sorted(glob.glob(os.path.join(sequence_path, '*.obj')))\n",
        "if len(sequence_fnames) == 0:\n",
        "    print('No meshes found')\n",
        "\n",
        "sequence_vertices = []\n",
        "\n",
        "f = None\n",
        "for frame_idx, mesh_fname in tqdm(enumerate(sequence_fnames)):\n",
        "    frame = Mesh(filename=mesh_fname)\n",
        "    sequence_vertices.append(frame.v)\n",
        "    if f is None:\n",
        "        f = frame.f\n",
        "\n",
        "template = Mesh(sequence_vertices[0], f)\n",
        "template.set_texture_image('/content/drive/My Drive/animation_texture/meshes/hkim정면crop.png')\n",
        "\n",
        "    #garment_unposed = Mesh(filename=gar_dict[garment_type][index])\n",
        "    #garment_unposed.set_texture_image(join(path, 'multi_tex.jpg'))\n",
        "\n",
        "\n",
        "\n",
        "sequence_vertices = np.stack(sequence_vertices)\n",
        "print(sequence_vertices.shape)"
      ],
      "execution_count": 10,
      "outputs": [
        {
          "output_type": "stream",
          "text": [
            "1338it [00:37, 35.31it/s]\n"
          ],
          "name": "stderr"
        },
        {
          "output_type": "stream",
          "text": [
            "(1338, 5023, 3)\n"
          ],
          "name": "stdout"
        }
      ]
    },
    {
      "cell_type": "code",
      "metadata": {
        "id": "mdmKxzSyyTzk",
        "colab_type": "code",
        "colab": {
          "base_uri": "https://localhost:8080/",
          "height": 1000
        },
        "outputId": "1a0ed1a2-4e8c-4936-940d-e9edd3e185c1"
      },
      "source": [
        "import cv2\n",
        "import subprocess\n",
        "from subprocess import call\n",
        "from VOCA.utils.rendering import get_unit_factor, render_mesh_helper\n",
        "\n",
        "render_sequence_meshes(audio_fname, sequence_vertices, template, out_path)"
      ],
      "execution_count": null,
      "outputs": [
        {
          "output_type": "stream",
          "text": [
            "\r  0%|          | 0/1338 [00:00<?, ?it/s]"
          ],
          "name": "stderr"
        },
        {
          "output_type": "stream",
          "text": [
            "hkim --- set_texture\n",
            "\n"
          ],
          "name": "stdout"
        },
        {
          "output_type": "stream",
          "text": [
            "\r  0%|          | 1/1338 [00:00<10:17,  2.17it/s]"
          ],
          "name": "stderr"
        },
        {
          "output_type": "stream",
          "text": [
            "hkim --- set_texture\n",
            "\n"
          ],
          "name": "stdout"
        },
        {
          "output_type": "stream",
          "text": [
            "\r  0%|          | 2/1338 [00:00<10:01,  2.22it/s]"
          ],
          "name": "stderr"
        },
        {
          "output_type": "stream",
          "text": [
            "hkim --- set_texture\n",
            "\n"
          ],
          "name": "stdout"
        },
        {
          "output_type": "stream",
          "text": [
            "\r  0%|          | 3/1338 [00:01<09:51,  2.26it/s]"
          ],
          "name": "stderr"
        },
        {
          "output_type": "stream",
          "text": [
            "hkim --- set_texture\n",
            "\n"
          ],
          "name": "stdout"
        },
        {
          "output_type": "stream",
          "text": [
            "\r  0%|          | 4/1338 [00:01<09:44,  2.28it/s]"
          ],
          "name": "stderr"
        },
        {
          "output_type": "stream",
          "text": [
            "hkim --- set_texture\n",
            "\n"
          ],
          "name": "stdout"
        },
        {
          "output_type": "stream",
          "text": [
            "\r  0%|          | 5/1338 [00:02<09:35,  2.32it/s]"
          ],
          "name": "stderr"
        },
        {
          "output_type": "stream",
          "text": [
            "hkim --- set_texture\n",
            "\n"
          ],
          "name": "stdout"
        },
        {
          "output_type": "stream",
          "text": [
            "\r  0%|          | 6/1338 [00:02<09:31,  2.33it/s]"
          ],
          "name": "stderr"
        },
        {
          "output_type": "stream",
          "text": [
            "hkim --- set_texture\n",
            "\n"
          ],
          "name": "stdout"
        },
        {
          "output_type": "stream",
          "text": [
            "\r  1%|          | 7/1338 [00:02<09:25,  2.35it/s]"
          ],
          "name": "stderr"
        },
        {
          "output_type": "stream",
          "text": [
            "hkim --- set_texture\n",
            "\n"
          ],
          "name": "stdout"
        },
        {
          "output_type": "stream",
          "text": [
            "\r  1%|          | 8/1338 [00:03<09:22,  2.36it/s]"
          ],
          "name": "stderr"
        },
        {
          "output_type": "stream",
          "text": [
            "hkim --- set_texture\n",
            "\n"
          ],
          "name": "stdout"
        },
        {
          "output_type": "stream",
          "text": [
            "\r  1%|          | 9/1338 [00:03<09:22,  2.36it/s]"
          ],
          "name": "stderr"
        },
        {
          "output_type": "stream",
          "text": [
            "hkim --- set_texture\n",
            "\n"
          ],
          "name": "stdout"
        },
        {
          "output_type": "stream",
          "text": [
            "\r  1%|          | 10/1338 [00:04<09:23,  2.36it/s]"
          ],
          "name": "stderr"
        },
        {
          "output_type": "stream",
          "text": [
            "hkim --- set_texture\n",
            "\n"
          ],
          "name": "stdout"
        },
        {
          "output_type": "stream",
          "text": [
            "\r  1%|          | 11/1338 [00:04<09:20,  2.37it/s]"
          ],
          "name": "stderr"
        },
        {
          "output_type": "stream",
          "text": [
            "hkim --- set_texture\n",
            "\n"
          ],
          "name": "stdout"
        },
        {
          "output_type": "stream",
          "text": [
            "\r  1%|          | 12/1338 [00:05<09:17,  2.38it/s]"
          ],
          "name": "stderr"
        },
        {
          "output_type": "stream",
          "text": [
            "hkim --- set_texture\n",
            "\n"
          ],
          "name": "stdout"
        },
        {
          "output_type": "stream",
          "text": [
            "\r  1%|          | 13/1338 [00:05<09:19,  2.37it/s]"
          ],
          "name": "stderr"
        },
        {
          "output_type": "stream",
          "text": [
            "hkim --- set_texture\n",
            "\n"
          ],
          "name": "stdout"
        },
        {
          "output_type": "stream",
          "text": [
            "\r  1%|          | 14/1338 [00:05<09:16,  2.38it/s]"
          ],
          "name": "stderr"
        },
        {
          "output_type": "stream",
          "text": [
            "hkim --- set_texture\n",
            "\n"
          ],
          "name": "stdout"
        },
        {
          "output_type": "stream",
          "text": [
            "\r  1%|          | 15/1338 [00:06<09:16,  2.38it/s]"
          ],
          "name": "stderr"
        },
        {
          "output_type": "stream",
          "text": [
            "hkim --- set_texture\n",
            "\n"
          ],
          "name": "stdout"
        },
        {
          "output_type": "stream",
          "text": [
            "\r  1%|          | 16/1338 [00:06<09:17,  2.37it/s]"
          ],
          "name": "stderr"
        },
        {
          "output_type": "stream",
          "text": [
            "hkim --- set_texture\n",
            "\n"
          ],
          "name": "stdout"
        },
        {
          "output_type": "stream",
          "text": [
            "\r  1%|▏         | 17/1338 [00:07<09:15,  2.38it/s]"
          ],
          "name": "stderr"
        },
        {
          "output_type": "stream",
          "text": [
            "hkim --- set_texture\n",
            "\n"
          ],
          "name": "stdout"
        },
        {
          "output_type": "stream",
          "text": [
            "\r  1%|▏         | 18/1338 [00:07<09:12,  2.39it/s]"
          ],
          "name": "stderr"
        },
        {
          "output_type": "stream",
          "text": [
            "hkim --- set_texture\n",
            "\n"
          ],
          "name": "stdout"
        },
        {
          "output_type": "stream",
          "text": [
            "\r  1%|▏         | 19/1338 [00:08<09:13,  2.38it/s]"
          ],
          "name": "stderr"
        },
        {
          "output_type": "stream",
          "text": [
            "hkim --- set_texture\n",
            "\n"
          ],
          "name": "stdout"
        },
        {
          "output_type": "stream",
          "text": [
            "\r  1%|▏         | 20/1338 [00:08<09:13,  2.38it/s]"
          ],
          "name": "stderr"
        },
        {
          "output_type": "stream",
          "text": [
            "hkim --- set_texture\n",
            "\n"
          ],
          "name": "stdout"
        },
        {
          "output_type": "stream",
          "text": [
            "\r  2%|▏         | 21/1338 [00:08<09:15,  2.37it/s]"
          ],
          "name": "stderr"
        },
        {
          "output_type": "stream",
          "text": [
            "hkim --- set_texture\n",
            "\n"
          ],
          "name": "stdout"
        },
        {
          "output_type": "stream",
          "text": [
            "\r  2%|▏         | 22/1338 [00:09<09:21,  2.34it/s]"
          ],
          "name": "stderr"
        },
        {
          "output_type": "stream",
          "text": [
            "hkim --- set_texture\n",
            "\n"
          ],
          "name": "stdout"
        },
        {
          "output_type": "stream",
          "text": [
            "\r  2%|▏         | 23/1338 [00:09<09:29,  2.31it/s]"
          ],
          "name": "stderr"
        },
        {
          "output_type": "stream",
          "text": [
            "hkim --- set_texture\n",
            "\n"
          ],
          "name": "stdout"
        },
        {
          "output_type": "stream",
          "text": [
            "\r  2%|▏         | 24/1338 [00:10<09:25,  2.32it/s]"
          ],
          "name": "stderr"
        },
        {
          "output_type": "stream",
          "text": [
            "hkim --- set_texture\n",
            "\n"
          ],
          "name": "stdout"
        },
        {
          "output_type": "stream",
          "text": [
            "\r  2%|▏         | 25/1338 [00:10<09:18,  2.35it/s]"
          ],
          "name": "stderr"
        },
        {
          "output_type": "stream",
          "text": [
            "hkim --- set_texture\n",
            "\n"
          ],
          "name": "stdout"
        },
        {
          "output_type": "stream",
          "text": [
            "\r  2%|▏         | 26/1338 [00:11<09:18,  2.35it/s]"
          ],
          "name": "stderr"
        },
        {
          "output_type": "stream",
          "text": [
            "hkim --- set_texture\n",
            "\n"
          ],
          "name": "stdout"
        },
        {
          "output_type": "stream",
          "text": [
            "\r  2%|▏         | 27/1338 [00:11<09:14,  2.37it/s]"
          ],
          "name": "stderr"
        },
        {
          "output_type": "stream",
          "text": [
            "hkim --- set_texture\n",
            "\n"
          ],
          "name": "stdout"
        },
        {
          "output_type": "stream",
          "text": [
            "\r  2%|▏         | 28/1338 [00:11<09:10,  2.38it/s]"
          ],
          "name": "stderr"
        },
        {
          "output_type": "stream",
          "text": [
            "hkim --- set_texture\n",
            "\n"
          ],
          "name": "stdout"
        },
        {
          "output_type": "stream",
          "text": [
            "\r  2%|▏         | 29/1338 [00:12<09:05,  2.40it/s]"
          ],
          "name": "stderr"
        },
        {
          "output_type": "stream",
          "text": [
            "hkim --- set_texture\n",
            "\n"
          ],
          "name": "stdout"
        },
        {
          "output_type": "stream",
          "text": [
            "\r  2%|▏         | 30/1338 [00:12<09:03,  2.41it/s]"
          ],
          "name": "stderr"
        },
        {
          "output_type": "stream",
          "text": [
            "hkim --- set_texture\n",
            "\n"
          ],
          "name": "stdout"
        },
        {
          "output_type": "stream",
          "text": [
            "\r  2%|▏         | 31/1338 [00:13<09:01,  2.41it/s]"
          ],
          "name": "stderr"
        },
        {
          "output_type": "stream",
          "text": [
            "hkim --- set_texture\n",
            "\n"
          ],
          "name": "stdout"
        },
        {
          "output_type": "stream",
          "text": [
            "\r  2%|▏         | 32/1338 [00:13<09:03,  2.40it/s]"
          ],
          "name": "stderr"
        },
        {
          "output_type": "stream",
          "text": [
            "hkim --- set_texture\n",
            "\n"
          ],
          "name": "stdout"
        },
        {
          "output_type": "stream",
          "text": [
            "\r  2%|▏         | 33/1338 [00:13<09:17,  2.34it/s]"
          ],
          "name": "stderr"
        },
        {
          "output_type": "stream",
          "text": [
            "hkim --- set_texture\n",
            "\n"
          ],
          "name": "stdout"
        },
        {
          "output_type": "stream",
          "text": [
            "\r  3%|▎         | 34/1338 [00:14<09:20,  2.32it/s]"
          ],
          "name": "stderr"
        },
        {
          "output_type": "stream",
          "text": [
            "hkim --- set_texture\n",
            "\n"
          ],
          "name": "stdout"
        },
        {
          "output_type": "stream",
          "text": [
            "\r  3%|▎         | 35/1338 [00:14<09:27,  2.29it/s]"
          ],
          "name": "stderr"
        },
        {
          "output_type": "stream",
          "text": [
            "hkim --- set_texture\n",
            "\n"
          ],
          "name": "stdout"
        },
        {
          "output_type": "stream",
          "text": [
            "\r  3%|▎         | 36/1338 [00:15<09:30,  2.28it/s]"
          ],
          "name": "stderr"
        },
        {
          "output_type": "stream",
          "text": [
            "hkim --- set_texture\n",
            "\n"
          ],
          "name": "stdout"
        },
        {
          "output_type": "stream",
          "text": [
            "\r  3%|▎         | 37/1338 [00:15<09:32,  2.27it/s]"
          ],
          "name": "stderr"
        },
        {
          "output_type": "stream",
          "text": [
            "hkim --- set_texture\n",
            "\n"
          ],
          "name": "stdout"
        },
        {
          "output_type": "stream",
          "text": [
            "\r  3%|▎         | 38/1338 [00:16<09:37,  2.25it/s]"
          ],
          "name": "stderr"
        },
        {
          "output_type": "stream",
          "text": [
            "hkim --- set_texture\n",
            "\n"
          ],
          "name": "stdout"
        },
        {
          "output_type": "stream",
          "text": [
            "\r  3%|▎         | 39/1338 [00:16<09:39,  2.24it/s]"
          ],
          "name": "stderr"
        },
        {
          "output_type": "stream",
          "text": [
            "hkim --- set_texture\n",
            "\n"
          ],
          "name": "stdout"
        },
        {
          "output_type": "stream",
          "text": [
            "\r  3%|▎         | 40/1338 [00:17<09:41,  2.23it/s]"
          ],
          "name": "stderr"
        },
        {
          "output_type": "stream",
          "text": [
            "hkim --- set_texture\n",
            "\n"
          ],
          "name": "stdout"
        },
        {
          "output_type": "stream",
          "text": [
            "\r  3%|▎         | 41/1338 [00:17<09:39,  2.24it/s]"
          ],
          "name": "stderr"
        },
        {
          "output_type": "stream",
          "text": [
            "hkim --- set_texture\n",
            "\n"
          ],
          "name": "stdout"
        },
        {
          "output_type": "stream",
          "text": [
            "\r  3%|▎         | 42/1338 [00:17<09:36,  2.25it/s]"
          ],
          "name": "stderr"
        },
        {
          "output_type": "stream",
          "text": [
            "hkim --- set_texture\n",
            "\n"
          ],
          "name": "stdout"
        },
        {
          "output_type": "stream",
          "text": [
            "\r  3%|▎         | 43/1338 [00:18<09:32,  2.26it/s]"
          ],
          "name": "stderr"
        },
        {
          "output_type": "stream",
          "text": [
            "hkim --- set_texture\n",
            "\n"
          ],
          "name": "stdout"
        },
        {
          "output_type": "stream",
          "text": [
            "\r  3%|▎         | 44/1338 [00:18<09:32,  2.26it/s]"
          ],
          "name": "stderr"
        },
        {
          "output_type": "stream",
          "text": [
            "hkim --- set_texture\n",
            "\n"
          ],
          "name": "stdout"
        },
        {
          "output_type": "stream",
          "text": [
            "\r  3%|▎         | 45/1338 [00:19<09:23,  2.29it/s]"
          ],
          "name": "stderr"
        },
        {
          "output_type": "stream",
          "text": [
            "hkim --- set_texture\n",
            "\n"
          ],
          "name": "stdout"
        },
        {
          "output_type": "stream",
          "text": [
            "\r  3%|▎         | 46/1338 [00:19<09:17,  2.32it/s]"
          ],
          "name": "stderr"
        },
        {
          "output_type": "stream",
          "text": [
            "hkim --- set_texture\n",
            "\n"
          ],
          "name": "stdout"
        },
        {
          "output_type": "stream",
          "text": [
            "\r  4%|▎         | 47/1338 [00:20<09:15,  2.32it/s]"
          ],
          "name": "stderr"
        },
        {
          "output_type": "stream",
          "text": [
            "hkim --- set_texture\n",
            "\n"
          ],
          "name": "stdout"
        },
        {
          "output_type": "stream",
          "text": [
            "\r  4%|▎         | 48/1338 [00:20<09:14,  2.33it/s]"
          ],
          "name": "stderr"
        },
        {
          "output_type": "stream",
          "text": [
            "hkim --- set_texture\n",
            "\n"
          ],
          "name": "stdout"
        },
        {
          "output_type": "stream",
          "text": [
            "\r  4%|▎         | 49/1338 [00:21<09:21,  2.30it/s]"
          ],
          "name": "stderr"
        },
        {
          "output_type": "stream",
          "text": [
            "hkim --- set_texture\n",
            "\n"
          ],
          "name": "stdout"
        },
        {
          "output_type": "stream",
          "text": [
            "\r  4%|▎         | 50/1338 [00:21<09:16,  2.32it/s]"
          ],
          "name": "stderr"
        },
        {
          "output_type": "stream",
          "text": [
            "hkim --- set_texture\n",
            "\n"
          ],
          "name": "stdout"
        },
        {
          "output_type": "stream",
          "text": [
            "\r  4%|▍         | 51/1338 [00:21<09:12,  2.33it/s]"
          ],
          "name": "stderr"
        },
        {
          "output_type": "stream",
          "text": [
            "hkim --- set_texture\n",
            "\n"
          ],
          "name": "stdout"
        },
        {
          "output_type": "stream",
          "text": [
            "\r  4%|▍         | 52/1338 [00:22<09:07,  2.35it/s]"
          ],
          "name": "stderr"
        },
        {
          "output_type": "stream",
          "text": [
            "hkim --- set_texture\n",
            "\n"
          ],
          "name": "stdout"
        },
        {
          "output_type": "stream",
          "text": [
            "\r  4%|▍         | 53/1338 [00:22<09:09,  2.34it/s]"
          ],
          "name": "stderr"
        },
        {
          "output_type": "stream",
          "text": [
            "hkim --- set_texture\n",
            "\n"
          ],
          "name": "stdout"
        },
        {
          "output_type": "stream",
          "text": [
            "\r  4%|▍         | 54/1338 [00:23<09:15,  2.31it/s]"
          ],
          "name": "stderr"
        },
        {
          "output_type": "stream",
          "text": [
            "hkim --- set_texture\n",
            "\n"
          ],
          "name": "stdout"
        },
        {
          "output_type": "stream",
          "text": [
            "\r  4%|▍         | 55/1338 [00:23<09:13,  2.32it/s]"
          ],
          "name": "stderr"
        },
        {
          "output_type": "stream",
          "text": [
            "hkim --- set_texture\n",
            "\n"
          ],
          "name": "stdout"
        },
        {
          "output_type": "stream",
          "text": [
            "\r  4%|▍         | 56/1338 [00:24<09:19,  2.29it/s]"
          ],
          "name": "stderr"
        },
        {
          "output_type": "stream",
          "text": [
            "hkim --- set_texture\n",
            "\n"
          ],
          "name": "stdout"
        },
        {
          "output_type": "stream",
          "text": [
            "\r  4%|▍         | 57/1338 [00:24<09:18,  2.29it/s]"
          ],
          "name": "stderr"
        },
        {
          "output_type": "stream",
          "text": [
            "hkim --- set_texture\n",
            "\n"
          ],
          "name": "stdout"
        },
        {
          "output_type": "stream",
          "text": [
            "\r  4%|▍         | 58/1338 [00:24<09:22,  2.28it/s]"
          ],
          "name": "stderr"
        },
        {
          "output_type": "stream",
          "text": [
            "hkim --- set_texture\n",
            "\n"
          ],
          "name": "stdout"
        },
        {
          "output_type": "stream",
          "text": [
            "\r  4%|▍         | 59/1338 [00:25<09:23,  2.27it/s]"
          ],
          "name": "stderr"
        },
        {
          "output_type": "stream",
          "text": [
            "hkim --- set_texture\n",
            "\n"
          ],
          "name": "stdout"
        },
        {
          "output_type": "stream",
          "text": [
            "\r  4%|▍         | 60/1338 [00:25<09:23,  2.27it/s]"
          ],
          "name": "stderr"
        },
        {
          "output_type": "stream",
          "text": [
            "hkim --- set_texture\n",
            "\n"
          ],
          "name": "stdout"
        },
        {
          "output_type": "stream",
          "text": [
            "\r  5%|▍         | 61/1338 [00:26<09:16,  2.29it/s]"
          ],
          "name": "stderr"
        },
        {
          "output_type": "stream",
          "text": [
            "hkim --- set_texture\n",
            "\n"
          ],
          "name": "stdout"
        },
        {
          "output_type": "stream",
          "text": [
            "\r  5%|▍         | 62/1338 [00:26<09:07,  2.33it/s]"
          ],
          "name": "stderr"
        },
        {
          "output_type": "stream",
          "text": [
            "hkim --- set_texture\n",
            "\n"
          ],
          "name": "stdout"
        },
        {
          "output_type": "stream",
          "text": [
            "\r  5%|▍         | 63/1338 [00:27<09:04,  2.34it/s]"
          ],
          "name": "stderr"
        },
        {
          "output_type": "stream",
          "text": [
            "hkim --- set_texture\n",
            "\n"
          ],
          "name": "stdout"
        },
        {
          "output_type": "stream",
          "text": [
            "\r  5%|▍         | 64/1338 [00:27<09:00,  2.36it/s]"
          ],
          "name": "stderr"
        },
        {
          "output_type": "stream",
          "text": [
            "hkim --- set_texture\n",
            "\n"
          ],
          "name": "stdout"
        },
        {
          "output_type": "stream",
          "text": [
            "\r  5%|▍         | 65/1338 [00:27<08:55,  2.38it/s]"
          ],
          "name": "stderr"
        },
        {
          "output_type": "stream",
          "text": [
            "hkim --- set_texture\n",
            "\n"
          ],
          "name": "stdout"
        },
        {
          "output_type": "stream",
          "text": [
            "\r  5%|▍         | 66/1338 [00:28<08:52,  2.39it/s]"
          ],
          "name": "stderr"
        },
        {
          "output_type": "stream",
          "text": [
            "hkim --- set_texture\n",
            "\n"
          ],
          "name": "stdout"
        },
        {
          "output_type": "stream",
          "text": [
            "\r  5%|▌         | 67/1338 [00:28<08:53,  2.38it/s]"
          ],
          "name": "stderr"
        },
        {
          "output_type": "stream",
          "text": [
            "hkim --- set_texture\n",
            "\n"
          ],
          "name": "stdout"
        },
        {
          "output_type": "stream",
          "text": [
            "\r  5%|▌         | 68/1338 [00:29<08:55,  2.37it/s]"
          ],
          "name": "stderr"
        },
        {
          "output_type": "stream",
          "text": [
            "hkim --- set_texture\n",
            "\n"
          ],
          "name": "stdout"
        },
        {
          "output_type": "stream",
          "text": [
            "\r  5%|▌         | 69/1338 [00:29<08:54,  2.37it/s]"
          ],
          "name": "stderr"
        },
        {
          "output_type": "stream",
          "text": [
            "hkim --- set_texture\n",
            "\n"
          ],
          "name": "stdout"
        },
        {
          "output_type": "stream",
          "text": [
            "\r  5%|▌         | 70/1338 [00:30<09:06,  2.32it/s]"
          ],
          "name": "stderr"
        },
        {
          "output_type": "stream",
          "text": [
            "hkim --- set_texture\n",
            "\n"
          ],
          "name": "stdout"
        },
        {
          "output_type": "stream",
          "text": [
            "\r  5%|▌         | 71/1338 [00:30<09:09,  2.31it/s]"
          ],
          "name": "stderr"
        },
        {
          "output_type": "stream",
          "text": [
            "hkim --- set_texture\n",
            "\n"
          ],
          "name": "stdout"
        },
        {
          "output_type": "stream",
          "text": [
            "\r  5%|▌         | 72/1338 [00:30<09:10,  2.30it/s]"
          ],
          "name": "stderr"
        },
        {
          "output_type": "stream",
          "text": [
            "hkim --- set_texture\n",
            "\n"
          ],
          "name": "stdout"
        },
        {
          "output_type": "stream",
          "text": [
            "\r  5%|▌         | 73/1338 [00:31<09:13,  2.28it/s]"
          ],
          "name": "stderr"
        },
        {
          "output_type": "stream",
          "text": [
            "hkim --- set_texture\n",
            "\n"
          ],
          "name": "stdout"
        },
        {
          "output_type": "stream",
          "text": [
            "\r  6%|▌         | 74/1338 [00:31<09:23,  2.24it/s]"
          ],
          "name": "stderr"
        },
        {
          "output_type": "stream",
          "text": [
            "hkim --- set_texture\n",
            "\n"
          ],
          "name": "stdout"
        },
        {
          "output_type": "stream",
          "text": [
            "\r  6%|▌         | 75/1338 [00:32<09:23,  2.24it/s]"
          ],
          "name": "stderr"
        },
        {
          "output_type": "stream",
          "text": [
            "hkim --- set_texture\n",
            "\n"
          ],
          "name": "stdout"
        },
        {
          "output_type": "stream",
          "text": [
            "\r  6%|▌         | 76/1338 [00:32<09:20,  2.25it/s]"
          ],
          "name": "stderr"
        },
        {
          "output_type": "stream",
          "text": [
            "hkim --- set_texture\n",
            "\n"
          ],
          "name": "stdout"
        },
        {
          "output_type": "stream",
          "text": [
            "\r  6%|▌         | 77/1338 [00:33<09:32,  2.20it/s]"
          ],
          "name": "stderr"
        },
        {
          "output_type": "stream",
          "text": [
            "hkim --- set_texture\n",
            "\n"
          ],
          "name": "stdout"
        },
        {
          "output_type": "stream",
          "text": [
            "\r  6%|▌         | 78/1338 [00:33<09:26,  2.22it/s]"
          ],
          "name": "stderr"
        },
        {
          "output_type": "stream",
          "text": [
            "hkim --- set_texture\n",
            "\n"
          ],
          "name": "stdout"
        },
        {
          "output_type": "stream",
          "text": [
            "\r  6%|▌         | 79/1338 [00:34<09:28,  2.22it/s]"
          ],
          "name": "stderr"
        },
        {
          "output_type": "stream",
          "text": [
            "hkim --- set_texture\n",
            "\n"
          ],
          "name": "stdout"
        },
        {
          "output_type": "stream",
          "text": [
            "\r  6%|▌         | 80/1338 [00:34<09:26,  2.22it/s]"
          ],
          "name": "stderr"
        },
        {
          "output_type": "stream",
          "text": [
            "hkim --- set_texture\n",
            "\n"
          ],
          "name": "stdout"
        },
        {
          "output_type": "stream",
          "text": [
            "\r  6%|▌         | 81/1338 [00:34<09:28,  2.21it/s]"
          ],
          "name": "stderr"
        },
        {
          "output_type": "stream",
          "text": [
            "hkim --- set_texture\n",
            "\n"
          ],
          "name": "stdout"
        },
        {
          "output_type": "stream",
          "text": [
            "\r  6%|▌         | 82/1338 [00:35<09:27,  2.21it/s]"
          ],
          "name": "stderr"
        },
        {
          "output_type": "stream",
          "text": [
            "hkim --- set_texture\n",
            "\n"
          ],
          "name": "stdout"
        },
        {
          "output_type": "stream",
          "text": [
            "\r  6%|▌         | 83/1338 [00:35<09:27,  2.21it/s]"
          ],
          "name": "stderr"
        },
        {
          "output_type": "stream",
          "text": [
            "hkim --- set_texture\n",
            "\n"
          ],
          "name": "stdout"
        }
      ]
    },
    {
      "cell_type": "code",
      "metadata": {
        "id": "v8G6BnXQzlpf",
        "colab_type": "code",
        "colab": {}
      },
      "source": [
        ""
      ],
      "execution_count": null,
      "outputs": []
    }
  ]
}
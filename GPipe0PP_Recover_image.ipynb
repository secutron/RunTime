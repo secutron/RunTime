{
  "nbformat": 4,
  "nbformat_minor": 0,
  "metadata": {
    "colab": {
      "name": "GPipe0PP-Recover.ipynb",
      "provenance": [],
      "toc_visible": true,
      "mount_file_id": "1UTdnMbcrrum62xZpYdV6w-O4DUndU_pE",
      "authorship_tag": "ABX9TyPdtkNvuTVeowG7lHgJOpvJ",
      "include_colab_link": true
    },
    "kernelspec": {
      "name": "python3",
      "display_name": "Python 3"
    },
    "accelerator": "GPU"
  },
  "cells": [
    {
      "cell_type": "markdown",
      "metadata": {
        "id": "view-in-github",
        "colab_type": "text"
      },
      "source": [
        "<a href=\"https://colab.research.google.com/github/secutron/RunTime/blob/master/GPipe0PP_Recover_image.ipynb\" target=\"_parent\"><img src=\"https://colab.research.google.com/assets/colab-badge.svg\" alt=\"Open In Colab\"/></a>"
      ]
    },
    {
      "cell_type": "markdown",
      "metadata": {
        "id": "IiGkj-fhEv-q",
        "colab_type": "text"
      },
      "source": [
        "### PostP - Rec / Colorlize\n",
        "\n",
        "from https://github.com/jantic/DeOldify"
      ]
    },
    {
      "cell_type": "code",
      "metadata": {
        "id": "yG6cAzAx_AUn",
        "colab_type": "code",
        "colab": {}
      },
      "source": [
        "from IPython.display import clear_output\n",
        "\n",
        "!git clone https://github.com/jantic/DeOldify.git\n",
        "\n",
        "clear_output()"
      ],
      "execution_count": 1,
      "outputs": []
    },
    {
      "cell_type": "code",
      "metadata": {
        "id": "owrxJ3Nc_Mb7",
        "colab_type": "code",
        "colab": {
          "base_uri": "https://localhost:8080/",
          "height": 34
        },
        "outputId": "d2b75b23-7a77-4b0e-8a64-02e47230d15c"
      },
      "source": [
        "%cd /content/DeOldify"
      ],
      "execution_count": 2,
      "outputs": [
        {
          "output_type": "stream",
          "text": [
            "/content/DeOldify\n"
          ],
          "name": "stdout"
        }
      ]
    },
    {
      "cell_type": "code",
      "metadata": {
        "id": "QWMUR-NTrJwi",
        "colab_type": "code",
        "colab": {}
      },
      "source": [
        "!pip install -r colab_requirements.txt\n",
        "clear_output()"
      ],
      "execution_count": 3,
      "outputs": []
    },
    {
      "cell_type": "code",
      "metadata": {
        "id": "q2AjUvQidFtZ",
        "colab_type": "code",
        "colab": {}
      },
      "source": [
        "from deoldify.visualize import *\n",
        "!mkdir 'models'\n",
        "try:\n",
        "  #!rm -rf models/ColorizeVideo_gen.pth\n",
        "  #!gdown https://drive.google.com/uc?id=1-3ONnPYcX9fOqnY-pUKYGJOd6XeFon9X -O ./models/ColorizeVideo_gen.pth\n",
        "  !rm -rf models/ColorizeArtistic_gen.pth\n",
        "  !wget wget https://www.dropbox.com/s/zkehq1uwahhbc2o/ColorizeArtistic_gen.pth?dl=0 -O ./models/ColorizeArtistic_gen.pth\n",
        "except BaseException:\n",
        "  !rm -rf models/ColorizeVideo_gen.pth\n",
        "  !wget https://www.dropbox.com/s/336vn9y4qwyg9yz/ColorizeVideo_gen.pth?dl=0 -O ./models/ColorizeVideo_gen.pth\n",
        "\n",
        "clear_output()"
      ],
      "execution_count": 9,
      "outputs": []
    },
    {
      "cell_type": "code",
      "metadata": {
        "id": "VPoBFTyCtJ6s",
        "colab_type": "code",
        "colab": {}
      },
      "source": [
        "#colorizer = get_video_colorizer()\n",
        "colorizer = get_image_colorizer()\n",
        "\n",
        "clear_output()"
      ],
      "execution_count": 10,
      "outputs": []
    },
    {
      "cell_type": "code",
      "metadata": {
        "id": "IlOUkXvZVL3p",
        "colab_type": "code",
        "colab": {
          "base_uri": "https://localhost:8080/",
          "height": 34
        },
        "outputId": "11ce3a96-b0dc-43b1-8955-f384f7081af1"
      },
      "source": [
        "!rm -rf video\n",
        "!mkdir 'video'\n",
        "!mkdir 'video/source'\n",
        "!cp -r /content/video.mp4 video/source/video.mp4\n",
        "\n",
        "render_factor = 35  #@param {type: \"slider\", min: 5, max: 44}\n",
        "result = colorizer.get_transformed_image('/content/recover-top.jpg', render_factor)\n",
        "\n",
        "\n",
        "\n",
        "#render_results = render_images(colorizer=colorizer, source_dir=path_lr, target_dir=path_hr, filtered_dir=path_results, render_factor=render_factor, num_images=num_images)\n",
        "#clear_output()"
      ],
      "execution_count": 16,
      "outputs": [
        {
          "output_type": "stream",
          "text": [
            "cp: cannot stat '/content/video.mp4': No such file or directory\n"
          ],
          "name": "stdout"
        }
      ]
    },
    {
      "cell_type": "code",
      "metadata": {
        "id": "CCvziyuCw9ba",
        "colab_type": "code",
        "colab": {}
      },
      "source": [
        "result.save('/content/result.png')\n",
        "\n"
      ],
      "execution_count": 19,
      "outputs": []
    },
    {
      "cell_type": "code",
      "metadata": {
        "id": "dZr70qS8y7DE",
        "colab_type": "code",
        "colab": {}
      },
      "source": [
        ""
      ],
      "execution_count": null,
      "outputs": []
    }
  ]
}
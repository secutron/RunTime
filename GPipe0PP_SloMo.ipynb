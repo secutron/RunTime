{
  "nbformat": 4,
  "nbformat_minor": 0,
  "metadata": {
    "colab": {
      "name": "GPipe0PP-SloMo.ipynb",
      "provenance": [],
      "toc_visible": true,
      "mount_file_id": "1oTXq_ec2faeNNE2wL8Xc2LBG59CRidw1",
      "authorship_tag": "ABX9TyPx1JySnhBF4iy1ozY614T/",
      "include_colab_link": true
    },
    "kernelspec": {
      "name": "python3",
      "display_name": "Python 3"
    },
    "accelerator": "GPU"
  },
  "cells": [
    {
      "cell_type": "markdown",
      "metadata": {
        "id": "view-in-github",
        "colab_type": "text"
      },
      "source": [
        "<a href=\"https://colab.research.google.com/github/secutron/RunTime/blob/master/GPipe0PP_SloMo.ipynb\" target=\"_parent\"><img src=\"https://colab.research.google.com/assets/colab-badge.svg\" alt=\"Open In Colab\"/></a>"
      ]
    },
    {
      "cell_type": "markdown",
      "metadata": {
        "id": "IiGkj-fhEv-q",
        "colab_type": "text"
      },
      "source": [
        "### PostP - SloMO / Interp.\n",
        "\n",
        "from https://github.com/sniklaus/sepconv-slomo"
      ]
    },
    {
      "cell_type": "code",
      "metadata": {
        "id": "yG6cAzAx_AUn",
        "colab_type": "code",
        "colab": {
          "base_uri": "https://localhost:8080/",
          "height": 136
        },
        "outputId": "aba80a53-9501-4fd1-8afb-2a0026f787a1"
      },
      "source": [
        "!git clone https://github.com/sniklaus/sepconv-slomo.git VFIASC"
      ],
      "execution_count": 1,
      "outputs": [
        {
          "output_type": "stream",
          "text": [
            "Cloning into 'VFIASC'...\n",
            "remote: Enumerating objects: 16, done.\u001b[K\n",
            "remote: Counting objects:   6% (1/16)\u001b[K\rremote: Counting objects:  12% (2/16)\u001b[K\rremote: Counting objects:  18% (3/16)\u001b[K\rremote: Counting objects:  25% (4/16)\u001b[K\rremote: Counting objects:  31% (5/16)\u001b[K\rremote: Counting objects:  37% (6/16)\u001b[K\rremote: Counting objects:  43% (7/16)\u001b[K\rremote: Counting objects:  50% (8/16)\u001b[K\rremote: Counting objects:  56% (9/16)\u001b[K\rremote: Counting objects:  62% (10/16)\u001b[K\rremote: Counting objects:  68% (11/16)\u001b[K\rremote: Counting objects:  75% (12/16)\u001b[K\rremote: Counting objects:  81% (13/16)\u001b[K\rremote: Counting objects:  87% (14/16)\u001b[K\rremote: Counting objects:  93% (15/16)\u001b[K\rremote: Counting objects: 100% (16/16)\u001b[K\rremote: Counting objects: 100% (16/16), done.\u001b[K\n",
            "remote: Compressing objects: 100% (12/12), done.\u001b[K\n",
            "remote: Total 223 (delta 6), reused 11 (delta 4), pack-reused 207\u001b[K\n",
            "Receiving objects: 100% (223/223), 14.50 MiB | 7.38 MiB/s, done.\n",
            "Resolving deltas: 100% (87/87), done.\n"
          ],
          "name": "stdout"
        }
      ]
    },
    {
      "cell_type": "code",
      "metadata": {
        "id": "owrxJ3Nc_Mb7",
        "colab_type": "code",
        "colab": {
          "base_uri": "https://localhost:8080/",
          "height": 34
        },
        "outputId": "82445cf8-f795-4884-afc9-54699372484d"
      },
      "source": [
        "%cd /content/VFIASC"
      ],
      "execution_count": 2,
      "outputs": [
        {
          "output_type": "stream",
          "text": [
            "/content/VFIASC\n"
          ],
          "name": "stdout"
        }
      ]
    },
    {
      "cell_type": "code",
      "metadata": {
        "id": "q2AjUvQidFtZ",
        "colab_type": "code",
        "colab": {}
      },
      "source": [
        "from IPython.display import clear_output\n",
        "\n",
        "!rm -rf network-l1.pytorch\n",
        "!rm -rf network-lf.pytorch\n",
        "try:\n",
        "  !gdown https://drive.google.com/uc?id=1v77wNU8sYh0hBmljeGt5LzY9ehQU0elv\n",
        "  !gdown https://drive.google.com/uc?id=1na11Ey0TB1KEDps4uEwyTBsDcmpo2kr6\n",
        "except BaseException:\n",
        "  !bash download.bash\n",
        "clear_output()"
      ],
      "execution_count": 4,
      "outputs": []
    },
    {
      "cell_type": "code",
      "metadata": {
        "id": "IlOUkXvZVL3p",
        "colab_type": "code",
        "colab": {}
      },
      "source": [
        "!pip install cupy\n",
        "!pip install moviepy\n",
        "clear_output()"
      ],
      "execution_count": 6,
      "outputs": []
    },
    {
      "cell_type": "code",
      "metadata": {
        "id": "OPvefDawGRAh",
        "colab_type": "code",
        "colab": {}
      },
      "source": [
        "fps_boosting = 'x4' #@param [\"x4\", \"x16\"]\n",
        "%env CUDA_VISIBLE_DEVICES=0\n",
        "if fps_boosting == 'x4':\n",
        "  !python run.py --model lf --video '/content/VFIASC/videos/car-turn.mp4' --out ./video_x4.mp4\n",
        "  video_name = \"/content/VFIASC/video_x4.mp4\"\n",
        "elif fps_boosting == 'x16':\n",
        "  !python run.py --model lf --video '/content/VFIASC/videos/car-turn.mp4' --out ./video_x4.mp4\n",
        "  !python run.py --model lf --video '/content/VFIASC/video_x4.mp4' --out ./video_x16.mp4\n",
        "  video_name = \"/content/VFIASC/video_x16.mp4\"\n",
        "clear_output()\n",
        "\n",
        "mfps_of_video = int(cv2.VideoCapture(video_name).get(cv2.CAP_PROP_FPS))\n",
        "mframes_of_video = int(cv2.VideoCapture(video_name).get(cv2.CAP_PROP_FRAME_COUNT))"
      ],
      "execution_count": 8,
      "outputs": []
    },
    {
      "cell_type": "code",
      "metadata": {
        "id": "zsLAAKfXdo1o",
        "colab_type": "code",
        "colab": {}
      },
      "source": [
        "!rm -rf output.mp4\n",
        "!rm -rf slowed_movie_frames\n",
        "!rm -rf /content/final.mp4\n",
        "!rm -rf /content/fps_boosted_video.mp4\n",
        "\n",
        "fr = int(fps_of_video*int(fps_boosting.split(\"x\")[1]))\n",
        "!mkdir 'slowed_movie_frames'\n",
        "vidcap = cv2.VideoCapture(video_name)\n",
        "success,image = vidcap.read()\n",
        "count = 0\n",
        "success = True\n",
        "while success:\n",
        "  cv2.imwrite(\"slowed_movie_frames/frame%09d.jpg\" % count, image)\n",
        "  success,image = vidcap.read()\n",
        "  count += 1\n",
        "\n",
        "staffs = []\n",
        "img = os.listdir(\"slowed_movie_frames/\")\n",
        "img.sort()\n",
        "clear_output()\n",
        "for i in img:\n",
        "  staffs.append(\"slowed_movie_frames/\"+i)\n",
        "\n",
        "staff = cv2.imread(staffs[0])  # get size from the 1st frame\n",
        "writer = cv2.VideoWriter(\n",
        "    'output.mp4',\n",
        "    cv2.VideoWriter_fourcc(*'MP4V'),   # codec (*'DIVX', *'MP4V', *'FMP4', *'MJPG', *'XVID', *'MP4S')\n",
        "    fr,  # fps\n",
        "    (staff.shape[1], staff.shape[0]),  # width, height\n",
        "    isColor=len(staff.shape) > 2)\n",
        "for staff in map(cv2.imread, staffs):\n",
        "    writer.write(staff)\n",
        "writer.release()\n",
        "clear_output()"
      ],
      "execution_count": null,
      "outputs": []
    },
    {
      "cell_type": "code",
      "metadata": {
        "id": "zjlTChozr_o7",
        "colab_type": "code",
        "colab": {
          "base_uri": "https://localhost:8080/",
          "height": 35
        },
        "outputId": "826ce683-7b8f-4742-c14a-e48f33907421"
      },
      "source": [
        "!cp -r output.mp4 /content/fps_boosted_video.mp4\n",
        "!cp -r output.mp4 /content/final.mp4\n",
        "files.download(\"/content/fps_boosted_video.mp4\")"
      ],
      "execution_count": null,
      "outputs": [
        {
          "output_type": "stream",
          "text": [
            "/content/drive/My Drive/GTask/VOCA/FLAME\n"
          ],
          "name": "stdout"
        }
      ]
    }
  ]
}
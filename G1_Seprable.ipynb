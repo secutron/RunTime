{
  "nbformat": 4,
  "nbformat_minor": 0,
  "metadata": {
    "colab": {
      "name": "G1_Seprable.ipynb",
      "provenance": [],
      "collapsed_sections": [],
      "toc_visible": true,
      "include_colab_link": true
    },
    "kernelspec": {
      "name": "python3",
      "display_name": "Python 3"
    },
    "accelerator": "GPU"
  },
  "cells": [
    {
      "cell_type": "markdown",
      "metadata": {
        "id": "view-in-github",
        "colab_type": "text"
      },
      "source": [
        "<a href=\"https://colab.research.google.com/github/secutron/RunTime/blob/master/G1_Seprable.ipynb\" target=\"_parent\"><img src=\"https://colab.research.google.com/assets/colab-badge.svg\" alt=\"Open In Colab\"/></a>"
      ]
    },
    {
      "cell_type": "markdown",
      "metadata": {
        "id": "cdO_RxQZLahB",
        "colab_type": "text"
      },
      "source": [
        "# baseline: \"First Order Motion Model for Image Animation\"\n",
        "- separable type @ 20.07월"
      ]
    },
    {
      "cell_type": "markdown",
      "metadata": {
        "id": "GCDNKsEGLtR6",
        "colab_type": "text"
      },
      "source": [
        "**Clone repository**"
      ]
    },
    {
      "cell_type": "code",
      "metadata": {
        "id": "LaytWXHPGyQF",
        "colab_type": "code",
        "colab": {
          "base_uri": "https://localhost:8080/",
          "height": 357
        },
        "outputId": "29be89e2-2f24-432e-af90-35e7b040b36b"
      },
      "source": [
        "!nvidia-smi"
      ],
      "execution_count": 1,
      "outputs": [
        {
          "output_type": "stream",
          "text": [
            "Tue Aug 11 08:25:51 2020       \n",
            "+-----------------------------------------------------------------------------+\n",
            "| NVIDIA-SMI 450.57       Driver Version: 418.67       CUDA Version: 10.1     |\n",
            "|-------------------------------+----------------------+----------------------+\n",
            "| GPU  Name        Persistence-M| Bus-Id        Disp.A | Volatile Uncorr. ECC |\n",
            "| Fan  Temp  Perf  Pwr:Usage/Cap|         Memory-Usage | GPU-Util  Compute M. |\n",
            "|                               |                      |               MIG M. |\n",
            "|===============================+======================+======================|\n",
            "|   0  Tesla P100-PCIE...  Off  | 00000000:00:04.0 Off |                    0 |\n",
            "| N/A   39C    P0    28W / 250W |      0MiB / 16280MiB |      0%      Default |\n",
            "|                               |                      |                 ERR! |\n",
            "+-------------------------------+----------------------+----------------------+\n",
            "                                                                               \n",
            "+-----------------------------------------------------------------------------+\n",
            "| Processes:                                                                  |\n",
            "|  GPU   GI   CI        PID   Type   Process name                  GPU Memory |\n",
            "|        ID   ID                                                   Usage      |\n",
            "|=============================================================================|\n",
            "|  No running processes found                                                 |\n",
            "+-----------------------------------------------------------------------------+\n"
          ],
          "name": "stdout"
        }
      ]
    },
    {
      "cell_type": "code",
      "metadata": {
        "id": "1o7FZHCxSizM",
        "colab_type": "code",
        "colab": {
          "base_uri": "https://localhost:8080/",
          "height": 122
        },
        "outputId": "cbeaf454-0100-4aaf-c5c2-1cc57dc86ae4"
      },
      "source": [
        "from google.colab import drive\n",
        "drive.mount('/content/drive')"
      ],
      "execution_count": 2,
      "outputs": [
        {
          "output_type": "stream",
          "text": [
            "Go to this URL in a browser: https://accounts.google.com/o/oauth2/auth?client_id=947318989803-6bn6qk8qdgf4n4g3pfee6491hc0brc4i.apps.googleusercontent.com&redirect_uri=urn%3aietf%3awg%3aoauth%3a2.0%3aoob&scope=email%20https%3a%2f%2fwww.googleapis.com%2fauth%2fdocs.test%20https%3a%2f%2fwww.googleapis.com%2fauth%2fdrive%20https%3a%2f%2fwww.googleapis.com%2fauth%2fdrive.photos.readonly%20https%3a%2f%2fwww.googleapis.com%2fauth%2fpeopleapi.readonly&response_type=code\n",
            "\n",
            "Enter your authorization code:\n",
            "··········\n",
            "Mounted at /content/drive\n"
          ],
          "name": "stdout"
        }
      ]
    },
    {
      "cell_type": "code",
      "metadata": {
        "id": "3YrzJvkRTiXW",
        "colab_type": "code",
        "colab": {
          "base_uri": "https://localhost:8080/",
          "height": 34
        },
        "outputId": "6c9c83c6-eb66-48d8-a609-963edc605c06"
      },
      "source": [
        "!pwd"
      ],
      "execution_count": 3,
      "outputs": [
        {
          "output_type": "stream",
          "text": [
            "/content\n"
          ],
          "name": "stdout"
        }
      ]
    },
    {
      "cell_type": "code",
      "metadata": {
        "id": "UCMFMJV7K-ag",
        "colab_type": "code",
        "colab": {}
      },
      "source": [
        "#!git clone https://github.com/AliaksandrSiarohin/first-order-model '/content/drive/My Drive/GTask/FOMM'"
      ],
      "execution_count": 4,
      "outputs": []
    },
    {
      "cell_type": "code",
      "metadata": {
        "id": "3WkaI-CQTydz",
        "colab_type": "code",
        "colab": {
          "base_uri": "https://localhost:8080/",
          "height": 34
        },
        "outputId": "c28ebb36-ac1d-457a-d2d5-837e358137e1"
      },
      "source": [
        "%cd '/content/drive/My Drive/GTask/FOMM'"
      ],
      "execution_count": 5,
      "outputs": [
        {
          "output_type": "stream",
          "text": [
            "/content/drive/My Drive/GTask/FOMM\n"
          ],
          "name": "stdout"
        }
      ]
    },
    {
      "cell_type": "code",
      "metadata": {
        "id": "3QARhIuLHOoE",
        "colab_type": "code",
        "colab": {}
      },
      "source": [
        "import imageio\n",
        "import numpy as np\n",
        "import matplotlib.pyplot as plt\n",
        "import matplotlib.animation as animation\n",
        "from skimage.transform import resize\n",
        "from IPython.display import HTML\n",
        "import warnings\n",
        "warnings.filterwarnings(\"ignore\")"
      ],
      "execution_count": 6,
      "outputs": []
    },
    {
      "cell_type": "code",
      "metadata": {
        "id": "HtYvyL-iVJZL",
        "colab_type": "code",
        "colab": {}
      },
      "source": [
        "import cv2\n",
        "import os"
      ],
      "execution_count": 7,
      "outputs": []
    },
    {
      "cell_type": "code",
      "metadata": {
        "id": "rZ6J5J7rHOjA",
        "colab_type": "code",
        "colab": {
          "base_uri": "https://localhost:8080/",
          "height": 286
        },
        "outputId": "a5fdc87b-f67f-4781-f699-0c268f1f1ccd"
      },
      "source": [
        "source_image = imageio.imread('/content/drive/My Drive/koo20/koo-sq.jpg')\n",
        "# push 후 우측버튼 --> 구글 드라이브로 저장(크롬확장)\n",
        "\n",
        "plt.imshow(source_image)\n"
      ],
      "execution_count": 8,
      "outputs": [
        {
          "output_type": "execute_result",
          "data": {
            "text/plain": [
              "<matplotlib.image.AxesImage at 0x7f6629709dd8>"
            ]
          },
          "metadata": {
            "tags": []
          },
          "execution_count": 8
        },
        {
          "output_type": "display_data",
          "data": {
            "image/png": "[encoded data removed]",
            "text/plain": [
              "<Figure size 432x288 with 1 Axes>"
            ]
          },
          "metadata": {
            "tags": [],
            "needs_background": "light"
          }
        }
      ]
    },
    {
      "cell_type": "code",
      "metadata": {
        "id": "xJzGPeVaHOfC",
        "colab_type": "code",
        "colab": {
          "base_uri": "https://localhost:8080/",
          "height": 85
        },
        "outputId": "2db5810d-bb1d-4568-c710-886d57c21661"
      },
      "source": [
        "#driving_video = imageio.mimread('/content/drive/My Drive/GTask/01TTS-texture/LGE-splits/LSS_01.mp4', memtest=False)\n",
        "#driving_video = imageio.mimread('/content/drive/My Drive/GTask/01TTS-texture/LGE-splits/LSS_01.mp4', memtest=False)\n",
        "#driving_video = imageio.mimread('/content/drive/My Drive/koo20/vid1.mp4', memtest=False)\n",
        "\n",
        "reader = imageio.get_reader('/content/drive/My Drive/GTask/01TTS-texture/LGE-splits/LSS_01.mp4')\n",
        "#cap = cv2.VideoCapture('/content/drive/My Drive/koo20/vid1.mp4')\n",
        "\n",
        "\n",
        "fps = reader.get_meta_data()['fps']\n",
        "print(fps)\n",
        "\n",
        "length = reader.get_length()\n",
        "print(length)\n",
        "\n",
        "length = reader.get_meta_data()['nframes']\n",
        "print(length)\n",
        "\n",
        "writer = imageio.get_writer('/content/drive/My Drive/GTask/01TTS-texture/LGE-splits/LSS_01_r.mp4', fps=fps)\n",
        "\n",
        "for i, fr in enumerate(reader):\n",
        "    #print(i)\n",
        "    if(i>length -4):\n",
        "        break\n",
        "    writer.append_data(fr[:, :, :])\n",
        "writer.close()\n",
        "print(\"*** done\")"
      ],
      "execution_count": 9,
      "outputs": [
        {
          "output_type": "stream",
          "text": [
            "60.0\n",
            "172\n",
            "172\n",
            "*** done\n"
          ],
          "name": "stdout"
        }
      ]
    },
    {
      "cell_type": "code",
      "metadata": {
        "id": "ozZ6YqXNHOdD",
        "colab_type": "code",
        "colab": {
          "base_uri": "https://localhost:8080/",
          "height": 453
        },
        "outputId": "328319b7-ed2b-4359-cd2f-b92b961d7855"
      },
      "source": [
        "#Resize image and video to 256x256\n",
        "\n",
        "\n",
        "driving_video = imageio.mimread('/content/drive/My Drive/GTask/01TTS-texture/LGE-splits/LSS_01_r.mp4', memtest=False)\n",
        "#driving_video = imageio.mimread('/content/drive/My Drive/koo20/vid2.mp4', memtest=False)\n",
        "\n",
        "source_image = resize(source_image, (256, 256))[..., :3]\n",
        "driving_video = [resize(frame, (256, 256))[..., :3] for frame in driving_video] \n",
        "\n",
        "#len(driving_video)\n",
        "#break\n",
        "\n",
        "def display(source, driving, generated=None):\n",
        "    fig = plt.figure(figsize=(8 + 4 * (generated is not None), 6))\n",
        "\n",
        "    ims = []\n",
        "    for i in range(len(driving)):\n",
        "        cols = [source]\n",
        "        cols.append(driving[i])\n",
        "        if generated is not None:\n",
        "            cols.append(generated[i])\n",
        "        im = plt.imshow(np.concatenate(cols, axis=1), animated=True)\n",
        "        plt.axis('off')\n",
        "        ims.append([im])\n",
        "\n",
        "    ani = animation.ArtistAnimation(fig, ims, interval=50, repeat_delay=1000)\n",
        "    plt.close()\n",
        "    return ani\n",
        "    \n",
        "\n",
        "HTML(display(source_image, driving_video).to_html5_video())"
      ],
      "execution_count": 11,
      "outputs": [
        {
          "output_type": "execute_result",
          "data": {
            "text/html": [
              "<video width=\"576\" height=\"432\" controls autoplay loop>\n",
              "  <source type=\"video/mp4\" src=\"data:video/mp4;base64,AAAAHGZ0eXBNNFYgAAACAGlzb21pc28yYXZjMQAAAAhmcmVlAABYp21kYXQAAAKuBgX//6rcRem9\n",
              "5tlIt5Ys2CDZI+7veDI2NCAtIGNvcmUgMTUyIHIyODU0IGU5YTU5MDMgLSBILjI2NC9NUEVHLTQg\n",
              "QVZDIGNvZGVjIC0gQ29weWxlZnQgMjAwMy0yMDE3IC0gaHR0cDovL3d3dy52aWRlb2xhbi5vcmcv\n",
              "eDI2NC5odG1sIC0gb3B0aW9uczogY2FiYWM9MSByZWY9MyBkZWJsb2NrPTE6MDowIGFuYWx5c2U9\n",
              "MHgzOjB4MTEzIG1lPWhleCBzdWJtZT03IHBzeT0xIHBzeV9yZD0xLjAwOjAuMDAgbWl4ZWRfcmVm\n",
              "PTEgbWVfcmFuZ2U9MTYgY2hyb21hX21lPTEgdHJlbGxpcz0xIDh4OGRjdD0xIGNxbT0wIGRlYWR6\n",
              "b25lPTIxLDExIGZhc3RfcHNraXA9MSBjaHJvbWFfcXBfb2Zmc2V0PS0yIHRocmVhZHM9MyBsb29r\n",
              "YWhlYWRfdGhyZWFkcz0xIHNsaWNlZF90aHJlYWRzPTAgbnI9MCBkZWNpbWF0ZT0xIGludGVybGFj\n",
              "ZWQ9MCBibHVyYXlfY29tcGF0PTAgY29uc3RyYWluZWRfaW50cmE9MCBiZnJhbWVzPTMgYl9weXJh\n",
              "bWlkPTIgYl9hZGFwdD0xIGJfYmlhcz0wIGRpcmVjdD0xIHdlaWdodGI9MSBvcGVuX2dvcD0wIHdl\n",
              "aWdodHA9MiBrZXlpbnQ9MjUwIGtleWludF9taW49MjAgc2NlbmVjdXQ9NDAgaW50cmFfcmVmcmVz\n",
              "aD0wIHJjX2xvb2thaGVhZD00MCByYz1jcmYgbWJ0cmVlPTEgY3JmPTIzLjAgcWNvbXA9MC42MCBx\n",
              "cG1pbj0wIHFwbWF4PTY5IHFwc3RlcD00IGlwX3JhdGlvPTEuNDAgYXE9MToxLjAwAIAAACacZYiE\n",
              "AD///vdonwKbWkN6gOSVxSXbT4H/q2dwfI/pAwAAAwAAAwAAgOA79ZKUW+1spAAADxgBWw/RBh0I\n",
              "z0uKTJMwCfJV7LdFeYXJCKbjKNlwDGhCif8AEpoCCuY2YXxH+AjAvfDYStvn2PNM38anunUHtfpc\n",
              "hv9fxk8oynnrXGePjyitinkpk1kxIzwMrPxRmRnkrEQ2asK6wHXTSyqXIIF5zeeeVDLx5qf2X3nA\n",
              "T4l5BL09faIqMoXsGvWC0K51wmzlYB2nQtgpJ1k22V+/6tUllJnL8YvQgNq5B1Zv5Pg56FTMI9qx\n",
              "Ah0e7dFox4dz084/bQZPu6nKuqwfy4nWJb/YpCwQBWyWwczqq0hU3/ExfGGzoa8X7F9yHUaXr8JP\n",
              "gRm+R6pTti6Tn7/8CKP2/+DhUD+6OV1KYe8OGz4BwB35JCK6kz4sbhbIOJO/LuKq9176vTFupA4k\n",
              "j4m+IkbS2Vhxi0VKTfeXwXyX70atz0JzeSWJ6i9lxz8gGNbjnqif42OnM4f4d4UKGpx261t8ij0t\n",
              "mk5w0QZMI0bfoGPO9XP2ZWcNPIYFCHRXRVVoV7pwDOFxNQGgc72rxquDlgOY/4gRkWiMKGiNhZB9\n",
              "D5bLwELorpS8FtwyPAd1aFfZsCS0O+A7wyKKcTPYYsI6453gUuPZ6PBcxURr4Cxrs3m+0mhPG+Oq\n",
              "V7T/DUuwtuTGM2xjuAmg7pE45EwM5eqCDukqPQuhROyA9WMOhGVZJ8RdXH75W58YoWR1+QZ5522L\n",
              "8ZaSX2YiSKEPvx1tfNhRnmRyYtUtz/GA6J/zFH3khnBHoV167N/IpQCR2QaCX2Vk13ILPCJGLl9U\n",
              "w6rvgS4nQLkZFdJK1weJ2pPUtiYvgGwKUeVx4KusTf300R6DPFPGrqorVWriNDx/nPzRPVzTI/J1\n",
              "gsax2Si0l27b4DqKXS3LDqDevF1ALvqAwDl6epoAb65ZW4MC5paGU0d/x9+F5PzpXGqeWYrvmxa6\n",
              "f2lj7RQ0Ebq8RtOMOYl8G2hsXiFLt7vev8coaQt06hCH91Kg0Aveke20ypKFr40lHytmCB9IZFR3\n",
              "4Js2v1m+OcyKlLuFRxO9SrlQ/y2j01v1rLNTKlxqUVhTvimHnkZLiT5P+DlAuYh8oT61R4TjGwW2\n",
              "Wd4quPK0ysrOwW5ETYyrJqGhObI2ieD5B/xcNNAJB/4MKlLgYQAYbPU+l1cuf9fBXNm80eSGi8H4\n",
              "J0bn6V3EnBvBULD6lWk27WGeyUbftXr4bQ3Gr6lqo836b3N/0uV3khkC5j+h9rfUk784JCS2uW6N\n",
              "EGBPfEAbP5ObB9Uqj5xEqOsLEfJeBC6yFe8uFd1nosRhdoNSzNCi9n+RJx9HPKFQp86t8wDqfMe4\n",
              "B5qyjwLKQ1sDEzKcwRixxQZGHC2Kr/sw7zkCwSlDrSVOHtIkM3vPdA7gLkjpTZp4BGYYZEydLOJ/\n",
              "eP6VuMNCtGRsi3/m/C92b6Bm56JBCW/cEoWVTr4HV4dvItcm01b1R9S2MJ9D7zl7QKZdnGFAucLE\n",
              "i4jswAXHlWB/QRtbAMiYNaYyaxd4KgDgHsq2+83IoU74ny1zXmVN65hZtlgt0LqYvDmj/tFrdQ0E\n",
              "zq1Wi2fQHJzwKRAR5XnuZ1E22sgon1Zpb2Vi3iAWpBbfKdf/KdYFrcfazZoXZWJY/h2Pcugwnt2p\n",
              "qN0tMv0CGtpCf5XDdIKQLSXq+JXkmvNqiaM5tyugrqliWOqZtwv/MrWkq03Ps0gNNoEvxBewvrdX\n",
              "846v2rRfpLdDq8g4dd8QkxWAha/L6hZjdXp6JA9dVKnp8fmlIJxRmctjsy6/0q6NTuNoIpukEMUm\n",
              "hSKa3exHlYefxl/iCJKOcuVHgrVqRq0Qiu8nDy2sm21AzIsZ6t+w4MBfJovYNuNnUnQGEmxlcvuQ\n",
              "X7Be4C9tHSm2HUYBwvef0JJe926jSedTlsm1cop+yEwrx4oTJqZmb1/L7rmep3ygG6uRMXVbz/lk\n",
              "+RiMGcnUXTxAeUnK5NLEYkZV7bQ+D4IMyViEe+dSVKHAPBNWzmo+PI6d6D5q3JAFTKyBnVq/b/6Z\n",
              "OMT0d12QU4DQhehUSNaBBwgaQd9NEVdBaViUE9xYa8IUIrks600cy86XKhnyXjWtNRnDed1+OmV0\n",
              "6fttDL19jyBrQkrZSLjF1FQy+WurAurvISU33f82e1MRHLWunkS1SSVkXiSGAeiUm/H4rCPdeASU\n",
              "lX3aDr+jukjEzvLf2PiZ0f7W6zYJH0RXDcGCNS6D8C9gJsg6XjgviQP1GCVCXwrkwo+tKPZhScWx\n",
              "OhBqWXABMQFhgroga2lUFOuUihm9QwbfUrob/6eHX9zVu4Sj9opGDdtivxGRnDAoXkx6qNT8Vwz2\n",
              "BeonaLPqVNNlY03rtiEhGVkZTI4JyQvQf5EwIcNam38vKt+E20uu/3S3gHieNVdSOevSDThQEVfW\n",
              "4wHiSdM1pnrvDf56mErUfLOMVYz2wQO2qtqJgNr1mzUjBwqXHumUKLLw9xuzZRb+hfVMlyqEK7ba\n",
              "BI4H5CiwNkXihTzTpVvgyERlx5lt2te+s9BWqdDOGFNDrYKwzOxWXPeqortQC3j8ju4JcvDO2XdJ\n",
              "lAv/AMlK1l7urWbM/B3J6M9b3kfzR58u9eB36AIbyDFNwalFFfCtXW8x/149rJ7PLiYl5c2SuGr3\n",
              "MqlVnaaYD9gb7h0t9j6X75gMXfCoMbnqoG4mov4bN6MiVFZ88NNODl1scDcbR4UgYQYJR9v9cq0g\n",
              "d6uInaf4paot+rDmnzxoV9pHSy/vqUqtDa/m9duJsz+fuHk0HQyyaRFSAJg/4AfTGbvC4/jRTOpA\n",
              "eX6ADuJmEpLkaGkRFMC+/9c8Z2CUGJA38zW2pH62kneOMWEz/JWgVeBzYAnByzfgJikzlIGjnVS7\n",
              "eEx5/8tBA68i4UhmNfZojKZLgceQBgdULBrK0NcG/rkozRsjzL+F3qxFUQ5jH1khav/DC6UiouOm\n",
              "uqj4HMZB3uGJq/EmeffC9rjV2U5Yx+ACv+YG5d92Pv2xG8y9tMmVvJ156KEP19uTUJ+Iiuw3Ws1v\n",
              "5+ZQCf7qDGX5hU/02M8rz/BOgYrswL5u1M+4uitXElUdpeSXz4R7WE4NnPPDk5IB4j41Gnqv363y\n",
              "K33OkaDDnwlJL+3tKsuHcL9Fm1N6cD5plT5sgiWfpruC2+7p8diwsldJVp9Gl2H/6Q/omyqvISQr\n",
              "PwId/MN9j3+1KAzsHpOOFU670UaYZj28Lz2o4nliBnu/bLZsqoHgnZ7GtJh8V0cEHIpwJjyq6j+u\n",
              "YbwfKD4IrOxpMj5Glp0gw3XbJBpWG+0pLZMbB6WScO/Q4M7X7veS+awoIlrlKZyfk5lwQDOO++Cm\n",
              "hw5nFpgR140YZhVacwwWjASrW2NS8DYYD0B4TOYvEMgTQhUfxassZuS6hfxj3WN37RP4q/BwZZ81\n",
              "eVEWgrHVDkQqOO7i519kgEKPNcfOjUmapcuInsqXB4zQCKW8vKn7alZJzqMtyNGGY38SMO0O377r\n",
              "ZAeCjBt1XXxgzSvBfmbFDbN6nkcwfMETUU68h3jOKIbk1/b0pDLvmPXXPN3x4A7I1xj0apPkUl50\n",
              "n1ruJNRgDYtWrkeDW9v7omtmKZw8vuonXISk0bkquLqpIWvh2tz/oAjVaXmVaoTGeI+vDnI0VxHS\n",
              "o5JcHScfuwrmLu8etrH1S0KC+WphnxY3IyfsRebPCzYtrr0L8XDdI8dQhr0OHTVqGvqWaK1TWy2t\n",
              "a8CzOYMhxjvzJWZN2NUVj7+8Npo0w0AllF4pcYu8niOWQPHBPNrhf/xLdt0ZmqoOlb5bglPIXM1E\n",
              "ExIZuLHJUkleVMbZqUPAI4OQluye9qI+KRVZduP6anrqw6L7O8tdKG2+Q3jYoswcwxxKyo/QiqDw\n",
              "VE3RlUGVLi98iixG82yAtin2QPB/M6vdA9kVe+KaIb4HGTRsYT2jll+ngDCHKSsgrYucdgFGVCJ2\n",
              "+x8fJH1aXtRtzH56t4d0sjX6Src+LvLL7s09uuNa926sa/WLSDv9p0RZRRwhPL/9rFwAC0ffRSrc\n",
              "nxLF8QqtBCgs7/AooOBnhOhpRkLYgdZ4iApmTEHlLVZaCBpDnsvVPLDSPcXOxbD5vR9wKV4sBVKw\n",
              "sWpll4gJ7ulke0RLtBM0lROuEeCgJaK3fXIsYR4co4rolX6/eza6WE9OytSoAfQETBfBxcAj0RPV\n",
              "uLP8/HnnbO4c5mNpme4pRrAz9ivNZwvQB4asRQDmAtxFFaXFvrJiFDP21m/qgldd2mP+wQZVmEGY\n",
              "VzETFoK7Z3EPiTr0PVEamMyYpG4Xv69MeGxKn1uiJACu+e2rsPJvaYKX3bHMOQzr5vBpFxJf6QB4\n",
              "fG73dBnfNGKGXIYUVbYD6U31nxMTdvill4qhXE+QGy7cW7brQR7SfgyCVqE0NTjSUIxItYvreI8o\n",
              "qhgMzGGMEzZfuc8AmW0k34R2kYSrthb4DQQC0ABTznF8mIQX75SygEH3jZL9elhRRwyt83GzTmZr\n",
              "YDNZkzyNaq07WWrdN/fhzEyZF76ne69Kq7LmVzPKlZr9eGzbkceNzVeh0MUz+nOUTC5vOOibYcT0\n",
              "f0IFGYCTHG4VlnF2QZKcHPKUQrDR2R2DrAc5eGgKKS6kublmQLPo9+bHNoBea6mS0v92YUdxyKy6\n",
              "+t3bdrqagrR4uljW/n/UG3I085VU2cJ03Clz4MNEdQeetxvUEOIjSxA9PHPwvd0LsRD9GaDwn77q\n",
              "DySf84Rq1sekgh3pP6dc1S4WHMXbRKP+S5Msw/hl1nJueVOidkQMdgUTr2ceQudU90r1YQsgdLfA\n",
              "J8olnIrkUIA8Oofg7bLOBFauMvH0VPc0ISjNXZCtKhci3O1wYqAM/aOyazM3TPOoJ9EQNb8TDY4w\n",
              "j1rOY5jT1CR6PxNGCgEbp1lRO7f0Z8yD7as9K7GuktY8V2uIuk5bbJIr2v6YEsrI3ezRPFC5tPaJ\n",
              "q1zrqLDvJpF7rAs4FF6WIVdAgeKI7JOq0rH8sJPtxgQxXbACHL8+Lx/LNzKx41BMEF9VbDLVyO7j\n",
              "cuLvzZVJmduwVn+7GpoA0cOMmEypSgMZSKZDFUS8MmV09i7KkKfOOerNVlOTh8JwKD9/UQ8a/jfb\n",
              "J4wnfxfdCcv+WiiK9tCxVtV1ReYIm1xtr0JwgJkhlfQ5KQledqE6gPzm3srob4+7MZDk1MUmDfij\n",
              "e0ELoEENXqu2dRbs3+tGJAh5Izb9sinvoVTAkpVeYENsQcz38V31STrVzRjksXvUFZMIIlOz563q\n",
              "y3/TroPamRSMxL0+FOoRGn92qUi7p/hzqQYD4gmFDO6MkNB4ZuQPKIZUrnV8lMDXX310cCAdIy3Z\n",
              "A5xRvTAvRhCf32spkCeyxw2aMJoqsmr+kM1yxKPGEpBGtvdoE8LeB8cUhTqb6gITYU2OGTECtWYd\n",
              "Eu3r/bi0ZF1I5oXaZ4eLuMg2uSvH6NN8xXZKEMjCy4iF/82Zia54P/3LjEK+j5fNZk07bzeCVInh\n",
              "jxzjmW7AlJB+m4FpqnBmQBhfuULKpy3TFSY43VxcgO2J0CmotnnRyx3AdAxI9OlcqJzIJTN8IYvJ\n",
              "EFkwX9ZlsbI9mme2yyBFQZp2461L8ZzBI2RptKJOaDx6K8m1qyfG3pN28QV9b1d0AtePoQ/+JDSg\n",
              "5X9uusBkYHL8j+A1eK2O3BPMfgZCokMaM05pXQXHC1LD6QKwY1Nkuva6be8jZxZb4O/NztKIVhZP\n",
              "G1klvsC0CwtXL2vTKKomxfKjgrByvfs2oEApBtrNaQdNhrtMujtqMqdHsKEG+WHkCUHK29A0ilRL\n",
              "/MA9ab64svSFxnEAADe+ddLTjXSVzr7KArDFtWatt/31YZoVXYZ7QbaRkBO52OxZRdUnNGofqwIb\n",
              "cBqLoMV1UUQ6uQB3rFydTpJ7Blm6zKYhTIhQd2TlBEJHy2k07XuH+UsusbtCc/IUiz3nqg16DSg3\n",
              "JI/S3lqZp1RPUnyP1yFkccbD97ZI/L8wKu6ULe5XrvSaHdKLcfzz+EhPNW9ddF3hKpYt9x2L3E8j\n",
              "kcR4+L4125312ryoFyo7Nj8wEpr81v4lkd4liKp6aUSALvAYcJ2XIEZTje2tV/ZCp28UacwQKbTb\n",
              "QilzUY1yOSuaBrmmWVKv666ubCiaaMkltPWwEwhnnwsPNEwcu2Iu9/aUjxZCrYFOxoZBysOF2rbp\n",
              "EEHG/uE4F3zPsVRY72v+MjcqWeKIWPlKhhjiijqNhRmXwNJ91zrqWMpXj/K7s6gFyKY7bSg9Ds+z\n",
              "WNf4SzJ7GT8ZlhizjW7gz1PSalYZKJOo21Po0CLQAs+sggAwKSyOE7eORO4WVesO2JtPON5xud5/\n",
              "oDe0iOtsIS/w5SvsLtf8HfpgzEYYFZzg5+EqPqHQeGBH1dJPLbXU03e3Tj6Utob3ObULYyUwplh0\n",
              "DUosY6/RxJE7vLrE2C24si0CT/PoPYm5PHo5JnGJzsyjK/zmEuNcEazYecQXlLQXtmc5sK+oj5dz\n",
              "EacJJ90ZkxvDMRzoa9sIzcV4FBfDLFWyMweAWee3Uo/gmFanHLHa6gL8FNg4JE1rOI6WH2U/spno\n",
              "Er2rmBvgeXhLluQ5QbxpXCOG4cumnbeNqSP8VbuCtXDRl4lLf4REUKl4t7tEv00nPHuJp60UFFRw\n",
              "dTWki/u5rkdLt94M68/2YsQrK5eQtfXJ9czrfSyixeEQJIWjAv+hSVmxghkJ8hKJSpSsb+fTyuNi\n",
              "o0afJFYuCeAzEBBrjFFfgkre9TzBW5AzSSRGXlL3JUHXPsyZAtl6S5ko34Eoy7SQ4iLlljX9n0jJ\n",
              "qa5P4g9Stw9WAWVpsDyTovaxxEJ/s97rG9JYMQyVtqGWM/bQZwzck6PIA5tpwfhdad9jfBpZVzM+\n",
              "7Fw+Sj2uExxNxh1N8vdJYQ9zwcIVCUFQVXhyToqZ4WePYcivy/9E0AH7D8dvJGo7R9NVSNDEWIwd\n",
              "3l7LGqeKY/gRMB0QOi+WvMSSbqqtVpKZ+Vy2mNMWw2mTr0zO6SpVI/CeBl+FI6ny1DQFOUKx8WG6\n",
              "pHAiFKCZnHsZcHhYtRCil3phlhdVgrxByCOk34E4+GuM/wfPCkcrGSMCmjWX2LOsnsajY10UT+B9\n",
              "JP1BsM/Sf+pWT5wzudsJU4ZVGY7yDza3K0Pff478ngmodkvX+TLlVgLPih/KkkBqQPU6ehQdB5dK\n",
              "C0M9kZOi3b5PEhG6DKxDUToDa/aoXcFv/CcfKSgWcMXZyoSXQfawFOumCD/vpdzJ6pfbQPt17KlQ\n",
              "yvMnnxMYFt0ssnCFe28YTCQp/9FaTWpzQYTmPhpIBAS3hfbbfRQQrN+T09vp/uST1oF+DwOfxKiJ\n",
              "hjIT9Z3T40VCtT/bftW2SMNw0TXeSGH8iG8u+NKrpn21so9N+wL9adQ9M4oHsWrbaPkq7uhzV3mf\n",
              "Y7sredmdNnsTKT+lDgMa0b9TzZWvZc6g74JtM/UcbTQzLn8UjvekS8EY8+3KxplIcdTXH5ZZJGcH\n",
              "Xg3UfMGMWhPKGPR9ORPDz8VD8vMqJXwkmWD2S1iexJSxsUpPzcNW6c48PH/OL4pdNS1tMzI9iGGp\n",
              "sNQ50hJetOrg53G2gdhUr+thVnIVEEtbQSVx/IuDqHkl3IkMv5Uw5BXlg8dSX8UnN/04rlA4S/C4\n",
              "eKAktd3BDYg2nXESFiMyy2nz+2JgW0p6VaPy0vf7I7VpbO0JGvLUfNBZuyFg6wvn+Bqm89pPYik2\n",
              "P8/vWQPsAFihyDkWdy9xEZELSnMlJDtXQghIGvmR8dPeYbITrO7OczEq09ESq4LWpcKdNEQ7Czhy\n",
              "TWckbtDCMLSFf+Es9NIcgoHrs8jOT1UcKGsuvLx35L2+p9B5ayV4uXu7AMu5qPd0zLAYJzfQ6mrV\n",
              "n1j/7hUqknfcfowACAhSQ99lK5Nm9OCnZ+X5CYe40OBs3P6EhEle7qtirX/FH3rl4V/2kYYdzDXB\n",
              "8cwSXJGTyzTGUro2WVdJlfQZKmXMHT0+skkgbKOurbSwtjj1f/xCdhNTIYH9jci4YskERtVjwy+j\n",
              "NDM9T+ovyidRLL1B90LoOItEIj3lIr7i8wnInvoR05vh3xHsslTNzcm2ivHZBIw/z54z3U04CAYE\n",
              "irDoGaCdqvp/XydUMC94CgU+pCAszlEINprjV/i9MGls+/lParGJ8VSttj9YDc9+QPd1YdfZ3+I8\n",
              "DSWZlZJ0YgZrca+jfUEECwMsuDUB/n+dJtPYohF/hmcOQAPi1D48KYTpI2Lq1wss6WjOckKk5Cww\n",
              "DUD7M1d9c61huLYNNXHnglSdDXaFoiiO0tc1BrEr29ZgJKxRf72DIJrTpH0ipaNVmyh3JQVRPL2J\n",
              "gsMwP2pd7oNtRL0aeY5rYh5HiTDw2jdR4ChCvcf62F46kbwnbyVqu/dPlvBkbvve7Hjhuh8+LVeG\n",
              "reVV750suJGIFcBEG2+PybdOCs574EjRVKpyO5W+Jorw73c9IX1zV1XIhvHPlXDyLI4EZ64Y3Y8D\n",
              "qPtL6E6XVL9gdBxLg5YamxNhlknRtbZtu8Wjt3Mpx152eWiMkXX4aJVW05fFc2p/aKB5jGU8lbsS\n",
              "LHDaFunAri67QDEr5Dhgjog6/IBIsQW9sNeS96sc+lA2lpHJ3OwurmkygZKCpoHzdmRtdDNmhzHE\n",
              "rh/9KtjrZJMRo/z4703+vFYMM2vi1OKGCE3IzlEHR5SxvwaDokpLXg+fZeu6hKDhdNdYctkVULiJ\n",
              "LhjjUWMvwzn4bLcwnV5YwlO3mmXb/P2UQ6iNxcUccvO1WAa4A60U3QutC4X9kIBw/meATxXA12Cx\n",
              "vzWOodDN1/JeGfY1XQ34u6FOVmm/Zt0RXmwjHummazuTWJun3+eo3WXXtvJd65CMy5kNG0XW0GvA\n",
              "lS7qv8oNuJ1acLnIu6euytNG0nxxBlphJqORBgcYetd9TUTWiAFbC65M2i869ltSOLWa00fAu7V6\n",
              "fcoXaZ12ZKUv0FsqCFqUAgItQieraSM/fP4B4Zeo/Z6hNWi2/tnxS0E3CKj7SMBBE5xRBrVMlEdl\n",
              "OI34FN5HAgtJ56BXSkkI+fxNw/E2aG+WfeOGyyP49XpGwkareoVt05lELFT/GujvPPCxHrqRH1u0\n",
              "fDsnaQtjxXCqAz3z55MlO1XPJ/h8CPqeWELRrMN29MbpkT3LIkY3nW5NiRTViThlvnKGLTQwmOyE\n",
              "7/MVv3sdjgLqn1TRd6+YTJAiFJ0tA0sE6BVlr4KNNEnN0JyMABfEluTK7o+JEeF/WK5/mmw3QbJY\n",
              "HvdqK6aLdVtKSEfbnv1rmz5zkREZ4p2xwEUbnw9oDuDreMjWVxuiji9AomkYFOtNBqHl1V+1ScA2\n",
              "BJwr8tOip3dXCYuDZD45AQKRkG8oQaPEd4WQyknfp85JaGSivWXNa/OE6NgTbNlmXgaVRQ0QL79X\n",
              "yqzGUb9zQ9g1UajKppa2Uej+Yw+neN5JYnp2QriRqdx8kqNSyLsxn4EVXnAvyrCJuMfh53oPoNa3\n",
              "vpq4lu29yNaZFvqJXGpfVdHUc5wUg0qJFVISIeol4fV9oc1XsSTR6YrUtPtLqn7Radlc1WPwsWik\n",
              "EcArbo5TIU1YEtMsdENQG7Dk30AR6LPJnita8NWLlIl1UHnEhxwMbP6XuJp8BT5xBQ9KWqNWEOpg\n",
              "XXMaklKsye9M0FgQW4RVB1/INta88sL3i3zXZkjRawA4raqiTTE1nrhMWoIqdfO/xYAFt3q/I83V\n",
              "6hpXXfdORbfLlVRpwyeK1kLUzritWRL55LZ0q1LgTRUcbd0LazhiBFeYQhse+eZO2JLp+pNC2ePs\n",
              "s9OXz4tVYgZsf+vz3d2XNAzq8iwF4TD/4xz6Ze+MHYv98LM7ZlDBHvSj+3JZaTs7yAFPojzh1rGx\n",
              "gqKPTxWaVGT8AP90hvjpcYaE2874zZuZWWCLH/45tB5l6EnyhPvgYVlVGI4FYTNIogWsufbulGKZ\n",
              "x+gWWEOrhSzh5YqPU4dQu/DP4XMy6obD1WwGqcLqLyqW51A9Y0U5JtfyDKQP36lqvb8Zj76p+Wta\n",
              "yleM+1aFK5ry0hoacjiGIve3H8wxAvvMaGwhBvOfvr9w68xEabKbLNKRwsawU7OKto3hsJ3XcMe+\n",
              "aJO+S35TfIpCBE4UHzjxZ7IcTL32qfXLNGbjtY/qECYyEAtODbsWWK4fcwAHP9guijVPeW5sObXE\n",
              "IAMIHgixuC7yPHRKBzrxkNC9UrQ+hfGjcr1oPMatfWZXC01ZlT71ZKXkTPnpp5pya/qWh3HNmvsA\n",
              "a2keogLoXJy3RfIcFr/cNZefdALE/jXo6W9e7wA8ZAz4pxXYWuLMyQc9UBVUNm+TxSL6FTwyIlnL\n",
              "ov+B1MZUGCpyuO+vbTdi6oImKZgJsnf/OvAuarjZ1i97nLgB+NyD7C2P1x9DpD439/k6YerhNuZu\n",
              "WBS6/ASpk9pm0pLCihuQNNca6JjjkGpHvowdmHd8fwBanORyTHxhMZV7USEMaqYm1RLJSYpsaNTs\n",
              "2aHPWH8y00PrF6M/syg8GkfZZZb65UkpSSm7Sjx+t7IoeF77daSpK6g9ZmrcTZ4Tq+23SCWhHu6d\n",
              "v/NMSZcWgQAJoHZlAIIk/hryiqbcnR69r5iYp4n+wv73EK47u7wVfWKRP3346HT+y5I9s0C/hEwg\n",
              "ez4LDBFSrZ0OP0qWSq43mVhYEp1SpHL5446T2qfXfgESzfZdyrRvuYkToVDUdUtDNI2byG6JSwuA\n",
              "+bSWLxNQliCn0wFJcGffL1EoZZbul7nht04sdZdR/4AasFl7tC+OxRDtVdbQuD8yTRex3NTJqAR+\n",
              "oGvDwAEJ1wdZR3CLVJ0fdX+VXCn3WU14r0JZbjhUC5oV76Wmb3Y1jZBMfga2MsDSAjU/oqLe/+Mv\n",
              "xkbkuVDQMlXhmvO5VljuElcudLQ/H0kTJNRG2/DMIXoI3iHbM3LgsA8xYJ/xcZSj+4OfG3jaPlCi\n",
              "s9Wt1FMiAj5/CM4L6dZeyk2eUtkqNDQkL+ik36A1bYvDThqYD+fjV2J1SAuGeLTN54XqjH7FFy32\n",
              "LwQOordbiv0DFcZdvT0FgjhHEEwbTGzeMLJySGADWDQt6MEczIx8ZBwdbgwchQ4zvoKGeuZMi8Xm\n",
              "fVSo+7RzOjpz9pCyzGGrTdfn6e1fyxJ1dllkxGVu46e8P0cCWz+VInQJl3Xst51pFGJy0DOfXuAJ\n",
              "W8d2GBtnwEXd+kSkEs4oTqciJV45M7mbGeJqXPR8V1aU3MvqOdcZ5zS8K0WZ6jtFSQBWwy/wpl/1\n",
              "JpzQRzR8pK0TnXDuxnGvIrrPJq/ZDBU+keEYLPBPG5f9fzchfNZY0+KPpSPrASURzKOFV3+KccFO\n",
              "QgBrJegrQaIue9qdCIcm9c65s5meVC9MInqHz16d7l6XLKFxqQDHCDgXPZ/EujckZVPB7Zzn8KQE\n",
              "cOR1Pxy4MkYofcSaSmeVIPxNfiZxGXOP/aH9PAEzm7wQ16voDyhzkneyP+osjjaqhibVC0PZ92QV\n",
              "1/KZudCsK97NIzZsiZKs0dH66PirV7RnBvEsyMKYpH9su0g27ztd6Z5cS87tByCHqy2COMnV5rEu\n",
              "SNjIEcs7PjFQGAgaU8C3FaEohgyh9F8RGEzbxX/jwFbMv9hSljaR75aclEhe2b5bsr3LBQgdmK2x\n",
              "D6vq9TeJ6QXa7OICayzxvpjs22kSnbWGDkj1E4+VFU9DIWL1W8tN5AR6vSei+XjxkFzYoP4N+pvT\n",
              "+jEl6XZbSavEL7iBS2QQV4ZD2PbTKw47usCA+z9sYdDjCb+4jm7TPllsr5/eTOdGtyum8XOB2XWt\n",
              "9NvJyppPhZqyr+0i5Rer7NNP7Ws7GTzFKv/7dp5sKO5mQJUjQyEZtTrq7Ft9nSbAKhoDk/kH7VUq\n",
              "iDPQvXbq+LZnpXHkpQezv8dnBAp+ik5pQ/YfBd/FZjDVlkhx5TI5wAJe5pgb/Ps+asK0bIkU1yXe\n",
              "tU55KO75v9HW5r/y17+zgx+5TwSr/CDUr3Gf9Pf18tLLIoO+XatAqUEDsV3yz0BKdQ3K4XFv89Cs\n",
              "gL4298u0C04HZTZpHUtCbMg/lIfS+AKdnGkzcnntnCqKwJvY3Wb9vcoEabMxylhYHaPO0xM16x5j\n",
              "MmwxmR4NFZRDLk160X7ComObDwwRCIZPMxZr0GzJ88+zmBfawypg3KSFCwGwuK07en2M8115oVh/\n",
              "q8ysEguZIQOmafsoMJKWmyzDFblYmUWapaNfEfNrI1xaWiifF+cqmGQwV9yhTJNkJBfmFnbtcge6\n",
              "iX2tU2wG3H8BCpQaPpInvhSG9x/pchhK7a5/cKXi2vZI7igM75y9EsmAS5HLAo1NQ5Buf6qWM7ig\n",
              "gzr0n1VpenJa/AVoKePce8sAzKxcXnOxqiCoESxckqPVC+Pb/FJJkjyhdhmjVyWHwC13860F36Tz\n",
              "YTIbG6PbBnpF0SrTSUqYH6SPUSRs5InO5O655NPBq19gbTn+J0NvO3xxuMXp3b/uyBm4aEHB3PFf\n",
              "oh9MT0DfBn5WCkMy/HSeuYLBe7yrwirdO1mVX/AtPxFbf75nsk+kCfR9Yc0274kHC2jvdNHFawkk\n",
              "yeekYh6fzEVSOMaoQi68yG3mOmazLd5Mv01ZMyLbC6XysB78KF6sKUPIZUqQ3e2tvvvjJV97k8CC\n",
              "07/NXPbrR1K3TZrU55Po4///O2C38TKa1yg2Esz2VLysDD0mQn3ubIJgIIuz3We4J49FqN6Qj4YU\n",
              "ukNeiiNUsBIcUf8ega3TW67zJSrZm8Kifh37bYR2qcGlRy3R0GxaVANp0WxecmWd5KqMRV/Wm51s\n",
              "jIkRByvZrBEkWHLSTL+6DVKLSOHdvLeG71LjDhGoq8241nKCfq/tKGEFQ4YmQzh3/fuLnlqD4GSb\n",
              "MzFEmM+GHD6+ikbSlvrEublgHoXs5WSmZ2jYIkyYnQ7jiRqYJjpPw5q3XEE4puy3wtBEujHy23Bk\n",
              "IH0X116eD9RDqpEDoSZUIFUfMy4Pvpd0+x7q1OrCaVvMfvikfVnKt04sQjwvwAmUas8/RP6Kfn2m\n",
              "F9ENB1etcEqCeKmPOQrzIAcjTM7NBKfbMlYauFR6EH6p4xQiAUIqp2+vwpdYfTrjGnhRPP2kQQzx\n",
              "ZbvOhbAO/yMe8Zh+JZi1Wac4+Y8lFEAnIeXX+CSaWkK20ZBj+3Q6euW3iCJOLIJZwGKmfItr7qPj\n",
              "27q1HxlGCnmw9JesyWT6gvn9is3UMa9KvmRK0eF726YgwFdYjDOndhvXP1NXB/G4K6w/tlK4gAAA\n",
              "AwAAAwAAAwAAAwAAAwAAAwAAD0kAAAGQQZokbEP//qmWAAKl+l0EkA0bvylwHNkJxNKYnwOn/jN8\n",
              "RUElsjgbf0EMP4rjZm3awQT2Tquj+BL7sZrvrCLuNyIk0NMo2psyFnLaDs+je/SHWMYrwRikLAHG\n",
              "laJVu0345iB0i9oF3Fzb7glfq7wLRsmdeBWrHNcwkhtxmrmeY+XfBOZNuKWtE+dCvX5xen8CU11p\n",
              "fY2RcHDx7PC83R8L33eJqLGL//+I1lRjHGsJkUgMwRBqb0Re819tPkqCtLg4r2wc/qHME2ST51ro\n",
              "3WliNbWZUizndriO9rn/66lzRj7813XMqxAHIk/JF15Ks2vyBBePFz9pqg5hMdTwio2yAYB5Asfq\n",
              "FfaVD2o5PceeeL5kRwGgSBTwbbj/mtzd4Z/d7LqaFxzRBXIHn3ktS6Aw52llqt/drUrCFCsLyn5t\n",
              "aJk7553KmwF38Zogs+sOKNoWV63SL1V+c48ydvWE2JqNHAoHJdoG/MVLttKrT/qRhakP9wYLfhbN\n",
              "RWOpxZq/0kSosqvWGEypMG6lKK3oAnkBswAAAC1BnkJ4hn8AAC6KG7uT9bZPOiiHveBzZ5bQXR3E\n",
              "urBuSLNLAsZLYEA8uUsA2YEAAAAcAZ5hdEK/AABWUwehh+qLvMLx7Zya0sCGTsBNwAAAABYBnmNq\n",
              "Qr8AAAMANg6XMl+xQxAGsCvhAAABB0GaaEmoQWiZTAh///6plgAAhBCHQlw60xjqivHBMEYKYqaK\n",
              "YCrB7T5epQbulzixTMoQ42Fb04f48VXhoBtvIoKRXO0r4c+alPDj5l39O8v3CWjIL9bxQ07A2elQ\n",
              "XNUcvX6THdrFql5ng8JbFTgLQIilU/2VJPPNEyZgVGydvcp9Uhv8Vccb5d5FD8IdI7HoMaysYkAW\n",
              "rIfLjC8G70sNOcQcvo64FMiW0i7w2XcRADpgAaqu7B+HB/+yuNgdhNlzWnXMgjvlCQMsqjAxtfU8\n",
              "Wu/vLv+W/fVo4st83TXBoPQ6g4GccyMh7FqQkZ/UoCvj1FYiqyZCmE5R0WJJkraLqVe6UGrfGAel\n",
              "AAAAIEGehkURLDP/AAAHE5Gk/xNiJkO9wnlVLcisx5mgAPmBAAAAEwGepXRCvwAADS/1GqBMmiTe\n",
              "RX0AAAAQAZ6nakK/AAADAAMk6VUK2AAAAOxBmqxJqEFsmUwIf//+qZYAAIAhKeHWmJmueSJZF/q3\n",
              "4kIoXsiKFuZHXwa08rwMeR1Zt6JSPQJbuw3uJLOg15KcdQD6fXQuw2hU1VhuJqM4VU8kj7yD/jxt\n",
              "rL3Qoiyn/A4SkQQIkusUxATAYpOGqeJMUA4fzQ0Qr0QS+Nq3EMVnafl8nxLuW328d3sYznyjFMVR\n",
              "8k7DAAAslQf6ZwX0k/66gnkyU71ef+6K7VFJGi9lPj/WRXtyeI9FMadKa+bX9F3LRnsjAqzFkJ+S\n",
              "lFer9n1Huhyf6X37u6X4NBzt71dt9OIEvF8D/nyw+HEKSAAAACBBnspFFSwz/wAAAwALoowYB+SY\n",
              "XeTwWR6LAIiOc9wQ8QAAABUBnul0Qr8AAAMAM4yRphIcfKhQoxoAAAATAZ7rakK/AAADADOOlaio\n",
              "cbgpAwAAAQdBmvBJqEFsmUwIf//+qZYAAIAhKeHWmvNGxtvwomk9yLtUXvt8Morin63n2UUT4TJG\n",
              "3RgrjBme/1diRoDM+6LT5NEeAGNjZTLb80f3M1VLBGiTzN5uM3Xmk9LuXViGGHhUTZEO0T5knUSu\n",
              "wd62cjwi8YCXko6FF/3Cy025tcACkEdDf0wvfGHzvBca4NDZ3vH4wv9HAslaBetfGW5IWY/4vb2d\n",
              "u92cfbqkFfHRovRJwgl6ZICcSioCV4JvzdlnGnugrSXRhogjM8Bofj6v/TJzpnXKOqHB8jNy6OSg\n",
              "AIrXD0aPrSXLLbadntMj8h1tBlC9b0IPyT++skFuvyfBoOhajmguE2AEfQAAACNBnw5FFSwz/wAA\n",
              "HE5Cx1gMgVsyHtAoGXxh39Hp7QX+mkxY/wAAABgBny10Qr8AAAMANL/xjjJAEUZamklqkh8AAAAY\n",
              "AZ8vakK/AAADADTD/de0xopJCVnPLSpgAAAA/UGbNEmoQWyZTAh///6plgAAgCEp4daa+YnuWD8p\n",
              "UBaX39OsNHdss3jUj4IktkCBNKm1mwa0vrUIqDmSM2PuxlHvZ14pPQ9m4YrDqgrGpqN93SiEmapu\n",
              "OtoHusm17OES4h/q3SHHxETuR1FVI21oL7mFCilTOjXdvjvi8uzCQsIkz74aTL1Y7P926KWpDnT0\n",
              "Zp2V/HwuD7tY1H2NBa1JCBshcxFJH/9SAKY8WuDA+QIlZKhnnUpTubDG586PWTg/Fc7JI03vq+Z4\n",
              "eNbH4TTjmXf8X2O93Z91LpZSGhs+qRHlltV2cGcrN9q+MmwKnwx05F3paleL/OC5yeQABFwAAAAk\n",
              "QZ9SRRUsM/8AAAMAHE6u5ADY77+SKlZqwlOsMB76OQYk35nxAAAAFwGfcXRCvwAAAwAzf7rs1Y+w\n",
              "4m3P0cUkAAAAFAGfc2pCvwAAAwAyRCpaebQU9UakAAAA0EGbeEmoQWyZTAh///6plgAAgCEp4daa\n",
              "91IF79MoAAr42Z7dmFV6sC//tz1b3MxP1w5CFqgdNVRyjQqKaOlhLCFWU40agFCpukAMYrPRm18L\n",
              "FfXCPShfUqFlBXL1Tl9CBYictKVXrja7waiOurLUCHk13VpEDiKqIDTcZoQzevdEOk+3Iz1ByW65\n",
              "L7M6MLkDAdZqTPj87Brv8zm9wsYgZrBoIpbiCPHJ1cC/NPPjvgMnncReCHtHMxhLSK39ZJ5EsjUK\n",
              "uFVJ92kJV38Wk3DWAz8AAAAiQZ+WRRUsM/8AAAMD98hVIFoZUG6nidBP3GEl9cMc7oB8wAAAABAB\n",
              "n7V0Qr8AAAMAAzf9RgxZAAAAFAGft2pCvwAAAwAzlWyuLYZD4O6BAAABLEGbvEmoQWyZTAh///6p\n",
              "lgAAgCEp4daYeP3FsA5g5DQjIIu3wbKnhfrSHyIOTjm5vpCPC678ZteY+8BZSmjZc2Jw5EuuhBFa\n",
              "+4ziyKugNvkPE/5tXRiaEgJK/T/sSKH2HbgCQFofEK2YPF4rLafU5r86iJjCxmV6LlDqfa2EMzL8\n",
              "i590mUudiPDJT02uo1NbLJLM7pk0AcpDYRCbaAsR401Qq4mB4UQRkvD+ip5pVt5rVteM7zH1JNyL\n",
              "KfP7zIpoDB9tfb+KHTd8N5TYcFGvq9551R+sQozv+4ajEdpRtqCZSpb04FnCIBGTY98oWh0G403A\n",
              "4Vs+0Vx1HSKFRItq4W6hVpFRDWoEvirWN+H4xo714+B1wUxtL/g7GWFZ0B2/wncnQdC1BhRx4uoJ\n",
              "eAAAAC1Bn9pFFSwz/wAAAwAcS3zaJADZJ8mfk1aaDukFR0759ktKe7tOR+EyQ++8Ah8AAAAUAZ/5\n",
              "dEK/AAADADM7mHdZN4PAxYAAAAAYAZ/7akK/AAADADXvlU71PisQkcgRt41JAAAAsEGb4EmoQWyZ\n",
              "TAh///6plgAAgCEp4daYlKXtXXlUXrSbZZuPAJztM36dFGwdf27C/4byIkONhttybxp8jlodhLkD\n",
              "hEsqBZh1eaR5AiLd67DNY436VoIUDP0PXUl9uDRA8YiegTqFoy54ayaxU76vRqsd82rngV3I4JlE\n",
              "LmITVjtCVyKJo879nZSaihWY8CauSW+m56YDHXY+D2MG37IfUBdtirLuZ7EjGv7sz31+0sHzAAAA\n",
              "G0GeHkUVLDP/AAADABz+U3/LzdDdkVcwbz3CpgAAABQBnj10Qr8AAAMAM3/UxHQI28yMPAAAABUB\n",
              "nj9qQr8AAAMAB/GU48e9UlYU6YEAAAB6QZokSahBbJlMCH///qmWAACAISnh1phvVmn9KTExVF1C\n",
              "/fHcW3cMlq7AlrfwOsxuVvUKynPaZ9kjSKOd1QqNucOeyDCUMeTVhqP4iy3P0ayS1dp9m3vHD+Wq\n",
              "Pc//6MUPeJJlVfATVkTLEPTfqgiSsp/NugWBtStgM+AAAAAXQZ5CRRUsM/8AAAMAAcVgwRtGXV0p\n",
              "9y0AAAAQAZ5hdEK/AAADAAE1dCaN6AAAABABnmNqQr8AAAMAATXX6o3pAAAAu0GaaEmoQWyZTAh/\n",
              "//6plgAAgCEp4daYduP2T8jBRNGyjvUN55envt+EsumiHT0cHQXObebL2CDmduAUKeKfVEn0u+QN\n",
              "r4/1mMYvzQK+g3L1uYKqCLJ+6UYXtLIk8m6sBWPwG8m7qzA2iw9lmVoA09fpa4yP9u3sE1LMt6W5\n",
              "gsXNQQ6D4YCSLVQGnvCTj2XG0VUJV4bLpYXPLiHPsWkBXeLzx9OXSWNW5KZ09vlPVvNCtb++Q4bd\n",
              "phAWQ8EAAAAhQZ6GRRUsM/8AAAMAHP/pYJsYy7mbcnpf0QUDb0gAZAanAAAAFAGepXRCvwAAAwAx\n",
              "CRiwjl/8AqvhAAAAEgGep2pCvwAAAwA2DpVvFfZzKgAAALdBmqxJqEFsmUwIf//+qZYAAIAhKeHW\n",
              "mvmJ7lg/KVAW+YgMTWUgv0rqDepoWzDFQv09hSApk4yqbWn+lHd84AbBmsvvW22l1Wb7kABiWJ+M\n",
              "0N/SpRC6NVjAj+JM6t7XD9b+DPLNfs6IdjvRdTTPSMFu1cvhAn2wsjNr6mrvf84B84tVOR2GrEvZ\n",
              "XOL4eyOK1YfExBtuH662dx5jRayar+gpP7DRwmKFgj548s6mnU18W2EnCKsACLgAAAAZQZ7KRRUs\n",
              "M/8AAAMACjwGqeeQJuXaVy0d3QAAABQBnul0Qr8AAAMANhHcOc3/eocnLAAAABoBnutqQr8AAAMA\n",
              "NgRaseJwMlWkEJWtL6oIeAAAALBBmvBJqEFsmUwIf//+qZYAAIAhKeHWmvxVku8KjBHokb8ppUNc\n",
              "afIisbnnDetLisbuN/uHbvULpYGlrSgPVVEa0RcXa3DEnzd+HV17oDnYBYe32NU7G6XdUrS9tu5W\n",
              "OmklzOMfdeoZfCS0JbB8dpShx/T7le0CpXWvNljoYoMXOLJ+OQd6icix22Q//XAPC4VIEFFg4i4L\n",
              "9Bt+A4ZlnlAb9N9pGWjO4wv5LxtBUpg+YQAAAB5Bnw5FFSwz/wAAAwAbS5e/0AN3iqCCTo/iOiAk\n",
              "b8EAAAAUAZ8tdEK/AAADADTR21EQGgIcjD0AAAASAZ8vakK/AAADAANM6XSF9nMqAAAApEGbNEmo\n",
              "QWyZTAh///6plgAAgCEp4daYlzTD3H2jzSkhrVNF2/N2QIC3r1OWKjzEedl5tuILktsLUxFuUbuC\n",
              "Wyx/uZO+XVZ1T1IJHikJ5VD2TVb+5YrdUoDoX2r9GS+pfVhQHXkzE4aWHox00OuHEzq6AQh9MgMg\n",
              "xOUpBOmTTd0WUbfVAaSATn2lhsKYh60ZNJ/nvBr2T/GmnPNQBYCZk+FjADFgAAAAIEGfUkUVLDP/\n",
              "AAADABug70ZACz85X1iz8ebqEF96fGhZAAAAEwGfcXRCvwAAAwADS/1rjk8XMqAAAAAVAZ9zakK/\n",
              "AAADABR2njG2GdPlyJywAAAAf0GbeEmoQWyZTAh///6plgAAgCEp4daYb1Zp/SXrMVRdMZWwsdX8\n",
              "5j8FObl1Zr70pV06PTUZe+virehWmGynGkX9N4aazYCtyIrydJbqu+okkKO3bofNHqoWLQsqwTVL\n",
              "cTjxZQJPdGOJCZDnwq0GWfT1/21fQBduG9wVrEusCRkAAAAYQZ+WRRUsM/8AAAMAAcVgwRtGW471\n",
              "msCAAAAAFQGftXRCvwAAAwA2Edmgw9IqWT51lQAAABIBn7dqQr8AAAMAA0zpdIX2cysAAACXQZu8\n",
              "SahBbJlMCH///qmWAACAISnh1phvVmn9KTExVF1C/Y323C+hUh72O6td2/mCgAB94CvunjKY533i\n",
              "L+yZDmK/Eaxr7rQq8+JLW3YIVhlaVgDcgm/in2w/NgUNgzumEHloaHI9D+sv+yzxJ3igKvwUSDe3\n",
              "50EYYzJ3Im+5IhhHMeeIUNgGzk5101EU7WFgZyQYSuALiAAAACdBn9pFFSwz/wAAAwAcUr3ZHwAL\n",
              "GF0JupaPvtKSjCfNaSG1lYer0EEAAAAVAZ/5dEK/AAADADN/1Ml0CAkrk1gQAAAAEwGf+2pCvwAA\n",
              "AwADTOl0L/yKnTEAAAEXQZvgSahBbJlMCH///qmWAACAISnh1pr5kswwuwgIj0rnri6afD3+PUO3\n",
              "Ps8IUqikn+WGmEMdsu8HxyRZgk53NSm/Md1e7/B3yynT+SPCD/6ewsbShe4N7M5mZ9OYCJZ8GtNo\n",
              "YfD/xdq25n8HJ2zryr8MypchrqoeJTArcgb0XfjS1CqPDM0ef4TjsE7szYOUNTkTmvNZwo8Gtqdt\n",
              "cf266y2F5q2ilNHma0DnhzsImyVNnFrjr8L0xtzJ7qvXmRK3eC6UQsXsADWCGiM8d6fnWue99BfP\n",
              "/M7ShaXnSG6xzvCOUmqd9IvdnTPUPoOy2LllwKMm/pTCo8jhN76C+bPR8lvF8+YX3uqHI373uP2m\n",
              "gBi5FVtsZTXBAAAALUGeHkUVLDP/AAADABxnTwAOKuPFcs6IK5AMk1HjVCoIWhTPcP99XQhn9YnG\n",
              "wAAAABMBnj10Qr8AAAMAA0v9a45PFzKgAAAAFAGeP2pCvwAAAwADTOhmAVaI6xStAAAAu0GaJEmo\n",
              "QWyZTAh///6plgAAgCEp4dabcimlo7bxNfmFry6niVYUw+Cl6X4BzG4Sz1GCswlYGOyM1rbp8goz\n",
              "YfBg0wPPYjy6QZnjgo0Hly2gj7dXgJFY+f5S5vu4yFp+pDj2LuQdGFf+7TSiIoGExuOVGH90NYaA\n",
              "wOHDL9NeJY6G/kdftpbAlcO1O5CzIiR+QMR+1s0qEpcivpfpEKMVOpCJ9RzAvu9p/5OJXPtHN7dS\n",
              "FGai1wrYo4P8jpgAAAAwQZ5CRRUsM/8AAAMAHEslw/e+oAsQPK6Vu4JD/710ttW0rqn2+z9kq6/o\n",
              "sEYMYucXAAAAGgGeYXRCvwAAAwA2Ea52Vq8U5kCUdrj+vMwPAAAAGAGeY2pCvwAAAwAzjpe7WWSG\n",
              "+ctqRcTjawAAARJBmmhJqEFsmUwIf//+qZYAAIAhKeHWmsHp6pA7xzSpE2c1qbQnvxUL14AZvIce\n",
              "ao89cnpQqKNMszxnMiDvnWGC84beHAQ5qoAdxpBrgM/Tplih3VKQQaShNJsNC1HI89tM3i5afk9R\n",
              "ngcUiSJEk4rjlRV/7eWUwsKhQy9uFAKs7qtlcufiokn2w5fFKSOKEIAfVd9eeqHbH8d1L68LWids\n",
              "Kv5HIJ5bfRzX6z+Mi10z2FtVxCav9c+2ANHTo1+hmrqM6xCreIuzZPx0IBROoDn+f9f0MbT9zzDe\n",
              "pmwtiv6WAl4y1X9tcTbRX2Ce4vND3Guy9mpXaqx7FI5+04SEV1SREkNV41EWuUygd5JdW+3vDEXB\n",
              "AAAAKkGehkUVLDP/AAADABxKDL2gQZQIAV25Cj+gtfWXNdVGhof36+Yj7mnkvQAAABwBnqV0Qr8A\n",
              "AAMANhILatj+1RbjGhQ3hJ6myTuhAAAAGAGep2pCvwAAAwA0w/3XsYaRi2/ZY9GnXAAAAIVBmqxJ\n",
              "qEFsmUwIf//+qZYAAMVc2nKBi1242v6A7CuCUBqU60KwIX4+8MEdAeNBV6pPGTUJ6YZy6l2jYAmC\n",
              "9KY68Vst1tDK3/gAWN3pW0vZR6KaFplii8l1H4Kaz9SO7wCh9pgBaJissgla4T208WxbuGzHrqu4\n",
              "heNOU+ceUhgbn6/fwHpAAAAAG0GeykUVLDP/AAADABsDXnBMRo7AxxbLQ1qekQAAABEBnul0Qr8A\n",
              "AAMAA0v7rsjDZgAAABQBnutqQr8AAAMAFir/ERtxuCj8gAAAAKlBmvBJqEFsmUwIf//+qZYAAIAh\n",
              "KeHWmG9Waf0pMTFUXTGK0AJS1nSvXj+rL3NWOTJ8EE6uVa8OrOkoHPPKtjvoLsbVYWPJlcfU3F44\n",
              "9DhWJjNkLqRbrwYEdYCwc4HUUN0D2mbZIC/WFt3Xnx/JpA4vsAEjN0HBkdq7x1vg39oxhU/y4m9O\n",
              "uBicXeA4Y3NVfexIp7SNfjkbBatD/YrerP6XphpLelQoGYm5AAAAHkGfDkUVLDP/AAADABsGHKQa\n",
              "1MsvN12X36oHDzI/wQAAABUBny10Qr8AAAMAMj/X2ltwtp92ZB0AAAATAZ8vakK/AAADAANM6GVH\n",
              "Qhi2gAAAATBBmzRJqEFsmUwIf//+qZYAAIAhKeHWmy3DHYPpynKOpWTVdrvqB8hlcYU+37j3YPHV\n",
              "i7WWfQXzYxB2U76BCul5+YrDluan5BgogdEaqqvDcr3xwQpl7My7CI3ci/d2rxiAO3CgV/rG1EuO\n",
              "XVULIiCJXwKYhcbLaAR84JoeUvxb6fY3gpJ0nH9x/ssKioW+0C3iji6SzQAaxeeX6E+Vy8FUvIyb\n",
              "Pk2r2c+w4WvdFDtw6yfXnJSWC1C/1gM99tzVbi+yz+euo4WSsuJ+xCUDLFuSIbI8KM32DpP/Z+Jm\n",
              "QMxoaGzKOQDNu58qjvFSb8aizjMVsz6lxPt+8a31mSwKxiQQI+RLqqlAqLEGv8O7DNQy/b316S2K\n",
              "dC80nUcr1VwCMMwUqsVNvIV4axO66kwz/QfcAAAAHEGfUkUVLDP/AAADAAujC0X+pUk4XbZr/PdG\n",
              "cbUAAAAXAZ9xdEK/AAADADItrY8GfA/kXl9pDGgAAAAUAZ9zakK/AAADADYEJ91gJ34G5HwAAACY\n",
              "QZt4SahBbJlMCH///qmWAACAISnh1phvVmn9KTExVF0xis6Whc8dW8gX5GcoszZEI2aZH7KZ6zXC\n",
              "r5468CqPUeimCZezmHO5lGIL4Zc4WBINiXHFNX81zPR/N6chavD90BMwV1wuCHx4zzt4WR47tugX\n",
              "2lcS1q7Farg/KsbGHbU6NxeL/v1iB3xlWdOJ85qnplLNDgCWCrkAAAAeQZ+WRRUsM/8AAAMAHE4z\n",
              "DcYuEWS8sBX8OH84NPEvAAAAFwGftXRCvwAAAwA0v7rQkLdq9AAbZkPBAAAAEAGft2pCvwAAAwAD\n",
              "OOlVCpkAAACzQZu8SahBbJlMCH///qmWAACAISnh1piV7nkmK1vniDtC95xWKQIStUDKogZlfcA6\n",
              "4meeXMBrJRIOxg/lMzEMkqCz/JCE7dC8/v3pNMqohVSc1prm/Rlxzrghpt3PmUUFe72G2SV7bqrD\n",
              "5hR7cXxb4qXNDWyYKzi7xX5186jLcKBXlcr4bU+JYmnffMOFfxnnhcOE+1P7zarVvEs8tvsLu6yV\n",
              "f2+YoQmDNwUznG7o0hOvAkYAAAAWQZ/aRRUsM/8AAAMACxStqgHZLAVFBQAAABYBn/l0Qr8AAAMA\n",
              "M4pop+vBx5w0ycFlAAAAEwGf+2pCvwAAAwA0ykyRxwOorYEAAADjQZvgSahBbJlMCH///qmWAACA\n",
              "ISnh1phvVmn9KTExVF0xlHWtaa8qB+NsdbGIg6+LI1rpwa25GrxyemsYwLWvSgdx7yiZR2XxbJZP\n",
              "rHpsqOSF33HIwu1VUU1xts76pF+NyEWxFXn2tMfgGeLvhz/ev8ejUSYQ0W8pCdcoQUbOsuyaiyPX\n",
              "N62EBj+SK4hwNDwyhBQLBZHKWKjjGrBIDgPgM7dLJ3Fl+I9fnDVR6DvsDBkLkT5cdPOSF+wwC8mt\n",
              "AsozSR8UkTJTBwL7rSYqDHfasCdI7FJGwifZosu0jnso93Wbm0EAAAAeQZ4eRRUsM/8AAAMAG5u+\n",
              "ahKs/Nsqy6tK8GtaK8+4AAAAGwGePXRCvwAAAwB8OA6wytcB3xTvPDVhPBCepgAAABABnj9qQr8A\n",
              "AAMAATXX6o3pAAAA+kGaJEmoQWyZTAh///6plgAAgCEp4daa+IllejE/UGpWzOLRdvgACmDv125t\n",
              "zB34+4lRQW5U8BIECVK2p141dkgJeVJKHGxgxvtCfbKjgyUxHn6gOj0q6ps6IOtxt/ITtDEhX/1Q\n",
              "hHh+JkINoGawi9+G5Phy8ypvi5+eDWcdbSneP966J01yEcrhp4YsIXtt+cJ9FSU3nW81I9lpNwvV\n",
              "XE0tE+uyi06znEeR/LbdYv/6L+ta8SEdiEsAuY8WYyhJTGVZZHoC5c2RjoasO9PXUjwaXiIsxQrV\n",
              "9E7tn0ToPML5JbbecHeUUG9HWGveG7yEhS/xM5kT5uxg6YAAAAAgQZ5CRRUsM/8AAAMAG76NgAPv\n",
              "xDJEpAvxJGCHY4MmCcsAAAAYAZ5hdEK/AAADADTRwyta0+jolWR7ezu4AAAAGwGeY2pCvwAAAwA0\n",
              "qtXOIAr8+HtmkGRs7uuDZwAAASFBmmhJqEFsmUwIf//+qZYAAIAhKeHWmzYpXFiPCGJBYSMRQM6k\n",
              "KhQKBwnp+QpSXg+Nmk/8Qtc9Cki4Wlb+MlQ9S3V12HNAM36T6AWwH8uegezTCv80jGs/xW5oKbU+\n",
              "ExysoScZXWcCpb2PAbfRKl05dgScJmvUH72uAyYovvqAPzRCBCckhd31k26qlGDTgsJaoKtzpn2v\n",
              "XnT0h/0ZPeGJTSn1ntMYKimCiGXHNSxx1zBINdTS3r/J6fTzoSf+JOukGboGWjZWDb8+DMcQqsMY\n",
              "o1TChTMT1WU1jMP6Fl1omyjUzJd71H/VtzndaQLiHRYYzPfN4d5DY/cqyzr6s/NPkkBIqXHMeB0p\n",
              "c4pUzlu3FxnphECfo40QSuP2ot9Sn6PTAAAAKEGehkUVLDP/AAADABu+jYAFs1hhygzCAARcMZMo\n",
              "y5UyVSZmy/gAJuEAAAAWAZ6ldEK/AAADABLXQtuwSC1rvCawIQAAABUBnqdqQr8AAAMAAzjooyQ2\n",
              "v0R1ilYAAACUQZqsSahBbJlMCH///qmWAACAISnh1psu5VjOnW68K7gy06eMOHALa4XsNehDkX4B\n",
              "h2Ws7IW+gntpkzZiKnNm4H/9JC2K/w2a7Q5X/TLSErLBE3dlMeLgckoyJdXvMIGHqjB6DTmc6eQJ\n",
              "fhqAm/tcexngTXsR58OQjDLV0F8eMufUdDxBtBACJUJ3J7ahyQbDbNAHzAAAAB5BnspFFSwz/wAA\n",
              "AwAcUPjuYLZgyKWCZjwR4s7WyVkAAAARAZ7pdEK/AAADAAfyHvE9o2YAAAASAZ7rakK/AAADAAgu\n",
              "u5fkMDkfAAAA7kGa8EmoQWyZTAh///6plgAAgCEp4daaw5BPyAVmHJAla24dJo+i+lZSzEBfbmhA\n",
              "Qj2d3dkyiwe3an5nZ//8EiOZutBufgu+O3hDRTR0q7/d4XCKtZd8cmIENhXr3e7N2cz22z7kClTJ\n",
              "8dvbPy/TI673ScW/Acr9JP0zq2yDR6qUoRrcgpEhDrA4IUNbhj7APPejDGKdnQWpnA3YCZMp/fkH\n",
              "xYgaxXJd80I2Tys2+SIem521HnI3go6a5hGY9i59rwGM+ABSKHXIqKxlrgzKElfO6UF/4y9ZqUvf\n",
              "BEeWSQckFAE37lSKFw+KEcm9mVEAAAAVQZ8ORRUsM/8AAAMACjwGqUeLjiXhAAAAEAGfLXRCvwAA\n",
              "AwADN/1GDFkAAAASAZ8vakK/AAADADTEKkzWkcS8AAAAaUGbNEmoQWyZTAh///6plgAAxTykcg0r\n",
              "Xbja5AOfBqVtdLYEL4AKZeyU0+4y7/h5CtZ9Y13vATkgW6BLCA9kjavxz9oQbOFCBJQM2kYvcA6b\n",
              "zx4BoW7QOnlvlXgAHaNtICwKcwqJPnAYsAAAABpBn1JFFSwz/wAAAwAc/lN/y83QwfTbr2IswQAA\n",
              "ABQBn3F0Qr8AAAMANf/xji+Y+gyK+AAAABABn3NqQr8AAAMAAzjpVQqYAAAAkUGbeEmoQWyZTAh/\n",
              "//6plgAAgCEp4daYb1Zp/SkxMVRdMYq3WsJRCPJSKAlYmj2VvG3VmpB/Cw46RiKtyEKisDYYHo5o\n",
              "U56cSxKccAJPlSfRuKN4xVQteJUJjGuSw6LgH/E+jivZ3VhLd6lCYgDdPoYRqk0NfTokA8bqx1D7\n",
              "6Ckt7xhOdQnpSOBT2WOBtLW2w9MAAAAaQZ+WRRUsM/8AAAMAG6NeQDukVIM6LOYzMfkAAAAUAZ+1\n",
              "dEK/AAADADX/1q6Unn0GRX0AAAASAZ+3akK/AAADADOOlaiopKLLAAAA4UGbvEmoQWyZTAh///6p\n",
              "lgAAgCEp4daav11raWdpR9mku3OzF1C9/lJqtaSHi9xH/SPQ0GzHCxpNLD0IMrpoNQy8RpoHTlVu\n",
              "hMcQGWdyyowkrm3g/fNVXGKw5y3ilMH8QMmzOu8BVNOA8FVsoKebHROIGsAJlw2g6IsRgIv1k/yX\n",
              "tj56oNCLVotkLugNEkLiVVBTpL/K7tkFdo0vL7/n1yt6xCwG9lGPHQ6+9E4fJPCjnRsOg9IOYraL\n",
              "7HG/EySeaRexOEGBxk2lz4oUaogCPGkkkL8vRDyTod7uDh6ELzgh4AAAACpBn9pFFSwz/wAAAwAb\n",
              "vppIAbsADNhQvNiqWO/gfyrBP0RkWsH5ZOfANuEAAAAUAZ/5dEK/AAADABWV3Hy7SSvEiZ8AAAAQ\n",
              "AZ/7akK/AAADAAM46VUKmQAAANpBm+BJqEFsmUwIf//+qZYAAIAhKeHWmzF/bTRhB5GayQnKgsld\n",
              "xJTEGMU1AHlYZQcNxayIT0GxZV+JHbzTRZ/ZuZQTG7Yx1cxtTWZHgdfEeb3G96vcAqJT5FEE4VwT\n",
              "tpfpZjuluB4rlRQm4/EuNZG9RECK02HnlP+KjwgllsJgIO5tUJTCEHmOWc6/IripmnUTCjZGs4C+\n",
              "XOEjs7konWIzteG1qsoGUodNaMezYklLUtxDsK3227+q7eh6sYHfZF7JUblepAejLAdD0q8Bjd5D\n",
              "PoPVPx67e8gMKQAAACJBnh5FFSwz/wAAAwAcTjV7tXpKz+aDBMYfpGbF6bezAEPAAAAAEAGePXRC\n",
              "vwAAAwADN/1GDFgAAAAQAZ4/akK/AAADADYEKaAUEQAAANxBmiRJqEFsmUwIf//+qZYAAMVjinz3\n",
              "Oa7ccrBhnsICN1r9q1PLsHbrdJySMqXnw8dut6nIgMIpzqx6uxA/FigcsKKsHG+mqrHHnuLgCXgZ\n",
              "WlVZOAPqS8h0TuaVseKnSHzz4/OfjN5qPoG+Lawj2z8/PBhc7D0rqNSHBbLMk35MtxsqwMWwPC+0\n",
              "zp1zErqPyA188J6dVZS5tPrfDTqKNCYQFP/4CkNYayfT2nIe0Nvyo+s2GfYTQiMsJyNVXw10IIbZ\n",
              "FHLN7rWKBjYjUmewLEVbRd7sFzIrxEeG4bEHAAAAI0GeQkUVLDP/AAADABxUsj3ec4DbDGhqKJZU\n",
              "JZRzXyH39UfdAAAAFQGeYXRCvwAAAwA2EgfCFeAP3ExS8AAAABMBnmNqQr8AAAMAB/HlepV8nMqB\n",
              "AAABNkGaaEmoQWyZTAh///6plgACcHd8AOURULO7vjRAS6B6maXjSt3bZ/8k3/HTdKPrKnEhLKUk\n",
              "598c4l6Xcgeh3bIT3/zaBNZQsrQd1E1B/rUdOWxG9gTpPYtSvzNB2WUiFvew6jr2N4VzGloga86/\n",
              "r/vlMjtmuh7AMxbmsxnnd3tGV2l2oThujqFtatC0jNNGF9x46NmGkBrMdR3cukqSmtG081aPNWcl\n",
              "N9YqCnf7zoFTfTvE5/m76UERlsfbZeYRVSDbjNJSK9+PcN2BA9LA9OOWWqnSo7pZizFBA7+sUGl5\n",
              "u330zv+v+nR07LcDMxpGi/VVq4wOedMB+qMnYN4j0ATJfBSK10a9J8BzDPfmpCrSSSjYlsPDxv1i\n",
              "Wo8JcYqSOG2a6ygXovLY4AWHQOdzfZgOjxo0AysAAAAmQZ6GRRUsM/8AAAMAG76NgASwpnZdcFgx\n",
              "fVCcx3Y6dDZasxLbdh8AAAATAZ6ldEK/AAADAAEyVSPgAaVl4QAAABMBnqdqQr8AAAMAFHkQyRmg\n",
              "8XMqAAAAo0GarEmoQWyZTAh///6plgACcHd8AONxtPPKlqTm+OHl5SIKCXTp5OYGYOwyllX83eN9\n",
              "fOr9nGDOSd1dVJdCT8n7oBzPYF7mt82vPl6flROb6kNCq+MQ28jUCQ0kcRUJD6UxZRkvvOAFfnpf\n",
              "L3gNiFtmSnq5Gq05pEIhLKxABzE9m4l3+WISmv4vg9PVdoTfCAUxtOFh5E99+fiyO4rlaUuREHAA\n",
              "AAArQZ7KRRUsM/8AAAMAHFK6EAa1iQAs7qctiteyckZ+oCWQ1/AGOHuuBTwOCQAAAA8Bnul0Qr8A\n",
              "AAMAAAMAYsAAAAAXAZ7rakK/AAADABUGkjX50cZSbiv4TakAAACfQZrwSahBbJlMCH///qmWAAJw\n",
              "d3wA5RC088gz3R0G/L+Tu+OtdmpxUzaDLvSbQfQBiFhr+7F3ghLnGlaCc/nLwDkUwB2IzxjIzwW6\n",
              "iAXzjIPnRzVBZy3oF5vD9y25FdcWnr9S6PCk1tN5LlH3l71s2088iQEYyIKdlbcQF3i3p3l20d5C\n",
              "pwoNymx3GW3AVsB8sE4pNU+SbCaDbmGRDPltAAAAI0GfDkUVLDP/AAADABxEf9yVbjAb0UaNTMlM\n",
              "EI46uuGqPiTRAAAAFAGfLXRCvwAAAwAUdM6l64u9Bk5ZAAAAFAGfL2pCvwAAAwA0zpVzuPe7QOzs\n",
              "AAAArUGbNEmoQWyZTAh///6plgAA7poPQFzJXbUMjhj3rqT5NUnrtzXCXs0MXoYRIKg3rEnVnxf4\n",
              "34rUJ1H0jzMmk2IavFbZAEoJORby2FSohHY1Og1S5cIKxXGSQGjJ5SnU5J72XmH2iwPoZYsyZ1L+\n",
              "ArOkqge7pKg5bAvMPq9MHIGrhn/w+7e9Rt3Hp4ZP69oqpDhB/cG1QLAuEPqDV//82mW0isrBwbRO\n",
              "fEqbEBtwAAAAKkGfUkUVLDP/AAADABulzlqgtIad+bxpEttnpACxo6hWRXkb/EQrXYsY4QAAABYB\n",
              "n3F0Qr8AAAMACCuhFCNDptHOOnraAAAAFQGfc2pCvwAAAwADTELh9CRfoN+yoAAAAHVBm3hJqEFs\n",
              "mUwIf//+qZYAAO6aD0BcLmrPKyycC1eLNPD2HJj96lp43gOympGCr+GVptFbqfTR8bFM7RD0yhE6\n",
              "IT4XEOK4ICbfTzQW/5Hbte/7FWtlJ6zxz8dWXPKhShQGdeAXM2/5PlP0b7Cko1Zf7B2AWUEAAAAp\n",
              "QZ+WRRUsM/8AAAMAHE6u5ADVvZV5pudM0b3sP7NMzV2EqO+pfcmi8eAAAAAYAZ+1dEK/AAADADTJ\n",
              "GWgfQAtI/8UsZmhZAAAAEQGft2pCvwAAAwABMlUi+MCBAAAAYUGbvEmoQWyZTAh3//6plgAAEgM9\n",
              "KCOTvU3M5EjNkdhW01LgcFXyueReZwARGDOad5FM1/su1uB7gQKUthCzQeBQ/xPfRK2a0N/AM7ug\n",
              "iCGiw184Qmrbo1Pddr+nRhTrBQwAAAAZQZ/aRRUsM/8AAAMABFcgr1I2NQjqyMaj/QAAABUBn/l0\n",
              "Qr8AAAMAM2tHJuVlIIo6ltAAAAAVAZ/7akK/AAADAAgsmux+XJ9M/c+5AAAAX0Gb4EmoQWyZTAh3\n",
              "//6plgAA45b5DLtpibGhSrS6wtG3HKb101XwfFhMZ6N7GZ78qgTYFdKdSMf5HPgbqTFalegi7Xcy\n",
              "C2S4u6qUWb93ZzQxqifJwUe9sCWTMRHeQqczAAAAHUGeHkUVLDP/AAADAAuih5AwJGaiZyeyLPvo\n",
              "UIeAAAAAGQGePXRCvwAAAwA2CSF49tBeZaA3k+XAEfAAAAAUAZ4/akK/AAADAANM6t9+Cr7LJy0A\n",
              "AABwQZokSahBbJlMCG///qeEAAAc8aaGjl3+aZbUQsBZrTxtgzVJmv4xdCbUGhU1bXNCgdVGV1RF\n",
              "MD8mHAptq8wx+RX4qZEpdtyWCYdPWGdxS9lPpUegjsvdVF6OBPoNF4dAGJ9LV5tFgDH18PqyJ/AW\n",
              "UAAAACBBnkJFFSwz/wAAAwAc/lIPWpoMhn5TcHLLEgFtPgAMaQAAABkBnmF0Qr8AAAMAFH3rb6Q+\n",
              "SbfXNFTWJOWAAAAAEwGeY2pCvwAAAwADOOhmAZFUhSsAAABoQZpoSahBbJlMCFf//jhAAAAI5+i6\n",
              "HbOwAFJSB2pgoJ6/AAPz/tvvuJAueyLdKDrNw7fN9aStLs+bN2PfhrU2ajlO5hRi5HE2Z8PCE/Y5\n",
              "8UbfGIg7wlUxNgcAMbddijYh+XnPHyAMZ8EAAAA+QZ6GRRUsM/8AAAMAQzkR2mk2Ye4jNSZhAER3\n",
              "uVJm6lS1XS0TMrSTYnVySAp0k2c1sh3I4BWXg3G3ZV1LgqcAAAAZAZ6ldEK/AAADAHl4Bj3JD9g7\n",
              "l9w6Q3U42QAAACIBnqdqQr8AAAMAfFlOT+WgAixdz8y7GCuxW+4HWvy/YJOWAAALGm1vb3YAAABs\n",
              "bXZoZAAAAAAAAAAAAAAAAAAAA+gAACECAAEAAAEAAAAAAAAAAAAAAAABAAAAAAAAAAAAAAAAAAAA\n",
              "AQAAAAAAAAAAAAAAAAAAQAAAAAAAAAAAAAAAAAAAAAAAAAAAAAAAAAAAAAAAAAIAAApEdHJhawAA\n",
              "AFx0a2hkAAAAAwAAAAAAAAAAAAAAAQAAAAAAACECAAAAAAAAAAAAAAAAAAAAAAABAAAAAAAAAAAA\n",
              "AAAAAAAAAQAAAAAAAAAAAAAAAAAAQAAAAAJAAAABsAAAAAAAJGVkdHMAAAAcZWxzdAAAAAAAAAAB\n",
              "AAAhAgAABAAAAQAAAAAJvG1kaWEAAAAgbWRoZAAAAAAAAAAAAAAAAAAAKAAAAVIAVcQAAAAAAC1o\n",
              "ZGxyAAAAAAAAAAB2aWRlAAAAAAAAAAAAAAAAVmlkZW9IYW5kbGVyAAAACWdtaW5mAAAAFHZtaGQA\n",
              "AAABAAAAAAAAAAAAAAAkZGluZgAAABxkcmVmAAAAAAAAAAEAAAAMdXJsIAAAAAEAAAknc3RibAAA\n",
              "ALNzdHNkAAAAAAAAAAEAAACjYXZjMQAAAAAAAAABAAAAAAAAAAAAAAAAAAAAAAJAAbAASAAAAEgA\n",
              "AAAAAAAAAQAAAAAAAAAAAAAAAAAAAAAAAAAAAAAAAAAAAAAAAAAAABj//wAAADFhdmNDAWQAFv/h\n",
              "ABhnZAAWrNlAkDehAAADAAEAAAMAKA8WLZYBAAZo6+PLIsAAAAAcdXVpZGtoQPJfJE/FujmlG88D\n",
              "I/MAAAAAAAAAGHN0dHMAAAAAAAAAAQAAAKkAAAIAAAAAFHN0c3MAAAAAAAAAAQAAAAEAAAVYY3R0\n",
              "cwAAAAAAAACpAAAAAQAABAAAAAABAAAKAAAAAAEAAAQAAAAAAQAAAAAAAAABAAACAAAAAAEAAAoA\n",
              "AAAAAQAABAAAAAABAAAAAAAAAAEAAAIAAAAAAQAACgAAAAABAAAEAAAAAAEAAAAAAAAAAQAAAgAA\n",
              "AAABAAAKAAAAAAEAAAQAAAAAAQAAAAAAAAABAAACAAAAAAEAAAoAAAAAAQAABAAAAAABAAAAAAAA\n",
              "AAEAAAIAAAAAAQAACgAAAAABAAAEAAAAAAEAAAAAAAAAAQAAAgAAAAABAAAKAAAAAAEAAAQAAAAA\n",
              "AQAAAAAAAAABAAACAAAAAAEAAAoAAAAAAQAABAAAAAABAAAAAAAAAAEAAAIAAAAAAQAACgAAAAAB\n",
              "AAAEAAAAAAEAAAAAAAAAAQAAAgAAAAABAAAKAAAAAAEAAAQAAAAAAQAAAAAAAAABAAACAAAAAAEA\n",
              "AAoAAAAAAQAABAAAAAABAAAAAAAAAAEAAAIAAAAAAQAACgAAAAABAAAEAAAAAAEAAAAAAAAAAQAA\n",
              "AgAAAAABAAAKAAAAAAEAAAQAAAAAAQAAAAAAAAABAAACAAAAAAEAAAoAAAAAAQAABAAAAAABAAAA\n",
              "AAAAAAEAAAIAAAAAAQAACgAAAAABAAAEAAAAAAEAAAAAAAAAAQAAAgAAAAABAAAKAAAAAAEAAAQA\n",
              "AAAAAQAAAAAAAAABAAACAAAAAAEAAAoAAAAAAQAABAAAAAABAAAAAAAAAAEAAAIAAAAAAQAACgAA\n",
              "AAABAAAEAAAAAAEAAAAAAAAAAQAAAgAAAAABAAAKAAAAAAEAAAQAAAAAAQAAAAAAAAABAAACAAAA\n",
              "AAEAAAoAAAAAAQAABAAAAAABAAAAAAAAAAEAAAIAAAAAAQAACgAAAAABAAAEAAAAAAEAAAAAAAAA\n",
              "AQAAAgAAAAABAAAKAAAAAAEAAAQAAAAAAQAAAAAAAAABAAACAAAAAAEAAAoAAAAAAQAABAAAAAAB\n",
              "AAAAAAAAAAEAAAIAAAAAAQAACgAAAAABAAAEAAAAAAEAAAAAAAAAAQAAAgAAAAABAAAKAAAAAAEA\n",
              "AAQAAAAAAQAAAAAAAAABAAACAAAAAAEAAAoAAAAAAQAABAAAAAABAAAAAAAAAAEAAAIAAAAAAQAA\n",
              "CgAAAAABAAAEAAAAAAEAAAAAAAAAAQAAAgAAAAABAAAKAAAAAAEAAAQAAAAAAQAAAAAAAAABAAAC\n",
              "AAAAAAEAAAoAAAAAAQAABAAAAAABAAAAAAAAAAEAAAIAAAAAAQAACgAAAAABAAAEAAAAAAEAAAAA\n",
              "AAAAAQAAAgAAAAABAAAKAAAAAAEAAAQAAAAAAQAAAAAAAAABAAACAAAAAAEAAAoAAAAAAQAABAAA\n",
              "AAABAAAAAAAAAAEAAAIAAAAAAQAACgAAAAABAAAEAAAAAAEAAAAAAAAAAQAAAgAAAAABAAAKAAAA\n",
              "AAEAAAQAAAAAAQAAAAAAAAABAAACAAAAAAEAAAoAAAAAAQAABAAAAAABAAAAAAAAAAEAAAIAAAAA\n",
              "AQAACgAAAAABAAAEAAAAAAEAAAAAAAAAAQAAAgAAAAABAAAKAAAAAAEAAAQAAAAAAQAAAAAAAAAB\n",
              "AAACAAAAAAEAAAoAAAAAAQAABAAAAAABAAAAAAAAAAEAAAIAAAAAAQAACgAAAAABAAAEAAAAAAEA\n",
              "AAAAAAAAAQAAAgAAAAABAAAKAAAAAAEAAAQAAAAAAQAAAAAAAAABAAACAAAAAAEAAAoAAAAAAQAA\n",
              "BAAAAAABAAAAAAAAAAEAAAIAAAAAAQAACgAAAAABAAAEAAAAAAEAAAAAAAAAAQAAAgAAAAAcc3Rz\n",
              "YwAAAAAAAAABAAAAAQAAAKkAAAABAAACuHN0c3oAAAAAAAAAAAAAAKkAAClSAAABlAAAADEAAAAg\n",
              "AAAAGgAAAQsAAAAkAAAAFwAAABQAAADwAAAAJAAAABkAAAAXAAABCwAAACcAAAAcAAAAHAAAAQEA\n",
              "AAAoAAAAGwAAABgAAADUAAAAJgAAABQAAAAYAAABMAAAADEAAAAYAAAAHAAAALQAAAAfAAAAGAAA\n",
              "ABkAAAB+AAAAGwAAABQAAAAUAAAAvwAAACUAAAAYAAAAFgAAALsAAAAdAAAAGAAAAB4AAAC0AAAA\n",
              "IgAAABgAAAAWAAAAqAAAACQAAAAXAAAAGQAAAIMAAAAcAAAAGQAAABYAAACbAAAAKwAAABkAAAAX\n",
              "AAABGwAAADEAAAAXAAAAGAAAAL8AAAA0AAAAHgAAABwAAAEWAAAALgAAACAAAAAcAAAAiQAAAB8A\n",
              "AAAVAAAAGAAAAK0AAAAiAAAAGQAAABcAAAE0AAAAIAAAABsAAAAYAAAAnAAAACIAAAAbAAAAFAAA\n",
              "ALcAAAAaAAAAGgAAABcAAADnAAAAIgAAAB8AAAAUAAAA/gAAACQAAAAcAAAAHwAAASUAAAAsAAAA\n",
              "GgAAABkAAACYAAAAIgAAABUAAAAWAAAA8gAAABkAAAAUAAAAFgAAAG0AAAAeAAAAGAAAABQAAACV\n",
              "AAAAHgAAABgAAAAWAAAA5QAAAC4AAAAYAAAAFAAAAN4AAAAmAAAAFAAAABQAAADgAAAAJwAAABkA\n",
              "AAAXAAABOgAAACoAAAAXAAAAFwAAAKcAAAAvAAAAEwAAABsAAACjAAAAJwAAABgAAAAYAAAAsQAA\n",
              "AC4AAAAaAAAAGQAAAHkAAAAtAAAAHAAAABUAAABlAAAAHQAAABkAAAAZAAAAYwAAACEAAAAdAAAA\n",
              "GAAAAHQAAAAkAAAAHQAAABcAAABsAAAAQgAAAB0AAAAmAAAAFHN0Y28AAAAAAAAAAQAAACwAAABi\n",
              "dWR0YQAAAFptZXRhAAAAAAAAACFoZGxyAAAAAAAAAABtZGlyYXBwbAAAAAAAAAAAAAAAAC1pbHN0\n",
              "AAAAJal0b28AAAAdZGF0YQAAAAEAAAAATGF2ZjU3LjgzLjEwMA==\n",
              "\">\n",
              "  Your browser does not support the video tag.\n",
              "</video>"
            ],
            "text/plain": [
              "<IPython.core.display.HTML object>"
            ]
          },
          "metadata": {
            "tags": []
          },
          "execution_count": 11
        }
      ]
    },
    {
      "cell_type": "markdown",
      "metadata": {
        "id": "xjM7ubVfWrwT",
        "colab_type": "text"
      },
      "source": [
        "**Create a model and load checkpoints**"
      ]
    },
    {
      "cell_type": "code",
      "metadata": {
        "id": "3FQiXqQPWt5B",
        "colab_type": "code",
        "colab": {
          "base_uri": "https://localhost:8080/",
          "height": 340
        },
        "outputId": "0dc91876-2191-4a82-ba3a-b82baf8dd8cf"
      },
      "source": [
        "from demo import load_checkpoints\n",
        "generator, kp_detector = load_checkpoints(config_path='/content/drive/My Drive/GTask/FOMM/config/vox-256.yaml', \n",
        "                            checkpoint_path='/content/drive/My Drive/koo20/vox-cpk.pth.tar')"
      ],
      "execution_count": 13,
      "outputs": [
        {
          "output_type": "error",
          "ename": "FileNotFoundError",
          "evalue": "ignored",
          "traceback": [
            "\u001b[0;31m---------------------------------------------------------------------------\u001b[0m",
            "\u001b[0;31mFileNotFoundError\u001b[0m                         Traceback (most recent call last)",
            "\u001b[0;32m<ipython-input-13-5f61d88f682c>\u001b[0m in \u001b[0;36m<module>\u001b[0;34m()\u001b[0m\n\u001b[1;32m      1\u001b[0m \u001b[0;32mfrom\u001b[0m \u001b[0mdemo\u001b[0m \u001b[0;32mimport\u001b[0m \u001b[0mload_checkpoints\u001b[0m\u001b[0;34m\u001b[0m\u001b[0;34m\u001b[0m\u001b[0m\n\u001b[1;32m      2\u001b[0m generator, kp_detector = load_checkpoints(config_path='/content/drive/My Drive/GTask/FOMM/config/vox-256.yaml', \n\u001b[0;32m----> 3\u001b[0;31m                             checkpoint_path='/content/drive/My Drive/koo20/vox-cpk.pth.tar')\n\u001b[0m",
            "\u001b[0;32m/content/drive/My Drive/GTask/FOMM/demo.py\u001b[0m in \u001b[0;36mload_checkpoints\u001b[0;34m(config_path, checkpoint_path, cpu)\u001b[0m\n\u001b[1;32m     40\u001b[0m         \u001b[0mcheckpoint\u001b[0m \u001b[0;34m=\u001b[0m \u001b[0mtorch\u001b[0m\u001b[0;34m.\u001b[0m\u001b[0mload\u001b[0m\u001b[0;34m(\u001b[0m\u001b[0mcheckpoint_path\u001b[0m\u001b[0;34m,\u001b[0m \u001b[0mmap_location\u001b[0m\u001b[0;34m=\u001b[0m\u001b[0mtorch\u001b[0m\u001b[0;34m.\u001b[0m\u001b[0mdevice\u001b[0m\u001b[0;34m(\u001b[0m\u001b[0;34m'cpu'\u001b[0m\u001b[0;34m)\u001b[0m\u001b[0;34m)\u001b[0m\u001b[0;34m\u001b[0m\u001b[0;34m\u001b[0m\u001b[0m\n\u001b[1;32m     41\u001b[0m     \u001b[0;32melse\u001b[0m\u001b[0;34m:\u001b[0m\u001b[0;34m\u001b[0m\u001b[0;34m\u001b[0m\u001b[0m\n\u001b[0;32m---> 42\u001b[0;31m         \u001b[0mcheckpoint\u001b[0m \u001b[0;34m=\u001b[0m \u001b[0mtorch\u001b[0m\u001b[0;34m.\u001b[0m\u001b[0mload\u001b[0m\u001b[0;34m(\u001b[0m\u001b[0mcheckpoint_path\u001b[0m\u001b[0;34m)\u001b[0m\u001b[0;34m\u001b[0m\u001b[0;34m\u001b[0m\u001b[0m\n\u001b[0m\u001b[1;32m     43\u001b[0m \u001b[0;34m\u001b[0m\u001b[0m\n\u001b[1;32m     44\u001b[0m     \u001b[0mgenerator\u001b[0m\u001b[0;34m.\u001b[0m\u001b[0mload_state_dict\u001b[0m\u001b[0;34m(\u001b[0m\u001b[0mcheckpoint\u001b[0m\u001b[0;34m[\u001b[0m\u001b[0;34m'generator'\u001b[0m\u001b[0;34m]\u001b[0m\u001b[0;34m)\u001b[0m\u001b[0;34m\u001b[0m\u001b[0;34m\u001b[0m\u001b[0m\n",
            "\u001b[0;32m/usr/local/lib/python3.6/dist-packages/torch/serialization.py\u001b[0m in \u001b[0;36mload\u001b[0;34m(f, map_location, pickle_module, **pickle_load_args)\u001b[0m\n\u001b[1;32m    569\u001b[0m         \u001b[0mpickle_load_args\u001b[0m\u001b[0;34m[\u001b[0m\u001b[0;34m'encoding'\u001b[0m\u001b[0;34m]\u001b[0m \u001b[0;34m=\u001b[0m \u001b[0;34m'utf-8'\u001b[0m\u001b[0;34m\u001b[0m\u001b[0;34m\u001b[0m\u001b[0m\n\u001b[1;32m    570\u001b[0m \u001b[0;34m\u001b[0m\u001b[0m\n\u001b[0;32m--> 571\u001b[0;31m     \u001b[0;32mwith\u001b[0m \u001b[0m_open_file_like\u001b[0m\u001b[0;34m(\u001b[0m\u001b[0mf\u001b[0m\u001b[0;34m,\u001b[0m \u001b[0;34m'rb'\u001b[0m\u001b[0;34m)\u001b[0m \u001b[0;32mas\u001b[0m \u001b[0mopened_file\u001b[0m\u001b[0;34m:\u001b[0m\u001b[0;34m\u001b[0m\u001b[0;34m\u001b[0m\u001b[0m\n\u001b[0m\u001b[1;32m    572\u001b[0m         \u001b[0;32mif\u001b[0m \u001b[0m_is_zipfile\u001b[0m\u001b[0;34m(\u001b[0m\u001b[0mopened_file\u001b[0m\u001b[0;34m)\u001b[0m\u001b[0;34m:\u001b[0m\u001b[0;34m\u001b[0m\u001b[0;34m\u001b[0m\u001b[0m\n\u001b[1;32m    573\u001b[0m             \u001b[0;31m# The zipfile reader is going to advance the current file position.\u001b[0m\u001b[0;34m\u001b[0m\u001b[0;34m\u001b[0m\u001b[0;34m\u001b[0m\u001b[0m\n",
            "\u001b[0;32m/usr/local/lib/python3.6/dist-packages/torch/serialization.py\u001b[0m in \u001b[0;36m_open_file_like\u001b[0;34m(name_or_buffer, mode)\u001b[0m\n\u001b[1;32m    227\u001b[0m \u001b[0;32mdef\u001b[0m \u001b[0m_open_file_like\u001b[0m\u001b[0;34m(\u001b[0m\u001b[0mname_or_buffer\u001b[0m\u001b[0;34m,\u001b[0m \u001b[0mmode\u001b[0m\u001b[0;34m)\u001b[0m\u001b[0;34m:\u001b[0m\u001b[0;34m\u001b[0m\u001b[0;34m\u001b[0m\u001b[0m\n\u001b[1;32m    228\u001b[0m     \u001b[0;32mif\u001b[0m \u001b[0m_is_path\u001b[0m\u001b[0;34m(\u001b[0m\u001b[0mname_or_buffer\u001b[0m\u001b[0;34m)\u001b[0m\u001b[0;34m:\u001b[0m\u001b[0;34m\u001b[0m\u001b[0;34m\u001b[0m\u001b[0m\n\u001b[0;32m--> 229\u001b[0;31m         \u001b[0;32mreturn\u001b[0m \u001b[0m_open_file\u001b[0m\u001b[0;34m(\u001b[0m\u001b[0mname_or_buffer\u001b[0m\u001b[0;34m,\u001b[0m \u001b[0mmode\u001b[0m\u001b[0;34m)\u001b[0m\u001b[0;34m\u001b[0m\u001b[0;34m\u001b[0m\u001b[0m\n\u001b[0m\u001b[1;32m    230\u001b[0m     \u001b[0;32melse\u001b[0m\u001b[0;34m:\u001b[0m\u001b[0;34m\u001b[0m\u001b[0;34m\u001b[0m\u001b[0m\n\u001b[1;32m    231\u001b[0m         \u001b[0;32mif\u001b[0m \u001b[0;34m'w'\u001b[0m \u001b[0;32min\u001b[0m \u001b[0mmode\u001b[0m\u001b[0;34m:\u001b[0m\u001b[0;34m\u001b[0m\u001b[0;34m\u001b[0m\u001b[0m\n",
            "\u001b[0;32m/usr/local/lib/python3.6/dist-packages/torch/serialization.py\u001b[0m in \u001b[0;36m__init__\u001b[0;34m(self, name, mode)\u001b[0m\n\u001b[1;32m    208\u001b[0m \u001b[0;32mclass\u001b[0m \u001b[0m_open_file\u001b[0m\u001b[0;34m(\u001b[0m\u001b[0m_opener\u001b[0m\u001b[0;34m)\u001b[0m\u001b[0;34m:\u001b[0m\u001b[0;34m\u001b[0m\u001b[0;34m\u001b[0m\u001b[0m\n\u001b[1;32m    209\u001b[0m     \u001b[0;32mdef\u001b[0m \u001b[0m__init__\u001b[0m\u001b[0;34m(\u001b[0m\u001b[0mself\u001b[0m\u001b[0;34m,\u001b[0m \u001b[0mname\u001b[0m\u001b[0;34m,\u001b[0m \u001b[0mmode\u001b[0m\u001b[0;34m)\u001b[0m\u001b[0;34m:\u001b[0m\u001b[0;34m\u001b[0m\u001b[0;34m\u001b[0m\u001b[0m\n\u001b[0;32m--> 210\u001b[0;31m         \u001b[0msuper\u001b[0m\u001b[0;34m(\u001b[0m\u001b[0m_open_file\u001b[0m\u001b[0;34m,\u001b[0m \u001b[0mself\u001b[0m\u001b[0;34m)\u001b[0m\u001b[0;34m.\u001b[0m\u001b[0m__init__\u001b[0m\u001b[0;34m(\u001b[0m\u001b[0mopen\u001b[0m\u001b[0;34m(\u001b[0m\u001b[0mname\u001b[0m\u001b[0;34m,\u001b[0m \u001b[0mmode\u001b[0m\u001b[0;34m)\u001b[0m\u001b[0;34m)\u001b[0m\u001b[0;34m\u001b[0m\u001b[0;34m\u001b[0m\u001b[0m\n\u001b[0m\u001b[1;32m    211\u001b[0m \u001b[0;34m\u001b[0m\u001b[0m\n\u001b[1;32m    212\u001b[0m     \u001b[0;32mdef\u001b[0m \u001b[0m__exit__\u001b[0m\u001b[0;34m(\u001b[0m\u001b[0mself\u001b[0m\u001b[0;34m,\u001b[0m \u001b[0;34m*\u001b[0m\u001b[0margs\u001b[0m\u001b[0;34m)\u001b[0m\u001b[0;34m:\u001b[0m\u001b[0;34m\u001b[0m\u001b[0;34m\u001b[0m\u001b[0m\n",
            "\u001b[0;31mFileNotFoundError\u001b[0m: [Errno 2] No such file or directory: '/content/drive/My Drive/koo20/vox-cpk.pth.tar'"
          ]
        }
      ]
    },
    {
      "cell_type": "markdown",
      "metadata": {
        "id": "fdFdasHEj3t7",
        "colab_type": "text"
      },
      "source": [
        "**Perfrorm image animation**"
      ]
    },
    {
      "cell_type": "code",
      "metadata": {
        "id": "SB12II11kF4c",
        "colab_type": "code",
        "colab": {}
      },
      "source": [
        "from demo import make_animation\n",
        "from skimage import img_as_ubyte\n",
        "\n",
        "predictions = make_animation(source_image, driving_video, generator, kp_detector, relative=True, adapt_movement_scale=True)\n",
        "\n",
        "#save resulting video\n",
        "imageio.mimsave('../generated.mp4', [img_as_ubyte(frame) for frame in predictions])\n",
        "#video can be downloaded from /content folder\n",
        "\n",
        "HTML(display(source_image, driving_video, predictions).to_html5_video())"
      ],
      "execution_count": null,
      "outputs": []
    },
    {
      "cell_type": "code",
      "metadata": {
        "id": "fsCq7D4aSHqe",
        "colab_type": "code",
        "colab": {}
      },
      "source": [
        ""
      ],
      "execution_count": null,
      "outputs": []
    }
  ]
}
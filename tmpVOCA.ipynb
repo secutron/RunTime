{
  "nbformat": 4,
  "nbformat_minor": 0,
  "metadata": {
    "colab": {
      "name": "FLAME.ipynb",
      "provenance": [],
      "mount_file_id": "https://github.com/secutron/RunTime/blob/master/FLAME-GenUV.ipynb",
      "authorship_tag": "ABX9TyOwwl/XesmSzGW931wY2JlR",
      "include_colab_link": true
    },
    "kernelspec": {
      "name": "python3",
      "display_name": "Python 3"
    },
    "accelerator": "GPU"
  },
  "cells": [
    {
      "cell_type": "markdown",
      "metadata": {
        "id": "view-in-github",
        "colab_type": "text"
      },
      "source": [
        "<a href=\"https://colab.research.google.com/github/secutron/RunTime/blob/master/tmpVOCA.ipynb\" target=\"_parent\"><img src=\"https://colab.research.google.com/assets/colab-badge.svg\" alt=\"Open In Colab\"/></a>"
      ]
    },
    {
      "cell_type": "markdown",
      "metadata": {
        "id": "IiGkj-fhEv-q",
        "colab_type": "text"
      },
      "source": [
        "### XXX TBD - VOCA Texture 테스트"
      ]
    },
    {
      "cell_type": "code",
      "metadata": {
        "id": "_njUZtqOEFc-",
        "colab_type": "code",
        "colab": {
          "base_uri": "https://localhost:8080/",
          "height": 1000
        },
        "outputId": "4f6c6b81-59bb-4819-cb52-34165d99e59f"
      },
      "source": [
        "\n",
        "!wget -c https://repo.anaconda.com/miniconda/Miniconda3-4.5.4-Linux-x86_64.sh\n",
        "!chmod +x Miniconda3-4.5.4-Linux-x86_64.sh\n",
        "!bash ./Miniconda3-4.5.4-Linux-x86_64.sh -b -f -p /usr/local\n",
        "\n",
        "#!conda install -q -y --prefix /usr/local python=3.6 ujson\n",
        "\n",
        "#import sys\n",
        "#sys.path.append('/usr/local/lib/python3.6/site-packages')\n",
        "\n",
        "#import ujson\n",
        "#print(ujson.dumps({1:2}))\n",
        "\n",
        "!conda install -c conda-forge igl\n",
        "#!conda install -c conda-forge meshplot"
      ],
      "execution_count": 1,
      "outputs": [
        {
          "output_type": "stream",
          "text": [
            "--2020-08-03 07:09:43--  https://repo.anaconda.com/miniconda/Miniconda3-4.5.4-Linux-x86_64.sh\n",
            "Resolving repo.anaconda.com (repo.anaconda.com)... 104.16.130.3, 104.16.131.3, 2606:4700::6810:8303, ...\n",
            "Connecting to repo.anaconda.com (repo.anaconda.com)|104.16.130.3|:443... connected.\n",
            "HTTP request sent, awaiting response... 200 OK\n",
            "Length: 58468498 (56M) [application/x-sh]\n",
            "Saving to: ‘Miniconda3-4.5.4-Linux-x86_64.sh’\n",
            "\n",
            "\r          Miniconda   0%[                    ]       0  --.-KB/s               \r         Miniconda3  39%[======>             ]  22.01M   110MB/s               \r        Miniconda3-  85%[================>   ]  47.76M   119MB/s               \rMiniconda3-4.5.4-Li 100%[===================>]  55.76M   120MB/s    in 0.5s    \n",
            "\n",
            "2020-08-03 07:09:43 (120 MB/s) - ‘Miniconda3-4.5.4-Linux-x86_64.sh’ saved [58468498/58468498]\n",
            "\n",
            "PREFIX=/usr/local\n",
            "installing: python-3.6.5-hc3d631a_2 ...\n",
            "Python 3.6.5 :: Anaconda, Inc.\n",
            "installing: ca-certificates-2018.03.07-0 ...\n",
            "installing: conda-env-2.6.0-h36134e3_1 ...\n",
            "installing: libgcc-ng-7.2.0-hdf63c60_3 ...\n",
            "installing: libstdcxx-ng-7.2.0-hdf63c60_3 ...\n",
            "installing: libffi-3.2.1-hd88cf55_4 ...\n",
            "installing: ncurses-6.1-hf484d3e_0 ...\n",
            "installing: openssl-1.0.2o-h20670df_0 ...\n",
            "installing: tk-8.6.7-hc745277_3 ...\n",
            "installing: xz-5.2.4-h14c3975_4 ...\n",
            "installing: yaml-0.1.7-had09818_2 ...\n",
            "installing: zlib-1.2.11-ha838bed_2 ...\n",
            "installing: libedit-3.1.20170329-h6b74fdf_2 ...\n",
            "installing: readline-7.0-ha6073c6_4 ...\n",
            "installing: sqlite-3.23.1-he433501_0 ...\n",
            "installing: asn1crypto-0.24.0-py36_0 ...\n",
            "installing: certifi-2018.4.16-py36_0 ...\n",
            "installing: chardet-3.0.4-py36h0f667ec_1 ...\n",
            "installing: idna-2.6-py36h82fb2a8_1 ...\n",
            "installing: pycosat-0.6.3-py36h0a5515d_0 ...\n",
            "installing: pycparser-2.18-py36hf9f622e_1 ...\n",
            "installing: pysocks-1.6.8-py36_0 ...\n",
            "installing: ruamel_yaml-0.15.37-py36h14c3975_2 ...\n",
            "installing: six-1.11.0-py36h372c433_1 ...\n",
            "installing: cffi-1.11.5-py36h9745a5d_0 ...\n",
            "installing: setuptools-39.2.0-py36_0 ...\n",
            "installing: cryptography-2.2.2-py36h14c3975_0 ...\n",
            "installing: wheel-0.31.1-py36_0 ...\n",
            "installing: pip-10.0.1-py36_0 ...\n",
            "installing: pyopenssl-18.0.0-py36_0 ...\n",
            "installing: urllib3-1.22-py36hbe7ace6_0 ...\n",
            "installing: requests-2.18.4-py36he2e5f8d_1 ...\n",
            "installing: conda-4.5.4-py36_0 ...\n",
            "installation finished.\n",
            "WARNING:\n",
            "    You currently have a PYTHONPATH environment variable set. This may cause\n",
            "    unexpected behavior when running the Python interpreter in Miniconda3.\n",
            "    For best results, please verify that your PYTHONPATH only points to\n",
            "    directories of packages that are compatible with the Python interpreter\n",
            "    in Miniconda3: /usr/local\n",
            "Solving environment: - \b\b\\ \b\b| \b\b/ \b\b- \b\b\\ \b\b| \b\b/ \b\b- \b\b\\ \b\b| \b\b/ \b\b- \b\b\\ \b\b| \b\b/ \b\b- \b\b\\ \b\b| \b\b/ \b\b- \b\b\\ \b\b| \b\b/ \b\b- \b\b\\ \b\b| \b\b/ \b\b- \b\b\\ \b\b| \b\b/ \b\b- \b\b\\ \b\b| \b\b/ \b\b- \b\b\\ \b\b| \b\b/ \b\b- \b\b\\ \b\b| \b\b/ \b\b- \b\b\\ \b\b| \b\b/ \b\b- \b\b\\ \b\b| \b\b/ \b\b- \b\b\\ \b\b| \b\b/ \b\b- \b\b\\ \b\b| \b\b/ \b\b- \b\b\\ \b\b| \b\b/ \b\b- \b\b\\ \b\b| \b\b/ \b\b- \b\b\\ \b\b| \b\b/ \b\b- \b\b\\ \b\b| \b\b/ \b\b- \b\b\\ \b\b| \b\b/ \b\b- \b\b\\ \b\b| \b\b/ \b\b- \b\b\\ \b\b| \b\b/ \b\b- \b\b\\ \b\b| \b\b/ \b\b- \b\b\\ \b\b| \b\b/ \b\b- \b\b\\ \b\b| \b\b/ \b\b- \b\b\\ \b\b| \b\b/ \b\b- \b\b\\ \b\b| \b\b/ \b\b- \b\b\\ \b\b| \b\b/ \b\b- \b\b\\ \b\b| \b\b/ \b\b- \b\b\\ \b\b| \b\b/ \b\b- \b\b\\ \b\b| \b\b/ \b\b- \b\b\\ \b\b| \b\b/ \b\b- \b\b\\ \b\b| \b\b/ \b\b- \b\b\\ \b\b| \b\b/ \b\b- \b\b\\ \b\b| \b\b/ \b\b- \b\b\\ \b\b| \b\b/ \b\b- \b\b\\ \b\b| \b\b/ \b\b- \b\b\\ \b\b| \b\b/ \b\b- \b\b\\ \b\b| \b\b/ \b\b- \b\b\\ \b\b| \b\b/ \b\b- \b\b\\ \b\b| \b\b/ \b\b- \b\b\\ \b\b| \b\b/ \b\b- \b\b\\ \b\b| \b\b/ \b\b- \b\b\\ \b\b| \b\b/ \b\b- \b\b\\ \b\b| \b\b/ \b\b- \b\b\\ \b\b| \b\b/ \b\b- \b\b\\ \b\b| \b\b/ \b\b- \b\b\\ \b\b| \b\b/ \b\b- \b\b\\ \b\b| \b\b/ \b\b- \b\b\\ \b\b| \b\b/ \b\b- \b\b\\ \b\b| \b\b/ \b\b- \b\b\\ \b\b| \b\b/ \b\b- \b\b\\ \b\b| \b\b/ \b\b- \b\b\\ \b\b| \b\b/ \b\b- \b\b\\ \b\b| \b\b/ \b\b- \b\b\\ \b\b| \b\b/ \b\b- \b\b\\ \b\b| \b\b/ \b\b- \b\b\\ \b\b| \b\b/ \b\b- \b\b\\ \b\b| \b\b/ \b\b- \b\b\\ \b\b| \b\b/ \b\b- \b\b\\ \b\b| \b\b/ \b\b- \b\b\\ \b\b| \b\b/ \b\b- \b\b\\ \b\b| \b\b/ \b\b- \b\b\\ \b\b| \b\b/ \b\b- \b\b\\ \b\b| \b\b/ \b\b- \b\b\\ \b\b| \b\b/ \b\b- \b\b\\ \b\b| \b\b/ \b\b- \b\b\\ \b\b| \b\b/ \b\b- \b\b\\ \b\b| \b\b/ \b\b- \b\b\\ \b\b| \b\b/ \b\b- \b\b\\ \b\b| \b\b/ \b\b- \b\b\\ \b\b| \b\b/ \b\b- \b\b\\ \b\b| \b\b/ \b\b- \b\b\\ \b\b| \b\b/ \b\b- \b\b\\ \b\b| \b\b/ \b\b- \b\b\\ \b\b| \b\b/ \b\b- \b\b\\ \b\b| \b\b/ \b\b- \b\b\\ \b\b| \b\b/ \b\b- \b\b\\ \b\b| \b\b/ \b\b- \b\b\\ \b\b| \b\b/ \b\b- \b\b\\ \b\b| \b\b/ \b\b- \b\b\\ \b\b| \b\b/ \b\b- \b\b\\ \b\b| \b\b/ \b\b- \b\b\\ \b\b| \b\b/ \b\b- \b\b\\ \b\b| \b\b/ \b\b- \b\b\\ \b\b| \b\b/ \b\b- \b\b\\ \b\b| \b\b/ \b\b- \b\b\\ \b\b| \b\b/ \b\b- \b\b\\ \b\b| \b\b/ \b\b- \b\b\\ \b\b| \b\b/ \b\b- \b\b\\ \b\b| \b\b/ \b\b- \b\b\\ \b\b| \b\b/ \b\b- \b\b\\ \b\b| \b\b/ \b\b- \b\b\\ \b\b| \b\b/ \b\b- \b\b\\ \b\b| \b\b/ \b\b- \b\b\\ \b\b| \b\b/ \b\b- \b\b\\ \b\b| \b\b/ \b\b- \b\b\\ \b\b| \b\b/ \b\b- \b\b\\ \b\b| \b\b/ \b\b- \b\b\\ \b\b| \b\b/ \b\b- \b\b\\ \b\b| \b\b/ \b\b- \b\b\\ \b\b| \b\b/ \b\b- \b\b\\ \b\b| \b\b/ \b\b- \b\b\\ \b\b| \b\b/ \b\b- \b\b\\ \b\b| \b\b/ \b\b- \b\b\\ \b\b| \b\b/ \b\b- \b\b\\ \b\b| \b\b/ \b\b- \b\b\\ \b\b| \b\b/ \b\b- \b\b\\ \b\b| \b\b/ \b\b- \b\b\\ \b\b| \b\b/ \b\b- \b\b\\ \b\b| \b\b/ \b\b- \b\b\\ \b\b| \b\b/ \b\b- \b\b\\ \b\b| \b\b/ \b\b- \b\b\\ \b\b| \b\b/ \b\b- \b\b\\ \b\b| \b\b/ \b\b- \b\b\\ \b\b| \b\b/ \b\b- \b\b\\ \b\b| \b\b/ \b\b- \b\b\\ \b\b| \b\b/ \b\b- \b\b\\ \b\b| \b\b/ \b\b- \b\b\\ \b\b| \b\b/ \b\b- \b\b\\ \b\b| \b\b/ \b\b- \b\b\\ \b\b| \b\b/ \b\b- \b\b\\ \b\b| \b\b/ \b\b- \b\b\\ \b\bdone\n",
            "\n",
            "\n",
            "==> WARNING: A newer version of conda exists. <==\n",
            "  current version: 4.5.4\n",
            "  latest version: 4.8.3\n",
            "\n",
            "Please update conda by running\n",
            "\n",
            "    $ conda update -n base conda\n",
            "\n",
            "\n",
            "\n",
            "## Package Plan ##\n",
            "\n",
            "  environment location: /usr/local\n",
            "\n",
            "  added / updated specs: \n",
            "    - igl\n",
            "\n",
            "\n",
            "The following packages will be downloaded:\n",
            "\n",
            "    package                    |            build\n",
            "    ---------------------------|-----------------\n",
            "    libcblas-3.8.0             |      17_openblas          11 KB  conda-forge\n",
            "    ncurses-6.2                |       he1b5a44_1         993 KB  conda-forge\n",
            "    zlib-1.2.11                |    h516909a_1006         105 KB  conda-forge\n",
            "    libgcc-ng-9.3.0            |      h24d8f2e_14         7.8 MB  conda-forge\n",
            "    ca-certificates-2020.6.20  |       hecda079_0         145 KB  conda-forge\n",
            "    setuptools-49.2.1          |   py38h32f6830_0         931 KB  conda-forge\n",
            "    wheel-0.34.2               |             py_1          24 KB  conda-forge\n",
            "    igl-2.2.0                  |   py38h2002a0f_0         9.4 MB  conda-forge\n",
            "    scipy-1.5.2                |   py38h8c5af15_0        18.8 MB  conda-forge\n",
            "    pip-20.2                   |             py_0         1.1 MB  conda-forge\n",
            "    ld_impl_linux-64-2.34      |       hc38a660_9         612 KB  conda-forge\n",
            "    liblapack-3.8.0            |      17_openblas          11 KB  conda-forge\n",
            "    libffi-3.2.1               |    he1b5a44_1007          47 KB  conda-forge\n",
            "    libgfortran-ng-7.5.0       |      hdf63c60_14         1.3 MB  conda-forge\n",
            "    sqlite-3.32.3              |       hcee41ef_1         1.4 MB  conda-forge\n",
            "    libstdcxx-ng-9.3.0         |      hdf63c60_14         4.0 MB  conda-forge\n",
            "    xz-5.2.5                   |       h516909a_1         343 KB  conda-forge\n",
            "    readline-8.0               |       he28a2e2_2         281 KB  conda-forge\n",
            "    certifi-2020.6.20          |   py38h32f6830_0         151 KB  conda-forge\n",
            "    _libgcc_mutex-0.1          |      conda_forge           3 KB  conda-forge\n",
            "    libgomp-9.3.0              |      h24d8f2e_14         374 KB  conda-forge\n",
            "    tk-8.6.10                  |       hed695b0_0         3.2 MB  conda-forge\n",
            "    libblas-3.8.0              |      17_openblas          11 KB  conda-forge\n",
            "    _openmp_mutex-4.5          |            1_gnu          22 KB  conda-forge\n",
            "    openssl-1.1.1g             |       h516909a_1         2.1 MB  conda-forge\n",
            "    python_abi-3.8             |           1_cp38           4 KB  conda-forge\n",
            "    numpy-1.19.1               |   py38h8854b6b_0         5.3 MB  conda-forge\n",
            "    python-3.8.5               |h4d41432_2_cpython        71.0 MB  conda-forge\n",
            "    libopenblas-0.3.10         |pthreads_hb3c22a3_4         7.8 MB  conda-forge\n",
            "    ------------------------------------------------------------\n",
            "                                           Total:       137.1 MB\n",
            "\n",
            "The following NEW packages will be INSTALLED:\n",
            "\n",
            "    _libgcc_mutex:    0.1-conda_forge            conda-forge\n",
            "    _openmp_mutex:    4.5-1_gnu                  conda-forge\n",
            "    igl:              2.2.0-py38h2002a0f_0       conda-forge\n",
            "    ld_impl_linux-64: 2.34-hc38a660_9            conda-forge\n",
            "    libblas:          3.8.0-17_openblas          conda-forge\n",
            "    libcblas:         3.8.0-17_openblas          conda-forge\n",
            "    libgfortran-ng:   7.5.0-hdf63c60_14          conda-forge\n",
            "    libgomp:          9.3.0-h24d8f2e_14          conda-forge\n",
            "    liblapack:        3.8.0-17_openblas          conda-forge\n",
            "    libopenblas:      0.3.10-pthreads_hb3c22a3_4 conda-forge\n",
            "    numpy:            1.19.1-py38h8854b6b_0      conda-forge\n",
            "    python_abi:       3.8-1_cp38                 conda-forge\n",
            "    scipy:            1.5.2-py38h8c5af15_0       conda-forge\n",
            "\n",
            "The following packages will be UPDATED:\n",
            "\n",
            "    ca-certificates:  2018.03.07-0                           --> 2020.6.20-hecda079_0     conda-forge\n",
            "    certifi:          2018.4.16-py36_0                       --> 2020.6.20-py38h32f6830_0 conda-forge\n",
            "    libffi:           3.2.1-hd88cf55_4                       --> 3.2.1-he1b5a44_1007      conda-forge\n",
            "    libgcc-ng:        7.2.0-hdf63c60_3                       --> 9.3.0-h24d8f2e_14        conda-forge\n",
            "    libstdcxx-ng:     7.2.0-hdf63c60_3                       --> 9.3.0-hdf63c60_14        conda-forge\n",
            "    ncurses:          6.1-hf484d3e_0                         --> 6.2-he1b5a44_1           conda-forge\n",
            "    openssl:          1.0.2o-h20670df_0                      --> 1.1.1g-h516909a_1        conda-forge\n",
            "    pip:              10.0.1-py36_0                          --> 20.2-py_0                conda-forge\n",
            "    python:           3.6.5-hc3d631a_2                       --> 3.8.5-h4d41432_2_cpython conda-forge\n",
            "    readline:         7.0-ha6073c6_4                         --> 8.0-he28a2e2_2           conda-forge\n",
            "    setuptools:       39.2.0-py36_0                          --> 49.2.1-py38h32f6830_0    conda-forge\n",
            "    sqlite:           3.23.1-he433501_0                      --> 3.32.3-hcee41ef_1        conda-forge\n",
            "    tk:               8.6.7-hc745277_3                       --> 8.6.10-hed695b0_0        conda-forge\n",
            "    wheel:            0.31.1-py36_0                          --> 0.34.2-py_1              conda-forge\n",
            "    xz:               5.2.4-h14c3975_4                       --> 5.2.5-h516909a_1         conda-forge\n",
            "    zlib:             1.2.11-ha838bed_2                      --> 1.2.11-h516909a_1006     conda-forge\n",
            "\n",
            "Proceed ([y]/n)? y\n",
            "\n",
            "\n",
            "Downloading and Extracting Packages\n",
            "libcblas-3.8.0       |   11 KB | : 100% 1.0/1 [00:00<00:00, 23.13it/s]\n",
            "ncurses-6.2          |  993 KB | : 100% 1.0/1 [00:00<00:00,  1.31it/s]               \n",
            "zlib-1.2.11          |  105 KB | : 100% 1.0/1 [00:00<00:00, 18.80it/s]\n",
            "libgcc-ng-9.3.0      |  7.8 MB | : 100% 1.0/1 [00:01<00:00,  1.19s/it]               \n",
            "ca-certificates-2020 |  145 KB | : 100% 1.0/1 [00:00<00:00, 23.53it/s]\n",
            "setuptools-49.2.1    |  931 KB | : 100% 1.0/1 [00:00<00:00,  3.20it/s]              \n",
            "wheel-0.34.2         |   24 KB | : 100% 1.0/1 [00:00<00:00, 28.33it/s]\n",
            "igl-2.2.0            |  9.4 MB | : 100% 1.0/1 [00:02<00:00,  2.94s/it]               \n",
            "scipy-1.5.2          | 18.8 MB | : 100% 1.0/1 [00:03<00:00,  3.47s/it]               \n",
            "pip-20.2             |  1.1 MB | : 100% 1.0/1 [00:00<00:00,  2.93it/s]               \n",
            "ld_impl_linux-64-2.3 |  612 KB | : 100% 1.0/1 [00:00<00:00,  6.91it/s]               \n",
            "liblapack-3.8.0      |   11 KB | : 100% 1.0/1 [00:00<00:00, 33.30it/s]\n",
            "libffi-3.2.1         |   47 KB | : 100% 1.0/1 [00:00<00:00, 28.58it/s]\n",
            "libgfortran-ng-7.5.0 |  1.3 MB | : 100% 1.0/1 [00:00<00:00,  4.08it/s]              \n",
            "sqlite-3.32.3        |  1.4 MB | : 100% 1.0/1 [00:00<00:00,  4.54it/s]               \n",
            "libstdcxx-ng-9.3.0   |  4.0 MB | : 100% 1.0/1 [00:00<00:00,  1.55it/s]               \n",
            "xz-5.2.5             |  343 KB | : 100% 1.0/1 [00:00<00:00,  8.48it/s]               \n",
            "readline-8.0         |  281 KB | : 100% 1.0/1 [00:00<00:00, 11.24it/s]\n",
            "certifi-2020.6.20    |  151 KB | : 100% 1.0/1 [00:00<00:00, 16.97it/s]\n",
            "_libgcc_mutex-0.1    |    3 KB | : 100% 1.0/1 [00:00<00:00, 39.27it/s]\n",
            "libgomp-9.3.0        |  374 KB | : 100% 1.0/1 [00:00<00:00,  9.82it/s]\n",
            "tk-8.6.10            |  3.2 MB | : 100% 1.0/1 [00:00<00:00,  1.50it/s]               \n",
            "libblas-3.8.0        |   11 KB | : 100% 1.0/1 [00:00<00:00, 25.23it/s]\n",
            "_openmp_mutex-4.5    |   22 KB | : 100% 1.0/1 [00:00<00:00, 24.80it/s]\n",
            "openssl-1.1.1g       |  2.1 MB | : 100% 1.0/1 [00:00<00:00,  2.51it/s]               \n",
            "python_abi-3.8       |    4 KB | : 100% 1.0/1 [00:00<00:00, 37.60it/s]\n",
            "numpy-1.19.1         |  5.3 MB | : 100% 1.0/1 [00:01<00:00,  1.26s/it]               \n",
            "python-3.8.5         | 71.0 MB | : 100% 1.0/1 [00:09<00:00,  9.12s/it]               \n",
            "libopenblas-0.3.10   |  7.8 MB | : 100% 1.0/1 [00:01<00:00,  1.39s/it]               \n",
            "Preparing transaction: / \b\b- \b\b\\ \b\b| \b\bdone\n",
            "Verifying transaction: - \b\b\\ \b\b| \b\b/ \b\b- \b\b\\ \b\b| \b\b/ \b\b- \b\b\\ \b\b| \b\b/ \b\b- \b\b\\ \b\b| \b\b/ \b\b- \b\b\\ \b\b| \b\b/ \b\b- \b\b\\ \b\b| \b\b/ \b\b- \b\b\\ \b\b| \b\b/ \b\b- \b\b\\ \b\b| \b\b/ \b\b- \b\b\\ \b\bdone\n",
            "Executing transaction: / \b\b- \b\b\\ \b\b| \b\b/ \b\b- \b\b\\ \b\b| \b\b/ \b\b- \b\b\\ \b\b| \b\b/ \b\b- \b\b\\ \b\b| \b\b/ \b\b- \b\b\\ \b\b| \b\b/ \b\b- \b\b\\ \b\b| \b\b/ \b\b- \b\b\\ \b\b| \b\b/ \b\b- \b\b\\ \b\b| \b\b/ \b\b- \b\b\\ \b\b| \b\b/ \b\b- \b\b\\ \b\b| \b\b/ \b\b- \b\b\\ \b\b| \b\b/ \b\b- \b\b\\ \b\b| \b\b/ \b\b- \b\b\\ \b\b| \b\b/ \b\b- \b\b\\ \b\b| \b\b/ \b\b- \b\b\\ \b\b| \b\b/ \b\b- \b\b\\ \b\b| \b\b/ \b\b- \b\b\\ \b\b| \b\b/ \b\b- \b\b\\ \b\b| \b\b/ \b\b- \b\b\\ \b\b| \b\b/ \b\b- \b\b\\ \b\b| \b\b/ \b\b- \b\b\\ \b\b| \b\b/ \b\b- \b\b\\ \b\b| \b\b/ \b\b- \b\b\\ \b\b| \b\b/ \b\b- \b\b\\ \b\b| \b\b/ \b\b- \b\b\\ \b\b| \b\b/ \b\b- \b\b\\ \b\b| \b\b/ \b\b- \b\b\\ \b\b| \b\b/ \b\b- \b\b\\ \b\b| \b\b/ \b\b- \b\b\\ \b\b| \b\b/ \b\b- \b\b\\ \b\b| \b\b/ \b\b- \b\b\\ \b\b| \b\b/ \b\b- \b\b\\ \b\b| \b\b/ \b\b- \b\b\\ \b\b| \b\b/ \b\b- \b\b\\ \b\b| \b\b/ \b\b- \b\b\\ \b\b| \b\b/ \b\b- \b\b\\ \b\b| \b\b/ \b\b- \b\b\\ \b\b| \b\b/ \b\b- \b\b\\ \b\b| \b\b/ \b\b- \b\b\\ \b\b| \b\b/ \b\b- \b\b\\ \b\b| \b\b/ \b\b- \b\b\\ \b\b| \b\b/ \b\b- \b\b\\ \b\b| \b\b/ \b\b- \b\b\\ \b\b| \b\b/ \b\b- \b\b\\ \b\b| \b\b/ \b\b- \b\b\\ \b\b| \b\b/ \b\b- \b\b\\ \b\b| \b\b/ \b\b- \b\b\\ \b\b| \b\b/ \b\b- \b\b\\ \b\b| \b\bdone\n"
          ],
          "name": "stdout"
        }
      ]
    },
    {
      "cell_type": "code",
      "metadata": {
        "id": "tu3MDJxT7UGt",
        "colab_type": "code",
        "colab": {
          "base_uri": "https://localhost:8080/",
          "height": 158
        },
        "outputId": "951c4acb-d460-49a0-8c66-403eadf5e0cf"
      },
      "source": [
        "%cd '/content'\n",
        "!git clone https://github.com/MPI-IS/mesh.git MESH"
      ],
      "execution_count": 2,
      "outputs": [
        {
          "output_type": "stream",
          "text": [
            "/content\n",
            "Cloning into 'MESH'...\n",
            "remote: Enumerating objects: 92, done.\u001b[K\n",
            "remote: Counting objects: 100% (92/92), done.\u001b[K\n",
            "remote: Compressing objects: 100% (61/61), done.\u001b[K\n",
            "remote: Total 307 (delta 47), reused 57 (delta 30), pack-reused 215\u001b[K\n",
            "Receiving objects: 100% (307/307), 19.72 MiB | 7.84 MiB/s, done.\n",
            "Resolving deltas: 100% (140/140), done.\n"
          ],
          "name": "stdout"
        }
      ]
    },
    {
      "cell_type": "code",
      "metadata": {
        "id": "zsLAAKfXdo1o",
        "colab_type": "code",
        "colab": {
          "base_uri": "https://localhost:8080/",
          "height": 1000
        },
        "outputId": "be6cae37-af85-4aff-a5cc-1f8ab828671b"
      },
      "source": [
        "%cd /content/MESH\n",
        "!pip install pyrender\n",
        "!make all"
      ],
      "execution_count": 3,
      "outputs": [
        {
          "output_type": "stream",
          "text": [
            "/content/MESH\n",
            "Collecting pyrender\n",
            "  Downloading pyrender-0.1.43-py3-none-any.whl (1.2 MB)\n",
            "\u001b[K     |████████████████████████████████| 1.2 MB 2.8 MB/s \n",
            "\u001b[?25hCollecting pyglet>=1.4.10\n",
            "  Downloading pyglet-1.5.7-py3-none-any.whl (1.1 MB)\n",
            "\u001b[K     |████████████████████████████████| 1.1 MB 17.2 MB/s \n",
            "\u001b[?25hCollecting freetype-py\n",
            "  Downloading freetype_py-2.2.0-py3-none-manylinux1_x86_64.whl (890 kB)\n",
            "\u001b[K     |████████████████████████████████| 890 kB 10.5 MB/s \n",
            "\u001b[?25hCollecting networkx\n",
            "  Downloading networkx-2.4-py3-none-any.whl (1.6 MB)\n",
            "\u001b[K     |████████████████████████████████| 1.6 MB 29.0 MB/s \n",
            "\u001b[?25hCollecting PyOpenGL==3.1.0\n",
            "  Downloading PyOpenGL-3.1.0.tar.gz (1.2 MB)\n",
            "\u001b[K     |████████████████████████████████| 1.2 MB 43.3 MB/s \n",
            "\u001b[?25hRequirement already satisfied: scipy in /usr/local/lib/python3.8/site-packages (from pyrender) (1.5.2)\n",
            "Collecting six\n",
            "  Downloading six-1.15.0-py2.py3-none-any.whl (10 kB)\n",
            "Requirement already satisfied: numpy in /usr/local/lib/python3.8/site-packages (from pyrender) (1.19.1)\n",
            "Collecting trimesh\n",
            "  Downloading trimesh-3.7.14-py3-none-any.whl (619 kB)\n",
            "\u001b[K     |████████████████████████████████| 619 kB 23.9 MB/s \n",
            "\u001b[?25hCollecting Pillow\n",
            "  Downloading Pillow-7.2.0-cp38-cp38-manylinux1_x86_64.whl (2.2 MB)\n",
            "\u001b[K     |████████████████████████████████| 2.2 MB 50.4 MB/s \n",
            "\u001b[?25hCollecting imageio\n",
            "  Downloading imageio-2.9.0-py3-none-any.whl (3.3 MB)\n",
            "\u001b[K     |████████████████████████████████| 3.3 MB 80.4 MB/s \n",
            "\u001b[?25hCollecting decorator>=4.3.0\n",
            "  Downloading decorator-4.4.2-py2.py3-none-any.whl (9.2 kB)\n",
            "Requirement already satisfied: setuptools in /usr/local/lib/python3.8/site-packages (from trimesh->pyrender) (49.2.1.post20200802)\n",
            "Building wheels for collected packages: PyOpenGL\n",
            "  Building wheel for PyOpenGL (setup.py) ... \u001b[?25l\u001b[?25hdone\n",
            "  Created wheel for PyOpenGL: filename=PyOpenGL-3.1.0-py3-none-any.whl size=1745210 sha256=825cd585f685986aa76b957595aa1cb3eb71d3b529c34c7079eb5789ad4f9964\n",
            "  Stored in directory: /root/.cache/pip/wheels/31/ab/09/6df62d2a93f81ff0d5c2fb94723d1c56fb0202b65e638b9029\n",
            "Successfully built PyOpenGL\n",
            "Installing collected packages: pyglet, freetype-py, decorator, networkx, PyOpenGL, six, trimesh, Pillow, imageio, pyrender\n",
            "Successfully installed Pillow-7.2.0 PyOpenGL-3.1.0 decorator-4.4.2 freetype-py-2.2.0 imageio-2.9.0 networkx-2.4 pyglet-1.5.7 pyrender-0.1.43 six-1.15.0 trimesh-3.7.14\n"
          ],
          "name": "stdout"
        },
        {
          "output_type": "display_data",
          "data": {
            "application/vnd.colab-display-data+json": {
              "pip_warning": {
                "packages": [
                  "decorator",
                  "six"
                ]
              }
            }
          },
          "metadata": {
            "tags": []
          }
        },
        {
          "output_type": "stream",
          "text": [
            "\u001b[0;36m----- [ mesh_package ] Installing with the interpreter /usr/local/bin/python (version 3.8.5)\u001b[0m\n",
            "Requirement already up-to-date: setuptools in /usr/local/lib/python3.8/site-packages (from -r requirements.txt (line 1)) (49.2.1.post20200802)\n",
            "Requirement already up-to-date: numpy in /usr/local/lib/python3.8/site-packages (from -r requirements.txt (line 2)) (1.19.1)\n",
            "Collecting matplotlib\n",
            "  Downloading matplotlib-3.3.0-1-cp38-cp38-manylinux1_x86_64.whl (11.5 MB)\n",
            "\u001b[K     |████████████████████████████████| 11.5 MB 132 kB/s \n",
            "\u001b[?25hRequirement already up-to-date: scipy in /usr/local/lib/python3.8/site-packages (from -r requirements.txt (line 4)) (1.5.2)\n",
            "Collecting pyopengl\n",
            "  Downloading PyOpenGL-3.1.5-py3-none-any.whl (2.4 MB)\n",
            "\u001b[K     |████████████████████████████████| 2.4 MB 41.5 MB/s \n",
            "\u001b[?25hRequirement already up-to-date: pillow in /usr/local/lib/python3.8/site-packages (from -r requirements.txt (line 6)) (7.2.0)\n",
            "Collecting pyzmq\n",
            "  Downloading pyzmq-19.0.2-cp38-cp38-manylinux1_x86_64.whl (1.1 MB)\n",
            "\u001b[K     |████████████████████████████████| 1.1 MB 71.3 MB/s \n",
            "\u001b[?25hCollecting pyyaml\n",
            "  Downloading PyYAML-5.3.1.tar.gz (269 kB)\n",
            "\u001b[K     |████████████████████████████████| 269 kB 69.7 MB/s \n",
            "\u001b[?25hCollecting opencv-python\n",
            "  Downloading opencv_python-4.3.0.36-cp38-cp38-manylinux2014_x86_64.whl (43.7 MB)\n",
            "\u001b[K     |████████████████████████████████| 43.7 MB 23 kB/s \n",
            "\u001b[?25hCollecting python-dateutil>=2.1\n",
            "  Downloading python_dateutil-2.8.1-py2.py3-none-any.whl (227 kB)\n",
            "\u001b[K     |████████████████████████████████| 227 kB 79.8 MB/s \n",
            "\u001b[?25hCollecting kiwisolver>=1.0.1\n",
            "  Downloading kiwisolver-1.2.0-cp38-cp38-manylinux1_x86_64.whl (92 kB)\n",
            "\u001b[K     |████████████████████████████████| 92 kB 93 kB/s \n",
            "\u001b[?25hCollecting pyparsing!=2.0.4,!=2.1.2,!=2.1.6,>=2.0.3\n",
            "  Downloading pyparsing-2.4.7-py2.py3-none-any.whl (67 kB)\n",
            "\u001b[K     |████████████████████████████████| 67 kB 6.6 MB/s \n",
            "\u001b[?25hCollecting cycler>=0.10\n",
            "  Downloading cycler-0.10.0-py2.py3-none-any.whl (6.5 kB)\n",
            "Requirement already satisfied, skipping upgrade: six>=1.5 in /usr/local/lib/python3.8/site-packages (from python-dateutil>=2.1->matplotlib->-r requirements.txt (line 3)) (1.15.0)\n",
            "Building wheels for collected packages: pyyaml\n",
            "  Building wheel for pyyaml (setup.py) ... \u001b[?25l\u001b[?25hdone\n",
            "  Created wheel for pyyaml: filename=PyYAML-5.3.1-cp38-cp38-linux_x86_64.whl size=464542 sha256=25bf105444be6aa444773dfee79499b079d436794aef9175e6c694eb118c3045\n",
            "  Stored in directory: /root/.cache/pip/wheels/13/90/db/290ab3a34f2ef0b5a0f89235dc2d40fea83e77de84ed2dc05c\n",
            "Successfully built pyyaml\n",
            "Installing collected packages: python-dateutil, kiwisolver, pyparsing, cycler, matplotlib, pyopengl, pyzmq, pyyaml, opencv-python\n",
            "  Attempting uninstall: pyopengl\n",
            "    Found existing installation: PyOpenGL 3.1.0\n",
            "    Uninstalling PyOpenGL-3.1.0:\n",
            "      Successfully uninstalled PyOpenGL-3.1.0\n",
            "\u001b[31mERROR: After October 2020 you may experience errors when installing or updating packages. This is because pip will change the way that it resolves dependency conflicts.\n",
            "\n",
            "We recommend you use --use-feature=2020-resolver to test your packages with the new resolver before it becomes the default.\n",
            "\n",
            "pyrender 0.1.43 requires PyOpenGL==3.1.0, but you'll have pyopengl 3.1.5 which is incompatible.\u001b[0m\n",
            "Successfully installed cycler-0.10.0 kiwisolver-1.2.0 matplotlib-3.3.0 opencv-python-4.3.0.36 pyopengl-3.1.5 pyparsing-2.4.7 python-dateutil-2.8.1 pyyaml-5.3.1 pyzmq-19.0.2\n",
            "Package         Version\n",
            "--------------- -------------------\n",
            "certifi         2020.6.20\n",
            "cycler          0.10.0\n",
            "decorator       4.4.2\n",
            "freetype-py     2.2.0\n",
            "igl             2.2.0\n",
            "imageio         2.9.0\n",
            "kiwisolver      1.2.0\n",
            "matplotlib      3.3.0\n",
            "networkx        2.4\n",
            "numpy           1.19.1\n",
            "opencv-python   4.3.0.36\n",
            "Pillow          7.2.0\n",
            "pip             20.2\n",
            "pyglet          1.5.7\n",
            "PyOpenGL        3.1.5\n",
            "pyparsing       2.4.7\n",
            "pyrender        0.1.43\n",
            "python-dateutil 2.8.1\n",
            "PyYAML          5.3.1\n",
            "pyzmq           19.0.2\n",
            "scipy           1.5.2\n",
            "setuptools      49.2.1.post20200802\n",
            "six             1.15.0\n",
            "trimesh         3.7.14\n",
            "wheel           0.34.2\n",
            "/usr/local/lib/python3.8/site-packages/pip/_internal/commands/install.py:236: UserWarning: Disabling all use of wheels due to the use of --build-option / --global-option / --install-option.\n",
            "  cmdoptions.check_install_build_global(options)\n",
            "Using pip 20.2 from /usr/local/lib/python3.8/site-packages/pip (python 3.8)\n",
            "Non-user install because site-packages writeable\n",
            "Created temporary directory: /tmp/pip-ephem-wheel-cache-we4ml044\n",
            "Created temporary directory: /tmp/pip-req-tracker-ajt2x5sq\n",
            "Initialized build tracking at /tmp/pip-req-tracker-ajt2x5sq\n",
            "Created build tracker: /tmp/pip-req-tracker-ajt2x5sq\n",
            "Entered build tracker: /tmp/pip-req-tracker-ajt2x5sq\n",
            "Created temporary directory: /tmp/pip-install-jjojrx7h\n",
            "Processing /content/MESH\n",
            "  Created temporary directory: /tmp/pip-req-build-v_9otfmf\n",
            "  Added file:///content/MESH to build tracker '/tmp/pip-req-tracker-ajt2x5sq'\n",
            "    Running setup.py (path:/tmp/pip-req-build-v_9otfmf/setup.py) egg_info for package from file:///content/MESH\n",
            "    Created temporary directory: /tmp/pip-pip-egg-info-mlksl3zm\n",
            "    Running command python setup.py egg_info\n",
            "    [VERSION] read version is 0.4\n",
            "    running egg_info\n",
            "    creating /tmp/pip-pip-egg-info-mlksl3zm/psbody_mesh.egg-info\n",
            "    writing /tmp/pip-pip-egg-info-mlksl3zm/psbody_mesh.egg-info/PKG-INFO\n",
            "    writing dependency_links to /tmp/pip-pip-egg-info-mlksl3zm/psbody_mesh.egg-info/dependency_links.txt\n",
            "    writing namespace_packages to /tmp/pip-pip-egg-info-mlksl3zm/psbody_mesh.egg-info/namespace_packages.txt\n",
            "    writing requirements to /tmp/pip-pip-egg-info-mlksl3zm/psbody_mesh.egg-info/requires.txt\n",
            "    writing top-level names to /tmp/pip-pip-egg-info-mlksl3zm/psbody_mesh.egg-info/top_level.txt\n",
            "    writing manifest file '/tmp/pip-pip-egg-info-mlksl3zm/psbody_mesh.egg-info/SOURCES.txt'\n",
            "    reading manifest file '/tmp/pip-pip-egg-info-mlksl3zm/psbody_mesh.egg-info/SOURCES.txt'\n",
            "    reading manifest template 'MANIFEST.in'\n",
            "    writing manifest file '/tmp/pip-pip-egg-info-mlksl3zm/psbody_mesh.egg-info/SOURCES.txt'\n",
            "  Source in /tmp/pip-req-build-v_9otfmf has version 0.4, which satisfies requirement psbody-mesh==0.4 from file:///content/MESH\n",
            "  Removed psbody-mesh==0.4 from file:///content/MESH from build tracker '/tmp/pip-req-tracker-ajt2x5sq'\n",
            "Skipping wheel build for psbody-mesh, due to binaries being disabled for it.\n",
            "Installing collected packages: psbody-mesh\n",
            "  Created temporary directory: /tmp/pip-record-kx66vxv9\n",
            "    Running command /usr/local/bin/python3.8 -u -c 'import sys, setuptools, tokenize; sys.argv[0] = '\"'\"'/tmp/pip-req-build-v_9otfmf/setup.py'\"'\"'; __file__='\"'\"'/tmp/pip-req-build-v_9otfmf/setup.py'\"'\"';f=getattr(tokenize, '\"'\"'open'\"'\"', open)(__file__);code=f.read().replace('\"'\"'\\r\\n'\"'\"', '\"'\"'\\n'\"'\"');f.close();exec(compile(code, __file__, '\"'\"'exec'\"'\"'))' install --record /tmp/pip-record-kx66vxv9/install-record.txt --single-version-externally-managed --compile --install-headers /usr/local/include/python3.8/psbody-mesh --boost-location=\n",
            "    [VERSION] read version is 0.4\n",
            "    running install\n",
            "    running build\n",
            "    running build_py\n",
            "    creating build\n",
            "    creating build/lib.linux-x86_64-3.8\n",
            "    creating build/lib.linux-x86_64-3.8/psbody\n",
            "    copying psbody-mesh-namespace/__init__.py -> build/lib.linux-x86_64-3.8/psbody\n",
            "    creating build/lib.linux-x86_64-3.8/psbody/mesh\n",
            "    copying mesh/arcball.py -> build/lib.linux-x86_64-3.8/psbody/mesh\n",
            "    copying mesh/search.py -> build/lib.linux-x86_64-3.8/psbody/mesh\n",
            "    copying mesh/utils.py -> build/lib.linux-x86_64-3.8/psbody/mesh\n",
            "    copying mesh/fonts.py -> build/lib.linux-x86_64-3.8/psbody/mesh\n",
            "    copying mesh/errors.py -> build/lib.linux-x86_64-3.8/psbody/mesh\n",
            "    copying mesh/mesh.py -> build/lib.linux-x86_64-3.8/psbody/mesh\n",
            "    copying mesh/colors.py -> build/lib.linux-x86_64-3.8/psbody/mesh\n",
            "    copying mesh/meshviewer.py -> build/lib.linux-x86_64-3.8/psbody/mesh\n",
            "    copying mesh/texture.py -> build/lib.linux-x86_64-3.8/psbody/mesh\n",
            "    copying mesh/__init__.py -> build/lib.linux-x86_64-3.8/psbody/mesh\n",
            "    copying mesh/sphere.py -> build/lib.linux-x86_64-3.8/psbody/mesh\n",
            "    copying mesh/version.py -> build/lib.linux-x86_64-3.8/psbody/mesh\n",
            "    copying mesh/processing.py -> build/lib.linux-x86_64-3.8/psbody/mesh\n",
            "    copying mesh/lines.py -> build/lib.linux-x86_64-3.8/psbody/mesh\n",
            "    copying mesh/landmarks.py -> build/lib.linux-x86_64-3.8/psbody/mesh\n",
            "    creating build/lib.linux-x86_64-3.8/psbody/mesh/topology\n",
            "    copying mesh/topology/subdivision.py -> build/lib.linux-x86_64-3.8/psbody/mesh/topology\n",
            "    copying mesh/topology/connectivity.py -> build/lib.linux-x86_64-3.8/psbody/mesh/topology\n",
            "    copying mesh/topology/linear_mesh_transform.py -> build/lib.linux-x86_64-3.8/psbody/mesh/topology\n",
            "    copying mesh/topology/__init__.py -> build/lib.linux-x86_64-3.8/psbody/mesh/topology\n",
            "    copying mesh/topology/decimation.py -> build/lib.linux-x86_64-3.8/psbody/mesh/topology\n",
            "    creating build/lib.linux-x86_64-3.8/psbody/mesh/geometry\n",
            "    copying mesh/geometry/barycentric_coordinates_of_projection.py -> build/lib.linux-x86_64-3.8/psbody/mesh/geometry\n",
            "    copying mesh/geometry/__init__.py -> build/lib.linux-x86_64-3.8/psbody/mesh/geometry\n",
            "    copying mesh/geometry/rodrigues.py -> build/lib.linux-x86_64-3.8/psbody/mesh/geometry\n",
            "    copying mesh/geometry/tri_normals.py -> build/lib.linux-x86_64-3.8/psbody/mesh/geometry\n",
            "    copying mesh/geometry/vert_normals.py -> build/lib.linux-x86_64-3.8/psbody/mesh/geometry\n",
            "    copying mesh/geometry/cross_product.py -> build/lib.linux-x86_64-3.8/psbody/mesh/geometry\n",
            "    copying mesh/geometry/triangle_area.py -> build/lib.linux-x86_64-3.8/psbody/mesh/geometry\n",
            "    creating build/lib.linux-x86_64-3.8/psbody/mesh/serialization\n",
            "    copying mesh/serialization/__init__.py -> build/lib.linux-x86_64-3.8/psbody/mesh/serialization\n",
            "    copying mesh/serialization/serialization.py -> build/lib.linux-x86_64-3.8/psbody/mesh/serialization\n",
            "    running build_ext\n",
            "    [CGAL] deflating cgal from \"mesh/thirdparty/CGAL-4.7.tar.gz\" to \"/tmp/pip-req-build-v_9otfmf/build/temp.linux-x86_64-3.8\"\n",
            "    building 'psbody.mesh.aabb_normals' extension\n",
            "    creating build/temp.linux-x86_64-3.8/mesh\n",
            "    creating build/temp.linux-x86_64-3.8/mesh/src\n",
            "    gcc -pthread -B /usr/local/compiler_compat -Wl,--sysroot=/ -Wsign-compare -DNDEBUG -g -fwrapv -O3 -Wall -Wstrict-prototypes -fPIC -DNDEBUG=1 -DCGAL_NDEBUG=1 -DMESH_CGAL_AVOID_COMPILED_VERSION=1 -DCGAL_HAS_NO_THREADS=1 -DCGAL_NO_AUTOLINK_CGAL=1 -Imesh/src -I/usr/local/lib/python3.8/site-packages/numpy/core/include -I/tmp/pip-req-build-v_9otfmf/build/temp.linux-x86_64-3.8/CGAL-4.7/include -I/usr/local/include/python3.8 -c mesh/src/aabb_normals.cpp -o build/temp.linux-x86_64-3.8/mesh/src/aabb_normals.o -O3 -fopenmp\n",
            "    cc1plus: warning: command line option ‘-Wstrict-prototypes’ is valid for C/ObjC but not for C++\n",
            "    In file included from /usr/local/lib/python3.8/site-packages/numpy/core/include/numpy/ndarraytypes.h:1822:0,\n",
            "                     from /usr/local/lib/python3.8/site-packages/numpy/core/include/numpy/ndarrayobject.h:12,\n",
            "                     from /usr/local/lib/python3.8/site-packages/numpy/core/include/numpy/arrayobject.h:4,\n",
            "                     from mesh/src/aabb_normals.cpp:4:\n",
            "    /usr/local/lib/python3.8/site-packages/numpy/core/include/numpy/npy_1_7_deprecated_api.h:17:2: warning: #warning \"Using deprecated NumPy API, disable it with \" \"#define NPY_NO_DEPRECATED_API NPY_1_7_API_VERSION\" [-Wcpp]\n",
            "     #warning \"Using deprecated NumPy API, disable it with \" \\\n",
            "      ^~~~~~~\n",
            "    mesh/src/aabb_normals.cpp: In function ‘PyObject* aabbtree_normals_nearest(PyObject*, PyObject*)’:\n",
            "    mesh/src/aabb_normals.cpp:150:36: warning: narrowing conversion of ‘S’ from ‘size_t {aka long unsigned int}’ to ‘npy_intp {aka long int}’ inside { } [-Wnarrowing]\n",
            "         npy_intp result1_dims[] = {1, S};\n",
            "                                        ^\n",
            "    mesh/src/aabb_normals.cpp:157:40: warning: narrowing conversion of ‘S’ from ‘size_t {aka long unsigned int}’ to ‘npy_intp {aka long int}’ inside { } [-Wnarrowing]\n",
            "             npy_intp result2_dims[] = {S, 3};\n",
            "                                            ^\n",
            "    g++ -pthread -shared -B /usr/local/compiler_compat -L/usr/local/lib -Wl,-rpath=/usr/local/lib -Wl,--no-as-needed -Wl,--sysroot=/ build/temp.linux-x86_64-3.8/mesh/src/aabb_normals.o -o build/lib.linux-x86_64-3.8/psbody/mesh/aabb_normals.cpython-38-x86_64-linux-gnu.so -O3 -fopenmp\n",
            "    building 'psbody.mesh.spatialsearch' extension\n",
            "    gcc -pthread -B /usr/local/compiler_compat -Wl,--sysroot=/ -Wsign-compare -DNDEBUG -g -fwrapv -O3 -Wall -Wstrict-prototypes -fPIC -DNDEBUG=1 -DCGAL_NDEBUG=1 -DMESH_CGAL_AVOID_COMPILED_VERSION=1 -DCGAL_HAS_NO_THREADS=1 -DCGAL_NO_AUTOLINK_CGAL=1 -Imesh/src -I/usr/local/lib/python3.8/site-packages/numpy/core/include -I/tmp/pip-req-build-v_9otfmf/build/temp.linux-x86_64-3.8/CGAL-4.7/include -I/usr/local/include/python3.8 -c mesh/src/spatialsearchmodule.cpp -o build/temp.linux-x86_64-3.8/mesh/src/spatialsearchmodule.o -O3 -fopenmp\n",
            "    cc1plus: warning: command line option ‘-Wstrict-prototypes’ is valid for C/ObjC but not for C++\n",
            "    In file included from /usr/local/lib/python3.8/site-packages/numpy/core/include/numpy/ndarraytypes.h:1822:0,\n",
            "                     from /usr/local/lib/python3.8/site-packages/numpy/core/include/numpy/ndarrayobject.h:12,\n",
            "                     from /usr/local/lib/python3.8/site-packages/numpy/core/include/numpy/arrayobject.h:4,\n",
            "                     from mesh/src/spatialsearchmodule.cpp:4:\n",
            "    /usr/local/lib/python3.8/site-packages/numpy/core/include/numpy/npy_1_7_deprecated_api.h:17:2: warning: #warning \"Using deprecated NumPy API, disable it with \" \"#define NPY_NO_DEPRECATED_API NPY_1_7_API_VERSION\" [-Wcpp]\n",
            "     #warning \"Using deprecated NumPy API, disable it with \" \\\n",
            "      ^~~~~~~\n",
            "    mesh/src/spatialsearchmodule.cpp: In function ‘PyObject* spatialsearch_aabbtree_nearest(PyObject*, PyObject*)’:\n",
            "    mesh/src/spatialsearchmodule.cpp:190:36: warning: narrowing conversion of ‘S’ from ‘size_t {aka long unsigned int}’ to ‘npy_intp {aka long int}’ inside { } [-Wnarrowing]\n",
            "         npy_intp result1_dims[] = {1, S};\n",
            "                                        ^\n",
            "    mesh/src/spatialsearchmodule.cpp:198:36: warning: narrowing conversion of ‘S’ from ‘size_t {aka long unsigned int}’ to ‘npy_intp {aka long int}’ inside { } [-Wnarrowing]\n",
            "         npy_intp result3_dims[] = {S, 3};\n",
            "                                        ^\n",
            "    mesh/src/spatialsearchmodule.cpp: In function ‘PyObject* spatialsearch_aabbtree_nearest_alongnormal(PyObject*, PyObject*)’:\n",
            "    mesh/src/spatialsearchmodule.cpp:249:33: warning: narrowing conversion of ‘S’ from ‘size_t {aka long unsigned int}’ to ‘npy_intp {aka long int}’ inside { } [-Wnarrowing]\n",
            "         npy_intp result1_dims[] = {S};\n",
            "                                     ^\n",
            "    mesh/src/spatialsearchmodule.cpp:258:36: warning: narrowing conversion of ‘S’ from ‘size_t {aka long unsigned int}’ to ‘npy_intp {aka long int}’ inside { } [-Wnarrowing]\n",
            "         npy_intp result3_dims[] = {S, 3};\n",
            "                                        ^\n",
            "    mesh/src/spatialsearchmodule.cpp: In function ‘PyObject* spatialsearch_aabbtree_intersections_indices(PyObject*, PyObject*, PyObject*)’:\n",
            "    mesh/src/spatialsearchmodule.cpp:396:58: warning: narrowing conversion of ‘mesh_intersections.std::vector<unsigned int>::size()’ from ‘std::vector<unsigned int>::size_type {aka long unsigned int}’ to ‘npy_intp {aka long int}’ inside { } [-Wnarrowing]\n",
            "             npy_intp result_dims[] = {mesh_intersections.size()};\n",
            "                                       ~~~~~~~~~~~~~~~~~~~~~~~^~\n",
            "    mesh/src/spatialsearchmodule.cpp: At global scope:\n",
            "    mesh/src/spatialsearchmodule.cpp:316:19: warning: ‘PyObject* spatialsearch_aabbtree_intersections_indices(PyObject*, PyObject*, PyObject*)’ defined but not used [-Wunused-function]\n",
            "     static PyObject * spatialsearch_aabbtree_intersections_indices(PyObject *self, PyObject *args, PyObject *keywds) {\n",
            "                       ^~~~~~~~~~~~~~~~~~~~~~~~~~~~~~~~~~~~~~~~~~~~\n",
            "    g++ -pthread -shared -B /usr/local/compiler_compat -L/usr/local/lib -Wl,-rpath=/usr/local/lib -Wl,--no-as-needed -Wl,--sysroot=/ build/temp.linux-x86_64-3.8/mesh/src/spatialsearchmodule.o -o build/lib.linux-x86_64-3.8/psbody/mesh/spatialsearch.cpython-38-x86_64-linux-gnu.so -O3 -fopenmp\n",
            "    building 'psbody.mesh.visibility' extension\n",
            "    gcc -pthread -B /usr/local/compiler_compat -Wl,--sysroot=/ -Wsign-compare -DNDEBUG -g -fwrapv -O3 -Wall -Wstrict-prototypes -fPIC -DNDEBUG=1 -DCGAL_NDEBUG=1 -DMESH_CGAL_AVOID_COMPILED_VERSION=1 -DCGAL_HAS_NO_THREADS=1 -DCGAL_NO_AUTOLINK_CGAL=1 -Imesh/src -I/usr/local/lib/python3.8/site-packages/numpy/core/include -I/tmp/pip-req-build-v_9otfmf/build/temp.linux-x86_64-3.8/CGAL-4.7/include -I/usr/local/include/python3.8 -c mesh/src/py_visibility.cpp -o build/temp.linux-x86_64-3.8/mesh/src/py_visibility.o -O3 -fopenmp\n",
            "    cc1plus: warning: command line option ‘-Wstrict-prototypes’ is valid for C/ObjC but not for C++\n",
            "    In file included from /usr/local/lib/python3.8/site-packages/numpy/core/include/numpy/ndarraytypes.h:1822:0,\n",
            "                     from /usr/local/lib/python3.8/site-packages/numpy/core/include/numpy/ndarrayobject.h:12,\n",
            "                     from /usr/local/lib/python3.8/site-packages/numpy/core/include/numpy/arrayobject.h:4,\n",
            "                     from mesh/src/py_visibility.cpp:6:\n",
            "    /usr/local/lib/python3.8/site-packages/numpy/core/include/numpy/npy_1_7_deprecated_api.h:17:2: warning: #warning \"Using deprecated NumPy API, disable it with \" \"#define NPY_NO_DEPRECATED_API NPY_1_7_API_VERSION\" [-Wcpp]\n",
            "     #warning \"Using deprecated NumPy API, disable it with \" \\\n",
            "      ^~~~~~~\n",
            "    mesh/src/py_visibility.cpp: In function ‘PyObject* visibility_compute(PyObject*, PyObject*, PyObject*)’:\n",
            "    mesh/src/py_visibility.cpp:89:72: warning: ISO C++ forbids converting a string constant to ‘char*’ [-Wwrite-strings]\n",
            "                                      \"extra_v\", \"extra_f\", \"min_dist\", NULL};\n",
            "                                                                            ^\n",
            "    mesh/src/py_visibility.cpp:89:72: warning: ISO C++ forbids converting a string constant to ‘char*’ [-Wwrite-strings]\n",
            "    mesh/src/py_visibility.cpp:89:72: warning: ISO C++ forbids converting a string constant to ‘char*’ [-Wwrite-strings]\n",
            "    mesh/src/py_visibility.cpp:89:72: warning: ISO C++ forbids converting a string constant to ‘char*’ [-Wwrite-strings]\n",
            "    mesh/src/py_visibility.cpp:89:72: warning: ISO C++ forbids converting a string constant to ‘char*’ [-Wwrite-strings]\n",
            "    mesh/src/py_visibility.cpp:89:72: warning: ISO C++ forbids converting a string constant to ‘char*’ [-Wwrite-strings]\n",
            "    mesh/src/py_visibility.cpp:89:72: warning: ISO C++ forbids converting a string constant to ‘char*’ [-Wwrite-strings]\n",
            "    mesh/src/py_visibility.cpp:89:72: warning: ISO C++ forbids converting a string constant to ‘char*’ [-Wwrite-strings]\n",
            "    mesh/src/py_visibility.cpp:89:72: warning: ISO C++ forbids converting a string constant to ‘char*’ [-Wwrite-strings]\n",
            "    mesh/src/py_visibility.cpp:120:32: warning: comparison between signed and unsigned integer expressions [-Wsign-compare]\n",
            "                 for(size_t pp=0; pp<nv; ++pp){\n",
            "                                  ~~^~~\n",
            "    mesh/src/py_visibility.cpp:127:32: warning: comparison between signed and unsigned integer expressions [-Wsign-compare]\n",
            "                 for(size_t tt=0; tt<nf; ++tt) {\n",
            "                                  ~~^~~\n",
            "    mesh/src/py_visibility.cpp:141:36: warning: comparison between signed and unsigned integer expressions [-Wsign-compare]\n",
            "                     for(size_t pp=0; pp<nv_extra; ++pp){\n",
            "                                      ~~^~~~~~~~~\n",
            "    mesh/src/py_visibility.cpp:148:36: warning: comparison between signed and unsigned integer expressions [-Wsign-compare]\n",
            "                     for(size_t tt=0; tt<nf_extra; ++tt) {\n",
            "                                      ~~^~~~~~~~~\n",
            "    mesh/src/py_visibility.cpp:174:45: warning: comparison between signed and unsigned integer expressions [-Wsign-compare]\n",
            "                 if (n_dims[1] != 3 || n_dims[0] != search->points.size()) {\n",
            "                                       ~~~~~~~~~~^~~~~~~~~~~~~~~~~~~~~~~~\n",
            "    mesh/src/py_visibility.cpp:195:58: warning: narrowing conversion of ‘C’ from ‘size_t {aka long unsigned int}’ to ‘npy_intp {aka long int}’ inside { } [-Wnarrowing]\n",
            "             npy_intp result_dims[] = {C,search->points.size()};\n",
            "                                                              ^\n",
            "    mesh/src/py_visibility.cpp:195:56: warning: narrowing conversion of ‘search->TreeAndTri::points.std::vector<CGAL::Point_3<CGAL::Simple_cartesian<double> > >::size()’ from ‘std::vector<CGAL::Point_3<CGAL::Simple_cartesian<double> > >::size_type {aka long unsigned int}’ to ‘npy_intp {aka long int}’ inside { } [-Wnarrowing]\n",
            "             npy_intp result_dims[] = {C,search->points.size()};\n",
            "                                         ~~~~~~~~~~~~~~~~~~~^~\n",
            "    mesh/src/py_visibility.cpp: In instantiation of ‘npy_intp parse_pyarray(const PyArrayObject*, const boost::array<CTYPE, 3>*&) [with CTYPE = double; int PYTYPE = 12; npy_intp = long int; PyArrayObject = tagPyArrayObject_fields]’:\n",
            "    mesh/src/py_visibility.cpp:115:76:   required from here\n",
            "    mesh/src/py_visibility.cpp:66:16: warning: converting to non-pointer type ‘long int’ from NULL [-Wconversion-null]\n",
            "             return NULL;\n",
            "                    ^~~~\n",
            "    mesh/src/py_visibility.cpp:71:16: warning: converting to non-pointer type ‘long int’ from NULL [-Wconversion-null]\n",
            "             return NULL;\n",
            "                    ^~~~\n",
            "    mesh/src/py_visibility.cpp: In instantiation of ‘npy_intp parse_pyarray(const PyArrayObject*, const boost::array<CTYPE, 3>*&) [with CTYPE = unsigned int; int PYTYPE = 6; npy_intp = long int; PyArrayObject = tagPyArrayObject_fields]’:\n",
            "    mesh/src/py_visibility.cpp:116:78:   required from here\n",
            "    mesh/src/py_visibility.cpp:66:16: warning: converting to non-pointer type ‘long int’ from NULL [-Wconversion-null]\n",
            "             return NULL;\n",
            "                    ^~~~\n",
            "    mesh/src/py_visibility.cpp:71:16: warning: converting to non-pointer type ‘long int’ from NULL [-Wconversion-null]\n",
            "             return NULL;\n",
            "                    ^~~~\n",
            "    mesh/src/py_visibility.cpp:135:42: warning: ‘faces_extra_arr’ may be used uninitialized in this function [-Wmaybe-uninitialized]\n",
            "                     const array<uint32_t,3>* faces_extra_arr;\n",
            "                                              ^~~~~~~~~~~~~~~\n",
            "    mesh/src/py_visibility.cpp:134:40: warning: ‘verts_extra_arr’ may be used uninitialized in this function [-Wmaybe-uninitialized]\n",
            "                     const array<double,3>* verts_extra_arr;\n",
            "                                            ^~~~~~~~~~~~~~~\n",
            "    mesh/src/py_visibility.cpp:113:38: warning: ‘faces_arr’ may be used uninitialized in this function [-Wmaybe-uninitialized]\n",
            "                 const array<uint32_t,3>* faces_arr;\n",
            "                                          ^~~~~~~~~\n",
            "    mesh/src/py_visibility.cpp:112:36: warning: ‘verts_arr’ may be used uninitialized in this function [-Wmaybe-uninitialized]\n",
            "                 const array<double,3>* verts_arr;\n",
            "                                        ^~~~~~~~~\n",
            "    gcc -pthread -B /usr/local/compiler_compat -Wl,--sysroot=/ -Wsign-compare -DNDEBUG -g -fwrapv -O3 -Wall -Wstrict-prototypes -fPIC -DNDEBUG=1 -DCGAL_NDEBUG=1 -DMESH_CGAL_AVOID_COMPILED_VERSION=1 -DCGAL_HAS_NO_THREADS=1 -DCGAL_NO_AUTOLINK_CGAL=1 -Imesh/src -I/usr/local/lib/python3.8/site-packages/numpy/core/include -I/tmp/pip-req-build-v_9otfmf/build/temp.linux-x86_64-3.8/CGAL-4.7/include -I/usr/local/include/python3.8 -c mesh/src/visibility.cpp -o build/temp.linux-x86_64-3.8/mesh/src/visibility.o -O3 -fopenmp\n",
            "    cc1plus: warning: command line option ‘-Wstrict-prototypes’ is valid for C/ObjC but not for C++\n",
            "    In file included from /tmp/pip-req-build-v_9otfmf/build/temp.linux-x86_64-3.8/CGAL-4.7/include/CGAL/Cartesian/Cartesian_base.h:68:0,\n",
            "                     from /tmp/pip-req-build-v_9otfmf/build/temp.linux-x86_64-3.8/CGAL-4.7/include/CGAL/Simple_cartesian.h:28,\n",
            "                     from mesh/src/visibility.cpp:6:\n",
            "    /tmp/pip-req-build-v_9otfmf/build/temp.linux-x86_64-3.8/CGAL-4.7/include/CGAL/Cartesian/function_objects.h: In function ‘void _internal_compute(const TreeAndTri*, const double*, const double*, size_t, bool, const double*, const double&, uint32_t*, double*)’:\n",
            "    /tmp/pip-req-build-v_9otfmf/build/temp.linux-x86_64-3.8/CGAL-4.7/include/CGAL/Cartesian/function_objects.h:940:47: warning: ‘*((void*)& zoff +16)’ may be used uninitialized in this function [-Wmaybe-uninitialized]\n",
            "      return v.x() * w.x() + v.y() * w.y() + v.z() * w.z();\n",
            "    mesh/src/visibility.cpp:77:31: note: ‘*((void*)& zoff +16)’ was declared here\n",
            "             K::Vector_3 xoff,yoff,zoff;\n",
            "                                   ^~~~\n",
            "    In file included from /tmp/pip-req-build-v_9otfmf/build/temp.linux-x86_64-3.8/CGAL-4.7/include/CGAL/Cartesian/Cartesian_base.h:68:0,\n",
            "                     from /tmp/pip-req-build-v_9otfmf/build/temp.linux-x86_64-3.8/CGAL-4.7/include/CGAL/Simple_cartesian.h:28,\n",
            "                     from mesh/src/visibility.cpp:6:\n",
            "    /tmp/pip-req-build-v_9otfmf/build/temp.linux-x86_64-3.8/CGAL-4.7/include/CGAL/Cartesian/function_objects.h:940:31: warning: ‘*((void*)& zoff +8)’ may be used uninitialized in this function [-Wmaybe-uninitialized]\n",
            "      return v.x() * w.x() + v.y() * w.y() + v.z() * w.z();\n",
            "    mesh/src/visibility.cpp:77:31: note: ‘*((void*)& zoff +8)’ was declared here\n",
            "             K::Vector_3 xoff,yoff,zoff;\n",
            "                                   ^~~~\n",
            "    In file included from /tmp/pip-req-build-v_9otfmf/build/temp.linux-x86_64-3.8/CGAL-4.7/include/CGAL/Cartesian/Cartesian_base.h:68:0,\n",
            "                     from /tmp/pip-req-build-v_9otfmf/build/temp.linux-x86_64-3.8/CGAL-4.7/include/CGAL/Simple_cartesian.h:28,\n",
            "                     from mesh/src/visibility.cpp:6:\n",
            "    /tmp/pip-req-build-v_9otfmf/build/temp.linux-x86_64-3.8/CGAL-4.7/include/CGAL/Cartesian/function_objects.h:940:15: warning: ‘zoff’ may be used uninitialized in this function [-Wmaybe-uninitialized]\n",
            "      return v.x() * w.x() + v.y() * w.y() + v.z() * w.z();\n",
            "    mesh/src/visibility.cpp:77:31: note: ‘zoff’ was declared here\n",
            "             K::Vector_3 xoff,yoff,zoff;\n",
            "                                   ^~~~\n",
            "    In file included from /tmp/pip-req-build-v_9otfmf/build/temp.linux-x86_64-3.8/CGAL-4.7/include/CGAL/Cartesian/Cartesian_base.h:68:0,\n",
            "                     from /tmp/pip-req-build-v_9otfmf/build/temp.linux-x86_64-3.8/CGAL-4.7/include/CGAL/Simple_cartesian.h:28,\n",
            "                     from mesh/src/visibility.cpp:6:\n",
            "    /tmp/pip-req-build-v_9otfmf/build/temp.linux-x86_64-3.8/CGAL-4.7/include/CGAL/Cartesian/function_objects.h:940:47: warning: ‘*((void*)& yoff +16)’ may be used uninitialized in this function [-Wmaybe-uninitialized]\n",
            "      return v.x() * w.x() + v.y() * w.y() + v.z() * w.z();\n",
            "    mesh/src/visibility.cpp:77:26: note: ‘*((void*)& yoff +16)’ was declared here\n",
            "             K::Vector_3 xoff,yoff,zoff;\n",
            "                              ^~~~\n",
            "    In file included from /tmp/pip-req-build-v_9otfmf/build/temp.linux-x86_64-3.8/CGAL-4.7/include/CGAL/Cartesian/Cartesian_base.h:68:0,\n",
            "                     from /tmp/pip-req-build-v_9otfmf/build/temp.linux-x86_64-3.8/CGAL-4.7/include/CGAL/Simple_cartesian.h:28,\n",
            "                     from mesh/src/visibility.cpp:6:\n",
            "    /tmp/pip-req-build-v_9otfmf/build/temp.linux-x86_64-3.8/CGAL-4.7/include/CGAL/Cartesian/function_objects.h:940:31: warning: ‘*((void*)& yoff +8)’ may be used uninitialized in this function [-Wmaybe-uninitialized]\n",
            "      return v.x() * w.x() + v.y() * w.y() + v.z() * w.z();\n",
            "    mesh/src/visibility.cpp:77:26: note: ‘*((void*)& yoff +8)’ was declared here\n",
            "             K::Vector_3 xoff,yoff,zoff;\n",
            "                              ^~~~\n",
            "    In file included from /tmp/pip-req-build-v_9otfmf/build/temp.linux-x86_64-3.8/CGAL-4.7/include/CGAL/Cartesian/Cartesian_base.h:68:0,\n",
            "                     from /tmp/pip-req-build-v_9otfmf/build/temp.linux-x86_64-3.8/CGAL-4.7/include/CGAL/Simple_cartesian.h:28,\n",
            "                     from mesh/src/visibility.cpp:6:\n",
            "    /tmp/pip-req-build-v_9otfmf/build/temp.linux-x86_64-3.8/CGAL-4.7/include/CGAL/Cartesian/function_objects.h:940:15: warning: ‘yoff’ may be used uninitialized in this function [-Wmaybe-uninitialized]\n",
            "      return v.x() * w.x() + v.y() * w.y() + v.z() * w.z();\n",
            "    mesh/src/visibility.cpp:77:26: note: ‘yoff’ was declared here\n",
            "             K::Vector_3 xoff,yoff,zoff;\n",
            "                              ^~~~\n",
            "    In file included from /tmp/pip-req-build-v_9otfmf/build/temp.linux-x86_64-3.8/CGAL-4.7/include/CGAL/Cartesian/Cartesian_base.h:68:0,\n",
            "                     from /tmp/pip-req-build-v_9otfmf/build/temp.linux-x86_64-3.8/CGAL-4.7/include/CGAL/Simple_cartesian.h:28,\n",
            "                     from mesh/src/visibility.cpp:6:\n",
            "    /tmp/pip-req-build-v_9otfmf/build/temp.linux-x86_64-3.8/CGAL-4.7/include/CGAL/Cartesian/function_objects.h:940:47: warning: ‘*((void*)& xoff +16)’ may be used uninitialized in this function [-Wmaybe-uninitialized]\n",
            "      return v.x() * w.x() + v.y() * w.y() + v.z() * w.z();\n",
            "    mesh/src/visibility.cpp:77:21: note: ‘*((void*)& xoff +16)’ was declared here\n",
            "             K::Vector_3 xoff,yoff,zoff;\n",
            "                         ^~~~\n",
            "    In file included from /tmp/pip-req-build-v_9otfmf/build/temp.linux-x86_64-3.8/CGAL-4.7/include/CGAL/Cartesian/Cartesian_base.h:68:0,\n",
            "                     from /tmp/pip-req-build-v_9otfmf/build/temp.linux-x86_64-3.8/CGAL-4.7/include/CGAL/Simple_cartesian.h:28,\n",
            "                     from mesh/src/visibility.cpp:6:\n",
            "    /tmp/pip-req-build-v_9otfmf/build/temp.linux-x86_64-3.8/CGAL-4.7/include/CGAL/Cartesian/function_objects.h:940:31: warning: ‘*((void*)& xoff +8)’ may be used uninitialized in this function [-Wmaybe-uninitialized]\n",
            "      return v.x() * w.x() + v.y() * w.y() + v.z() * w.z();\n",
            "    mesh/src/visibility.cpp:77:21: note: ‘*((void*)& xoff +8)’ was declared here\n",
            "             K::Vector_3 xoff,yoff,zoff;\n",
            "                         ^~~~\n",
            "    In file included from /tmp/pip-req-build-v_9otfmf/build/temp.linux-x86_64-3.8/CGAL-4.7/include/CGAL/Cartesian/Cartesian_base.h:68:0,\n",
            "                     from /tmp/pip-req-build-v_9otfmf/build/temp.linux-x86_64-3.8/CGAL-4.7/include/CGAL/Simple_cartesian.h:28,\n",
            "                     from mesh/src/visibility.cpp:6:\n",
            "    /tmp/pip-req-build-v_9otfmf/build/temp.linux-x86_64-3.8/CGAL-4.7/include/CGAL/Cartesian/function_objects.h:940:15: warning: ‘xoff’ may be used uninitialized in this function [-Wmaybe-uninitialized]\n",
            "      return v.x() * w.x() + v.y() * w.y() + v.z() * w.z();\n",
            "    mesh/src/visibility.cpp:77:21: note: ‘xoff’ was declared here\n",
            "             K::Vector_3 xoff,yoff,zoff;\n",
            "                         ^~~~\n",
            "    mesh/src/visibility.cpp:100:69: warning: ‘planeoff’ may be used uninitialized in this function [-Wmaybe-uninitialized]\n",
            "                         double t = -(zoff*(verts_v[ivert]-CGAL::ORIGIN) - planeoff)/(zoff*dir);\n",
            "                                     ~~~~~~~~~~~~~~~~~~~~~~~~~~~~~~~~~~~~^~~~~~~~~~~\n",
            "    mesh/src/visibility.cpp:78:16: note: ‘planeoff’ was declared here\n",
            "             double planeoff;\n",
            "                    ^~~~~~~~\n",
            "    g++ -pthread -shared -B /usr/local/compiler_compat -L/usr/local/lib -Wl,-rpath=/usr/local/lib -Wl,--no-as-needed -Wl,--sysroot=/ build/temp.linux-x86_64-3.8/mesh/src/py_visibility.o build/temp.linux-x86_64-3.8/mesh/src/visibility.o -o build/lib.linux-x86_64-3.8/psbody/mesh/visibility.cpython-38-x86_64-linux-gnu.so -O3 -fopenmp\n",
            "    building 'psbody.mesh.serialization.plyutils' extension\n",
            "    gcc -pthread -B /usr/local/compiler_compat -Wl,--sysroot=/ -Wsign-compare -DNDEBUG -g -fwrapv -O3 -Wall -Wstrict-prototypes -fPIC -DNDEBUG=1 -Imesh/src -I/usr/local/lib/python3.8/site-packages/numpy/core/include -I/tmp/pip-req-build-v_9otfmf/build/temp.linux-x86_64-3.8/CGAL-4.7/include -I/usr/local/include/python3.8 -c mesh/src/plyutils.c -o build/temp.linux-x86_64-3.8/mesh/src/plyutils.o -O3 -fopenmp\n",
            "    gcc -pthread -B /usr/local/compiler_compat -Wl,--sysroot=/ -Wsign-compare -DNDEBUG -g -fwrapv -O3 -Wall -Wstrict-prototypes -fPIC -DNDEBUG=1 -Imesh/src -I/usr/local/lib/python3.8/site-packages/numpy/core/include -I/tmp/pip-req-build-v_9otfmf/build/temp.linux-x86_64-3.8/CGAL-4.7/include -I/usr/local/include/python3.8 -c mesh/src/rply.c -o build/temp.linux-x86_64-3.8/mesh/src/rply.o -O3 -fopenmp\n",
            "    g++ -pthread -shared -B /usr/local/compiler_compat -L/usr/local/lib -Wl,-rpath=/usr/local/lib -Wl,--no-as-needed -Wl,--sysroot=/ build/temp.linux-x86_64-3.8/mesh/src/plyutils.o build/temp.linux-x86_64-3.8/mesh/src/rply.o -o build/lib.linux-x86_64-3.8/psbody/mesh/serialization/plyutils.cpython-38-x86_64-linux-gnu.so -O3 -fopenmp\n",
            "    building 'psbody.mesh.serialization.loadobj' extension\n",
            "    gcc -pthread -B /usr/local/compiler_compat -Wl,--sysroot=/ -Wsign-compare -DNDEBUG -g -fwrapv -O3 -Wall -Wstrict-prototypes -fPIC -DNDEBUG=1 -Imesh/src -I/usr/local/lib/python3.8/site-packages/numpy/core/include -I/tmp/pip-req-build-v_9otfmf/build/temp.linux-x86_64-3.8/CGAL-4.7/include -I/usr/local/include/python3.8 -c mesh/src/py_loadobj.cpp -o build/temp.linux-x86_64-3.8/mesh/src/py_loadobj.o -O3 -fopenmp\n",
            "    cc1plus: warning: command line option ‘-Wstrict-prototypes’ is valid for C/ObjC but not for C++\n",
            "    In file included from /usr/local/lib/python3.8/site-packages/numpy/core/include/numpy/ndarraytypes.h:1822:0,\n",
            "                     from /usr/local/lib/python3.8/site-packages/numpy/core/include/numpy/ndarrayobject.h:12,\n",
            "                     from /usr/local/lib/python3.8/site-packages/numpy/core/include/numpy/arrayobject.h:4,\n",
            "                     from mesh/src/py_loadobj.cpp:5:\n",
            "    /usr/local/lib/python3.8/site-packages/numpy/core/include/numpy/npy_1_7_deprecated_api.h:17:2: warning: #warning \"Using deprecated NumPy API, disable it with \" \"#define NPY_NO_DEPRECATED_API NPY_1_7_API_VERSION\" [-Wcpp]\n",
            "     #warning \"Using deprecated NumPy API, disable it with \" \\\n",
            "      ^~~~~~~\n",
            "    mesh/src/py_loadobj.cpp: In function ‘PyObject* loadobj(PyObject*, PyObject*, PyObject*)’:\n",
            "    mesh/src/py_loadobj.cpp:150:36: warning: comparison between signed and unsigned integer expressions [-Wsign-compare]\n",
            "                         for (int i=1; i<(localf.size()-1); ++i) {\n",
            "                                       ~^~~~~~~~~~~~~~~~~~\n",
            "    mesh/src/py_loadobj.cpp:159:36: warning: comparison between signed and unsigned integer expressions [-Wsign-compare]\n",
            "                         for (int i=1; i<(localft.size()-1); ++i){\n",
            "                                       ~^~~~~~~~~~~~~~~~~~~\n",
            "    mesh/src/py_loadobj.cpp:166:36: warning: comparison between signed and unsigned integer expressions [-Wsign-compare]\n",
            "                         for (int i=1; i<(localfn.size()-1); ++i){\n",
            "                                       ~^~~~~~~~~~~~~~~~~~~\n",
            "    g++ -pthread -shared -B /usr/local/compiler_compat -L/usr/local/lib -Wl,-rpath=/usr/local/lib -Wl,--no-as-needed -Wl,--sysroot=/ build/temp.linux-x86_64-3.8/mesh/src/py_loadobj.o -o build/lib.linux-x86_64-3.8/psbody/mesh/serialization/loadobj.cpython-38-x86_64-linux-gnu.so -O3 -fopenmp\n",
            "    running build_scripts\n",
            "    creating build/scripts-3.8\n",
            "    copying and adjusting bin/meshviewer -> build/scripts-3.8\n",
            "    changing mode of build/scripts-3.8/meshviewer from 644 to 755\n",
            "    running install_lib\n",
            "    Skipping installation of /usr/local/lib/python3.8/site-packages/psbody/__init__.py (namespace package)\n",
            "    copying psbody/mesh/arcball.py -> /usr/local/lib/python3.8/site-packages/psbody/mesh\n",
            "    copying psbody/mesh/aabb_normals.cpython-38-x86_64-linux-gnu.so -> /usr/local/lib/python3.8/site-packages/psbody/mesh\n",
            "    copying psbody/mesh/search.py -> /usr/local/lib/python3.8/site-packages/psbody/mesh\n",
            "    copying psbody/mesh/utils.py -> /usr/local/lib/python3.8/site-packages/psbody/mesh\n",
            "    copying psbody/mesh/fonts.py -> /usr/local/lib/python3.8/site-packages/psbody/mesh\n",
            "    copying psbody/mesh/spatialsearch.cpython-38-x86_64-linux-gnu.so -> /usr/local/lib/python3.8/site-packages/psbody/mesh\n",
            "    copying psbody/mesh/errors.py -> /usr/local/lib/python3.8/site-packages/psbody/mesh\n",
            "    copying psbody/mesh/mesh.py -> /usr/local/lib/python3.8/site-packages/psbody/mesh\n",
            "    copying psbody/mesh/colors.py -> /usr/local/lib/python3.8/site-packages/psbody/mesh\n",
            "    copying psbody/mesh/meshviewer.py -> /usr/local/lib/python3.8/site-packages/psbody/mesh\n",
            "    copying psbody/mesh/texture.py -> /usr/local/lib/python3.8/site-packages/psbody/mesh\n",
            "    copying psbody/mesh/__init__.py -> /usr/local/lib/python3.8/site-packages/psbody/mesh\n",
            "    copying psbody/mesh/sphere.py -> /usr/local/lib/python3.8/site-packages/psbody/mesh\n",
            "    copying psbody/mesh/version.py -> /usr/local/lib/python3.8/site-packages/psbody/mesh\n",
            "    copying psbody/mesh/processing.py -> /usr/local/lib/python3.8/site-packages/psbody/mesh\n",
            "    copying psbody/mesh/visibility.cpython-38-x86_64-linux-gnu.so -> /usr/local/lib/python3.8/site-packages/psbody/mesh\n",
            "    copying psbody/mesh/lines.py -> /usr/local/lib/python3.8/site-packages/psbody/mesh\n",
            "    copying psbody/mesh/landmarks.py -> /usr/local/lib/python3.8/site-packages/psbody/mesh\n",
            "    copying psbody/mesh/geometry/barycentric_coordinates_of_projection.py -> /usr/local/lib/python3.8/site-packages/psbody/mesh/geometry\n",
            "    copying psbody/mesh/geometry/__init__.py -> /usr/local/lib/python3.8/site-packages/psbody/mesh/geometry\n",
            "    copying psbody/mesh/geometry/rodrigues.py -> /usr/local/lib/python3.8/site-packages/psbody/mesh/geometry\n",
            "    copying psbody/mesh/geometry/tri_normals.py -> /usr/local/lib/python3.8/site-packages/psbody/mesh/geometry\n",
            "    copying psbody/mesh/geometry/vert_normals.py -> /usr/local/lib/python3.8/site-packages/psbody/mesh/geometry\n",
            "    copying psbody/mesh/geometry/cross_product.py -> /usr/local/lib/python3.8/site-packages/psbody/mesh/geometry\n",
            "    copying psbody/mesh/geometry/triangle_area.py -> /usr/local/lib/python3.8/site-packages/psbody/mesh/geometry\n",
            "    copying psbody/mesh/topology/subdivision.py -> /usr/local/lib/python3.8/site-packages/psbody/mesh/topology\n",
            "    copying psbody/mesh/topology/connectivity.py -> /usr/local/lib/python3.8/site-packages/psbody/mesh/topology\n",
            "    copying psbody/mesh/topology/linear_mesh_transform.py -> /usr/local/lib/python3.8/site-packages/psbody/mesh/topology\n",
            "    copying psbody/mesh/topology/__init__.py -> /usr/local/lib/python3.8/site-packages/psbody/mesh/topology\n",
            "    copying psbody/mesh/topology/decimation.py -> /usr/local/lib/python3.8/site-packages/psbody/mesh/topology\n",
            "    copying psbody/mesh/serialization/plyutils.cpython-38-x86_64-linux-gnu.so -> /usr/local/lib/python3.8/site-packages/psbody/mesh/serialization\n",
            "    copying psbody/mesh/serialization/loadobj.cpython-38-x86_64-linux-gnu.so -> /usr/local/lib/python3.8/site-packages/psbody/mesh/serialization\n",
            "    copying psbody/mesh/serialization/__init__.py -> /usr/local/lib/python3.8/site-packages/psbody/mesh/serialization\n",
            "    copying psbody/mesh/serialization/serialization.py -> /usr/local/lib/python3.8/site-packages/psbody/mesh/serialization\n",
            "    byte-compiling /usr/local/lib/python3.8/site-packages/psbody/mesh/arcball.py to arcball.cpython-38.pyc\n",
            "    byte-compiling /usr/local/lib/python3.8/site-packages/psbody/mesh/search.py to search.cpython-38.pyc\n",
            "    byte-compiling /usr/local/lib/python3.8/site-packages/psbody/mesh/utils.py to utils.cpython-38.pyc\n",
            "    byte-compiling /usr/local/lib/python3.8/site-packages/psbody/mesh/fonts.py to fonts.cpython-38.pyc\n",
            "    byte-compiling /usr/local/lib/python3.8/site-packages/psbody/mesh/errors.py to errors.cpython-38.pyc\n",
            "    byte-compiling /usr/local/lib/python3.8/site-packages/psbody/mesh/mesh.py to mesh.cpython-38.pyc\n",
            "    byte-compiling /usr/local/lib/python3.8/site-packages/psbody/mesh/colors.py to colors.cpython-38.pyc\n",
            "    byte-compiling /usr/local/lib/python3.8/site-packages/psbody/mesh/meshviewer.py to meshviewer.cpython-38.pyc\n",
            "    byte-compiling /usr/local/lib/python3.8/site-packages/psbody/mesh/texture.py to texture.cpython-38.pyc\n",
            "    byte-compiling /usr/local/lib/python3.8/site-packages/psbody/mesh/__init__.py to __init__.cpython-38.pyc\n",
            "    byte-compiling /usr/local/lib/python3.8/site-packages/psbody/mesh/sphere.py to sphere.cpython-38.pyc\n",
            "    byte-compiling /usr/local/lib/python3.8/site-packages/psbody/mesh/version.py to version.cpython-38.pyc\n",
            "    byte-compiling /usr/local/lib/python3.8/site-packages/psbody/mesh/processing.py to processing.cpython-38.pyc\n",
            "    byte-compiling /usr/local/lib/python3.8/site-packages/psbody/mesh/lines.py to lines.cpython-38.pyc\n",
            "    byte-compiling /usr/local/lib/python3.8/site-packages/psbody/mesh/landmarks.py to landmarks.cpython-38.pyc\n",
            "    byte-compiling /usr/local/lib/python3.8/site-packages/psbody/mesh/geometry/barycentric_coordinates_of_projection.py to barycentric_coordinates_of_projection.cpython-38.pyc\n",
            "    byte-compiling /usr/local/lib/python3.8/site-packages/psbody/mesh/geometry/__init__.py to __init__.cpython-38.pyc\n",
            "    byte-compiling /usr/local/lib/python3.8/site-packages/psbody/mesh/geometry/rodrigues.py to rodrigues.cpython-38.pyc\n",
            "    byte-compiling /usr/local/lib/python3.8/site-packages/psbody/mesh/geometry/tri_normals.py to tri_normals.cpython-38.pyc\n",
            "    byte-compiling /usr/local/lib/python3.8/site-packages/psbody/mesh/geometry/vert_normals.py to vert_normals.cpython-38.pyc\n",
            "    byte-compiling /usr/local/lib/python3.8/site-packages/psbody/mesh/geometry/cross_product.py to cross_product.cpython-38.pyc\n",
            "    byte-compiling /usr/local/lib/python3.8/site-packages/psbody/mesh/geometry/triangle_area.py to triangle_area.cpython-38.pyc\n",
            "    byte-compiling /usr/local/lib/python3.8/site-packages/psbody/mesh/topology/subdivision.py to subdivision.cpython-38.pyc\n",
            "    byte-compiling /usr/local/lib/python3.8/site-packages/psbody/mesh/topology/connectivity.py to connectivity.cpython-38.pyc\n",
            "    byte-compiling /usr/local/lib/python3.8/site-packages/psbody/mesh/topology/linear_mesh_transform.py to linear_mesh_transform.cpython-38.pyc\n",
            "    byte-compiling /usr/local/lib/python3.8/site-packages/psbody/mesh/topology/__init__.py to __init__.cpython-38.pyc\n",
            "    byte-compiling /usr/local/lib/python3.8/site-packages/psbody/mesh/topology/decimation.py to decimation.cpython-38.pyc\n",
            "    byte-compiling /usr/local/lib/python3.8/site-packages/psbody/mesh/serialization/__init__.py to __init__.cpython-38.pyc\n",
            "    byte-compiling /usr/local/lib/python3.8/site-packages/psbody/mesh/serialization/serialization.py to serialization.cpython-38.pyc\n",
            "    running install_egg_info\n",
            "    running egg_info\n",
            "    creating psbody_mesh.egg-info\n",
            "    writing psbody_mesh.egg-info/PKG-INFO\n",
            "    writing dependency_links to psbody_mesh.egg-info/dependency_links.txt\n",
            "    writing namespace_packages to psbody_mesh.egg-info/namespace_packages.txt\n",
            "    writing requirements to psbody_mesh.egg-info/requires.txt\n",
            "    writing top-level names to psbody_mesh.egg-info/top_level.txt\n",
            "    writing manifest file 'psbody_mesh.egg-info/SOURCES.txt'\n",
            "    reading manifest file 'psbody_mesh.egg-info/SOURCES.txt'\n",
            "    reading manifest template 'MANIFEST.in'\n",
            "    writing manifest file 'psbody_mesh.egg-info/SOURCES.txt'\n",
            "    Copying psbody_mesh.egg-info to /usr/local/lib/python3.8/site-packages/psbody_mesh-0.4-py3.8.egg-info\n",
            "    Installing /usr/local/lib/python3.8/site-packages/psbody_mesh-0.4-py3.8-nspkg.pth\n",
            "    running install_scripts\n",
            "    copying build/scripts-3.8/meshviewer -> /usr/local/bin\n",
            "    changing mode of /usr/local/bin/meshviewer to 755\n",
            "    writing list of installed files to '/tmp/pip-record-kx66vxv9/install-record.txt'\n",
            "    Running setup.py install for psbody-mesh ... \u001b[?25l\u001b[?25hdone\n",
            "Successfully installed psbody-mesh-0.4\n",
            "Removed build tracker: '/tmp/pip-req-tracker-ajt2x5sq'\n"
          ],
          "name": "stdout"
        }
      ]
    },
    {
      "cell_type": "code",
      "metadata": {
        "id": "jB22LcWQ8nbm",
        "colab_type": "code",
        "colab": {
          "base_uri": "https://localhost:8080/",
          "height": 34
        },
        "outputId": "aeae9fb6-cfaa-4696-a988-34e6d5f4edd1"
      },
      "source": [
        "!meshviewer view \"/content/MESH/data/unittest/sphere.obj\""
      ],
      "execution_count": 4,
      "outputs": [
        {
          "output_type": "stream",
          "text": [
            "INFO:root:started remote viewer on port 63052\n"
          ],
          "name": "stdout"
        }
      ]
    },
    {
      "cell_type": "code",
      "metadata": {
        "id": "afJEnYZZ9F_t",
        "colab_type": "code",
        "colab": {
          "base_uri": "https://localhost:8080/",
          "height": 34
        },
        "outputId": "fc1dac0b-075c-4105-ea13-9a2cb9a2bde4"
      },
      "source": [
        "%cd '/content'"
      ],
      "execution_count": 5,
      "outputs": [
        {
          "output_type": "stream",
          "text": [
            "/content\n"
          ],
          "name": "stdout"
        }
      ]
    },
    {
      "cell_type": "code",
      "metadata": {
        "id": "MS7Fw-CVdPXO",
        "colab_type": "code",
        "colab": {
          "base_uri": "https://localhost:8080/",
          "height": 141
        },
        "outputId": "d2171ca3-528a-4b99-fbcf-6657e6f3ceb9"
      },
      "source": [
        "!git clone https://github.com/ocean1100/FaceGeometryTorch.git TMP"
      ],
      "execution_count": 6,
      "outputs": [
        {
          "output_type": "stream",
          "text": [
            "Cloning into 'TMP'...\n",
            "remote: Enumerating objects: 347, done.\u001b[K\n",
            "remote: Counting objects: 100% (347/347), done.\u001b[K\n",
            "remote: Compressing objects: 100% (254/254), done.\u001b[K\n",
            "remote: Total 415 (delta 200), reused 226 (delta 80), pack-reused 68\u001b[K\n",
            "Receiving objects: 100% (415/415), 82.38 MiB | 13.24 MiB/s, done.\n",
            "Resolving deltas: 100% (222/222), done.\n"
          ],
          "name": "stdout"
        }
      ]
    },
    {
      "cell_type": "code",
      "metadata": {
        "id": "jzQg7MaH6YCF",
        "colab_type": "code",
        "colab": {
          "base_uri": "https://localhost:8080/",
          "height": 550
        },
        "outputId": "82e99229-1f5c-4dc8-b2d2-651abefc56e7"
      },
      "source": [
        "%cd /content/TMP\n",
        "!pip install -r requirements.txt"
      ],
      "execution_count": 7,
      "outputs": [
        {
          "output_type": "stream",
          "text": [
            "/content/TMP\n",
            "Collecting absl-py==0.9.0\n",
            "  Downloading absl-py-0.9.0.tar.gz (104 kB)\n",
            "\u001b[K     |████████████████████████████████| 104 kB 2.8 MB/s \n",
            "\u001b[?25hCollecting appdirs==1.4.3\n",
            "  Downloading appdirs-1.4.3-py2.py3-none-any.whl (12 kB)\n",
            "Collecting astor==0.8.1\n",
            "  Downloading astor-0.8.1-py2.py3-none-any.whl (27 kB)\n",
            "Collecting attrs==19.3.0\n",
            "  Downloading attrs-19.3.0-py2.py3-none-any.whl (39 kB)\n",
            "Collecting Automat==20.2.0\n",
            "  Downloading Automat-20.2.0-py2.py3-none-any.whl (31 kB)\n",
            "Collecting backcall==0.1.0\n",
            "  Downloading backcall-0.1.0.tar.gz (9.7 kB)\n",
            "Collecting black==19.10b0\n",
            "  Downloading black-19.10b0-py36-none-any.whl (97 kB)\n",
            "\u001b[K     |████████████████████████████████| 97 kB 4.7 MB/s \n",
            "\u001b[?25hCollecting bleach==3.1.4\n",
            "  Downloading bleach-3.1.4-py2.py3-none-any.whl (151 kB)\n",
            "\u001b[K     |████████████████████████████████| 151 kB 8.4 MB/s \n",
            "\u001b[?25hCollecting certifi==2020.4.5.1\n",
            "  Downloading certifi-2020.4.5.1-py2.py3-none-any.whl (157 kB)\n",
            "\u001b[K     |████████████████████████████████| 157 kB 8.8 MB/s \n",
            "\u001b[?25hCollecting cffi==1.14.0\n",
            "  Downloading cffi-1.14.0-cp38-cp38-manylinux1_x86_64.whl (409 kB)\n",
            "\u001b[K     |████████████████████████████████| 409 kB 12.1 MB/s \n",
            "\u001b[?25hCollecting chumpy==0.69\n",
            "  Downloading chumpy-0.69.tar.gz (50 kB)\n",
            "\u001b[K     |████████████████████████████████| 50 kB 6.0 MB/s \n",
            "\u001b[31mERROR: Command errored out with exit status 1: python setup.py egg_info Check the logs for full command output.\u001b[0m\n",
            "\u001b[?25h"
          ],
          "name": "stdout"
        }
      ]
    },
    {
      "cell_type": "code",
      "metadata": {
        "id": "NGeAx9rG6l0O",
        "colab_type": "code",
        "colab": {
          "base_uri": "https://localhost:8080/",
          "height": 496
        },
        "outputId": "3e16a18c-89c9-49bc-9379-832cb6bbaea1"
      },
      "source": [
        "!sudo apt-get install python-opengl"
      ],
      "execution_count": 8,
      "outputs": [
        {
          "output_type": "stream",
          "text": [
            "Reading package lists... Done\n",
            "Building dependency tree       \n",
            "Reading state information... Done\n",
            "The following package was automatically installed and is no longer required:\n",
            "  libnvidia-common-440\n",
            "Use 'sudo apt autoremove' to remove it.\n",
            "Suggested packages:\n",
            "  libgle3\n",
            "The following NEW packages will be installed:\n",
            "  python-opengl\n",
            "0 upgraded, 1 newly installed, 0 to remove and 35 not upgraded.\n",
            "Need to get 496 kB of archives.\n",
            "After this operation, 5,416 kB of additional disk space will be used.\n",
            "Get:1 http://archive.ubuntu.com/ubuntu bionic/universe amd64 python-opengl all 3.1.0+dfsg-1 [496 kB]\n",
            "Fetched 496 kB in 2s (248 kB/s)\n",
            "debconf: unable to initialize frontend: Dialog\n",
            "debconf: (No usable dialog-like program is installed, so the dialog based frontend cannot be used. at /usr/share/perl5/Debconf/FrontEnd/Dialog.pm line 76, <> line 1.)\n",
            "debconf: falling back to frontend: Readline\n",
            "debconf: unable to initialize frontend: Readline\n",
            "debconf: (This frontend requires a controlling tty.)\n",
            "debconf: falling back to frontend: Teletype\n",
            "dpkg-preconfigure: unable to re-open stdin: \n",
            "Selecting previously unselected package python-opengl.\n",
            "(Reading database ... 144487 files and directories currently installed.)\n",
            "Preparing to unpack .../python-opengl_3.1.0+dfsg-1_all.deb ...\n",
            "Unpacking python-opengl (3.1.0+dfsg-1) ...\n",
            "Setting up python-opengl (3.1.0+dfsg-1) ...\n"
          ],
          "name": "stdout"
        }
      ]
    },
    {
      "cell_type": "code",
      "metadata": {
        "id": "k8fHk9aS6yOp",
        "colab_type": "code",
        "colab": {
          "base_uri": "https://localhost:8080/",
          "height": 247
        },
        "outputId": "34bb9ef3-f27e-4907-940b-b383d5176799"
      },
      "source": [
        "!pip install -U vtkplotter"
      ],
      "execution_count": 9,
      "outputs": [
        {
          "output_type": "stream",
          "text": [
            "Collecting vtkplotter\n",
            "  Downloading vtkplotter-2020.3.1.tar.gz (18.4 MB)\n",
            "\u001b[K     |████████████████████████████████| 18.4 MB 1.2 MB/s \n",
            "\u001b[?25hCollecting vtk\n",
            "  Downloading vtk-9.0.1-cp38-cp38-manylinux2010_x86_64.whl (103.4 MB)\n",
            "\u001b[K     |████████████████████████████████| 103.4 MB 19 kB/s \n",
            "\u001b[?25hBuilding wheels for collected packages: vtkplotter\n",
            "  Building wheel for vtkplotter (setup.py) ... \u001b[?25l\u001b[?25hdone\n",
            "  Created wheel for vtkplotter: filename=vtkplotter-2020.3.1-py3-none-any.whl size=18588853 sha256=7a3d5d93946e72d9af27a0f307d172379b80369e9598e3b157ca8b2f510256cb\n",
            "  Stored in directory: /root/.cache/pip/wheels/fd/52/6e/083d670bd55fc9002d2c28941aee1ece332aaf51cb1b2f1527\n",
            "Successfully built vtkplotter\n",
            "Installing collected packages: vtk, vtkplotter\n",
            "Successfully installed vtk-9.0.1 vtkplotter-2020.3.1\n"
          ],
          "name": "stdout"
        }
      ]
    },
    {
      "cell_type": "code",
      "metadata": {
        "id": "XiNuTaJ068H1",
        "colab_type": "code",
        "colab": {
          "base_uri": "https://localhost:8080/",
          "height": 87
        },
        "outputId": "0e45a870-6083-4965-c0b4-9fa6bbe692d9"
      },
      "source": [
        "!python flame_params_demo.py"
      ],
      "execution_count": 10,
      "outputs": [
        {
          "output_type": "stream",
          "text": [
            "Traceback (most recent call last):\n",
            "  File \"flame_params_demo.py\", line 2, in <module>\n",
            "    import torch\n",
            "ModuleNotFoundError: No module named 'torch'\n"
          ],
          "name": "stdout"
        }
      ]
    },
    {
      "cell_type": "code",
      "metadata": {
        "id": "wefCaqAwd-9t",
        "colab_type": "code",
        "colab": {
          "base_uri": "https://localhost:8080/",
          "height": 34
        },
        "outputId": "32080792-97c8-484c-dbbc-af80ad29a1cf"
      },
      "source": [
        "!meshviewer view \"/content/MESH/data/unittest/sphere.obj\""
      ],
      "execution_count": null,
      "outputs": [
        {
          "output_type": "stream",
          "text": [
            "INFO:root:started remote viewer on port 63812\n"
          ],
          "name": "stdout"
        }
      ]
    },
    {
      "cell_type": "code",
      "metadata": {
        "id": "ediyWfKvidlu",
        "colab_type": "code",
        "colab": {
          "base_uri": "https://localhost:8080/",
          "height": 158
        },
        "outputId": "bd37bb60-f8bc-4b35-d849-be0d85f29b4a"
      },
      "source": [
        "%cd /content\n",
        "!git clone https://github.com/TimoBolkart/TF_FLAME.git FLAME\n"
      ],
      "execution_count": null,
      "outputs": [
        {
          "output_type": "stream",
          "text": [
            "/content\n",
            "Cloning into 'FLAME'...\n",
            "remote: Enumerating objects: 26, done.\u001b[K\n",
            "remote: Counting objects: 100% (26/26), done.\u001b[K\n",
            "remote: Compressing objects: 100% (19/19), done.\u001b[K\n",
            "remote: Total 224 (delta 12), reused 19 (delta 7), pack-reused 198\u001b[K\n",
            "Receiving objects: 100% (224/224), 10.11 MiB | 31.38 MiB/s, done.\n",
            "Resolving deltas: 100% (115/115), done.\n"
          ],
          "name": "stdout"
        }
      ]
    },
    {
      "cell_type": "code",
      "metadata": {
        "id": "XfEjV0TJbqTL",
        "colab_type": "code",
        "colab": {
          "base_uri": "https://localhost:8080/",
          "height": 52
        },
        "outputId": "0316f941-5ef1-4efb-dbf5-a906ca89da35"
      },
      "source": [
        "!pwd\n",
        "%cd /content/FLAME"
      ],
      "execution_count": null,
      "outputs": [
        {
          "output_type": "stream",
          "text": [
            "/content\n",
            "/content/FLAME\n"
          ],
          "name": "stdout"
        }
      ]
    },
    {
      "cell_type": "code",
      "metadata": {
        "id": "Icv6o5Bn1X8f",
        "colab_type": "code",
        "colab": {
          "base_uri": "https://localhost:8080/",
          "height": 1000
        },
        "outputId": "eaf1d43d-ba0b-4615-9a5f-8d9758e1193c"
      },
      "source": [
        "!pip install -r requirements.txt"
      ],
      "execution_count": null,
      "outputs": [
        {
          "output_type": "stream",
          "text": [
            "Collecting numpy==1.16.4\n",
            "\u001b[?25l  Downloading https://files.pythonhosted.org/packages/87/2d/e4656149cbadd3a8a0369fcd1a9c7d61cc7b87b3903b85389c70c989a696/numpy-1.16.4-cp36-cp36m-manylinux1_x86_64.whl (17.3MB)\n",
            "\u001b[K     |████████████████████████████████| 17.3MB 55.0MB/s \n",
            "\u001b[?25hCollecting scipy==1.2.2\n",
            "\u001b[?25l  Downloading https://files.pythonhosted.org/packages/83/69/20c8f3b7efe362093dff891239551ff90d4c463b5f52676e2694fea09442/scipy-1.2.2-cp36-cp36m-manylinux1_x86_64.whl (24.8MB)\n",
            "\u001b[K     |████████████████████████████████| 24.8MB 114kB/s \n",
            "\u001b[?25hCollecting tensorflow-gpu==1.15.2\n",
            "\u001b[?25l  Downloading https://files.pythonhosted.org/packages/32/ca/58e40e5077fa2a92004f398d705a288e958434f123938f4ce75ffe25b64b/tensorflow_gpu-1.15.2-cp36-cp36m-manylinux2010_x86_64.whl (411.0MB)\n",
            "\u001b[K     |████████████████████████████████| 411.0MB 39kB/s \n",
            "\u001b[?25hRequirement already satisfied: ipython in /usr/local/lib/python3.6/dist-packages (from -r requirements.txt (line 4)) (5.5.0)\n",
            "Collecting opencv-python==4.1.1.26\n",
            "\u001b[?25l  Downloading https://files.pythonhosted.org/packages/5e/7e/bd5425f4dacb73367fddc71388a47c1ea570839197c2bcad86478e565186/opencv_python-4.1.1.26-cp36-cp36m-manylinux1_x86_64.whl (28.7MB)\n",
            "\u001b[K     |████████████████████████████████| 28.7MB 111kB/s \n",
            "\u001b[?25hCollecting pyrender==0.1.33\n",
            "\u001b[?25l  Downloading https://files.pythonhosted.org/packages/49/3d/0cc5c62030206b4c80a91b9ca169f541f300179adea9cf1df6014a3508d2/pyrender-0.1.33-py3-none-any.whl (1.2MB)\n",
            "\u001b[K     |████████████████████████████████| 1.2MB 45.6MB/s \n",
            "\u001b[?25hCollecting trimesh==3.5.15\n",
            "\u001b[?25l  Downloading https://files.pythonhosted.org/packages/1f/c9/b34c56230000acb990425ea1553d5904c92d3b5bf341ee6e5489c24fa321/trimesh-3.5.15.tar.gz (396kB)\n",
            "\u001b[K     |████████████████████████████████| 399kB 50.8MB/s \n",
            "\u001b[?25hCollecting chumpy==0.69\n",
            "\u001b[?25l  Downloading https://files.pythonhosted.org/packages/87/81/d7a94ad0ff556b9dd1bf27b84c0b255d9ba22ad5952f20088dafacd9292e/chumpy-0.69.tar.gz (50kB)\n",
            "\u001b[K     |████████████████████████████████| 51kB 7.2MB/s \n",
            "\u001b[?25hRequirement already satisfied: protobuf>=3.6.1 in /usr/local/lib/python3.6/dist-packages (from tensorflow-gpu==1.15.2->-r requirements.txt (line 3)) (3.12.2)\n",
            "Requirement already satisfied: gast==0.2.2 in /usr/local/lib/python3.6/dist-packages (from tensorflow-gpu==1.15.2->-r requirements.txt (line 3)) (0.2.2)\n",
            "Requirement already satisfied: six>=1.10.0 in /usr/local/lib/python3.6/dist-packages (from tensorflow-gpu==1.15.2->-r requirements.txt (line 3)) (1.15.0)\n",
            "Requirement already satisfied: termcolor>=1.1.0 in /usr/local/lib/python3.6/dist-packages (from tensorflow-gpu==1.15.2->-r requirements.txt (line 3)) (1.1.0)\n",
            "Requirement already satisfied: keras-applications>=1.0.8 in /usr/local/lib/python3.6/dist-packages (from tensorflow-gpu==1.15.2->-r requirements.txt (line 3)) (1.0.8)\n",
            "Requirement already satisfied: tensorboard<1.16.0,>=1.15.0 in /usr/local/lib/python3.6/dist-packages (from tensorflow-gpu==1.15.2->-r requirements.txt (line 3)) (1.15.0)\n",
            "Requirement already satisfied: grpcio>=1.8.6 in /usr/local/lib/python3.6/dist-packages (from tensorflow-gpu==1.15.2->-r requirements.txt (line 3)) (1.30.0)\n",
            "Requirement already satisfied: astor>=0.6.0 in /usr/local/lib/python3.6/dist-packages (from tensorflow-gpu==1.15.2->-r requirements.txt (line 3)) (0.8.1)\n",
            "Requirement already satisfied: keras-preprocessing>=1.0.5 in /usr/local/lib/python3.6/dist-packages (from tensorflow-gpu==1.15.2->-r requirements.txt (line 3)) (1.1.2)\n",
            "Requirement already satisfied: opt-einsum>=2.3.2 in /usr/local/lib/python3.6/dist-packages (from tensorflow-gpu==1.15.2->-r requirements.txt (line 3)) (3.3.0)\n",
            "Requirement already satisfied: wrapt>=1.11.1 in /usr/local/lib/python3.6/dist-packages (from tensorflow-gpu==1.15.2->-r requirements.txt (line 3)) (1.12.1)\n",
            "Requirement already satisfied: wheel>=0.26; python_version >= \"3\" in /usr/local/lib/python3.6/dist-packages (from tensorflow-gpu==1.15.2->-r requirements.txt (line 3)) (0.34.2)\n",
            "Requirement already satisfied: absl-py>=0.7.0 in /usr/local/lib/python3.6/dist-packages (from tensorflow-gpu==1.15.2->-r requirements.txt (line 3)) (0.9.0)\n",
            "Requirement already satisfied: google-pasta>=0.1.6 in /usr/local/lib/python3.6/dist-packages (from tensorflow-gpu==1.15.2->-r requirements.txt (line 3)) (0.2.0)\n",
            "Requirement already satisfied: tensorflow-estimator==1.15.1 in /usr/local/lib/python3.6/dist-packages (from tensorflow-gpu==1.15.2->-r requirements.txt (line 3)) (1.15.1)\n",
            "Requirement already satisfied: traitlets>=4.2 in /usr/local/lib/python3.6/dist-packages (from ipython->-r requirements.txt (line 4)) (4.3.3)\n",
            "Requirement already satisfied: simplegeneric>0.8 in /usr/local/lib/python3.6/dist-packages (from ipython->-r requirements.txt (line 4)) (0.8.1)\n",
            "Requirement already satisfied: decorator in /usr/local/lib/python3.6/dist-packages (from ipython->-r requirements.txt (line 4)) (4.4.2)\n",
            "Requirement already satisfied: prompt-toolkit<2.0.0,>=1.0.4 in /usr/local/lib/python3.6/dist-packages (from ipython->-r requirements.txt (line 4)) (1.0.18)\n",
            "Requirement already satisfied: pickleshare in /usr/local/lib/python3.6/dist-packages (from ipython->-r requirements.txt (line 4)) (0.7.5)\n",
            "Requirement already satisfied: pexpect; sys_platform != \"win32\" in /usr/local/lib/python3.6/dist-packages (from ipython->-r requirements.txt (line 4)) (4.8.0)\n",
            "Requirement already satisfied: setuptools>=18.5 in /usr/local/lib/python3.6/dist-packages (from ipython->-r requirements.txt (line 4)) (49.2.1)\n",
            "Requirement already satisfied: pygments in /usr/local/lib/python3.6/dist-packages (from ipython->-r requirements.txt (line 4)) (2.1.3)\n",
            "Collecting networkx==2.2\n",
            "\u001b[?25l  Downloading https://files.pythonhosted.org/packages/f3/f4/7e20ef40b118478191cec0b58c3192f822cace858c19505c7670961b76b2/networkx-2.2.zip (1.7MB)\n",
            "\u001b[K     |████████████████████████████████| 1.7MB 49.6MB/s \n",
            "\u001b[?25hProcessing /root/.cache/pip/wheels/6c/00/7f/1dd736f380848720ad79a1a1de5272e0d3f79c15a42968fb58/PyOpenGL-3.1.0-cp36-none-any.whl\n",
            "Requirement already satisfied: imageio in /usr/local/lib/python3.6/dist-packages (from pyrender==0.1.33->-r requirements.txt (line 6)) (2.4.1)\n",
            "Requirement already satisfied: freetype-py in /usr/local/lib/python3.6/dist-packages (from pyrender==0.1.33->-r requirements.txt (line 6)) (2.2.0)\n",
            "Collecting pyglet==1.4.0b1\n",
            "\u001b[?25l  Downloading https://files.pythonhosted.org/packages/96/3e/b1a3a39771d8452a89920b779678dbd9160634f38eee8a202c5696ed755e/pyglet-1.4.0b1-py2.py3-none-any.whl (1.0MB)\n",
            "\u001b[K     |████████████████████████████████| 1.0MB 45.9MB/s \n",
            "\u001b[?25hRequirement already satisfied: Pillow in /usr/local/lib/python3.6/dist-packages (from pyrender==0.1.33->-r requirements.txt (line 6)) (7.2.0)\n",
            "Requirement already satisfied: h5py in /usr/local/lib/python3.6/dist-packages (from keras-applications>=1.0.8->tensorflow-gpu==1.15.2->-r requirements.txt (line 3)) (2.10.0)\n",
            "Requirement already satisfied: markdown>=2.6.8 in /usr/local/lib/python3.6/dist-packages (from tensorboard<1.16.0,>=1.15.0->tensorflow-gpu==1.15.2->-r requirements.txt (line 3)) (3.2.2)\n",
            "Requirement already satisfied: werkzeug>=0.11.15 in /usr/local/lib/python3.6/dist-packages (from tensorboard<1.16.0,>=1.15.0->tensorflow-gpu==1.15.2->-r requirements.txt (line 3)) (1.0.1)\n",
            "Requirement already satisfied: ipython-genutils in /usr/local/lib/python3.6/dist-packages (from traitlets>=4.2->ipython->-r requirements.txt (line 4)) (0.2.0)\n",
            "Requirement already satisfied: wcwidth in /usr/local/lib/python3.6/dist-packages (from prompt-toolkit<2.0.0,>=1.0.4->ipython->-r requirements.txt (line 4)) (0.2.5)\n",
            "Requirement already satisfied: ptyprocess>=0.5 in /usr/local/lib/python3.6/dist-packages (from pexpect; sys_platform != \"win32\"->ipython->-r requirements.txt (line 4)) (0.6.0)\n",
            "Requirement already satisfied: future in /usr/local/lib/python3.6/dist-packages (from pyglet==1.4.0b1->pyrender==0.1.33->-r requirements.txt (line 6)) (0.16.0)\n",
            "Requirement already satisfied: importlib-metadata; python_version < \"3.8\" in /usr/local/lib/python3.6/dist-packages (from markdown>=2.6.8->tensorboard<1.16.0,>=1.15.0->tensorflow-gpu==1.15.2->-r requirements.txt (line 3)) (1.7.0)\n",
            "Requirement already satisfied: zipp>=0.5 in /usr/local/lib/python3.6/dist-packages (from importlib-metadata; python_version < \"3.8\"->markdown>=2.6.8->tensorboard<1.16.0,>=1.15.0->tensorflow-gpu==1.15.2->-r requirements.txt (line 3)) (3.1.0)\n",
            "Building wheels for collected packages: trimesh, chumpy, networkx\n",
            "  Building wheel for trimesh (setup.py) ... \u001b[?25l\u001b[?25hdone\n",
            "  Created wheel for trimesh: filename=trimesh-3.5.15-cp36-none-any.whl size=449801 sha256=b37d56129f5715cfdb50593008f124edc6d72f7053d91490aebdb123511c0566\n",
            "  Stored in directory: /root/.cache/pip/wheels/c9/4a/da/193f17d5efc052a90fe4ef39ed401f96b54782109932155683\n",
            "  Building wheel for chumpy (setup.py) ... \u001b[?25l\u001b[?25hdone\n",
            "  Created wheel for chumpy: filename=chumpy-0.69-cp36-none-any.whl size=58290 sha256=e75e8c126466c5c314b23179660d21077ecf03bdb4ff748f2958307f8070d3ab\n",
            "  Stored in directory: /root/.cache/pip/wheels/df/11/36/2758327d759bad62803f3f9190db1c063e52a0358cecd33e94\n",
            "  Building wheel for networkx (setup.py) ... \u001b[?25l\u001b[?25hdone\n",
            "  Created wheel for networkx: filename=networkx-2.2-py2.py3-none-any.whl size=1527322 sha256=1e27084a8f4ff774c325ec247cc53360adc3de3d3f2cb10f8b82d98b761bfd78\n",
            "  Stored in directory: /root/.cache/pip/wheels/68/f8/29/b53346a112a07d30a5a84d53f19aeadaa1a474897c0423af91\n",
            "Successfully built trimesh chumpy networkx\n",
            "\u001b[31mERROR: umap-learn 0.4.6 has requirement numpy>=1.17, but you'll have numpy 1.16.4 which is incompatible.\u001b[0m\n",
            "\u001b[31mERROR: umap-learn 0.4.6 has requirement scipy>=1.3.1, but you'll have scipy 1.2.2 which is incompatible.\u001b[0m\n",
            "\u001b[31mERROR: tensorflow-probability 0.10.0 has requirement gast>=0.3.2, but you'll have gast 0.2.2 which is incompatible.\u001b[0m\n",
            "\u001b[31mERROR: gym 0.17.2 has requirement pyglet<=1.5.0,>=1.4.0, but you'll have pyglet 1.4.0b1 which is incompatible.\u001b[0m\n",
            "\u001b[31mERROR: datascience 0.10.6 has requirement folium==0.2.1, but you'll have folium 0.8.3 which is incompatible.\u001b[0m\n",
            "\u001b[31mERROR: albumentations 0.1.12 has requirement imgaug<0.2.7,>=0.2.5, but you'll have imgaug 0.2.9 which is incompatible.\u001b[0m\n",
            "Installing collected packages: numpy, scipy, tensorflow-gpu, opencv-python, networkx, PyOpenGL, trimesh, pyglet, pyrender, chumpy\n",
            "  Found existing installation: numpy 1.19.1\n",
            "    Uninstalling numpy-1.19.1:\n",
            "      Successfully uninstalled numpy-1.19.1\n",
            "  Found existing installation: scipy 1.5.2\n",
            "    Uninstalling scipy-1.5.2:\n",
            "      Successfully uninstalled scipy-1.5.2\n",
            "  Found existing installation: opencv-python 4.3.0.36\n",
            "    Uninstalling opencv-python-4.3.0.36:\n",
            "      Successfully uninstalled opencv-python-4.3.0.36\n",
            "  Found existing installation: networkx 2.4\n",
            "    Uninstalling networkx-2.4:\n",
            "      Successfully uninstalled networkx-2.4\n",
            "  Found existing installation: PyOpenGL 3.1.5\n",
            "    Uninstalling PyOpenGL-3.1.5:\n",
            "      Successfully uninstalled PyOpenGL-3.1.5\n",
            "  Found existing installation: trimesh 3.7.14\n",
            "    Uninstalling trimesh-3.7.14:\n",
            "      Successfully uninstalled trimesh-3.7.14\n",
            "  Found existing installation: pyglet 1.5.0\n",
            "    Uninstalling pyglet-1.5.0:\n",
            "      Successfully uninstalled pyglet-1.5.0\n",
            "  Found existing installation: pyrender 0.1.43\n",
            "    Uninstalling pyrender-0.1.43:\n",
            "      Successfully uninstalled pyrender-0.1.43\n",
            "Successfully installed PyOpenGL-3.1.0 chumpy-0.69 networkx-2.2 numpy-1.16.4 opencv-python-4.1.1.26 pyglet-1.4.0b1 pyrender-0.1.33 scipy-1.2.2 tensorflow-gpu-1.15.2 trimesh-3.5.15\n"
          ],
          "name": "stdout"
        },
        {
          "output_type": "display_data",
          "data": {
            "application/vnd.colab-display-data+json": {
              "pip_warning": {
                "packages": [
                  "numpy"
                ]
              }
            }
          },
          "metadata": {
            "tags": []
          }
        }
      ]
    },
    {
      "cell_type": "code",
      "metadata": {
        "id": "oWk3LPBpdkFp",
        "colab_type": "code",
        "colab": {}
      },
      "source": [
        "#!git clone https://github.com/mmatl/pyrender.git"
      ],
      "execution_count": null,
      "outputs": []
    },
    {
      "cell_type": "code",
      "metadata": {
        "id": "p4QkxTxjhFHi",
        "colab_type": "code",
        "colab": {
          "base_uri": "https://localhost:8080/",
          "height": 34
        },
        "outputId": "c75994ee-725b-4159-ebaa-6f8cb1d9e040"
      },
      "source": [
        "%cd /content/FLAME"
      ],
      "execution_count": null,
      "outputs": [
        {
          "output_type": "stream",
          "text": [
            "/content/FLAME\n"
          ],
          "name": "stdout"
        }
      ]
    },
    {
      "cell_type": "code",
      "metadata": {
        "id": "1J18kmtXcc5L",
        "colab_type": "code",
        "colab": {}
      },
      "source": [
        "#!python sample_FLAME.py --option sample_FLAME --model_fname '/content/drive/My Drive/FLAME-model/generic_model.pkl' --num_samples 5 --out_path './FLAME_samples'"
      ],
      "execution_count": null,
      "outputs": []
    },
    {
      "cell_type": "code",
      "metadata": {
        "id": "2dafmhFyr3V7",
        "colab_type": "code",
        "colab": {}
      },
      "source": [
        "#!pip install face-alignment"
      ],
      "execution_count": null,
      "outputs": []
    },
    {
      "cell_type": "code",
      "metadata": {
        "id": "e2zrtLHnr8hd",
        "colab_type": "code",
        "colab": {}
      },
      "source": [
        "#import numpy as np\n",
        "#import face_alignment\n",
        "#import matplotlib.pyplot as plt\n",
        "#from skimage import io\n",
        "#import cv2\n",
        "#\n",
        "#\n",
        "#\n",
        "#fa = face_alignment.FaceAlignment(face_alignment.LandmarksType._2D, flip_input=False)\n",
        "#\n",
        "#input = cv2.imread('/content/drive/My Drive/VOCA-flame/hkim정면crop.png')\n",
        "##input = cv2.imread('/content/FAME/data/imgHQ00088.jpeg')\n",
        "#frame = cv2.cvtColor(input, cv2.COLOR_RGB2BGR)\n",
        "#preds = fa.get_landmarks(frame)\n",
        "#\n",
        "#fig = plt.figure(figsize=(30, 15))\n",
        "#\n",
        "#plt.imshow(frame)\n",
        "#plt.scatter(preds[0][16+1:,0], preds[0][16+1:,1], s=20)\n",
        "#\n",
        "##for detection in preds:\n",
        "##    plt.scatter(detection[:,0], detection[:,1], 2)\n",
        "#\n",
        "#np.save('/content/drive/My Drive/VOCA-flame/hkim정면crop_lmks.npy', preds[0][16+1:])"
      ],
      "execution_count": null,
      "outputs": []
    },
    {
      "cell_type": "code",
      "metadata": {
        "id": "eNMvV5urLZxC",
        "colab_type": "code",
        "colab": {}
      },
      "source": [
        "#input = cv2.imread('/content/FLAME/data/imgHQ00088.jpeg')\n",
        "#frame = cv2.cvtColor(input, cv2.COLOR_RGB2BGR)\n",
        "#\n",
        "#lmk_2d = np.load('/content/FLAME/data/imgHQ00088_lmks.npy')\n",
        "#\n",
        "#print(lmk_2d.shape)\n",
        "#\n",
        "#fig = plt.figure(figsize=(30, 15))\n",
        "#\n",
        "#plt.imshow(frame)\n",
        "#plt.scatter(lmk_2d[:,0], lmk_2d[:,1], s=20)\n",
        "#\n",
        "##for detection in preds:\n",
        "##    plt.scatter(detection[:,0], detection[:,1], 2)"
      ],
      "execution_count": null,
      "outputs": []
    },
    {
      "cell_type": "code",
      "metadata": {
        "id": "jD34WENMyflU",
        "colab_type": "code",
        "colab": {
          "base_uri": "https://localhost:8080/",
          "height": 34
        },
        "outputId": "aa2c13ac-77e3-4342-87b2-2379c29f2728"
      },
      "source": [
        "!pwd"
      ],
      "execution_count": null,
      "outputs": [
        {
          "output_type": "stream",
          "text": [
            "/content/FLAME\n"
          ],
          "name": "stdout"
        }
      ]
    },
    {
      "cell_type": "code",
      "metadata": {
        "id": "GffdyOCCJvBw",
        "colab_type": "code",
        "colab": {}
      },
      "source": [
        "#!python fit_2D_landmarks.py --visualize False --model_fname '/content/drive/My Drive/FLAME-model/generic_model.pkl' --flame_lmk_path './data/flame_static_embedding.pkl' --texture_mapping './data/texture_data.npy' --target_img_path '/content/drive/My Drive/VOCA-flame/hkim정면crop.png' --target_lmk_path '/content/drive/My Drive/VOCA-flame/hkim정면crop_lmks.npy' --out_path './results'"
      ],
      "execution_count": null,
      "outputs": []
    },
    {
      "cell_type": "code",
      "metadata": {
        "id": "zbrmgx0MS8O2",
        "colab_type": "code",
        "colab": {}
      },
      "source": [
        "#!python fit_2D_landmarks.py --visualize False --model_fname '/content/drive/My Drive/FLAME-model/generic_model.pkl' --flame_lmk_path './data/flame_static_embedding.pkl' --texture_mapping './data/texture_data.npy' --target_img_path './data/imgHQ00088.jpeg' --target_lmk_path './data/imgHQ00088_lmks.npy' --out_path './results'"
      ],
      "execution_count": null,
      "outputs": []
    },
    {
      "cell_type": "code",
      "metadata": {
        "id": "7uiAmIVNsxK0",
        "colab_type": "code",
        "colab": {
          "base_uri": "https://localhost:8080/",
          "height": 816
        },
        "outputId": "cbc9782f-e458-40c6-cff3-f6d22536d6e7"
      },
      "source": [
        "# UV맵을 그릴 뿐!!!\n",
        "#!python build_texture_from_image.py --source_img './data/imgHQ00088.jpeg' --target_mesh '/content/drive/My Drive/imgHQ00088.obj' --target_scale '/content/drive/My Drive/imgHQ00088_scale.npy' --texture_mapping './data/texture_data.npy' --out_path './results2'\n",
        "!python build_texture_from_image.py --source_img '/content/drive/My Drive/VOCA-flame/hkim정면crop.png' \\\n",
        "  --target_mesh '/content/drive/My Drive/animation_output/meshes/00000.obj' \\\n",
        "  --target_scale '/content/drive/My Drive/FLAME-result/hkim정면crop_scale.npy' \\\n",
        "  --texture_mapping './data/texture_data.npy' \\\n",
        "  --out_path '/content/drive/My Drive/animation_texture/meshes'"
      ],
      "execution_count": null,
      "outputs": [
        {
          "output_type": "stream",
          "text": [
            "OpenGL test failed: \n",
            "\tstdout: \n",
            "\tstderr: f\n",
            "r\n",
            "e\n",
            "e\n",
            "g\n",
            "l\n",
            "u\n",
            "t\n",
            " \n",
            "(\n",
            "f\n",
            "o\n",
            "o\n",
            ")\n",
            ":\n",
            " \n",
            "f\n",
            "a\n",
            "i\n",
            "l\n",
            "e\n",
            "d\n",
            " \n",
            "t\n",
            "o\n",
            " \n",
            "o\n",
            "p\n",
            "e\n",
            "n\n",
            " \n",
            "d\n",
            "i\n",
            "s\n",
            "p\n",
            "l\n",
            "a\n",
            "y\n",
            " \n",
            "'\n",
            "'\n",
            "\n",
            "\n"
          ],
          "name": "stdout"
        }
      ]
    },
    {
      "cell_type": "code",
      "metadata": {
        "id": "USaKI4KLJVtV",
        "colab_type": "code",
        "colab": {}
      },
      "source": [
        ""
      ],
      "execution_count": null,
      "outputs": []
    }
  ]
}